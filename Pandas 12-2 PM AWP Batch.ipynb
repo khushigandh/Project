{
 "cells": [
  {
   "cell_type": "code",
   "execution_count": 1,
   "id": "53f2db10",
   "metadata": {},
   "outputs": [],
   "source": [
    "import pandas as pd\n",
    "import numpy as np"
   ]
  },
  {
   "cell_type": "code",
   "execution_count": 2,
   "id": "1501a299",
   "metadata": {},
   "outputs": [
    {
     "name": "stdout",
     "output_type": "stream",
     "text": [
      "<class 'numpy.ndarray'>\n",
      "[45 67 89 76 43 23 78]\n"
     ]
    }
   ],
   "source": [
    "#create a Series with the help of numpy 1D array \n",
    "#First create a 1D numpy array\n",
    "A=np.array([45,67,89,76,43,23,78])\n",
    "print(type(A))\n",
    "print(A)"
   ]
  },
  {
   "cell_type": "code",
   "execution_count": 3,
   "id": "3207122a",
   "metadata": {},
   "outputs": [
    {
     "name": "stdout",
     "output_type": "stream",
     "text": [
      "<class 'pandas.core.series.Series'>\n"
     ]
    }
   ],
   "source": [
    "#converts numpy 1D array A into Series \n",
    "S=pd.Series(A)\n",
    "print(type(S))"
   ]
  },
  {
   "cell_type": "code",
   "execution_count": 4,
   "id": "125ef1f2",
   "metadata": {},
   "outputs": [
    {
     "name": "stdout",
     "output_type": "stream",
     "text": [
      "0    45\n",
      "1    67\n",
      "2    89\n",
      "3    76\n",
      "4    43\n",
      "5    23\n",
      "6    78\n",
      "dtype: int32\n"
     ]
    }
   ],
   "source": [
    "print(S)"
   ]
  },
  {
   "cell_type": "code",
   "execution_count": 5,
   "id": "7af84111",
   "metadata": {},
   "outputs": [
    {
     "data": {
      "text/plain": [
       "dtype('int32')"
      ]
     },
     "execution_count": 5,
     "metadata": {},
     "output_type": "execute_result"
    }
   ],
   "source": [
    "#to check datatype of each element \n",
    "S.dtype"
   ]
  },
  {
   "cell_type": "code",
   "execution_count": 6,
   "id": "25ebcd34",
   "metadata": {},
   "outputs": [
    {
     "data": {
      "text/plain": [
       "0    45\n",
       "1    67\n",
       "2    89\n",
       "3    76\n",
       "4    43\n",
       "dtype: int32"
      ]
     },
     "execution_count": 6,
     "metadata": {},
     "output_type": "execute_result"
    }
   ],
   "source": [
    "#to show first 5 records from Series : - \n",
    "#1. use slicing [0:5:1]\n",
    "\n",
    "#or 2. head() inbuilt method of pandas library : to show first 5 record\n",
    "#use slicing :\n",
    "S[:5] #start =0 th index , stop=5-1=4th index step=+1 by default"
   ]
  },
  {
   "cell_type": "code",
   "execution_count": 7,
   "id": "61d73d58",
   "metadata": {},
   "outputs": [
    {
     "data": {
      "text/plain": [
       "0    45\n",
       "1    67\n",
       "2    89\n",
       "3    76\n",
       "4    43\n",
       "dtype: int32"
      ]
     },
     "execution_count": 7,
     "metadata": {},
     "output_type": "execute_result"
    }
   ],
   "source": [
    "#or head()\n",
    "S.head()"
   ]
  },
  {
   "cell_type": "code",
   "execution_count": 8,
   "id": "ddea9f5c",
   "metadata": {},
   "outputs": [
    {
     "data": {
      "text/plain": [
       "0    45\n",
       "1    67\n",
       "2    89\n",
       "dtype: int32"
      ]
     },
     "execution_count": 8,
     "metadata": {},
     "output_type": "execute_result"
    }
   ],
   "source": [
    "#to show first 3 records \n",
    "S.head(3) #S[:3]"
   ]
  },
  {
   "cell_type": "code",
   "execution_count": 9,
   "id": "6438877f",
   "metadata": {},
   "outputs": [
    {
     "data": {
      "text/plain": [
       "2    89\n",
       "3    76\n",
       "4    43\n",
       "5    23\n",
       "6    78\n",
       "dtype: int32"
      ]
     },
     "execution_count": 9,
     "metadata": {},
     "output_type": "execute_result"
    }
   ],
   "source": [
    "#To show last 5 records, use slicing or tail()\n",
    "S[-5:]"
   ]
  },
  {
   "cell_type": "code",
   "execution_count": 10,
   "id": "51b9179a",
   "metadata": {},
   "outputs": [
    {
     "data": {
      "text/plain": [
       "2    89\n",
       "3    76\n",
       "4    43\n",
       "5    23\n",
       "6    78\n",
       "dtype: int32"
      ]
     },
     "execution_count": 10,
     "metadata": {},
     "output_type": "execute_result"
    }
   ],
   "source": [
    "S.tail()"
   ]
  },
  {
   "cell_type": "code",
   "execution_count": 11,
   "id": "6de71b13",
   "metadata": {},
   "outputs": [
    {
     "data": {
      "text/plain": [
       "1    67\n",
       "dtype: int32"
      ]
     },
     "execution_count": 11,
     "metadata": {},
     "output_type": "execute_result"
    }
   ],
   "source": [
    "#sample() : to extract data randomly , by default 1 record \n",
    "S.sample() #by default only 1 random record"
   ]
  },
  {
   "cell_type": "code",
   "execution_count": 12,
   "id": "fb94229d",
   "metadata": {},
   "outputs": [
    {
     "data": {
      "text/plain": [
       "5    23\n",
       "0    45\n",
       "4    43\n",
       "2    89\n",
       "6    78\n",
       "dtype: int32"
      ]
     },
     "execution_count": 12,
     "metadata": {},
     "output_type": "execute_result"
    }
   ],
   "source": [
    "#to show any 5 records randomly from Series S\n",
    "S.sample(5)"
   ]
  },
  {
   "cell_type": "code",
   "execution_count": 13,
   "id": "d33cbf89",
   "metadata": {},
   "outputs": [
    {
     "data": {
      "text/plain": [
       "0    45\n",
       "1    67\n",
       "2    89\n",
       "3    76\n",
       "4    43\n",
       "5    23\n",
       "6    78\n",
       "dtype: int32"
      ]
     },
     "execution_count": 13,
     "metadata": {},
     "output_type": "execute_result"
    }
   ],
   "source": [
    "S"
   ]
  },
  {
   "cell_type": "code",
   "execution_count": 14,
   "id": "911acaec",
   "metadata": {},
   "outputs": [
    {
     "data": {
      "text/plain": [
       "1    67\n",
       "4    43\n",
       "6    78\n",
       "dtype: int32"
      ]
     },
     "execution_count": 14,
     "metadata": {},
     "output_type": "execute_result"
    }
   ],
   "source": [
    "#Access data from multiple index , create list of indexing\n",
    "#suppose extract data at 1st index , 4th index and 6th index\n",
    "S[[1,4,6]]"
   ]
  },
  {
   "cell_type": "code",
   "execution_count": 15,
   "id": "e033dcd1",
   "metadata": {},
   "outputs": [
    {
     "data": {
      "text/plain": [
       "0    45\n",
       "1    67\n",
       "2    89\n",
       "3    76\n",
       "4    43\n",
       "5    23\n",
       "6    78\n",
       "dtype: int32"
      ]
     },
     "execution_count": 15,
     "metadata": {},
     "output_type": "execute_result"
    }
   ],
   "source": [
    "S"
   ]
  },
  {
   "cell_type": "code",
   "execution_count": 16,
   "id": "ac2d78d4",
   "metadata": {},
   "outputs": [
    {
     "name": "stdout",
     "output_type": "stream",
     "text": [
      "Ram       34\n",
      "Reeta     56\n",
      "Mohan     78\n",
      "Kiran     90\n",
      "Poonam    34\n",
      "Karan     20\n",
      "Meera     45\n",
      "dtype: int64\n"
     ]
    }
   ],
   "source": [
    "#create a Series with the help of List and user define index \n",
    "L=[34,56,78,90,34,20,45] #value\n",
    "I=['Ram','Reeta','Mohan','Kiran','Poonam','Karan','Meera']\n",
    "#convert List into Series\n",
    "student=pd.Series(L,index=I)\n",
    "print(student)"
   ]
  },
  {
   "cell_type": "code",
   "execution_count": 17,
   "id": "5f4cf513",
   "metadata": {},
   "outputs": [
    {
     "data": {
      "text/plain": [
       "Reeta     56\n",
       "Poonam    34\n",
       "Meera     45\n",
       "dtype: int64"
      ]
     },
     "execution_count": 17,
     "metadata": {},
     "output_type": "execute_result"
    }
   ],
   "source": [
    "#Extract data of Reeta ,Poonam and Meera\n",
    "student[['Reeta','Poonam','Meera']]"
   ]
  },
  {
   "cell_type": "code",
   "execution_count": 18,
   "id": "1dd489ac",
   "metadata": {},
   "outputs": [
    {
     "data": {
      "text/plain": [
       "Mohan     78\n",
       "Kiran     90\n",
       "Poonam    34\n",
       "Karan     20\n",
       "dtype: int64"
      ]
     },
     "execution_count": 18,
     "metadata": {},
     "output_type": "execute_result"
    }
   ],
   "source": [
    "#Access Data of Mohan to Karan\n",
    "student['Mohan':'Karan']"
   ]
  },
  {
   "cell_type": "code",
   "execution_count": 19,
   "id": "ed43b064",
   "metadata": {},
   "outputs": [
    {
     "name": "stdout",
     "output_type": "stream",
     "text": [
      "<class 'dict'>\n",
      "{'name': 'Seema Pandey', 'Age': 23, 'City': 'Indore', 'Salary': 45000}\n"
     ]
    }
   ],
   "source": [
    "#Create Series with the help of dictionary \n",
    "#dictionary means key:value \n",
    "#key : unique \n",
    "#create a dictionary \n",
    "dict={'name':'Seema Pandey','Age':23,'City':'Indore','Salary':45000}\n",
    "print(type(dict))\n",
    "print(dict)"
   ]
  },
  {
   "cell_type": "code",
   "execution_count": 20,
   "id": "55f8f516",
   "metadata": {},
   "outputs": [
    {
     "name": "stdout",
     "output_type": "stream",
     "text": [
      "<class 'pandas.core.series.Series'>\n",
      "name      Seema Pandey\n",
      "Age                 23\n",
      "City            Indore\n",
      "Salary           45000\n",
      "dtype: object\n"
     ]
    }
   ],
   "source": [
    "#convert dictionary into Series \n",
    "student=pd.Series(dict)\n",
    "print(type(student))\n",
    "print(student)"
   ]
  },
  {
   "cell_type": "code",
   "execution_count": 21,
   "id": "1b72d333",
   "metadata": {},
   "outputs": [
    {
     "data": {
      "text/plain": [
       "(4,)"
      ]
     },
     "execution_count": 21,
     "metadata": {},
     "output_type": "execute_result"
    }
   ],
   "source": [
    "#to check the number of rows and columns in Series student ,use inbuilt \n",
    "#attributes shape  : its return anser in tuple (no. of rows ,no. of cols)\n",
    "student.shape"
   ]
  },
  {
   "cell_type": "code",
   "execution_count": 22,
   "id": "e13b15d4",
   "metadata": {},
   "outputs": [
    {
     "data": {
      "text/plain": [
       "name      Seema Pandey\n",
       "Age                 23\n",
       "City            Indore\n",
       "Salary           45000\n",
       "dtype: object"
      ]
     },
     "execution_count": 22,
     "metadata": {},
     "output_type": "execute_result"
    }
   ],
   "source": [
    "student"
   ]
  },
  {
   "cell_type": "code",
   "execution_count": 23,
   "id": "33836f0c",
   "metadata": {},
   "outputs": [
    {
     "data": {
      "text/plain": [
       "name      Seema Pandey\n",
       "Age                 23\n",
       "City              Pune\n",
       "Salary           45000\n",
       "dtype: object"
      ]
     },
     "execution_count": 23,
     "metadata": {},
     "output_type": "execute_result"
    }
   ],
   "source": [
    "#Replace value of city with 'Pune'\n",
    "student['City']='Pune'\n",
    "student"
   ]
  },
  {
   "cell_type": "code",
   "execution_count": 24,
   "id": "8831578a",
   "metadata": {},
   "outputs": [],
   "source": [
    "#DataFrame : second datastructure of pandas library \n",
    "#DataFrame means 2D array means to store data in the form of rows and column\n",
    "#means tabular form ."
   ]
  },
  {
   "cell_type": "code",
   "execution_count": 25,
   "id": "c4569000",
   "metadata": {},
   "outputs": [
    {
     "data": {
      "text/plain": [
       "'A pandas DataFrame can be created using various inputs : -\\n1. Lists (nested list)\\n2. dict\\n3. Series\\n4. 2D Numpy array'"
      ]
     },
     "execution_count": 25,
     "metadata": {},
     "output_type": "execute_result"
    }
   ],
   "source": [
    "'''A pandas DataFrame can be created using various inputs : -\n",
    "1. Lists (nested list)\n",
    "2. dict\n",
    "3. Series\n",
    "4. 2D Numpy array'''"
   ]
  },
  {
   "cell_type": "code",
   "execution_count": 26,
   "id": "0c0bffff",
   "metadata": {},
   "outputs": [
    {
     "name": "stdout",
     "output_type": "stream",
     "text": [
      "{'name': ['Seema Pandey', 'Renu', 'Pankaj', 'Deepak', 'Neelu', 'Tina', 'Meera'], 'Age': [23, 34, 19, 26, 35, 25, 29], 'City': ['Indore', 'Pune', 'Indore', 'Mumbai', 'Nasik', 'Pune', 'Indore'], 'Salary': [45000, 34000, 23000, 46000, 43900, 32000, 19000]}\n"
     ]
    }
   ],
   "source": [
    "#create a DataFrame with the help of dictionary \n",
    "dict={'name':['Seema Pandey','Renu','Pankaj','Deepak','Neelu',\n",
    "    'Tina','Meera'],'Age':[23,34,19,26,35,25,29],'City':['Indore',\n",
    "                'Pune','Indore','Mumbai','Nasik','Pune','Indore'],\n",
    "     'Salary':[45000,34000,23000,46000,43900,32000,19000]}\n",
    "print(dict)"
   ]
  },
  {
   "cell_type": "code",
   "execution_count": 27,
   "id": "3e4b3d52",
   "metadata": {},
   "outputs": [
    {
     "name": "stdout",
     "output_type": "stream",
     "text": [
      "<class 'pandas.core.frame.DataFrame'>\n",
      "\n",
      "           name  Age    City  Salary\n",
      "0  Seema Pandey   23  Indore   45000\n",
      "1          Renu   34    Pune   34000\n",
      "2        Pankaj   19  Indore   23000\n",
      "3        Deepak   26  Mumbai   46000\n",
      "4         Neelu   35   Nasik   43900\n",
      "5          Tina   25    Pune   32000\n",
      "6         Meera   29  Indore   19000\n"
     ]
    }
   ],
   "source": [
    "#convert dictionary into DataFrame \n",
    "Employee=pd.DataFrame(dict)\n",
    "print(type(Employee))\n",
    "\n",
    "print()\n",
    "print(Employee)"
   ]
  },
  {
   "cell_type": "code",
   "execution_count": 28,
   "id": "b243e150",
   "metadata": {},
   "outputs": [
    {
     "data": {
      "text/plain": [
       "(7, 4)"
      ]
     },
     "execution_count": 28,
     "metadata": {},
     "output_type": "execute_result"
    }
   ],
   "source": [
    "#How many rows and columns in given dataframe\n",
    "Employee.shape"
   ]
  },
  {
   "cell_type": "code",
   "execution_count": 29,
   "id": "1c676cc5",
   "metadata": {},
   "outputs": [
    {
     "name": "stdout",
     "output_type": "stream",
     "text": [
      "<class 'pandas.core.frame.DataFrame'>\n",
      "RangeIndex: 7 entries, 0 to 6\n",
      "Data columns (total 4 columns):\n",
      " #   Column  Non-Null Count  Dtype \n",
      "---  ------  --------------  ----- \n",
      " 0   name    7 non-null      object\n",
      " 1   Age     7 non-null      int64 \n",
      " 2   City    7 non-null      object\n",
      " 3   Salary  7 non-null      int64 \n",
      "dtypes: int64(2), object(2)\n",
      "memory usage: 356.0+ bytes\n"
     ]
    }
   ],
   "source": [
    "#to show complete details of dataframe Employee , use inbuilt method info()\n",
    "Employee.info()"
   ]
  },
  {
   "cell_type": "code",
   "execution_count": 30,
   "id": "e7c967af",
   "metadata": {},
   "outputs": [
    {
     "data": {
      "text/plain": [
       "dtype('O')"
      ]
     },
     "execution_count": 30,
     "metadata": {},
     "output_type": "execute_result"
    }
   ],
   "source": [
    "#to show datatype of name column only\n",
    "Employee['name'].dtype\n",
    "# 'O' means object type"
   ]
  },
  {
   "cell_type": "code",
   "execution_count": 31,
   "id": "a53ecda3",
   "metadata": {},
   "outputs": [
    {
     "data": {
      "text/html": [
       "<div>\n",
       "<style scoped>\n",
       "    .dataframe tbody tr th:only-of-type {\n",
       "        vertical-align: middle;\n",
       "    }\n",
       "\n",
       "    .dataframe tbody tr th {\n",
       "        vertical-align: top;\n",
       "    }\n",
       "\n",
       "    .dataframe thead th {\n",
       "        text-align: right;\n",
       "    }\n",
       "</style>\n",
       "<table border=\"1\" class=\"dataframe\">\n",
       "  <thead>\n",
       "    <tr style=\"text-align: right;\">\n",
       "      <th></th>\n",
       "      <th>name</th>\n",
       "      <th>Age</th>\n",
       "      <th>City</th>\n",
       "      <th>Salary</th>\n",
       "    </tr>\n",
       "  </thead>\n",
       "  <tbody>\n",
       "    <tr>\n",
       "      <th>0</th>\n",
       "      <td>Seema Pandey</td>\n",
       "      <td>23</td>\n",
       "      <td>Indore</td>\n",
       "      <td>45000</td>\n",
       "    </tr>\n",
       "    <tr>\n",
       "      <th>1</th>\n",
       "      <td>Renu</td>\n",
       "      <td>34</td>\n",
       "      <td>Pune</td>\n",
       "      <td>34000</td>\n",
       "    </tr>\n",
       "    <tr>\n",
       "      <th>2</th>\n",
       "      <td>Pankaj</td>\n",
       "      <td>19</td>\n",
       "      <td>Indore</td>\n",
       "      <td>23000</td>\n",
       "    </tr>\n",
       "    <tr>\n",
       "      <th>3</th>\n",
       "      <td>Deepak</td>\n",
       "      <td>26</td>\n",
       "      <td>Mumbai</td>\n",
       "      <td>46000</td>\n",
       "    </tr>\n",
       "    <tr>\n",
       "      <th>4</th>\n",
       "      <td>Neelu</td>\n",
       "      <td>35</td>\n",
       "      <td>Nasik</td>\n",
       "      <td>43900</td>\n",
       "    </tr>\n",
       "  </tbody>\n",
       "</table>\n",
       "</div>"
      ],
      "text/plain": [
       "           name  Age    City  Salary\n",
       "0  Seema Pandey   23  Indore   45000\n",
       "1          Renu   34    Pune   34000\n",
       "2        Pankaj   19  Indore   23000\n",
       "3        Deepak   26  Mumbai   46000\n",
       "4         Neelu   35   Nasik   43900"
      ]
     },
     "execution_count": 31,
     "metadata": {},
     "output_type": "execute_result"
    }
   ],
   "source": [
    "#To show first 5 records \n",
    "Employee.head()"
   ]
  },
  {
   "cell_type": "code",
   "execution_count": 32,
   "id": "8511845c",
   "metadata": {},
   "outputs": [
    {
     "data": {
      "text/html": [
       "<div>\n",
       "<style scoped>\n",
       "    .dataframe tbody tr th:only-of-type {\n",
       "        vertical-align: middle;\n",
       "    }\n",
       "\n",
       "    .dataframe tbody tr th {\n",
       "        vertical-align: top;\n",
       "    }\n",
       "\n",
       "    .dataframe thead th {\n",
       "        text-align: right;\n",
       "    }\n",
       "</style>\n",
       "<table border=\"1\" class=\"dataframe\">\n",
       "  <thead>\n",
       "    <tr style=\"text-align: right;\">\n",
       "      <th></th>\n",
       "      <th>name</th>\n",
       "      <th>Age</th>\n",
       "      <th>City</th>\n",
       "      <th>Salary</th>\n",
       "    </tr>\n",
       "  </thead>\n",
       "  <tbody>\n",
       "    <tr>\n",
       "      <th>2</th>\n",
       "      <td>Pankaj</td>\n",
       "      <td>19</td>\n",
       "      <td>Indore</td>\n",
       "      <td>23000</td>\n",
       "    </tr>\n",
       "    <tr>\n",
       "      <th>3</th>\n",
       "      <td>Deepak</td>\n",
       "      <td>26</td>\n",
       "      <td>Mumbai</td>\n",
       "      <td>46000</td>\n",
       "    </tr>\n",
       "    <tr>\n",
       "      <th>4</th>\n",
       "      <td>Neelu</td>\n",
       "      <td>35</td>\n",
       "      <td>Nasik</td>\n",
       "      <td>43900</td>\n",
       "    </tr>\n",
       "    <tr>\n",
       "      <th>5</th>\n",
       "      <td>Tina</td>\n",
       "      <td>25</td>\n",
       "      <td>Pune</td>\n",
       "      <td>32000</td>\n",
       "    </tr>\n",
       "    <tr>\n",
       "      <th>6</th>\n",
       "      <td>Meera</td>\n",
       "      <td>29</td>\n",
       "      <td>Indore</td>\n",
       "      <td>19000</td>\n",
       "    </tr>\n",
       "  </tbody>\n",
       "</table>\n",
       "</div>"
      ],
      "text/plain": [
       "     name  Age    City  Salary\n",
       "2  Pankaj   19  Indore   23000\n",
       "3  Deepak   26  Mumbai   46000\n",
       "4   Neelu   35   Nasik   43900\n",
       "5    Tina   25    Pune   32000\n",
       "6   Meera   29  Indore   19000"
      ]
     },
     "execution_count": 32,
     "metadata": {},
     "output_type": "execute_result"
    }
   ],
   "source": [
    "#To show last 5 records\n",
    "Employee.tail()"
   ]
  },
  {
   "cell_type": "code",
   "execution_count": null,
   "id": "18f51dbf",
   "metadata": {},
   "outputs": [],
   "source": []
  },
  {
   "cell_type": "code",
   "execution_count": 33,
   "id": "c80cee61",
   "metadata": {},
   "outputs": [
    {
     "data": {
      "text/html": [
       "<div>\n",
       "<style scoped>\n",
       "    .dataframe tbody tr th:only-of-type {\n",
       "        vertical-align: middle;\n",
       "    }\n",
       "\n",
       "    .dataframe tbody tr th {\n",
       "        vertical-align: top;\n",
       "    }\n",
       "\n",
       "    .dataframe thead th {\n",
       "        text-align: right;\n",
       "    }\n",
       "</style>\n",
       "<table border=\"1\" class=\"dataframe\">\n",
       "  <thead>\n",
       "    <tr style=\"text-align: right;\">\n",
       "      <th></th>\n",
       "      <th>name</th>\n",
       "      <th>Age</th>\n",
       "      <th>City</th>\n",
       "      <th>Salary</th>\n",
       "    </tr>\n",
       "  </thead>\n",
       "  <tbody>\n",
       "    <tr>\n",
       "      <th>0</th>\n",
       "      <td>Seema Pandey</td>\n",
       "      <td>23</td>\n",
       "      <td>Indore</td>\n",
       "      <td>45000</td>\n",
       "    </tr>\n",
       "    <tr>\n",
       "      <th>1</th>\n",
       "      <td>Renu</td>\n",
       "      <td>34</td>\n",
       "      <td>Pune</td>\n",
       "      <td>34000</td>\n",
       "    </tr>\n",
       "    <tr>\n",
       "      <th>3</th>\n",
       "      <td>Deepak</td>\n",
       "      <td>26</td>\n",
       "      <td>Mumbai</td>\n",
       "      <td>46000</td>\n",
       "    </tr>\n",
       "    <tr>\n",
       "      <th>4</th>\n",
       "      <td>Neelu</td>\n",
       "      <td>35</td>\n",
       "      <td>Nasik</td>\n",
       "      <td>43900</td>\n",
       "    </tr>\n",
       "    <tr>\n",
       "      <th>5</th>\n",
       "      <td>Tina</td>\n",
       "      <td>25</td>\n",
       "      <td>Pune</td>\n",
       "      <td>32000</td>\n",
       "    </tr>\n",
       "  </tbody>\n",
       "</table>\n",
       "</div>"
      ],
      "text/plain": [
       "           name  Age    City  Salary\n",
       "0  Seema Pandey   23  Indore   45000\n",
       "1          Renu   34    Pune   34000\n",
       "3        Deepak   26  Mumbai   46000\n",
       "4         Neelu   35   Nasik   43900\n",
       "5          Tina   25    Pune   32000"
      ]
     },
     "execution_count": 33,
     "metadata": {},
     "output_type": "execute_result"
    }
   ],
   "source": [
    "#To show those records whose salary >30000\n",
    "#SQL fire : -  select * from Employee where Salary>30000\n",
    "#in Pandas : -  dataframename[condition]\n",
    "Employee[Employee['Salary']>30000]"
   ]
  },
  {
   "cell_type": "code",
   "execution_count": 34,
   "id": "b1e1aaa7",
   "metadata": {},
   "outputs": [
    {
     "data": {
      "text/html": [
       "<div>\n",
       "<style scoped>\n",
       "    .dataframe tbody tr th:only-of-type {\n",
       "        vertical-align: middle;\n",
       "    }\n",
       "\n",
       "    .dataframe tbody tr th {\n",
       "        vertical-align: top;\n",
       "    }\n",
       "\n",
       "    .dataframe thead th {\n",
       "        text-align: right;\n",
       "    }\n",
       "</style>\n",
       "<table border=\"1\" class=\"dataframe\">\n",
       "  <thead>\n",
       "    <tr style=\"text-align: right;\">\n",
       "      <th></th>\n",
       "      <th>name</th>\n",
       "      <th>Age</th>\n",
       "      <th>City</th>\n",
       "      <th>Salary</th>\n",
       "    </tr>\n",
       "  </thead>\n",
       "  <tbody>\n",
       "    <tr>\n",
       "      <th>1</th>\n",
       "      <td>Renu</td>\n",
       "      <td>34</td>\n",
       "      <td>Pune</td>\n",
       "      <td>34000</td>\n",
       "    </tr>\n",
       "    <tr>\n",
       "      <th>5</th>\n",
       "      <td>Tina</td>\n",
       "      <td>25</td>\n",
       "      <td>Pune</td>\n",
       "      <td>32000</td>\n",
       "    </tr>\n",
       "  </tbody>\n",
       "</table>\n",
       "</div>"
      ],
      "text/plain": [
       "   name  Age  City  Salary\n",
       "1  Renu   34  Pune   34000\n",
       "5  Tina   25  Pune   32000"
      ]
     },
     "execution_count": 34,
     "metadata": {},
     "output_type": "execute_result"
    }
   ],
   "source": [
    "#To show those records whose salary >30000 and City='Pune'\n",
    "#SQL fire : -  select * from Employee where Salary>30000 and Citu='Pune'\n",
    "#in Pandas : -  dataframename[condition]\n",
    "Employee[(Employee['Salary']>30000)&(Employee['City']=='Pune')]"
   ]
  },
  {
   "cell_type": "code",
   "execution_count": 35,
   "id": "272598e9",
   "metadata": {},
   "outputs": [
    {
     "data": {
      "text/html": [
       "<div>\n",
       "<style scoped>\n",
       "    .dataframe tbody tr th:only-of-type {\n",
       "        vertical-align: middle;\n",
       "    }\n",
       "\n",
       "    .dataframe tbody tr th {\n",
       "        vertical-align: top;\n",
       "    }\n",
       "\n",
       "    .dataframe thead th {\n",
       "        text-align: right;\n",
       "    }\n",
       "</style>\n",
       "<table border=\"1\" class=\"dataframe\">\n",
       "  <thead>\n",
       "    <tr style=\"text-align: right;\">\n",
       "      <th></th>\n",
       "      <th>name</th>\n",
       "      <th>Age</th>\n",
       "      <th>City</th>\n",
       "      <th>Salary</th>\n",
       "    </tr>\n",
       "  </thead>\n",
       "  <tbody>\n",
       "    <tr>\n",
       "      <th>0</th>\n",
       "      <td>Seema Pandey</td>\n",
       "      <td>23</td>\n",
       "      <td>Indore</td>\n",
       "      <td>45000</td>\n",
       "    </tr>\n",
       "    <tr>\n",
       "      <th>1</th>\n",
       "      <td>Renu</td>\n",
       "      <td>34</td>\n",
       "      <td>Pune</td>\n",
       "      <td>34000</td>\n",
       "    </tr>\n",
       "    <tr>\n",
       "      <th>2</th>\n",
       "      <td>Pankaj</td>\n",
       "      <td>19</td>\n",
       "      <td>Indore</td>\n",
       "      <td>23000</td>\n",
       "    </tr>\n",
       "    <tr>\n",
       "      <th>3</th>\n",
       "      <td>Deepak</td>\n",
       "      <td>26</td>\n",
       "      <td>Mumbai</td>\n",
       "      <td>46000</td>\n",
       "    </tr>\n",
       "    <tr>\n",
       "      <th>4</th>\n",
       "      <td>Neelu</td>\n",
       "      <td>35</td>\n",
       "      <td>Nasik</td>\n",
       "      <td>43900</td>\n",
       "    </tr>\n",
       "    <tr>\n",
       "      <th>5</th>\n",
       "      <td>Tina</td>\n",
       "      <td>25</td>\n",
       "      <td>Pune</td>\n",
       "      <td>32000</td>\n",
       "    </tr>\n",
       "    <tr>\n",
       "      <th>6</th>\n",
       "      <td>Meera</td>\n",
       "      <td>29</td>\n",
       "      <td>Indore</td>\n",
       "      <td>19000</td>\n",
       "    </tr>\n",
       "  </tbody>\n",
       "</table>\n",
       "</div>"
      ],
      "text/plain": [
       "           name  Age    City  Salary\n",
       "0  Seema Pandey   23  Indore   45000\n",
       "1          Renu   34    Pune   34000\n",
       "2        Pankaj   19  Indore   23000\n",
       "3        Deepak   26  Mumbai   46000\n",
       "4         Neelu   35   Nasik   43900\n",
       "5          Tina   25    Pune   32000\n",
       "6         Meera   29  Indore   19000"
      ]
     },
     "execution_count": 35,
     "metadata": {},
     "output_type": "execute_result"
    }
   ],
   "source": [
    "#create a DataFrame with the help of dictionary \n",
    "dict={'name':['Seema Pandey','Renu','Pankaj','Deepak','Neelu',\n",
    "    'Tina','Meera'],'Age':[23,34,19,26,35,25,29],'City':['Indore',\n",
    "                'Pune','Indore','Mumbai','Nasik','Pune','Indore'],\n",
    "     'Salary':[45000,34000,23000,46000,43900,32000,19000]}\n",
    "#print(dict)\n",
    "\n",
    "#convert dictionary into dataframe\n",
    "student=pd.DataFrame(dict)\n",
    "student"
   ]
  },
  {
   "cell_type": "code",
   "execution_count": 36,
   "id": "b21e34ee",
   "metadata": {},
   "outputs": [
    {
     "data": {
      "text/plain": [
       "0    23\n",
       "1    34\n",
       "2    19\n",
       "3    26\n",
       "4    35\n",
       "5    25\n",
       "6    29\n",
       "Name: Age, dtype: int64"
      ]
     },
     "execution_count": 36,
     "metadata": {},
     "output_type": "execute_result"
    }
   ],
   "source": [
    "#Access data Through Indexing \n",
    "#Access Age of all students \n",
    "student['Age']"
   ]
  },
  {
   "cell_type": "code",
   "execution_count": null,
   "id": "0b9b3e71",
   "metadata": {},
   "outputs": [],
   "source": []
  },
  {
   "cell_type": "code",
   "execution_count": 37,
   "id": "24c68a2f",
   "metadata": {},
   "outputs": [
    {
     "data": {
      "text/html": [
       "<div>\n",
       "<style scoped>\n",
       "    .dataframe tbody tr th:only-of-type {\n",
       "        vertical-align: middle;\n",
       "    }\n",
       "\n",
       "    .dataframe tbody tr th {\n",
       "        vertical-align: top;\n",
       "    }\n",
       "\n",
       "    .dataframe thead th {\n",
       "        text-align: right;\n",
       "    }\n",
       "</style>\n",
       "<table border=\"1\" class=\"dataframe\">\n",
       "  <thead>\n",
       "    <tr style=\"text-align: right;\">\n",
       "      <th></th>\n",
       "      <th>Age</th>\n",
       "      <th>Salary</th>\n",
       "    </tr>\n",
       "  </thead>\n",
       "  <tbody>\n",
       "    <tr>\n",
       "      <th>0</th>\n",
       "      <td>23</td>\n",
       "      <td>45000</td>\n",
       "    </tr>\n",
       "    <tr>\n",
       "      <th>1</th>\n",
       "      <td>34</td>\n",
       "      <td>34000</td>\n",
       "    </tr>\n",
       "    <tr>\n",
       "      <th>2</th>\n",
       "      <td>19</td>\n",
       "      <td>23000</td>\n",
       "    </tr>\n",
       "    <tr>\n",
       "      <th>3</th>\n",
       "      <td>26</td>\n",
       "      <td>46000</td>\n",
       "    </tr>\n",
       "    <tr>\n",
       "      <th>4</th>\n",
       "      <td>35</td>\n",
       "      <td>43900</td>\n",
       "    </tr>\n",
       "    <tr>\n",
       "      <th>5</th>\n",
       "      <td>25</td>\n",
       "      <td>32000</td>\n",
       "    </tr>\n",
       "    <tr>\n",
       "      <th>6</th>\n",
       "      <td>29</td>\n",
       "      <td>19000</td>\n",
       "    </tr>\n",
       "  </tbody>\n",
       "</table>\n",
       "</div>"
      ],
      "text/plain": [
       "   Age  Salary\n",
       "0   23   45000\n",
       "1   34   34000\n",
       "2   19   23000\n",
       "3   26   46000\n",
       "4   35   43900\n",
       "5   25   32000\n",
       "6   29   19000"
      ]
     },
     "execution_count": 37,
     "metadata": {},
     "output_type": "execute_result"
    }
   ],
   "source": [
    "#Access multiple column of all rows\n",
    "#extract Age and Salary of all students\n",
    "student[['Age','Salary']]"
   ]
  },
  {
   "cell_type": "code",
   "execution_count": 38,
   "id": "fee5ceae",
   "metadata": {},
   "outputs": [
    {
     "data": {
      "text/html": [
       "<div>\n",
       "<style scoped>\n",
       "    .dataframe tbody tr th:only-of-type {\n",
       "        vertical-align: middle;\n",
       "    }\n",
       "\n",
       "    .dataframe tbody tr th {\n",
       "        vertical-align: top;\n",
       "    }\n",
       "\n",
       "    .dataframe thead th {\n",
       "        text-align: right;\n",
       "    }\n",
       "</style>\n",
       "<table border=\"1\" class=\"dataframe\">\n",
       "  <thead>\n",
       "    <tr style=\"text-align: right;\">\n",
       "      <th></th>\n",
       "      <th>name</th>\n",
       "      <th>Age</th>\n",
       "      <th>City</th>\n",
       "      <th>Salary</th>\n",
       "    </tr>\n",
       "  </thead>\n",
       "  <tbody>\n",
       "    <tr>\n",
       "      <th>0</th>\n",
       "      <td>Seema Pandey</td>\n",
       "      <td>23</td>\n",
       "      <td>Indore</td>\n",
       "      <td>45000</td>\n",
       "    </tr>\n",
       "    <tr>\n",
       "      <th>1</th>\n",
       "      <td>Renu</td>\n",
       "      <td>34</td>\n",
       "      <td>Pune</td>\n",
       "      <td>34000</td>\n",
       "    </tr>\n",
       "    <tr>\n",
       "      <th>2</th>\n",
       "      <td>Pankaj</td>\n",
       "      <td>19</td>\n",
       "      <td>Indore</td>\n",
       "      <td>23000</td>\n",
       "    </tr>\n",
       "    <tr>\n",
       "      <th>3</th>\n",
       "      <td>Deepak</td>\n",
       "      <td>26</td>\n",
       "      <td>Mumbai</td>\n",
       "      <td>46000</td>\n",
       "    </tr>\n",
       "    <tr>\n",
       "      <th>4</th>\n",
       "      <td>Neelu</td>\n",
       "      <td>35</td>\n",
       "      <td>Nasik</td>\n",
       "      <td>43900</td>\n",
       "    </tr>\n",
       "    <tr>\n",
       "      <th>5</th>\n",
       "      <td>Tina</td>\n",
       "      <td>25</td>\n",
       "      <td>Pune</td>\n",
       "      <td>32000</td>\n",
       "    </tr>\n",
       "    <tr>\n",
       "      <th>6</th>\n",
       "      <td>Meera</td>\n",
       "      <td>29</td>\n",
       "      <td>Indore</td>\n",
       "      <td>19000</td>\n",
       "    </tr>\n",
       "  </tbody>\n",
       "</table>\n",
       "</div>"
      ],
      "text/plain": [
       "           name  Age    City  Salary\n",
       "0  Seema Pandey   23  Indore   45000\n",
       "1          Renu   34    Pune   34000\n",
       "2        Pankaj   19  Indore   23000\n",
       "3        Deepak   26  Mumbai   46000\n",
       "4         Neelu   35   Nasik   43900\n",
       "5          Tina   25    Pune   32000\n",
       "6         Meera   29  Indore   19000"
      ]
     },
     "execution_count": 38,
     "metadata": {},
     "output_type": "execute_result"
    }
   ],
   "source": [
    "student"
   ]
  },
  {
   "cell_type": "code",
   "execution_count": 39,
   "id": "c1656e43",
   "metadata": {},
   "outputs": [],
   "source": [
    "#Access all rows from Name to City\n",
    "#student['name':'City'] #raise error"
   ]
  },
  {
   "cell_type": "code",
   "execution_count": 40,
   "id": "ad049da3",
   "metadata": {},
   "outputs": [
    {
     "data": {
      "text/plain": [
       "name      Deepak\n",
       "Age           26\n",
       "City      Mumbai\n",
       "Salary     46000\n",
       "Name: 3, dtype: object"
      ]
     },
     "execution_count": 40,
     "metadata": {},
     "output_type": "execute_result"
    }
   ],
   "source": [
    "#To access all details of 3rd row-index \n",
    "#student[2] #raise error\n",
    "#We want to retrieve value of particular rowindex then use inbuilt command\n",
    "#iloc means index location  dataframename.iloc[rowindex]\n",
    "student.iloc[3]"
   ]
  },
  {
   "cell_type": "code",
   "execution_count": 41,
   "id": "a966500d",
   "metadata": {},
   "outputs": [
    {
     "data": {
      "text/html": [
       "<div>\n",
       "<style scoped>\n",
       "    .dataframe tbody tr th:only-of-type {\n",
       "        vertical-align: middle;\n",
       "    }\n",
       "\n",
       "    .dataframe tbody tr th {\n",
       "        vertical-align: top;\n",
       "    }\n",
       "\n",
       "    .dataframe thead th {\n",
       "        text-align: right;\n",
       "    }\n",
       "</style>\n",
       "<table border=\"1\" class=\"dataframe\">\n",
       "  <thead>\n",
       "    <tr style=\"text-align: right;\">\n",
       "      <th></th>\n",
       "      <th>name</th>\n",
       "      <th>Age</th>\n",
       "      <th>City</th>\n",
       "      <th>Salary</th>\n",
       "    </tr>\n",
       "  </thead>\n",
       "  <tbody>\n",
       "    <tr>\n",
       "      <th>2</th>\n",
       "      <td>Pankaj</td>\n",
       "      <td>19</td>\n",
       "      <td>Indore</td>\n",
       "      <td>23000</td>\n",
       "    </tr>\n",
       "    <tr>\n",
       "      <th>3</th>\n",
       "      <td>Deepak</td>\n",
       "      <td>26</td>\n",
       "      <td>Mumbai</td>\n",
       "      <td>46000</td>\n",
       "    </tr>\n",
       "    <tr>\n",
       "      <th>4</th>\n",
       "      <td>Neelu</td>\n",
       "      <td>35</td>\n",
       "      <td>Nasik</td>\n",
       "      <td>43900</td>\n",
       "    </tr>\n",
       "  </tbody>\n",
       "</table>\n",
       "</div>"
      ],
      "text/plain": [
       "     name  Age    City  Salary\n",
       "2  Pankaj   19  Indore   23000\n",
       "3  Deepak   26  Mumbai   46000\n",
       "4   Neelu   35   Nasik   43900"
      ]
     },
     "execution_count": 41,
     "metadata": {},
     "output_type": "execute_result"
    }
   ],
   "source": [
    "#access all details of 2 to 4th row index\n",
    "student.iloc[2:5]"
   ]
  },
  {
   "cell_type": "code",
   "execution_count": 42,
   "id": "38ad506a",
   "metadata": {},
   "outputs": [
    {
     "data": {
      "text/plain": [
       "'Mumbai'"
      ]
     },
     "execution_count": 42,
     "metadata": {},
     "output_type": "execute_result"
    }
   ],
   "source": [
    "#Access City of 3rd row index \n",
    "#student.iloc[3,'city']#raise error\n",
    "student.iloc[3,2] #here 3 row index and 2 col index"
   ]
  },
  {
   "cell_type": "code",
   "execution_count": 43,
   "id": "ff50481b",
   "metadata": {},
   "outputs": [
    {
     "data": {
      "text/plain": [
       "'Mumbai'"
      ]
     },
     "execution_count": 43,
     "metadata": {},
     "output_type": "execute_result"
    }
   ],
   "source": [
    "#Access City of 3rd row index  \n",
    "student.loc[3,'City']"
   ]
  },
  {
   "cell_type": "code",
   "execution_count": 44,
   "id": "11bf3308",
   "metadata": {},
   "outputs": [
    {
     "data": {
      "text/plain": [
       "'Mumbai'"
      ]
     },
     "execution_count": 44,
     "metadata": {},
     "output_type": "execute_result"
    }
   ],
   "source": [
    "#or dataframename[colname][rowindex]\n",
    "student['City'][3]"
   ]
  },
  {
   "cell_type": "code",
   "execution_count": 45,
   "id": "79a8883b",
   "metadata": {},
   "outputs": [
    {
     "data": {
      "text/html": [
       "<div>\n",
       "<style scoped>\n",
       "    .dataframe tbody tr th:only-of-type {\n",
       "        vertical-align: middle;\n",
       "    }\n",
       "\n",
       "    .dataframe tbody tr th {\n",
       "        vertical-align: top;\n",
       "    }\n",
       "\n",
       "    .dataframe thead th {\n",
       "        text-align: right;\n",
       "    }\n",
       "</style>\n",
       "<table border=\"1\" class=\"dataframe\">\n",
       "  <thead>\n",
       "    <tr style=\"text-align: right;\">\n",
       "      <th></th>\n",
       "      <th>name</th>\n",
       "      <th>Age</th>\n",
       "      <th>City</th>\n",
       "      <th>Salary</th>\n",
       "    </tr>\n",
       "  </thead>\n",
       "  <tbody>\n",
       "    <tr>\n",
       "      <th>0</th>\n",
       "      <td>Seema Pandey</td>\n",
       "      <td>23</td>\n",
       "      <td>Indore</td>\n",
       "      <td>45000</td>\n",
       "    </tr>\n",
       "    <tr>\n",
       "      <th>1</th>\n",
       "      <td>Renu</td>\n",
       "      <td>34</td>\n",
       "      <td>Pune</td>\n",
       "      <td>34000</td>\n",
       "    </tr>\n",
       "    <tr>\n",
       "      <th>2</th>\n",
       "      <td>Pankaj</td>\n",
       "      <td>19</td>\n",
       "      <td>Indore</td>\n",
       "      <td>23000</td>\n",
       "    </tr>\n",
       "    <tr>\n",
       "      <th>3</th>\n",
       "      <td>Deepak</td>\n",
       "      <td>26</td>\n",
       "      <td>Mumbai</td>\n",
       "      <td>46000</td>\n",
       "    </tr>\n",
       "    <tr>\n",
       "      <th>4</th>\n",
       "      <td>Neelu</td>\n",
       "      <td>35</td>\n",
       "      <td>Nasik</td>\n",
       "      <td>43900</td>\n",
       "    </tr>\n",
       "    <tr>\n",
       "      <th>5</th>\n",
       "      <td>Tina</td>\n",
       "      <td>25</td>\n",
       "      <td>Pune</td>\n",
       "      <td>32000</td>\n",
       "    </tr>\n",
       "    <tr>\n",
       "      <th>6</th>\n",
       "      <td>Meera</td>\n",
       "      <td>29</td>\n",
       "      <td>Indore</td>\n",
       "      <td>19000</td>\n",
       "    </tr>\n",
       "  </tbody>\n",
       "</table>\n",
       "</div>"
      ],
      "text/plain": [
       "           name  Age    City  Salary\n",
       "0  Seema Pandey   23  Indore   45000\n",
       "1          Renu   34    Pune   34000\n",
       "2        Pankaj   19  Indore   23000\n",
       "3        Deepak   26  Mumbai   46000\n",
       "4         Neelu   35   Nasik   43900\n",
       "5          Tina   25    Pune   32000\n",
       "6         Meera   29  Indore   19000"
      ]
     },
     "execution_count": 45,
     "metadata": {},
     "output_type": "execute_result"
    }
   ],
   "source": [
    "student"
   ]
  },
  {
   "cell_type": "code",
   "execution_count": 46,
   "id": "3f2c9269",
   "metadata": {},
   "outputs": [
    {
     "data": {
      "text/plain": [
       "0    45000\n",
       "1    34000\n",
       "2    23000\n",
       "3    46000\n",
       "4    43900\n",
       "5    32000\n",
       "6    19000\n",
       "Name: Salary, dtype: int64"
      ]
     },
     "execution_count": 46,
     "metadata": {},
     "output_type": "execute_result"
    }
   ],
   "source": [
    "#Access last column of all students(all rows)\n",
    "student.iloc[:,-1]"
   ]
  },
  {
   "cell_type": "code",
   "execution_count": 47,
   "id": "d7de616f",
   "metadata": {},
   "outputs": [],
   "source": [
    "#pandas : \n",
    "#Extracting the Data from various sources : -\n",
    "#1. Clipboard : -clipboard is a temporary memory of system .\n",
    "#read_clipboard()  : inbuilt method of pandas library : to read data from \n",
    "#clipboad but data hold in clipboard in tabular form\n",
    "#clipboard hold only current data \n",
    "import pandas as pd"
   ]
  },
  {
   "cell_type": "code",
   "execution_count": 48,
   "id": "f9c34ead",
   "metadata": {},
   "outputs": [
    {
     "data": {
      "text/html": [
       "<div>\n",
       "<style scoped>\n",
       "    .dataframe tbody tr th:only-of-type {\n",
       "        vertical-align: middle;\n",
       "    }\n",
       "\n",
       "    .dataframe tbody tr th {\n",
       "        vertical-align: top;\n",
       "    }\n",
       "\n",
       "    .dataframe thead th {\n",
       "        text-align: right;\n",
       "    }\n",
       "</style>\n",
       "<table border=\"1\" class=\"dataframe\">\n",
       "  <thead>\n",
       "    <tr style=\"text-align: right;\">\n",
       "      <th></th>\n",
       "      <th>Year</th>\n",
       "      <th>IPL Winners List</th>\n",
       "      <th>Runner up</th>\n",
       "      <th>Venue</th>\n",
       "    </tr>\n",
       "  </thead>\n",
       "  <tbody>\n",
       "    <tr>\n",
       "      <th>0</th>\n",
       "      <td>2008</td>\n",
       "      <td>Rajasthan Royals</td>\n",
       "      <td>Chennai Super Kings</td>\n",
       "      <td>Mumbai</td>\n",
       "    </tr>\n",
       "    <tr>\n",
       "      <th>1</th>\n",
       "      <td>2009</td>\n",
       "      <td>Deccan Chargers</td>\n",
       "      <td>Royal Challengers Bangalore</td>\n",
       "      <td>Johannesburg</td>\n",
       "    </tr>\n",
       "    <tr>\n",
       "      <th>2</th>\n",
       "      <td>2010</td>\n",
       "      <td>Chennai Super Kings</td>\n",
       "      <td>Mumbai Indians</td>\n",
       "      <td>Mumbai</td>\n",
       "    </tr>\n",
       "    <tr>\n",
       "      <th>3</th>\n",
       "      <td>2011</td>\n",
       "      <td>Chennai Super Kings</td>\n",
       "      <td>Royal Challengers Bangalore</td>\n",
       "      <td>Chennai</td>\n",
       "    </tr>\n",
       "    <tr>\n",
       "      <th>4</th>\n",
       "      <td>2012</td>\n",
       "      <td>Kolkata Knight Riders</td>\n",
       "      <td>Chennai Super Kings</td>\n",
       "      <td>Chennai</td>\n",
       "    </tr>\n",
       "    <tr>\n",
       "      <th>5</th>\n",
       "      <td>2013</td>\n",
       "      <td>Mumbai Indians</td>\n",
       "      <td>Chennai Super Kings</td>\n",
       "      <td>Kolkata</td>\n",
       "    </tr>\n",
       "    <tr>\n",
       "      <th>6</th>\n",
       "      <td>2014</td>\n",
       "      <td>Kolkata Knight Riders</td>\n",
       "      <td>Kings XI Punjab</td>\n",
       "      <td>Bangalore</td>\n",
       "    </tr>\n",
       "    <tr>\n",
       "      <th>7</th>\n",
       "      <td>2015</td>\n",
       "      <td>Mumbai Indians</td>\n",
       "      <td>Chennai Super Kings</td>\n",
       "      <td>Kolkata</td>\n",
       "    </tr>\n",
       "    <tr>\n",
       "      <th>8</th>\n",
       "      <td>2016</td>\n",
       "      <td>Sunrisers Hyderabad</td>\n",
       "      <td>Royal Challengers Bangalore</td>\n",
       "      <td>Bangalore</td>\n",
       "    </tr>\n",
       "    <tr>\n",
       "      <th>9</th>\n",
       "      <td>2017</td>\n",
       "      <td>Mumbai Indians</td>\n",
       "      <td>Rising Pune Supergiants</td>\n",
       "      <td>Hyderabad</td>\n",
       "    </tr>\n",
       "    <tr>\n",
       "      <th>10</th>\n",
       "      <td>2018</td>\n",
       "      <td>Chennai Super Kings</td>\n",
       "      <td>Sunrisers Hyderabad</td>\n",
       "      <td>Mumbai</td>\n",
       "    </tr>\n",
       "    <tr>\n",
       "      <th>11</th>\n",
       "      <td>2019</td>\n",
       "      <td>Mumbai Indians</td>\n",
       "      <td>Chennai Super Kings</td>\n",
       "      <td>Hyderabad</td>\n",
       "    </tr>\n",
       "    <tr>\n",
       "      <th>12</th>\n",
       "      <td>2020</td>\n",
       "      <td>Mumbai Indians</td>\n",
       "      <td>Delhi Capitals</td>\n",
       "      <td>Dubai</td>\n",
       "    </tr>\n",
       "    <tr>\n",
       "      <th>13</th>\n",
       "      <td>2021</td>\n",
       "      <td>Chennai Super Kings</td>\n",
       "      <td>Kolkata Knight Riders</td>\n",
       "      <td>Dubai</td>\n",
       "    </tr>\n",
       "    <tr>\n",
       "      <th>14</th>\n",
       "      <td>2022</td>\n",
       "      <td>Gujarat Titians</td>\n",
       "      <td>Rajasthan Royals</td>\n",
       "      <td>Ahmedabad</td>\n",
       "    </tr>\n",
       "    <tr>\n",
       "      <th>15</th>\n",
       "      <td>2023</td>\n",
       "      <td>Chennai Super Kings</td>\n",
       "      <td>Gujarat Titians</td>\n",
       "      <td>Ahmedabad</td>\n",
       "    </tr>\n",
       "    <tr>\n",
       "      <th>16</th>\n",
       "      <td>2024</td>\n",
       "      <td>Not Decided</td>\n",
       "      <td>Not Decided</td>\n",
       "      <td>Not Decided</td>\n",
       "    </tr>\n",
       "  </tbody>\n",
       "</table>\n",
       "</div>"
      ],
      "text/plain": [
       "    Year       IPL Winners List                    Runner up         Venue\n",
       "0   2008       Rajasthan Royals          Chennai Super Kings        Mumbai\n",
       "1   2009        Deccan Chargers  Royal Challengers Bangalore  Johannesburg\n",
       "2   2010    Chennai Super Kings               Mumbai Indians        Mumbai\n",
       "3   2011    Chennai Super Kings  Royal Challengers Bangalore       Chennai\n",
       "4   2012  Kolkata Knight Riders          Chennai Super Kings       Chennai\n",
       "5   2013         Mumbai Indians          Chennai Super Kings       Kolkata\n",
       "6   2014  Kolkata Knight Riders              Kings XI Punjab     Bangalore\n",
       "7   2015         Mumbai Indians          Chennai Super Kings       Kolkata\n",
       "8   2016    Sunrisers Hyderabad  Royal Challengers Bangalore     Bangalore\n",
       "9   2017         Mumbai Indians      Rising Pune Supergiants     Hyderabad\n",
       "10  2018    Chennai Super Kings          Sunrisers Hyderabad        Mumbai\n",
       "11  2019         Mumbai Indians          Chennai Super Kings     Hyderabad\n",
       "12  2020         Mumbai Indians               Delhi Capitals         Dubai\n",
       "13  2021    Chennai Super Kings        Kolkata Knight Riders         Dubai\n",
       "14  2022        Gujarat Titians             Rajasthan Royals     Ahmedabad\n",
       "15  2023    Chennai Super Kings              Gujarat Titians     Ahmedabad\n",
       "16  2024            Not Decided                  Not Decided   Not Decided"
      ]
     },
     "execution_count": 48,
     "metadata": {},
     "output_type": "execute_result"
    }
   ],
   "source": [
    "#To read data from clipboard and hold in object of DataFrame \n",
    "df=pd.read_clipboard()\n",
    "df"
   ]
  },
  {
   "cell_type": "code",
   "execution_count": 49,
   "id": "d2b21d99",
   "metadata": {},
   "outputs": [
    {
     "data": {
      "text/plain": [
       "'C:\\\\Users\\\\Lenovo'"
      ]
     },
     "execution_count": 49,
     "metadata": {},
     "output_type": "execute_result"
    }
   ],
   "source": [
    "import os\n",
    "os.getcwd()"
   ]
  },
  {
   "cell_type": "code",
   "execution_count": 50,
   "id": "277ded38",
   "metadata": {},
   "outputs": [],
   "source": [
    "df.to_csv('IPL_match.csv',index=False)\n",
    "#dataframename.to_csv('permanent file.csv',index=False)\n",
    "#to save data from object of dataframe to csv file\n",
    "#csv means comma separated values\n"
   ]
  },
  {
   "cell_type": "code",
   "execution_count": 51,
   "id": "c4554ea7",
   "metadata": {},
   "outputs": [],
   "source": [
    "#Read data from csv file and hold data in object of dataframe\n",
    "#use inbuilt method read_csv('permanent exist file.csv')\n",
    "df=pd.read_csv('IPL_match.csv')"
   ]
  },
  {
   "cell_type": "markdown",
   "id": "2c996d14",
   "metadata": {},
   "source": [
    "df"
   ]
  },
  {
   "cell_type": "code",
   "execution_count": 52,
   "id": "583baad9",
   "metadata": {},
   "outputs": [
    {
     "data": {
      "text/plain": [
       "(17, 4)"
      ]
     },
     "execution_count": 52,
     "metadata": {},
     "output_type": "execute_result"
    }
   ],
   "source": [
    "#to show no. of rows and no. of columns\n",
    "df.shape"
   ]
  },
  {
   "cell_type": "code",
   "execution_count": 53,
   "id": "5406b093",
   "metadata": {},
   "outputs": [
    {
     "data": {
      "text/plain": [
       "Year                 int64\n",
       "IPL Winners List    object\n",
       "Runner up           object\n",
       "Venue               object\n",
       "dtype: object"
      ]
     },
     "execution_count": 53,
     "metadata": {},
     "output_type": "execute_result"
    }
   ],
   "source": [
    "#To show datatype of each column\n",
    "df.dtypes \n",
    "#here object means string "
   ]
  },
  {
   "cell_type": "code",
   "execution_count": 54,
   "id": "8c724f7e",
   "metadata": {},
   "outputs": [
    {
     "data": {
      "text/html": [
       "<div>\n",
       "<style scoped>\n",
       "    .dataframe tbody tr th:only-of-type {\n",
       "        vertical-align: middle;\n",
       "    }\n",
       "\n",
       "    .dataframe tbody tr th {\n",
       "        vertical-align: top;\n",
       "    }\n",
       "\n",
       "    .dataframe thead th {\n",
       "        text-align: right;\n",
       "    }\n",
       "</style>\n",
       "<table border=\"1\" class=\"dataframe\">\n",
       "  <thead>\n",
       "    <tr style=\"text-align: right;\">\n",
       "      <th></th>\n",
       "      <th>Year</th>\n",
       "      <th>IPL Winners List</th>\n",
       "      <th>Runner up</th>\n",
       "      <th>Venue</th>\n",
       "    </tr>\n",
       "  </thead>\n",
       "  <tbody>\n",
       "    <tr>\n",
       "      <th>0</th>\n",
       "      <td>2008</td>\n",
       "      <td>Rajasthan Royals</td>\n",
       "      <td>Chennai Super Kings</td>\n",
       "      <td>Mumbai</td>\n",
       "    </tr>\n",
       "    <tr>\n",
       "      <th>1</th>\n",
       "      <td>2009</td>\n",
       "      <td>Deccan Chargers</td>\n",
       "      <td>Royal Challengers Bangalore</td>\n",
       "      <td>Johannesburg</td>\n",
       "    </tr>\n",
       "    <tr>\n",
       "      <th>2</th>\n",
       "      <td>2010</td>\n",
       "      <td>Chennai Super Kings</td>\n",
       "      <td>Mumbai Indians</td>\n",
       "      <td>Mumbai</td>\n",
       "    </tr>\n",
       "    <tr>\n",
       "      <th>3</th>\n",
       "      <td>2011</td>\n",
       "      <td>Chennai Super Kings</td>\n",
       "      <td>Royal Challengers Bangalore</td>\n",
       "      <td>Chennai</td>\n",
       "    </tr>\n",
       "    <tr>\n",
       "      <th>4</th>\n",
       "      <td>2012</td>\n",
       "      <td>Kolkata Knight Riders</td>\n",
       "      <td>Chennai Super Kings</td>\n",
       "      <td>Chennai</td>\n",
       "    </tr>\n",
       "  </tbody>\n",
       "</table>\n",
       "</div>"
      ],
      "text/plain": [
       "   Year       IPL Winners List                    Runner up         Venue\n",
       "0  2008       Rajasthan Royals          Chennai Super Kings        Mumbai\n",
       "1  2009        Deccan Chargers  Royal Challengers Bangalore  Johannesburg\n",
       "2  2010    Chennai Super Kings               Mumbai Indians        Mumbai\n",
       "3  2011    Chennai Super Kings  Royal Challengers Bangalore       Chennai\n",
       "4  2012  Kolkata Knight Riders          Chennai Super Kings       Chennai"
      ]
     },
     "execution_count": 54,
     "metadata": {},
     "output_type": "execute_result"
    }
   ],
   "source": [
    "#to show first 5 records from given dataframe\n",
    "df.head()"
   ]
  },
  {
   "cell_type": "code",
   "execution_count": 55,
   "id": "6c1db07a",
   "metadata": {},
   "outputs": [
    {
     "data": {
      "text/html": [
       "<div>\n",
       "<style scoped>\n",
       "    .dataframe tbody tr th:only-of-type {\n",
       "        vertical-align: middle;\n",
       "    }\n",
       "\n",
       "    .dataframe tbody tr th {\n",
       "        vertical-align: top;\n",
       "    }\n",
       "\n",
       "    .dataframe thead th {\n",
       "        text-align: right;\n",
       "    }\n",
       "</style>\n",
       "<table border=\"1\" class=\"dataframe\">\n",
       "  <thead>\n",
       "    <tr style=\"text-align: right;\">\n",
       "      <th></th>\n",
       "      <th>Year</th>\n",
       "      <th>IPL Winners List</th>\n",
       "      <th>Runner up</th>\n",
       "      <th>Venue</th>\n",
       "    </tr>\n",
       "  </thead>\n",
       "  <tbody>\n",
       "    <tr>\n",
       "      <th>12</th>\n",
       "      <td>2020</td>\n",
       "      <td>Mumbai Indians</td>\n",
       "      <td>Delhi Capitals</td>\n",
       "      <td>Dubai</td>\n",
       "    </tr>\n",
       "    <tr>\n",
       "      <th>13</th>\n",
       "      <td>2021</td>\n",
       "      <td>Chennai Super Kings</td>\n",
       "      <td>Kolkata Knight Riders</td>\n",
       "      <td>Dubai</td>\n",
       "    </tr>\n",
       "    <tr>\n",
       "      <th>14</th>\n",
       "      <td>2022</td>\n",
       "      <td>Gujarat Titians</td>\n",
       "      <td>Rajasthan Royals</td>\n",
       "      <td>Ahmedabad</td>\n",
       "    </tr>\n",
       "    <tr>\n",
       "      <th>15</th>\n",
       "      <td>2023</td>\n",
       "      <td>Chennai Super Kings</td>\n",
       "      <td>Gujarat Titians</td>\n",
       "      <td>Ahmedabad</td>\n",
       "    </tr>\n",
       "    <tr>\n",
       "      <th>16</th>\n",
       "      <td>2024</td>\n",
       "      <td>Not Decided</td>\n",
       "      <td>Not Decided</td>\n",
       "      <td>Not Decided</td>\n",
       "    </tr>\n",
       "  </tbody>\n",
       "</table>\n",
       "</div>"
      ],
      "text/plain": [
       "    Year     IPL Winners List              Runner up        Venue\n",
       "12  2020       Mumbai Indians         Delhi Capitals        Dubai\n",
       "13  2021  Chennai Super Kings  Kolkata Knight Riders        Dubai\n",
       "14  2022      Gujarat Titians       Rajasthan Royals    Ahmedabad\n",
       "15  2023  Chennai Super Kings        Gujarat Titians    Ahmedabad\n",
       "16  2024          Not Decided            Not Decided  Not Decided"
      ]
     },
     "execution_count": 55,
     "metadata": {},
     "output_type": "execute_result"
    }
   ],
   "source": [
    "#to show last 5 records from given dataframe\n",
    "df.tail()"
   ]
  },
  {
   "cell_type": "code",
   "execution_count": 56,
   "id": "de23364c",
   "metadata": {},
   "outputs": [
    {
     "data": {
      "text/html": [
       "<div>\n",
       "<style scoped>\n",
       "    .dataframe tbody tr th:only-of-type {\n",
       "        vertical-align: middle;\n",
       "    }\n",
       "\n",
       "    .dataframe tbody tr th {\n",
       "        vertical-align: top;\n",
       "    }\n",
       "\n",
       "    .dataframe thead th {\n",
       "        text-align: right;\n",
       "    }\n",
       "</style>\n",
       "<table border=\"1\" class=\"dataframe\">\n",
       "  <thead>\n",
       "    <tr style=\"text-align: right;\">\n",
       "      <th></th>\n",
       "      <th>Year</th>\n",
       "      <th>IPL Winners List</th>\n",
       "      <th>Runner up</th>\n",
       "      <th>Venue</th>\n",
       "    </tr>\n",
       "  </thead>\n",
       "  <tbody>\n",
       "    <tr>\n",
       "      <th>12</th>\n",
       "      <td>2020</td>\n",
       "      <td>Mumbai Indians</td>\n",
       "      <td>Delhi Capitals</td>\n",
       "      <td>Dubai</td>\n",
       "    </tr>\n",
       "    <tr>\n",
       "      <th>4</th>\n",
       "      <td>2012</td>\n",
       "      <td>Kolkata Knight Riders</td>\n",
       "      <td>Chennai Super Kings</td>\n",
       "      <td>Chennai</td>\n",
       "    </tr>\n",
       "    <tr>\n",
       "      <th>9</th>\n",
       "      <td>2017</td>\n",
       "      <td>Mumbai Indians</td>\n",
       "      <td>Rising Pune Supergiants</td>\n",
       "      <td>Hyderabad</td>\n",
       "    </tr>\n",
       "    <tr>\n",
       "      <th>7</th>\n",
       "      <td>2015</td>\n",
       "      <td>Mumbai Indians</td>\n",
       "      <td>Chennai Super Kings</td>\n",
       "      <td>Kolkata</td>\n",
       "    </tr>\n",
       "    <tr>\n",
       "      <th>14</th>\n",
       "      <td>2022</td>\n",
       "      <td>Gujarat Titians</td>\n",
       "      <td>Rajasthan Royals</td>\n",
       "      <td>Ahmedabad</td>\n",
       "    </tr>\n",
       "  </tbody>\n",
       "</table>\n",
       "</div>"
      ],
      "text/plain": [
       "    Year       IPL Winners List                Runner up      Venue\n",
       "12  2020         Mumbai Indians           Delhi Capitals      Dubai\n",
       "4   2012  Kolkata Knight Riders      Chennai Super Kings    Chennai\n",
       "9   2017         Mumbai Indians  Rising Pune Supergiants  Hyderabad\n",
       "7   2015         Mumbai Indians      Chennai Super Kings    Kolkata\n",
       "14  2022        Gujarat Titians         Rajasthan Royals  Ahmedabad"
      ]
     },
     "execution_count": 56,
     "metadata": {},
     "output_type": "execute_result"
    }
   ],
   "source": [
    "#to show randomly 5 records \n",
    "df.sample(5)"
   ]
  },
  {
   "cell_type": "code",
   "execution_count": 57,
   "id": "de6d2cd0",
   "metadata": {},
   "outputs": [
    {
     "name": "stdout",
     "output_type": "stream",
     "text": [
      "Index(['Year', 'IPL Winners List', 'Runner up', 'Venue'], dtype='object')\n"
     ]
    }
   ],
   "source": [
    "#To show list of column name in given dataframe\n",
    "print(df.columns)"
   ]
  },
  {
   "cell_type": "code",
   "execution_count": 58,
   "id": "18ab9a80",
   "metadata": {},
   "outputs": [
    {
     "name": "stdout",
     "output_type": "stream",
     "text": [
      "<class 'pandas.core.frame.DataFrame'>\n",
      "RangeIndex: 17 entries, 0 to 16\n",
      "Data columns (total 4 columns):\n",
      " #   Column            Non-Null Count  Dtype \n",
      "---  ------            --------------  ----- \n",
      " 0   Year              17 non-null     int64 \n",
      " 1   IPL Winners List  17 non-null     object\n",
      " 2   Runner up         17 non-null     object\n",
      " 3   Venue             17 non-null     object\n",
      "dtypes: int64(1), object(3)\n",
      "memory usage: 676.0+ bytes\n"
     ]
    }
   ],
   "source": [
    "#to show completer details of given dataframe \n",
    "df.info()"
   ]
  },
  {
   "cell_type": "code",
   "execution_count": 59,
   "id": "b2756524",
   "metadata": {},
   "outputs": [
    {
     "data": {
      "text/html": [
       "<div>\n",
       "<style scoped>\n",
       "    .dataframe tbody tr th:only-of-type {\n",
       "        vertical-align: middle;\n",
       "    }\n",
       "\n",
       "    .dataframe tbody tr th {\n",
       "        vertical-align: top;\n",
       "    }\n",
       "\n",
       "    .dataframe thead th {\n",
       "        text-align: right;\n",
       "    }\n",
       "</style>\n",
       "<table border=\"1\" class=\"dataframe\">\n",
       "  <thead>\n",
       "    <tr style=\"text-align: right;\">\n",
       "      <th></th>\n",
       "      <th>Year</th>\n",
       "      <th>IPL Winners List</th>\n",
       "      <th>Runner up</th>\n",
       "      <th>Venue</th>\n",
       "    </tr>\n",
       "  </thead>\n",
       "  <tbody>\n",
       "    <tr>\n",
       "      <th>0</th>\n",
       "      <td>False</td>\n",
       "      <td>False</td>\n",
       "      <td>False</td>\n",
       "      <td>False</td>\n",
       "    </tr>\n",
       "    <tr>\n",
       "      <th>1</th>\n",
       "      <td>False</td>\n",
       "      <td>False</td>\n",
       "      <td>False</td>\n",
       "      <td>False</td>\n",
       "    </tr>\n",
       "    <tr>\n",
       "      <th>2</th>\n",
       "      <td>False</td>\n",
       "      <td>False</td>\n",
       "      <td>False</td>\n",
       "      <td>False</td>\n",
       "    </tr>\n",
       "    <tr>\n",
       "      <th>3</th>\n",
       "      <td>False</td>\n",
       "      <td>False</td>\n",
       "      <td>False</td>\n",
       "      <td>False</td>\n",
       "    </tr>\n",
       "    <tr>\n",
       "      <th>4</th>\n",
       "      <td>False</td>\n",
       "      <td>False</td>\n",
       "      <td>False</td>\n",
       "      <td>False</td>\n",
       "    </tr>\n",
       "    <tr>\n",
       "      <th>5</th>\n",
       "      <td>False</td>\n",
       "      <td>False</td>\n",
       "      <td>False</td>\n",
       "      <td>False</td>\n",
       "    </tr>\n",
       "    <tr>\n",
       "      <th>6</th>\n",
       "      <td>False</td>\n",
       "      <td>False</td>\n",
       "      <td>False</td>\n",
       "      <td>False</td>\n",
       "    </tr>\n",
       "    <tr>\n",
       "      <th>7</th>\n",
       "      <td>False</td>\n",
       "      <td>False</td>\n",
       "      <td>False</td>\n",
       "      <td>False</td>\n",
       "    </tr>\n",
       "    <tr>\n",
       "      <th>8</th>\n",
       "      <td>False</td>\n",
       "      <td>False</td>\n",
       "      <td>False</td>\n",
       "      <td>False</td>\n",
       "    </tr>\n",
       "    <tr>\n",
       "      <th>9</th>\n",
       "      <td>False</td>\n",
       "      <td>False</td>\n",
       "      <td>False</td>\n",
       "      <td>False</td>\n",
       "    </tr>\n",
       "    <tr>\n",
       "      <th>10</th>\n",
       "      <td>False</td>\n",
       "      <td>False</td>\n",
       "      <td>False</td>\n",
       "      <td>False</td>\n",
       "    </tr>\n",
       "    <tr>\n",
       "      <th>11</th>\n",
       "      <td>False</td>\n",
       "      <td>False</td>\n",
       "      <td>False</td>\n",
       "      <td>False</td>\n",
       "    </tr>\n",
       "    <tr>\n",
       "      <th>12</th>\n",
       "      <td>False</td>\n",
       "      <td>False</td>\n",
       "      <td>False</td>\n",
       "      <td>False</td>\n",
       "    </tr>\n",
       "    <tr>\n",
       "      <th>13</th>\n",
       "      <td>False</td>\n",
       "      <td>False</td>\n",
       "      <td>False</td>\n",
       "      <td>False</td>\n",
       "    </tr>\n",
       "    <tr>\n",
       "      <th>14</th>\n",
       "      <td>False</td>\n",
       "      <td>False</td>\n",
       "      <td>False</td>\n",
       "      <td>False</td>\n",
       "    </tr>\n",
       "    <tr>\n",
       "      <th>15</th>\n",
       "      <td>False</td>\n",
       "      <td>False</td>\n",
       "      <td>False</td>\n",
       "      <td>False</td>\n",
       "    </tr>\n",
       "    <tr>\n",
       "      <th>16</th>\n",
       "      <td>False</td>\n",
       "      <td>False</td>\n",
       "      <td>False</td>\n",
       "      <td>False</td>\n",
       "    </tr>\n",
       "  </tbody>\n",
       "</table>\n",
       "</div>"
      ],
      "text/plain": [
       "     Year  IPL Winners List  Runner up  Venue\n",
       "0   False             False      False  False\n",
       "1   False             False      False  False\n",
       "2   False             False      False  False\n",
       "3   False             False      False  False\n",
       "4   False             False      False  False\n",
       "5   False             False      False  False\n",
       "6   False             False      False  False\n",
       "7   False             False      False  False\n",
       "8   False             False      False  False\n",
       "9   False             False      False  False\n",
       "10  False             False      False  False\n",
       "11  False             False      False  False\n",
       "12  False             False      False  False\n",
       "13  False             False      False  False\n",
       "14  False             False      False  False\n",
       "15  False             False      False  False\n",
       "16  False             False      False  False"
      ]
     },
     "execution_count": 59,
     "metadata": {},
     "output_type": "execute_result"
    }
   ],
   "source": [
    "#check null values NaN in each columns\n",
    "df.isnull()  #return answer True/False "
   ]
  },
  {
   "cell_type": "code",
   "execution_count": 60,
   "id": "179d9606",
   "metadata": {},
   "outputs": [
    {
     "data": {
      "text/plain": [
       "Year                0\n",
       "IPL Winners List    0\n",
       "Runner up           0\n",
       "Venue               0\n",
       "dtype: int64"
      ]
     },
     "execution_count": 60,
     "metadata": {},
     "output_type": "execute_result"
    }
   ],
   "source": [
    "#count the null values in each column from given dataframe\n",
    "df.isnull().sum()"
   ]
  },
  {
   "cell_type": "code",
   "execution_count": 61,
   "id": "a3158cfe",
   "metadata": {},
   "outputs": [
    {
     "data": {
      "text/html": [
       "<div>\n",
       "<style scoped>\n",
       "    .dataframe tbody tr th:only-of-type {\n",
       "        vertical-align: middle;\n",
       "    }\n",
       "\n",
       "    .dataframe tbody tr th {\n",
       "        vertical-align: top;\n",
       "    }\n",
       "\n",
       "    .dataframe thead th {\n",
       "        text-align: right;\n",
       "    }\n",
       "</style>\n",
       "<table border=\"1\" class=\"dataframe\">\n",
       "  <thead>\n",
       "    <tr style=\"text-align: right;\">\n",
       "      <th></th>\n",
       "      <th>Year</th>\n",
       "      <th>IPL Winners List</th>\n",
       "      <th>Runner up</th>\n",
       "      <th>Venue</th>\n",
       "    </tr>\n",
       "  </thead>\n",
       "  <tbody>\n",
       "    <tr>\n",
       "      <th>0</th>\n",
       "      <td>2008</td>\n",
       "      <td>Rajasthan Royals</td>\n",
       "      <td>Chennai Super Kings</td>\n",
       "      <td>Mumbai</td>\n",
       "    </tr>\n",
       "    <tr>\n",
       "      <th>1</th>\n",
       "      <td>2009</td>\n",
       "      <td>Deccan Chargers</td>\n",
       "      <td>Royal Challengers Bangalore</td>\n",
       "      <td>Johannesburg</td>\n",
       "    </tr>\n",
       "    <tr>\n",
       "      <th>2</th>\n",
       "      <td>2010</td>\n",
       "      <td>Chennai Super Kings</td>\n",
       "      <td>Mumbai Indians</td>\n",
       "      <td>Mumbai</td>\n",
       "    </tr>\n",
       "    <tr>\n",
       "      <th>3</th>\n",
       "      <td>2011</td>\n",
       "      <td>Chennai Super Kings</td>\n",
       "      <td>Royal Challengers Bangalore</td>\n",
       "      <td>Chennai</td>\n",
       "    </tr>\n",
       "    <tr>\n",
       "      <th>4</th>\n",
       "      <td>2012</td>\n",
       "      <td>Kolkata Knight Riders</td>\n",
       "      <td>Chennai Super Kings</td>\n",
       "      <td>Chennai</td>\n",
       "    </tr>\n",
       "    <tr>\n",
       "      <th>5</th>\n",
       "      <td>2013</td>\n",
       "      <td>Mumbai Indians</td>\n",
       "      <td>Chennai Super Kings</td>\n",
       "      <td>Kolkata</td>\n",
       "    </tr>\n",
       "    <tr>\n",
       "      <th>6</th>\n",
       "      <td>2014</td>\n",
       "      <td>Kolkata Knight Riders</td>\n",
       "      <td>Kings XI Punjab</td>\n",
       "      <td>Bangalore</td>\n",
       "    </tr>\n",
       "    <tr>\n",
       "      <th>7</th>\n",
       "      <td>2015</td>\n",
       "      <td>Mumbai Indians</td>\n",
       "      <td>Chennai Super Kings</td>\n",
       "      <td>Kolkata</td>\n",
       "    </tr>\n",
       "    <tr>\n",
       "      <th>8</th>\n",
       "      <td>2016</td>\n",
       "      <td>Sunrisers Hyderabad</td>\n",
       "      <td>Royal Challengers Bangalore</td>\n",
       "      <td>Bangalore</td>\n",
       "    </tr>\n",
       "    <tr>\n",
       "      <th>9</th>\n",
       "      <td>2017</td>\n",
       "      <td>Mumbai Indians</td>\n",
       "      <td>Rising Pune Supergiants</td>\n",
       "      <td>Hyderabad</td>\n",
       "    </tr>\n",
       "    <tr>\n",
       "      <th>10</th>\n",
       "      <td>2018</td>\n",
       "      <td>Chennai Super Kings</td>\n",
       "      <td>Sunrisers Hyderabad</td>\n",
       "      <td>Mumbai</td>\n",
       "    </tr>\n",
       "    <tr>\n",
       "      <th>11</th>\n",
       "      <td>2019</td>\n",
       "      <td>Mumbai Indians</td>\n",
       "      <td>Chennai Super Kings</td>\n",
       "      <td>Hyderabad</td>\n",
       "    </tr>\n",
       "    <tr>\n",
       "      <th>12</th>\n",
       "      <td>2020</td>\n",
       "      <td>Mumbai Indians</td>\n",
       "      <td>Delhi Capitals</td>\n",
       "      <td>Dubai</td>\n",
       "    </tr>\n",
       "    <tr>\n",
       "      <th>13</th>\n",
       "      <td>2021</td>\n",
       "      <td>Chennai Super Kings</td>\n",
       "      <td>Kolkata Knight Riders</td>\n",
       "      <td>Dubai</td>\n",
       "    </tr>\n",
       "    <tr>\n",
       "      <th>14</th>\n",
       "      <td>2022</td>\n",
       "      <td>Gujarat Titians</td>\n",
       "      <td>Rajasthan Royals</td>\n",
       "      <td>Ahmedabad</td>\n",
       "    </tr>\n",
       "    <tr>\n",
       "      <th>15</th>\n",
       "      <td>2023</td>\n",
       "      <td>Chennai Super Kings</td>\n",
       "      <td>Gujarat Titians</td>\n",
       "      <td>Ahmedabad</td>\n",
       "    </tr>\n",
       "    <tr>\n",
       "      <th>16</th>\n",
       "      <td>2024</td>\n",
       "      <td>Not Decided</td>\n",
       "      <td>Not Decided</td>\n",
       "      <td>Not Decided</td>\n",
       "    </tr>\n",
       "  </tbody>\n",
       "</table>\n",
       "</div>"
      ],
      "text/plain": [
       "    Year       IPL Winners List                    Runner up         Venue\n",
       "0   2008       Rajasthan Royals          Chennai Super Kings        Mumbai\n",
       "1   2009        Deccan Chargers  Royal Challengers Bangalore  Johannesburg\n",
       "2   2010    Chennai Super Kings               Mumbai Indians        Mumbai\n",
       "3   2011    Chennai Super Kings  Royal Challengers Bangalore       Chennai\n",
       "4   2012  Kolkata Knight Riders          Chennai Super Kings       Chennai\n",
       "5   2013         Mumbai Indians          Chennai Super Kings       Kolkata\n",
       "6   2014  Kolkata Knight Riders              Kings XI Punjab     Bangalore\n",
       "7   2015         Mumbai Indians          Chennai Super Kings       Kolkata\n",
       "8   2016    Sunrisers Hyderabad  Royal Challengers Bangalore     Bangalore\n",
       "9   2017         Mumbai Indians      Rising Pune Supergiants     Hyderabad\n",
       "10  2018    Chennai Super Kings          Sunrisers Hyderabad        Mumbai\n",
       "11  2019         Mumbai Indians          Chennai Super Kings     Hyderabad\n",
       "12  2020         Mumbai Indians               Delhi Capitals         Dubai\n",
       "13  2021    Chennai Super Kings        Kolkata Knight Riders         Dubai\n",
       "14  2022        Gujarat Titians             Rajasthan Royals     Ahmedabad\n",
       "15  2023    Chennai Super Kings              Gujarat Titians     Ahmedabad\n",
       "16  2024            Not Decided                  Not Decided   Not Decided"
      ]
     },
     "execution_count": 61,
     "metadata": {},
     "output_type": "execute_result"
    }
   ],
   "source": [
    "df"
   ]
  },
  {
   "cell_type": "code",
   "execution_count": 62,
   "id": "4ba528ae",
   "metadata": {},
   "outputs": [
    {
     "ename": "KeyError",
     "evalue": "'Winner'",
     "output_type": "error",
     "traceback": [
      "\u001b[1;31m---------------------------------------------------------------------------\u001b[0m",
      "\u001b[1;31mKeyError\u001b[0m                                  Traceback (most recent call last)",
      "File \u001b[1;32m~\\anaconda3\\Lib\\site-packages\\pandas\\core\\indexes\\base.py:3653\u001b[0m, in \u001b[0;36mIndex.get_loc\u001b[1;34m(self, key)\u001b[0m\n\u001b[0;32m   3652\u001b[0m \u001b[38;5;28;01mtry\u001b[39;00m:\n\u001b[1;32m-> 3653\u001b[0m     \u001b[38;5;28;01mreturn\u001b[39;00m \u001b[38;5;28mself\u001b[39m\u001b[38;5;241m.\u001b[39m_engine\u001b[38;5;241m.\u001b[39mget_loc(casted_key)\n\u001b[0;32m   3654\u001b[0m \u001b[38;5;28;01mexcept\u001b[39;00m \u001b[38;5;167;01mKeyError\u001b[39;00m \u001b[38;5;28;01mas\u001b[39;00m err:\n",
      "File \u001b[1;32m~\\anaconda3\\Lib\\site-packages\\pandas\\_libs\\index.pyx:147\u001b[0m, in \u001b[0;36mpandas._libs.index.IndexEngine.get_loc\u001b[1;34m()\u001b[0m\n",
      "File \u001b[1;32m~\\anaconda3\\Lib\\site-packages\\pandas\\_libs\\index.pyx:176\u001b[0m, in \u001b[0;36mpandas._libs.index.IndexEngine.get_loc\u001b[1;34m()\u001b[0m\n",
      "File \u001b[1;32mpandas\\_libs\\hashtable_class_helper.pxi:7080\u001b[0m, in \u001b[0;36mpandas._libs.hashtable.PyObjectHashTable.get_item\u001b[1;34m()\u001b[0m\n",
      "File \u001b[1;32mpandas\\_libs\\hashtable_class_helper.pxi:7088\u001b[0m, in \u001b[0;36mpandas._libs.hashtable.PyObjectHashTable.get_item\u001b[1;34m()\u001b[0m\n",
      "\u001b[1;31mKeyError\u001b[0m: 'Winner'",
      "\nThe above exception was the direct cause of the following exception:\n",
      "\u001b[1;31mKeyError\u001b[0m                                  Traceback (most recent call last)",
      "Cell \u001b[1;32mIn[62], line 2\u001b[0m\n\u001b[0;32m      1\u001b[0m \u001b[38;5;66;03m#To show Winner columns of all rows \u001b[39;00m\n\u001b[1;32m----> 2\u001b[0m df[\u001b[38;5;124m'\u001b[39m\u001b[38;5;124mWinner\u001b[39m\u001b[38;5;124m'\u001b[39m]\n",
      "File \u001b[1;32m~\\anaconda3\\Lib\\site-packages\\pandas\\core\\frame.py:3761\u001b[0m, in \u001b[0;36mDataFrame.__getitem__\u001b[1;34m(self, key)\u001b[0m\n\u001b[0;32m   3759\u001b[0m \u001b[38;5;28;01mif\u001b[39;00m \u001b[38;5;28mself\u001b[39m\u001b[38;5;241m.\u001b[39mcolumns\u001b[38;5;241m.\u001b[39mnlevels \u001b[38;5;241m>\u001b[39m \u001b[38;5;241m1\u001b[39m:\n\u001b[0;32m   3760\u001b[0m     \u001b[38;5;28;01mreturn\u001b[39;00m \u001b[38;5;28mself\u001b[39m\u001b[38;5;241m.\u001b[39m_getitem_multilevel(key)\n\u001b[1;32m-> 3761\u001b[0m indexer \u001b[38;5;241m=\u001b[39m \u001b[38;5;28mself\u001b[39m\u001b[38;5;241m.\u001b[39mcolumns\u001b[38;5;241m.\u001b[39mget_loc(key)\n\u001b[0;32m   3762\u001b[0m \u001b[38;5;28;01mif\u001b[39;00m is_integer(indexer):\n\u001b[0;32m   3763\u001b[0m     indexer \u001b[38;5;241m=\u001b[39m [indexer]\n",
      "File \u001b[1;32m~\\anaconda3\\Lib\\site-packages\\pandas\\core\\indexes\\base.py:3655\u001b[0m, in \u001b[0;36mIndex.get_loc\u001b[1;34m(self, key)\u001b[0m\n\u001b[0;32m   3653\u001b[0m     \u001b[38;5;28;01mreturn\u001b[39;00m \u001b[38;5;28mself\u001b[39m\u001b[38;5;241m.\u001b[39m_engine\u001b[38;5;241m.\u001b[39mget_loc(casted_key)\n\u001b[0;32m   3654\u001b[0m \u001b[38;5;28;01mexcept\u001b[39;00m \u001b[38;5;167;01mKeyError\u001b[39;00m \u001b[38;5;28;01mas\u001b[39;00m err:\n\u001b[1;32m-> 3655\u001b[0m     \u001b[38;5;28;01mraise\u001b[39;00m \u001b[38;5;167;01mKeyError\u001b[39;00m(key) \u001b[38;5;28;01mfrom\u001b[39;00m \u001b[38;5;21;01merr\u001b[39;00m\n\u001b[0;32m   3656\u001b[0m \u001b[38;5;28;01mexcept\u001b[39;00m \u001b[38;5;167;01mTypeError\u001b[39;00m:\n\u001b[0;32m   3657\u001b[0m     \u001b[38;5;66;03m# If we have a listlike key, _check_indexing_error will raise\u001b[39;00m\n\u001b[0;32m   3658\u001b[0m     \u001b[38;5;66;03m#  InvalidIndexError. Otherwise we fall through and re-raise\u001b[39;00m\n\u001b[0;32m   3659\u001b[0m     \u001b[38;5;66;03m#  the TypeError.\u001b[39;00m\n\u001b[0;32m   3660\u001b[0m     \u001b[38;5;28mself\u001b[39m\u001b[38;5;241m.\u001b[39m_check_indexing_error(key)\n",
      "\u001b[1;31mKeyError\u001b[0m: 'Winner'"
     ]
    }
   ],
   "source": [
    "#To show Winner columns of all rows \n",
    "df['Winner']"
   ]
  },
  {
   "cell_type": "code",
   "execution_count": null,
   "id": "db56bacc",
   "metadata": {},
   "outputs": [],
   "source": [
    "#to show the list of winner team (duplicates not allowed)\n",
    "#in SQL : select distinct Winner from df\n",
    "#in pandas :  unique() \n",
    "df['Winner'].unique()"
   ]
  },
  {
   "cell_type": "code",
   "execution_count": null,
   "id": "c91cd9cc",
   "metadata": {},
   "outputs": [],
   "source": [
    "#How many times to won the match each team \n",
    "#SQL :  select count(*),Winner from df group by Winner\n",
    "#in Pandas : use value_counts()\n",
    "df['Winner'].value_counts()"
   ]
  },
  {
   "cell_type": "code",
   "execution_count": null,
   "id": "827cfd27",
   "metadata": {},
   "outputs": [],
   "source": [
    "df"
   ]
  },
  {
   "cell_type": "code",
   "execution_count": null,
   "id": "7f652a8d",
   "metadata": {},
   "outputs": [],
   "source": [
    "#To show those records whose Winner team=Mumbai Indians\n",
    "df[df['Winner']=='Mumbai Indians']"
   ]
  },
  {
   "cell_type": "code",
   "execution_count": null,
   "id": "66de642c",
   "metadata": {},
   "outputs": [],
   "source": [
    "#To show those records whose Winner team=Mumbai Indians and Venue=\n",
    "#Hyderabad \n",
    "df[(df['Winner']=='Mumbai Indians')&(df['Venue']=='Hyderabad')]"
   ]
  },
  {
   "cell_type": "code",
   "execution_count": null,
   "id": "aa585690",
   "metadata": {},
   "outputs": [],
   "source": [
    "#Data Extract from diffrent sources \n",
    "#1. from clipboard\n",
    "#2. from csv file"
   ]
  },
  {
   "cell_type": "code",
   "execution_count": null,
   "id": "bb408563",
   "metadata": {},
   "outputs": [],
   "source": [
    "import pandas as pd\n",
    "import numpy as np"
   ]
  },
  {
   "cell_type": "code",
   "execution_count": null,
   "id": "7f86ef67",
   "metadata": {},
   "outputs": [],
   "source": [
    "#To load csv file  and hold in object of dataframe\n",
    "car=pd.read_csv('Automobile_data.csv')"
   ]
  },
  {
   "cell_type": "code",
   "execution_count": null,
   "id": "e0f21369",
   "metadata": {},
   "outputs": [],
   "source": [
    "#to show first 5 records\n",
    "#car.head(3)\n",
    "#to show any 10 records\n",
    "car.sample(10)"
   ]
  },
  {
   "cell_type": "code",
   "execution_count": null,
   "id": "bf6f80b5",
   "metadata": {},
   "outputs": [],
   "source": [
    "#how many rows and columns\n",
    "car.shape"
   ]
  },
  {
   "cell_type": "code",
   "execution_count": null,
   "id": "4e26de16",
   "metadata": {},
   "outputs": [],
   "source": [
    "#To check datatypes of each column\n",
    "car.dtypes"
   ]
  },
  {
   "cell_type": "code",
   "execution_count": null,
   "id": "53e98dcb",
   "metadata": {},
   "outputs": [],
   "source": [
    "#to show complete details of given dataset\n",
    "car.info()"
   ]
  },
  {
   "cell_type": "code",
   "execution_count": null,
   "id": "f4b6323c",
   "metadata": {},
   "outputs": [],
   "source": [
    "#check null values in given dataset \n",
    "car.isnull().sum()"
   ]
  },
  {
   "cell_type": "code",
   "execution_count": null,
   "id": "8f1e563c",
   "metadata": {},
   "outputs": [],
   "source": [
    "#suppose create a dataframe with the help of dictionary \n",
    "d={'name':['anu','deepak','ritu','kiran'],\n",
    "  'Age':[23,np.nan,39,32],'Math':[np.nan,89,np.nan,78]}\n",
    "print(d)"
   ]
  },
  {
   "cell_type": "code",
   "execution_count": null,
   "id": "13c8a6de",
   "metadata": {},
   "outputs": [],
   "source": [
    "#Convert dictionary d into dataframe\n",
    "df=pd.DataFrame(d)\n",
    "df"
   ]
  },
  {
   "cell_type": "code",
   "execution_count": null,
   "id": "5d945945",
   "metadata": {},
   "outputs": [],
   "source": [
    "df.dtypes"
   ]
  },
  {
   "cell_type": "code",
   "execution_count": null,
   "id": "6337d9b7",
   "metadata": {},
   "outputs": [],
   "source": [
    "#To check null values in given dataset df\n",
    "df.isnull().sum()"
   ]
  },
  {
   "cell_type": "code",
   "execution_count": null,
   "id": "1975b39d",
   "metadata": {},
   "outputs": [],
   "source": [
    "#!pip install matplotlib\n",
    "#!pip install seaborn"
   ]
  },
  {
   "cell_type": "code",
   "execution_count": null,
   "id": "c10a1ef0",
   "metadata": {},
   "outputs": [],
   "source": [
    "import seaborn as sb"
   ]
  },
  {
   "cell_type": "code",
   "execution_count": null,
   "id": "66488200",
   "metadata": {},
   "outputs": [],
   "source": [
    "#To show null values in visualisation form\n",
    "sb.heatmap(df.isnull())"
   ]
  },
  {
   "cell_type": "code",
   "execution_count": null,
   "id": "50351156",
   "metadata": {},
   "outputs": [],
   "source": [
    "#to fill null values with mean of Math and Age column\n",
    "#df['Age'].fillna(df['Age'].mean()) #but fill temporary\n",
    "#fill permanent , use inplace=True\n",
    "df['Age'].fillna(df['Age'].mean(),inplace=True)\n",
    "df['Math'].fillna(df['Math'].mean(),inplace=True)"
   ]
  },
  {
   "cell_type": "code",
   "execution_count": null,
   "id": "0308aadf",
   "metadata": {},
   "outputs": [],
   "source": [
    "df"
   ]
  },
  {
   "cell_type": "code",
   "execution_count": null,
   "id": "72ffc69d",
   "metadata": {},
   "outputs": [],
   "source": [
    "#to check null values\n",
    "df.isnull().sum()"
   ]
  },
  {
   "cell_type": "code",
   "execution_count": null,
   "id": "74b83095",
   "metadata": {},
   "outputs": [],
   "source": [
    "#show visualize form\n",
    "sb.heatmap(df.isnull())"
   ]
  },
  {
   "cell_type": "code",
   "execution_count": null,
   "id": "ba0bf548",
   "metadata": {},
   "outputs": [],
   "source": [
    "car.head()"
   ]
  },
  {
   "cell_type": "code",
   "execution_count": null,
   "id": "2b81ed50",
   "metadata": {},
   "outputs": [],
   "source": [
    "#visulaize null value in car dataset\n",
    "sb.heatmap(car.isnull())"
   ]
  },
  {
   "cell_type": "code",
   "execution_count": null,
   "id": "2e803ce9",
   "metadata": {},
   "outputs": [],
   "source": [
    "car.head()"
   ]
  },
  {
   "cell_type": "code",
   "execution_count": null,
   "id": "1fd8d9e0",
   "metadata": {},
   "outputs": [],
   "source": [
    "#check category of fuel-type \n",
    "car['fuel-type'].unique()"
   ]
  },
  {
   "cell_type": "code",
   "execution_count": null,
   "id": "268f0946",
   "metadata": {},
   "outputs": [],
   "source": [
    "#How many gas car and diesel car , use value_counts()\n",
    "car['fuel-type'].value_counts()"
   ]
  },
  {
   "cell_type": "code",
   "execution_count": null,
   "id": "a96c0b3d",
   "metadata": {},
   "outputs": [],
   "source": [
    "import seaborn as sb\n",
    "import matplotlib.pyplot as plt"
   ]
  },
  {
   "cell_type": "code",
   "execution_count": null,
   "id": "4fd9a20c",
   "metadata": {},
   "outputs": [],
   "source": [
    "#show how many gas and diesel car in visualize form\n",
    "sb.countplot(data=car,x='fuel-type')\n",
    "f=car['fuel-type'].value_counts() #find the frequency\n",
    "plt.yticks(f)\n",
    "plt.show()"
   ]
  },
  {
   "cell_type": "code",
   "execution_count": null,
   "id": "8c658fce",
   "metadata": {},
   "outputs": [],
   "source": [
    "car.head()"
   ]
  },
  {
   "cell_type": "code",
   "execution_count": null,
   "id": "457961b1",
   "metadata": {},
   "outputs": [],
   "source": [
    "#How many type of manufacturing car in car dataset\n",
    "car['make'].unique()"
   ]
  },
  {
   "cell_type": "code",
   "execution_count": null,
   "id": "36cb0c28",
   "metadata": {},
   "outputs": [],
   "source": [
    "car['make'].value_counts()"
   ]
  },
  {
   "cell_type": "code",
   "execution_count": null,
   "id": "58291b6b",
   "metadata": {},
   "outputs": [],
   "source": [
    "#to find the total sum of price of car according to make\n",
    "#use groupby() inbuilt function\n",
    "car.groupby('make')['price'].sum()"
   ]
  },
  {
   "cell_type": "code",
   "execution_count": null,
   "id": "5ee9e3eb",
   "metadata": {},
   "outputs": [],
   "source": [
    "#to find the average of price of car according to make\n",
    "car.groupby('make')['price'].mean()\n",
    "#max()  ,min() \n"
   ]
  },
  {
   "cell_type": "code",
   "execution_count": null,
   "id": "1b3daa77",
   "metadata": {},
   "outputs": [],
   "source": [
    "car[car['make']=='alfa-romero']['price'].sum()\n",
    "#car[condition]"
   ]
  },
  {
   "cell_type": "code",
   "execution_count": null,
   "id": "d90691ae",
   "metadata": {},
   "outputs": [],
   "source": [
    "car.head()"
   ]
  },
  {
   "cell_type": "code",
   "execution_count": null,
   "id": "718f6723",
   "metadata": {},
   "outputs": [],
   "source": [
    "car.groupby(['make','fuel-type'])['price'].count()"
   ]
  },
  {
   "cell_type": "code",
   "execution_count": null,
   "id": "edb88693",
   "metadata": {},
   "outputs": [],
   "source": [
    "#merge() : to join 2 or more dataframe and hold in new dataframe \n",
    "#create first dictionary \n",
    "dict1={'rno':[101,102,103,106,107],'math':[56,67,78,90,76]}\n",
    "#convert dict1 into dataframe\n",
    "df1=pd.DataFrame(dict1)\n",
    "df1"
   ]
  },
  {
   "cell_type": "code",
   "execution_count": null,
   "id": "5a1a6179",
   "metadata": {},
   "outputs": [],
   "source": [
    "#create a dictionary\n",
    "dict2={'rno':[101,103,104,105,107,108],'science':[67,89,76,54,67,90]}\n",
    "#convert dictionary dict2 into dataframe\n",
    "df2=pd.DataFrame(dict2)\n",
    "df2"
   ]
  },
  {
   "cell_type": "code",
   "execution_count": null,
   "id": "7b68caba",
   "metadata": {},
   "outputs": [],
   "source": [
    "#merge means join both dataframe df1 and df2 on common column rno and \n",
    "#hold merge data in new dataframe df3\n",
    "df3=pd.merge(df1,df2,on='rno') #Equal or inner or natural join\n",
    "#pd.merge(dataframe1,dataframe2,.., on=\"common column\")\n",
    "df3"
   ]
  },
  {
   "cell_type": "code",
   "execution_count": null,
   "id": "7eb51e34",
   "metadata": {},
   "outputs": [],
   "source": [
    "#outer join\n",
    "df3=pd.merge(df1,df2,on='rno',how='outer') #bydefault how='inner'\n",
    "df3"
   ]
  },
  {
   "cell_type": "code",
   "execution_count": null,
   "id": "76cbbded",
   "metadata": {},
   "outputs": [],
   "source": [
    "#append() : \n",
    "#create a dictionary \n",
    "d1={'rno':[101,103,106],'name':['anu','deepak','binu'],'math':[34,56,78]}\n",
    "#convert dictionary into dataframe\n",
    "df1=pd.DataFrame(d1)\n",
    "df1"
   ]
  },
  {
   "cell_type": "code",
   "execution_count": null,
   "id": "47de0a1e",
   "metadata": {},
   "outputs": [],
   "source": [
    "#create a dictionary \n",
    "d2={'rno':[102,105,104,107],'name':['kiran','deepak','renu','kamal'],\n",
    "    'math':[34,56,78,60]}\n",
    "#convert dictionary into dataframe\n",
    "df2=pd.DataFrame(d2)\n",
    "df2"
   ]
  },
  {
   "cell_type": "code",
   "execution_count": null,
   "id": "6acaadcf",
   "metadata": {},
   "outputs": [],
   "source": [
    "import warnings \n",
    "warnings.filterwarnings('ignore')\n",
    "#append\n",
    "df3=df1.append(df2)\n",
    "df3"
   ]
  },
  {
   "cell_type": "code",
   "execution_count": null,
   "id": "b0c29927",
   "metadata": {},
   "outputs": [],
   "source": [
    "#append\n",
    "df3=df1.append(df2,ignore_index=True) #by default ignore_index=False\n",
    "df3"
   ]
  },
  {
   "cell_type": "code",
   "execution_count": null,
   "id": "0e5326cc",
   "metadata": {},
   "outputs": [],
   "source": [
    "df3.sort_values('name') #by deafult ascending order but temporary\n",
    "#dataframename.sort_values('column name')\n",
    "#sort means to arranged record in ascending or descending order "
   ]
  },
  {
   "cell_type": "code",
   "execution_count": null,
   "id": "0add3a7d",
   "metadata": {},
   "outputs": [],
   "source": [
    "#descending order according to name column if dataframe df3 \n",
    "df4=df3.sort_values('name',ascending=False,ignore_index=True) \n",
    "#by default ascending=True "
   ]
  },
  {
   "cell_type": "code",
   "execution_count": null,
   "id": "4f8e54ec",
   "metadata": {},
   "outputs": [],
   "source": [
    "df4"
   ]
  }
 ],
 "metadata": {
  "kernelspec": {
   "display_name": "Python 3 (ipykernel)",
   "language": "python",
   "name": "python3"
  },
  "language_info": {
   "codemirror_mode": {
    "name": "ipython",
    "version": 3
   },
   "file_extension": ".py",
   "mimetype": "text/x-python",
   "name": "python",
   "nbconvert_exporter": "python",
   "pygments_lexer": "ipython3",
   "version": "3.11.5"
  }
 },
 "nbformat": 4,
 "nbformat_minor": 5
}
