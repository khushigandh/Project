{
 "cells": [
  {
   "cell_type": "code",
   "execution_count": 1,
   "id": "0b5c2821",
   "metadata": {},
   "outputs": [],
   "source": [
    "#!pip install numpy"
   ]
  },
  {
   "cell_type": "code",
   "execution_count": 2,
   "id": "edd713a9",
   "metadata": {},
   "outputs": [],
   "source": [
    "import numpy as np"
   ]
  },
  {
   "cell_type": "code",
   "execution_count": 3,
   "id": "d231636e",
   "metadata": {},
   "outputs": [
    {
     "data": {
      "text/plain": [
       "'1.24.3'"
      ]
     },
     "execution_count": 3,
     "metadata": {},
     "output_type": "execute_result"
    }
   ],
   "source": [
    "#To show the version of numpy\n",
    "np.__version__"
   ]
  },
  {
   "cell_type": "code",
   "execution_count": 4,
   "id": "815cb151",
   "metadata": {},
   "outputs": [],
   "source": [
    "#1D array : means vector means many rows but one column \n",
    "#Create a 1D vector with the help of list : -\n",
    "#list is a python's object \n",
    "#First create a list with the help of [] or list()\n",
    "X=[45,89,56.7,90,42,45]"
   ]
  },
  {
   "cell_type": "code",
   "execution_count": 5,
   "id": "8a2a21fb",
   "metadata": {},
   "outputs": [
    {
     "data": {
      "text/plain": [
       "list"
      ]
     },
     "execution_count": 5,
     "metadata": {},
     "output_type": "execute_result"
    }
   ],
   "source": [
    "type(X)"
   ]
  },
  {
   "cell_type": "code",
   "execution_count": 6,
   "id": "2fa142be",
   "metadata": {},
   "outputs": [
    {
     "name": "stdout",
     "output_type": "stream",
     "text": [
      "[45, 89, 56.7, 90, 42, 45]\n"
     ]
    }
   ],
   "source": [
    "print(X)"
   ]
  },
  {
   "cell_type": "code",
   "execution_count": 7,
   "id": "a9f2eb52",
   "metadata": {},
   "outputs": [
    {
     "name": "stdout",
     "output_type": "stream",
     "text": [
      "45\n",
      "89\n",
      "56.7\n",
      "90\n",
      "42\n",
      "45\n"
     ]
    }
   ],
   "source": [
    "#To extract data from List one by one then use iterable means loop\n",
    "for i in X:  #for variable in list object:\n",
    "    print(i)"
   ]
  },
  {
   "cell_type": "code",
   "execution_count": 8,
   "id": "b273ff8d",
   "metadata": {},
   "outputs": [
    {
     "name": "stdout",
     "output_type": "stream",
     "text": [
      "0   45   <class 'int'>\n",
      "1   89   <class 'int'>\n",
      "2   56.7   <class 'float'>\n",
      "3   90   <class 'int'>\n",
      "4   42   <class 'int'>\n",
      "5   45   <class 'int'>\n"
     ]
    }
   ],
   "source": [
    "#use inbuilt function enumerate() \n",
    "#enumerate() return index and value both from list object\n",
    "for i,v in enumerate(X):\n",
    "    print(i,\" \",v,\" \",type(v))"
   ]
  },
  {
   "cell_type": "code",
   "execution_count": 9,
   "id": "dd8e4cec",
   "metadata": {},
   "outputs": [
    {
     "name": "stdout",
     "output_type": "stream",
     "text": [
      "[45.  89.  56.7 90.  42.  45. ]\n"
     ]
    }
   ],
   "source": [
    "#To converts list into numpy 1D array(vector)\n",
    "#use inbuilt function array()\n",
    "A=np.array(X)  #or A=np.array([45, 89, 56.7, 90, 42, 45])\n",
    "print(A)"
   ]
  },
  {
   "cell_type": "code",
   "execution_count": 10,
   "id": "f47fdc17",
   "metadata": {},
   "outputs": [
    {
     "data": {
      "text/plain": [
       "numpy.ndarray"
      ]
     },
     "execution_count": 10,
     "metadata": {},
     "output_type": "execute_result"
    }
   ],
   "source": [
    "#check data type \n",
    "type(A) #ndarray means number of dimension "
   ]
  },
  {
   "cell_type": "code",
   "execution_count": 11,
   "id": "ab375336",
   "metadata": {},
   "outputs": [
    {
     "data": {
      "text/plain": [
       "1"
      ]
     },
     "execution_count": 11,
     "metadata": {},
     "output_type": "execute_result"
    }
   ],
   "source": [
    "#check the dimension of numpy array A,use inbuilt attributes ndim which\n",
    "#define in numpy package\n",
    "A.ndim "
   ]
  },
  {
   "cell_type": "code",
   "execution_count": 12,
   "id": "9aaa9776",
   "metadata": {},
   "outputs": [
    {
     "data": {
      "text/plain": [
       "dtype('float64')"
      ]
     },
     "execution_count": 12,
     "metadata": {},
     "output_type": "execute_result"
    }
   ],
   "source": [
    "#to check the datatype of elements in numpy array A , use inbuilt \n",
    "#attributes dtype of numpy array\n",
    "A.dtype"
   ]
  },
  {
   "cell_type": "code",
   "execution_count": 13,
   "id": "af207e02",
   "metadata": {},
   "outputs": [
    {
     "name": "stdout",
     "output_type": "stream",
     "text": [
      "0   45.0   <class 'numpy.float64'>\n",
      "1   89.0   <class 'numpy.float64'>\n",
      "2   56.7   <class 'numpy.float64'>\n",
      "3   90.0   <class 'numpy.float64'>\n",
      "4   42.0   <class 'numpy.float64'>\n",
      "5   45.0   <class 'numpy.float64'>\n"
     ]
    }
   ],
   "source": [
    "for i,v in enumerate(A):\n",
    "    print(i,\" \",v,\" \",type(v))"
   ]
  },
  {
   "cell_type": "code",
   "execution_count": 14,
   "id": "67a127aa",
   "metadata": {},
   "outputs": [
    {
     "data": {
      "text/plain": [
       "(6,)"
      ]
     },
     "execution_count": 14,
     "metadata": {},
     "output_type": "execute_result"
    }
   ],
   "source": [
    "#To show the number of rows and columns in given numpy array A\n",
    "#use inbuilt attributes shape of numpy array , this attributes return \n",
    "#answer in tuple\n",
    "A.shape  #(no. of rows,one column by default understood)"
   ]
  },
  {
   "cell_type": "code",
   "execution_count": 15,
   "id": "b6221e6b",
   "metadata": {},
   "outputs": [
    {
     "data": {
      "text/plain": [
       "6"
      ]
     },
     "execution_count": 15,
     "metadata": {},
     "output_type": "execute_result"
    }
   ],
   "source": [
    "#To show number of rows means no. of records : -\n",
    "A.shape[0]"
   ]
  },
  {
   "cell_type": "code",
   "execution_count": 16,
   "id": "6a5acb28",
   "metadata": {},
   "outputs": [
    {
     "data": {
      "text/plain": [
       "6"
      ]
     },
     "execution_count": 16,
     "metadata": {},
     "output_type": "execute_result"
    }
   ],
   "source": [
    "#or use size inbuilt attributes of  numpy array \n",
    "#To show number of rows means no. of records : -\n",
    "A.size"
   ]
  },
  {
   "cell_type": "code",
   "execution_count": 17,
   "id": "08278239",
   "metadata": {},
   "outputs": [
    {
     "data": {
      "text/plain": [
       "6"
      ]
     },
     "execution_count": 17,
     "metadata": {},
     "output_type": "execute_result"
    }
   ],
   "source": [
    "# use len() : to show the no. opf elements in given numpy array\n",
    "len(A)"
   ]
  },
  {
   "cell_type": "code",
   "execution_count": 18,
   "id": "3851e67f",
   "metadata": {},
   "outputs": [
    {
     "data": {
      "text/plain": [
       "array([45. , 89. , 56.7, 90. , 42. , 45. ])"
      ]
     },
     "execution_count": 18,
     "metadata": {},
     "output_type": "execute_result"
    }
   ],
   "source": [
    "A"
   ]
  },
  {
   "cell_type": "code",
   "execution_count": 19,
   "id": "5468f63f",
   "metadata": {},
   "outputs": [
    {
     "data": {
      "text/plain": [
       "8"
      ]
     },
     "execution_count": 19,
     "metadata": {},
     "output_type": "execute_result"
    }
   ],
   "source": [
    "#memory occupied by each element of numpy 1D array A\n",
    "#use inbuilt attributes itemsize\n",
    "A.itemsize  #return unit in bytes "
   ]
  },
  {
   "cell_type": "code",
   "execution_count": 20,
   "id": "d5990234",
   "metadata": {},
   "outputs": [
    {
     "data": {
      "text/plain": [
       "48"
      ]
     },
     "execution_count": 20,
     "metadata": {},
     "output_type": "execute_result"
    }
   ],
   "source": [
    "#total memory occupied by 1D numpy array A\n",
    "A.size*A.itemsize #return answer in bytes"
   ]
  },
  {
   "cell_type": "code",
   "execution_count": 21,
   "id": "b2eaf8d6",
   "metadata": {},
   "outputs": [
    {
     "data": {
      "text/plain": [
       "48"
      ]
     },
     "execution_count": 21,
     "metadata": {},
     "output_type": "execute_result"
    }
   ],
   "source": [
    "#Or use nbytes inbuilt attributes of numpy array  :\n",
    "#total memory occupied by 1D numpy array A \n",
    "A.nbytes"
   ]
  },
  {
   "cell_type": "code",
   "execution_count": 22,
   "id": "6885d7ed",
   "metadata": {},
   "outputs": [
    {
     "data": {
      "text/plain": [
       "'\\n1.dtype\\n2.shape\\n3.size\\n4.itemsize\\n5.nbytes\\n6.ndim\\n'"
      ]
     },
     "execution_count": 22,
     "metadata": {},
     "output_type": "execute_result"
    }
   ],
   "source": [
    "#Inbuilt attributes of numpy array \n",
    "'''\n",
    "1.dtype\n",
    "2.shape\n",
    "3.size\n",
    "4.itemsize\n",
    "5.nbytes\n",
    "6.ndim\n",
    "'''"
   ]
  },
  {
   "cell_type": "code",
   "execution_count": 23,
   "id": "d09d2ffc",
   "metadata": {},
   "outputs": [],
   "source": [
    "#Extract data from 1D numpy array :  \n",
    "#There are 3 types of method for extract data from numpy 1 D array\n",
    "#1. Through indexing\n",
    "#2. Through Slicing\n",
    "#3. Through Conditioning "
   ]
  },
  {
   "cell_type": "code",
   "execution_count": 24,
   "id": "aecc6f95",
   "metadata": {},
   "outputs": [
    {
     "data": {
      "text/plain": [
       "45.0"
      ]
     },
     "execution_count": 24,
     "metadata": {},
     "output_type": "execute_result"
    }
   ],
   "source": [
    "#1. Through Indexing : -\n",
    "#There are 2 types of indexing in numpy array similar to list\n",
    "#suppose we want to extract last element from  numpy array A\n",
    "A[-1]"
   ]
  },
  {
   "cell_type": "code",
   "execution_count": 25,
   "id": "60539a65",
   "metadata": {},
   "outputs": [
    {
     "data": {
      "text/plain": [
       "56.7"
      ]
     },
     "execution_count": 25,
     "metadata": {},
     "output_type": "execute_result"
    }
   ],
   "source": [
    "#suppose we want to extract 3rd element means 2nd index\n",
    "A[2]"
   ]
  },
  {
   "cell_type": "code",
   "execution_count": 26,
   "id": "ee9ce119",
   "metadata": {},
   "outputs": [
    {
     "data": {
      "text/plain": [
       "array([89., 42., 45.])"
      ]
     },
     "execution_count": 26,
     "metadata": {},
     "output_type": "execute_result"
    }
   ],
   "source": [
    "#Extract value from multiple index \n",
    "#suppose extract the value at 1st index,4th index and 5th index\n",
    "A[[1,4,5]]"
   ]
  },
  {
   "cell_type": "code",
   "execution_count": 27,
   "id": "3fb98433",
   "metadata": {},
   "outputs": [
    {
     "data": {
      "text/plain": [
       "array([89., 42., 45.])"
      ]
     },
     "execution_count": 27,
     "metadata": {},
     "output_type": "execute_result"
    }
   ],
   "source": [
    "#or create the list of index\n",
    "i=[1,4,5]\n",
    "A[i]"
   ]
  },
  {
   "cell_type": "code",
   "execution_count": 28,
   "id": "27669e11",
   "metadata": {},
   "outputs": [
    {
     "data": {
      "text/plain": [
       "list"
      ]
     },
     "execution_count": 28,
     "metadata": {},
     "output_type": "execute_result"
    }
   ],
   "source": [
    "#create a list\n",
    "X=[45,89,56.7,90,42,45]\n",
    "type(X)"
   ]
  },
  {
   "cell_type": "code",
   "execution_count": 29,
   "id": "9d8fcf1b",
   "metadata": {},
   "outputs": [],
   "source": [
    "#X[[1,4,5]] #show error"
   ]
  },
  {
   "cell_type": "code",
   "execution_count": 30,
   "id": "53fad47d",
   "metadata": {},
   "outputs": [
    {
     "name": "stdout",
     "output_type": "stream",
     "text": [
      "89\n",
      "42\n",
      "45\n"
     ]
    }
   ],
   "source": [
    "#access element at multiple index from list  \n",
    "for i,v in enumerate(X):\n",
    "    if i==1 or i==4 or i==5:\n",
    "        print(v)"
   ]
  },
  {
   "cell_type": "code",
   "execution_count": 31,
   "id": "0f47abe8",
   "metadata": {},
   "outputs": [
    {
     "data": {
      "text/plain": [
       "array([56.7, 90. , 42. ])"
      ]
     },
     "execution_count": 31,
     "metadata": {},
     "output_type": "execute_result"
    }
   ],
   "source": [
    "#2. Through slicing : access data through slicing \n",
    "#[start index:stop index:step]\n",
    "#stop =stop-1 and if didnot give step then bydefault increment by 1\n",
    "#if did not given start then initialize 0 index by default \n",
    "#suppose we want to extract value at 2nd index to 4th index \n",
    "#means 2nd index ,3rd index and 4th index , then here use slicing \n",
    "A[2:5] #here start =2nd index and stop=5-1=4th index and step=+1"
   ]
  },
  {
   "cell_type": "code",
   "execution_count": 32,
   "id": "ac366703",
   "metadata": {},
   "outputs": [
    {
     "data": {
      "text/plain": [
       "array([45. , 89. , 56.7, 90. , 42. ])"
      ]
     },
     "execution_count": 32,
     "metadata": {},
     "output_type": "execute_result"
    }
   ],
   "source": [
    "#Extract first 5 elements from  numpy array A\n",
    "A[0:5] #start=0th index and stop=5-1=4"
   ]
  },
  {
   "cell_type": "code",
   "execution_count": 33,
   "id": "22450d11",
   "metadata": {},
   "outputs": [
    {
     "data": {
      "text/plain": [
       "array([45. , 89. , 56.7, 90. , 42. ])"
      ]
     },
     "execution_count": 33,
     "metadata": {},
     "output_type": "execute_result"
    }
   ],
   "source": [
    "#or\n",
    "A[:5] #start by default =0 stop=5-1=4th index step=+1"
   ]
  },
  {
   "cell_type": "code",
   "execution_count": 34,
   "id": "3fe9f4b1",
   "metadata": {},
   "outputs": [
    {
     "data": {
      "text/plain": [
       "array([90., 42., 45.])"
      ]
     },
     "execution_count": 34,
     "metadata": {},
     "output_type": "execute_result"
    }
   ],
   "source": [
    "#Access last 3 elements \n",
    "A[-3:]"
   ]
  },
  {
   "cell_type": "code",
   "execution_count": 35,
   "id": "9dacf5cd",
   "metadata": {},
   "outputs": [],
   "source": [
    "import numpy as np"
   ]
  },
  {
   "cell_type": "code",
   "execution_count": 36,
   "id": "9a5e8348",
   "metadata": {},
   "outputs": [
    {
     "name": "stdout",
     "output_type": "stream",
     "text": [
      "[20 34 56 67 89 10 14 46]\n"
     ]
    }
   ],
   "source": [
    "#create a 1D numpy array  from list \n",
    "A=np.array([20,34,56,67,89,10,14,46])\n",
    "print(A)"
   ]
  },
  {
   "cell_type": "code",
   "execution_count": 37,
   "id": "4978a5e3",
   "metadata": {},
   "outputs": [
    {
     "data": {
      "text/plain": [
       "1"
      ]
     },
     "execution_count": 37,
     "metadata": {},
     "output_type": "execute_result"
    }
   ],
   "source": [
    "A.ndim"
   ]
  },
  {
   "cell_type": "code",
   "execution_count": 38,
   "id": "36549581",
   "metadata": {},
   "outputs": [
    {
     "data": {
      "text/plain": [
       "array([False, False, False,  True,  True, False, False, False])"
      ]
     },
     "execution_count": 38,
     "metadata": {},
     "output_type": "execute_result"
    }
   ],
   "source": [
    "#Extract data according to condition \n",
    "#suppose we want to extract those elements whose >60\n",
    "A>60  #return answer in true/false means logical type"
   ]
  },
  {
   "cell_type": "code",
   "execution_count": 39,
   "id": "7f0098db",
   "metadata": {},
   "outputs": [
    {
     "data": {
      "text/plain": [
       "array([67, 89])"
      ]
     },
     "execution_count": 39,
     "metadata": {},
     "output_type": "execute_result"
    }
   ],
   "source": [
    "A[A>60]"
   ]
  },
  {
   "cell_type": "code",
   "execution_count": 40,
   "id": "38151454",
   "metadata": {},
   "outputs": [
    {
     "data": {
      "text/plain": [
       "array([67])"
      ]
     },
     "execution_count": 40,
     "metadata": {},
     "output_type": "execute_result"
    }
   ],
   "source": [
    "#to extract those records whose element >60 and less than <80\n",
    "#means we have multiple conditions  : use logical operator\n",
    "#in python : 1. and   but in numpy , & (ampercend) \n",
    "#in python : 2. or but in numpy , use | (pipeline)\n",
    "#A[(first condition)logical operator(second condition)]\n",
    "A[(A>60) & (A<80)]"
   ]
  },
  {
   "cell_type": "code",
   "execution_count": 41,
   "id": "136d6a1a",
   "metadata": {},
   "outputs": [
    {
     "data": {
      "text/plain": [
       "array([20, 34, 56, 10, 14, 46])"
      ]
     },
     "execution_count": 41,
     "metadata": {},
     "output_type": "execute_result"
    }
   ],
   "source": [
    "#Extract all even number from numpy array A\n",
    "A[A%2==0]"
   ]
  },
  {
   "cell_type": "code",
   "execution_count": 42,
   "id": "17dc047f",
   "metadata": {},
   "outputs": [
    {
     "data": {
      "text/plain": [
       "array([20, 34, 56, 67, 89, 10, 14, 46])"
      ]
     },
     "execution_count": 42,
     "metadata": {},
     "output_type": "execute_result"
    }
   ],
   "source": [
    "A"
   ]
  },
  {
   "cell_type": "code",
   "execution_count": 43,
   "id": "b92546ab",
   "metadata": {},
   "outputs": [
    {
     "data": {
      "text/plain": [
       "array([20, 34, 56,  0,  0, 10, 14, 46])"
      ]
     },
     "execution_count": 43,
     "metadata": {},
     "output_type": "execute_result"
    }
   ],
   "source": [
    "#Replace all odd no. with 0 in given numpy array A\n",
    "np.where(A%2!=0,0,A) #temporary changes"
   ]
  },
  {
   "cell_type": "code",
   "execution_count": 44,
   "id": "c10bd01c",
   "metadata": {},
   "outputs": [
    {
     "data": {
      "text/plain": [
       "array([20, 34, 56, 67, 89, 10, 14, 46])"
      ]
     },
     "execution_count": 44,
     "metadata": {},
     "output_type": "execute_result"
    }
   ],
   "source": [
    "A"
   ]
  },
  {
   "cell_type": "code",
   "execution_count": 45,
   "id": "db93e468",
   "metadata": {},
   "outputs": [
    {
     "name": "stdout",
     "output_type": "stream",
     "text": [
      "[20 34 56  0  0 10 14 46]\n"
     ]
    }
   ],
   "source": [
    "B=np.where(A%2!=0,0,A)\n",
    "print(B)"
   ]
  },
  {
   "cell_type": "code",
   "execution_count": 46,
   "id": "c608f9ae",
   "metadata": {},
   "outputs": [
    {
     "name": "stdout",
     "output_type": "stream",
     "text": [
      "[20 34 56 67 89 10 14 46]\n"
     ]
    }
   ],
   "source": [
    "print(A)"
   ]
  },
  {
   "cell_type": "code",
   "execution_count": 47,
   "id": "c57e1436",
   "metadata": {},
   "outputs": [
    {
     "data": {
      "text/plain": [
       "336"
      ]
     },
     "execution_count": 47,
     "metadata": {},
     "output_type": "execute_result"
    }
   ],
   "source": [
    "#Some mathmatical operations \n",
    "#1.sum() \n",
    "np.sum(A)"
   ]
  },
  {
   "cell_type": "code",
   "execution_count": 48,
   "id": "5f1fa7f2",
   "metadata": {},
   "outputs": [
    {
     "data": {
      "text/plain": [
       "336"
      ]
     },
     "execution_count": 48,
     "metadata": {},
     "output_type": "execute_result"
    }
   ],
   "source": [
    "A.sum()"
   ]
  },
  {
   "cell_type": "code",
   "execution_count": 49,
   "id": "3be6d504",
   "metadata": {},
   "outputs": [
    {
     "data": {
      "text/plain": [
       "42.0"
      ]
     },
     "execution_count": 49,
     "metadata": {},
     "output_type": "execute_result"
    }
   ],
   "source": [
    "#To find the average means mean of Elements ,\n",
    "#inbuilt function mean()\n",
    "#(20+34+56+67+89+10+14+46)/A.size\n",
    "#size : find the number of elements \n",
    "A.mean()"
   ]
  },
  {
   "cell_type": "code",
   "execution_count": 50,
   "id": "2193b123",
   "metadata": {},
   "outputs": [
    {
     "data": {
      "text/plain": [
       "42.0"
      ]
     },
     "execution_count": 50,
     "metadata": {},
     "output_type": "execute_result"
    }
   ],
   "source": [
    "#or\n",
    "np.mean(A)"
   ]
  },
  {
   "cell_type": "code",
   "execution_count": 51,
   "id": "36f9be18",
   "metadata": {},
   "outputs": [
    {
     "data": {
      "text/plain": [
       "89"
      ]
     },
     "execution_count": 51,
     "metadata": {},
     "output_type": "execute_result"
    }
   ],
   "source": [
    "#To find the highest salary means maximum value\n",
    "#use max() \n",
    "A.max()"
   ]
  },
  {
   "cell_type": "code",
   "execution_count": 52,
   "id": "1255d018",
   "metadata": {},
   "outputs": [
    {
     "data": {
      "text/plain": [
       "42.0"
      ]
     },
     "execution_count": 52,
     "metadata": {},
     "output_type": "execute_result"
    }
   ],
   "source": [
    "A.mean().round(2) #show after decimal 2 digits"
   ]
  },
  {
   "cell_type": "code",
   "execution_count": 53,
   "id": "4aea7caa",
   "metadata": {},
   "outputs": [
    {
     "name": "stdout",
     "output_type": "stream",
     "text": [
      "[20 34 56 67 89 10 14 46]\n"
     ]
    }
   ],
   "source": [
    "print(A)"
   ]
  },
  {
   "cell_type": "code",
   "execution_count": 54,
   "id": "187f62f5",
   "metadata": {},
   "outputs": [],
   "source": [
    "A.sort() #bydefault ascending order"
   ]
  },
  {
   "cell_type": "code",
   "execution_count": 55,
   "id": "94d5b233",
   "metadata": {},
   "outputs": [
    {
     "name": "stdout",
     "output_type": "stream",
     "text": [
      "[10 14 20 34 46 56 67 89]\n"
     ]
    }
   ],
   "source": [
    "print(A)"
   ]
  },
  {
   "cell_type": "code",
   "execution_count": 56,
   "id": "a3e52996",
   "metadata": {},
   "outputs": [
    {
     "name": "stdout",
     "output_type": "stream",
     "text": [
      "67\n"
     ]
    }
   ],
   "source": [
    "#find the second highest value from numpy array A\n",
    "#first arrange records in ascending order \n",
    "A.sort()\n",
    "print(A[-2]) #second highest record"
   ]
  },
  {
   "cell_type": "code",
   "execution_count": 57,
   "id": "9b403ebd",
   "metadata": {},
   "outputs": [
    {
     "name": "stdout",
     "output_type": "stream",
     "text": [
      "[10 14 20 34 46 56 67 89]\n",
      "[89 67 56 46 34 20 14 10]\n"
     ]
    }
   ],
   "source": [
    "A.sort() #first arrange data in ascending order\n",
    "print(A)\n",
    "print(A[::-1]) #print in reverse order"
   ]
  },
  {
   "cell_type": "code",
   "execution_count": 58,
   "id": "e3b72a14",
   "metadata": {},
   "outputs": [
    {
     "name": "stdout",
     "output_type": "stream",
     "text": [
      "[34 67 70 87 34 23]\n"
     ]
    }
   ],
   "source": [
    "#create a 1D array \n",
    "A=np.array([34,67.89,70,87,34,23],int)\n",
    "print(A)"
   ]
  },
  {
   "cell_type": "code",
   "execution_count": 59,
   "id": "243545ec",
   "metadata": {},
   "outputs": [
    {
     "data": {
      "text/plain": [
       "dtype('int32')"
      ]
     },
     "execution_count": 59,
     "metadata": {},
     "output_type": "execute_result"
    }
   ],
   "source": [
    "#to check dataTYPE\n",
    "A.dtype"
   ]
  },
  {
   "cell_type": "code",
   "execution_count": 60,
   "id": "31ad00c9",
   "metadata": {},
   "outputs": [
    {
     "data": {
      "text/plain": [
       "numpy.ndarray"
      ]
     },
     "execution_count": 60,
     "metadata": {},
     "output_type": "execute_result"
    }
   ],
   "source": [
    "type(A)"
   ]
  },
  {
   "cell_type": "code",
   "execution_count": 61,
   "id": "a8af5bae",
   "metadata": {},
   "outputs": [
    {
     "name": "stdout",
     "output_type": "stream",
     "text": [
      "['10' 'True' '90' '46' 'False' 'True' '86' '98.6' 'Anu']\n",
      "<U32\n"
     ]
    }
   ],
   "source": [
    "A=np.array([10,True,90,46,False,True,86,98.6,'Anu'])\n",
    "print(A)\n",
    "print(A.dtype)"
   ]
  },
  {
   "cell_type": "code",
   "execution_count": 62,
   "id": "3a7d334d",
   "metadata": {},
   "outputs": [
    {
     "name": "stdout",
     "output_type": "stream",
     "text": [
      "[100 110 120 130 140 150 160 170 180 190 200]\n"
     ]
    }
   ],
   "source": [
    "#create a 1D array in another way : arange() \n",
    "#arange() is similar to range() \n",
    "#arange(start,stop,step)\n",
    "X=np.arange(100,201,10) #start=100 stop=201-1=200\n",
    "#step=+10\n",
    "print(X)"
   ]
  },
  {
   "cell_type": "code",
   "execution_count": 63,
   "id": "bffeee8b",
   "metadata": {},
   "outputs": [
    {
     "data": {
      "text/plain": [
       "nan"
      ]
     },
     "execution_count": 63,
     "metadata": {},
     "output_type": "execute_result"
    }
   ],
   "source": [
    "#2D array means metrix means to store data in the form \n",
    "#of rows and columns \n",
    "#means many rows means many records and in each row ,\n",
    "#many columns \n",
    "np.nan #for null values"
   ]
  },
  {
   "cell_type": "code",
   "execution_count": 64,
   "id": "e8fc7474",
   "metadata": {},
   "outputs": [
    {
     "name": "stdout",
     "output_type": "stream",
     "text": [
      "[[60 71 55]\n",
      " [55 62 71]\n",
      " [90 89 76]\n",
      " [54 43 23]]\n"
     ]
    }
   ],
   "source": [
    "#Create a matrix means 2D array \n",
    "A=np.array([[60,71,55],[55,62,71],[90,89,76],[54,43,23]])\n",
    "print(A)"
   ]
  },
  {
   "cell_type": "code",
   "execution_count": 65,
   "id": "242de94f",
   "metadata": {},
   "outputs": [
    {
     "data": {
      "text/plain": [
       "numpy.ndarray"
      ]
     },
     "execution_count": 65,
     "metadata": {},
     "output_type": "execute_result"
    }
   ],
   "source": [
    "#check type of variable A\n",
    "type(A)"
   ]
  },
  {
   "cell_type": "code",
   "execution_count": 66,
   "id": "1cd9a286",
   "metadata": {},
   "outputs": [
    {
     "data": {
      "text/plain": [
       "2"
      ]
     },
     "execution_count": 66,
     "metadata": {},
     "output_type": "execute_result"
    }
   ],
   "source": [
    "#check the dimension \n",
    "A.ndim"
   ]
  },
  {
   "cell_type": "code",
   "execution_count": 67,
   "id": "97d48d96",
   "metadata": {},
   "outputs": [
    {
     "data": {
      "text/plain": [
       "(4, 3)"
      ]
     },
     "execution_count": 67,
     "metadata": {},
     "output_type": "execute_result"
    }
   ],
   "source": [
    "#Check the no. of rows and columns , use inbuilt \n",
    "#attributes : shape \n",
    "A.shape"
   ]
  },
  {
   "cell_type": "code",
   "execution_count": 68,
   "id": "14a964b3",
   "metadata": {},
   "outputs": [
    {
     "data": {
      "text/plain": [
       "dtype('int32')"
      ]
     },
     "execution_count": 68,
     "metadata": {},
     "output_type": "execute_result"
    }
   ],
   "source": [
    "A.dtype"
   ]
  },
  {
   "cell_type": "code",
   "execution_count": 69,
   "id": "4cf9ca0a",
   "metadata": {},
   "outputs": [
    {
     "name": "stdout",
     "output_type": "stream",
     "text": [
      "[[60 71 55]\n",
      " [55 62 71]\n",
      " [90 89 76]\n",
      " [54 43 23]]\n"
     ]
    }
   ],
   "source": [
    "print(A)"
   ]
  },
  {
   "cell_type": "code",
   "execution_count": 70,
   "id": "e5f3992d",
   "metadata": {},
   "outputs": [
    {
     "data": {
      "text/plain": [
       "array([186, 188, 255, 120])"
      ]
     },
     "execution_count": 70,
     "metadata": {},
     "output_type": "execute_result"
    }
   ],
   "source": [
    "A.sum(axis=1)"
   ]
  },
  {
   "cell_type": "code",
   "execution_count": 71,
   "id": "5db14b89",
   "metadata": {},
   "outputs": [
    {
     "data": {
      "text/plain": [
       "array([259, 265, 225])"
      ]
     },
     "execution_count": 71,
     "metadata": {},
     "output_type": "execute_result"
    }
   ],
   "source": [
    "A.sum(axis=0)"
   ]
  },
  {
   "cell_type": "code",
   "execution_count": 72,
   "id": "60687978",
   "metadata": {},
   "outputs": [
    {
     "name": "stdout",
     "output_type": "stream",
     "text": [
      "[[60 71 55]\n",
      " [55 62 71]\n",
      " [90 89 76]\n",
      " [54 43 23]]\n"
     ]
    }
   ],
   "source": [
    "print(A)"
   ]
  },
  {
   "cell_type": "code",
   "execution_count": 73,
   "id": "2f362d56",
   "metadata": {},
   "outputs": [
    {
     "data": {
      "text/plain": [
       "89"
      ]
     },
     "execution_count": 73,
     "metadata": {},
     "output_type": "execute_result"
    }
   ],
   "source": [
    "#Extract data from 2D array by 3 types\n",
    "#1. Through Inndexing \n",
    "#Access data at 2nd row index(3rd row) and 1st col\n",
    "#index(2nd column)\n",
    "A[2,1]"
   ]
  },
  {
   "cell_type": "code",
   "execution_count": 74,
   "id": "8b01d205",
   "metadata": {},
   "outputs": [
    {
     "data": {
      "text/plain": [
       "array([90, 89, 76])"
      ]
     },
     "execution_count": 74,
     "metadata": {},
     "output_type": "execute_result"
    }
   ],
   "source": [
    "#Access 2nd row index means access all details of 2nd row\n",
    "#index means 3rd row\n",
    "A[2,]"
   ]
  },
  {
   "cell_type": "code",
   "execution_count": 75,
   "id": "d0cb941c",
   "metadata": {},
   "outputs": [
    {
     "data": {
      "text/plain": [
       "array([54, 43, 23])"
      ]
     },
     "execution_count": 75,
     "metadata": {},
     "output_type": "execute_result"
    }
   ],
   "source": [
    "A[-1,]"
   ]
  },
  {
   "cell_type": "code",
   "execution_count": 76,
   "id": "d8386a6b",
   "metadata": {},
   "outputs": [
    {
     "data": {
      "text/plain": [
       "23"
      ]
     },
     "execution_count": 76,
     "metadata": {},
     "output_type": "execute_result"
    }
   ],
   "source": [
    "A[-1,2]"
   ]
  },
  {
   "cell_type": "code",
   "execution_count": 77,
   "id": "872215e5",
   "metadata": {},
   "outputs": [
    {
     "data": {
      "text/plain": [
       "2"
      ]
     },
     "execution_count": 77,
     "metadata": {},
     "output_type": "execute_result"
    }
   ],
   "source": [
    "import numpy as np\n",
    "#2. Through slicing \n",
    "#create a 2D array : -\n",
    "#first create list (nested list )\n",
    "L=[[34,56,78,90],[40,80,70,40],[55,67,87,54],\n",
    "   [10,20,30,40]]\n",
    "#convert List L into Array\n",
    "A=np.array(L)\n",
    "A.ndim #check dimension of array"
   ]
  },
  {
   "cell_type": "code",
   "execution_count": 78,
   "id": "0e1a3a5c",
   "metadata": {},
   "outputs": [
    {
     "name": "stdout",
     "output_type": "stream",
     "text": [
      "[[34 56 78 90]\n",
      " [40 80 70 40]\n",
      " [55 67 87 54]\n",
      " [10 20 30 40]]\n"
     ]
    }
   ],
   "source": [
    "print(A)"
   ]
  },
  {
   "cell_type": "code",
   "execution_count": 79,
   "id": "c805cb5a",
   "metadata": {},
   "outputs": [
    {
     "data": {
      "text/plain": [
       "array([[70, 40],\n",
       "       [87, 54]])"
      ]
     },
     "execution_count": 79,
     "metadata": {},
     "output_type": "execute_result"
    }
   ],
   "source": [
    "#Access 2nd colindex to 3rd index for 1st row index to \n",
    "#2nd rowindex\n",
    "A[1:3,2:4]"
   ]
  },
  {
   "cell_type": "code",
   "execution_count": 80,
   "id": "70eda076",
   "metadata": {},
   "outputs": [
    {
     "data": {
      "text/plain": [
       "array([78, 70, 87, 30])"
      ]
     },
     "execution_count": 80,
     "metadata": {},
     "output_type": "execute_result"
    }
   ],
   "source": [
    "#access 2nd col index of all rows\n",
    "A[:,2]"
   ]
  },
  {
   "cell_type": "code",
   "execution_count": 81,
   "id": "fab12513",
   "metadata": {},
   "outputs": [
    {
     "data": {
      "text/plain": [
       "array([90, 40, 54, 40])"
      ]
     },
     "execution_count": 81,
     "metadata": {},
     "output_type": "execute_result"
    }
   ],
   "source": [
    "#access last column of ALL ROWS\n",
    "A[:,-1]"
   ]
  },
  {
   "cell_type": "code",
   "execution_count": 82,
   "id": "d718e9dc",
   "metadata": {},
   "outputs": [
    {
     "name": "stdout",
     "output_type": "stream",
     "text": [
      "[[34 56 78 90]\n",
      " [40 80 70 40]\n",
      " [55 67 87 54]\n",
      " [10 20 30 40]]\n",
      "2\n"
     ]
    }
   ],
   "source": [
    "print(A)\n",
    "print(A.ndim)"
   ]
  },
  {
   "cell_type": "code",
   "execution_count": 83,
   "id": "626cc0c5",
   "metadata": {},
   "outputs": [
    {
     "data": {
      "text/plain": [
       "array([34, 56, 78, 90, 40, 80, 70, 40, 55, 67, 87, 54, 10, 20, 30, 40])"
      ]
     },
     "execution_count": 83,
     "metadata": {},
     "output_type": "execute_result"
    }
   ],
   "source": [
    "#To convert 2D array into 1 D array then use \n",
    "#inbuilt method : -\n",
    "#1. reshape(-1) : which define in numpy library \n",
    "A.reshape(-1) #change in temporary"
   ]
  },
  {
   "cell_type": "code",
   "execution_count": 84,
   "id": "22a04fea",
   "metadata": {},
   "outputs": [
    {
     "data": {
      "text/plain": [
       "array([34, 56, 78, 90, 40, 80, 70, 40, 55, 67, 87, 54, 10, 20, 30, 40])"
      ]
     },
     "execution_count": 84,
     "metadata": {},
     "output_type": "execute_result"
    }
   ],
   "source": [
    "#2nd method : ravel()\n",
    "A.ravel() #temporary"
   ]
  },
  {
   "cell_type": "code",
   "execution_count": 85,
   "id": "3ef5934b",
   "metadata": {},
   "outputs": [
    {
     "data": {
      "text/plain": [
       "array([34, 56, 78, 90, 40, 80, 70, 40, 55, 67, 87, 54, 10, 20, 30, 40])"
      ]
     },
     "execution_count": 85,
     "metadata": {},
     "output_type": "execute_result"
    }
   ],
   "source": [
    "#3r method\n",
    "A.flatten()#temporary"
   ]
  },
  {
   "cell_type": "code",
   "execution_count": 86,
   "id": "eabca6de",
   "metadata": {},
   "outputs": [
    {
     "name": "stdout",
     "output_type": "stream",
     "text": [
      "[10 12 14 16 18 20]\n",
      "6\n"
     ]
    }
   ],
   "source": [
    "#For example : to generate  a 1D Series \n",
    "A=np.arange(10,21,2) #start=10 stop=21-1=20 step=+2\n",
    "print(A)\n",
    "#how many elements in given 1D array\n",
    "print(A.size)"
   ]
  },
  {
   "cell_type": "code",
   "execution_count": 87,
   "id": "1a409ed0",
   "metadata": {},
   "outputs": [
    {
     "name": "stdout",
     "output_type": "stream",
     "text": [
      "[[10 12]\n",
      " [14 16]\n",
      " [18 20]]\n",
      "2\n",
      "1\n"
     ]
    }
   ],
   "source": [
    "#converts 1D Array into 2D array ,use inbuilt method\n",
    "#reshape(no. of rows,no. of columns)\n",
    "B=A.reshape(3,2)\n",
    "print(B)\n",
    "print(B.ndim) #check dimension\n",
    "print(A.ndim)"
   ]
  },
  {
   "cell_type": "code",
   "execution_count": 88,
   "id": "bc4199ee",
   "metadata": {},
   "outputs": [],
   "source": [
    "#pandas tools :\n",
    "#first install pandas package \n",
    "#pandas inbuilt package of python :\n",
    "#means pandas is a open source means no any cost paid\n",
    "#on this library , means its provides free of cost\n",
    "#package manager : pip install pandas \n",
    "#c:\\user\\meena pandey "
   ]
  },
  {
   "cell_type": "code",
   "execution_count": 89,
   "id": "1f510677",
   "metadata": {},
   "outputs": [
    {
     "data": {
      "text/plain": [
       "'C:\\\\Users\\\\Lenovo'"
      ]
     },
     "execution_count": 89,
     "metadata": {},
     "output_type": "execute_result"
    }
   ],
   "source": [
    "#to check the current path \n",
    "import os\n",
    "os.getcwd() #get working directory"
   ]
  },
  {
   "cell_type": "code",
   "execution_count": 90,
   "id": "76e123fd",
   "metadata": {},
   "outputs": [],
   "source": [
    "#!pip install pandas"
   ]
  },
  {
   "cell_type": "code",
   "execution_count": 91,
   "id": "731ccc6f",
   "metadata": {},
   "outputs": [],
   "source": [
    "#call pandas package \n",
    "import pandas as pd\n",
    "import numpy as np\n",
    "import warnings\n",
    "warnings.filterwarnings('ignore')"
   ]
  },
  {
   "cell_type": "code",
   "execution_count": 92,
   "id": "73e1d19f",
   "metadata": {},
   "outputs": [
    {
     "name": "stdout",
     "output_type": "stream",
     "text": [
      "Series([], dtype: object)\n",
      "<class 'pandas.core.series.Series'>\n"
     ]
    }
   ],
   "source": [
    "#create a Series means 1D array but it is tabular form\n",
    "#means many rows and only one column\n",
    "A=pd.Series()\n",
    "print(A)\n",
    "print(type(A))"
   ]
  },
  {
   "cell_type": "code",
   "execution_count": 93,
   "id": "5a84e7ca",
   "metadata": {},
   "outputs": [
    {
     "data": {
      "text/plain": [
       "0    45\n",
       "1    67\n",
       "2    89\n",
       "3    80\n",
       "dtype: int64"
      ]
     },
     "execution_count": 93,
     "metadata": {},
     "output_type": "execute_result"
    }
   ],
   "source": [
    "A=pd.Series([45,67,89,80])\n",
    "A"
   ]
  },
  {
   "cell_type": "code",
   "execution_count": 94,
   "id": "3f331b78",
   "metadata": {},
   "outputs": [],
   "source": [
    "#Pandas \n",
    "import pandas as pd\n",
    "import numpy as np"
   ]
  },
  {
   "cell_type": "code",
   "execution_count": 95,
   "id": "a5963507",
   "metadata": {},
   "outputs": [],
   "source": [
    "#1. Series() : table form \n",
    "#in Seires : many rows but only one column\n",
    "#create a Series with the help of list ,1D numpy array\n",
    "#(vector) and dictionary ."
   ]
  },
  {
   "cell_type": "code",
   "execution_count": 96,
   "id": "d429d142",
   "metadata": {},
   "outputs": [
    {
     "name": "stdout",
     "output_type": "stream",
     "text": [
      "<class 'numpy.ndarray'>\n",
      "[10 35 78 90 76 54]\n"
     ]
    },
    {
     "data": {
      "text/plain": [
       "array([10, 35, 78, 90, 76, 54])"
      ]
     },
     "execution_count": 96,
     "metadata": {},
     "output_type": "execute_result"
    }
   ],
   "source": [
    "#create a Series with the help of 1D numpy array \n",
    "A=np.array([10,35,78,90,76,54])\n",
    "print(type(A))\n",
    "print(A)\n",
    "A\n"
   ]
  },
  {
   "cell_type": "code",
   "execution_count": 97,
   "id": "301d91a9",
   "metadata": {},
   "outputs": [
    {
     "name": "stdout",
     "output_type": "stream",
     "text": [
      "<class 'pandas.core.series.Series'>\n",
      "0    10\n",
      "1    35\n",
      "2    78\n",
      "3    90\n",
      "4    76\n",
      "5    54\n",
      "dtype: int32\n"
     ]
    }
   ],
   "source": [
    "#convert 1D numpy array into Series\n",
    "X=pd.Series(A)\n",
    "print(type(X))\n",
    "print(X)"
   ]
  },
  {
   "cell_type": "code",
   "execution_count": 98,
   "id": "0fcb01ec",
   "metadata": {},
   "outputs": [
    {
     "data": {
      "text/plain": [
       "(6,)"
      ]
     },
     "execution_count": 98,
     "metadata": {},
     "output_type": "execute_result"
    }
   ],
   "source": [
    "#How many rows and columns \n",
    "X.shape  "
   ]
  },
  {
   "cell_type": "code",
   "execution_count": 99,
   "id": "6195e667",
   "metadata": {},
   "outputs": [
    {
     "data": {
      "text/plain": [
       "0    10\n",
       "1    35\n",
       "2    78\n",
       "3    90\n",
       "4    76\n",
       "dtype: int32"
      ]
     },
     "execution_count": 99,
     "metadata": {},
     "output_type": "execute_result"
    }
   ],
   "source": [
    "#To show first 5 records without using slicing \n",
    "#here use head() inbuilt method of pandas library\n",
    "X.head() #bydefault head() show first 5 records\n",
    "#but numpy() not applied for numpy array \n",
    "#in numpy array : X[0:5]"
   ]
  },
  {
   "cell_type": "code",
   "execution_count": 100,
   "id": "916c4cd5",
   "metadata": {},
   "outputs": [
    {
     "data": {
      "text/plain": [
       "0    10\n",
       "1    35\n",
       "2    78\n",
       "dtype: int32"
      ]
     },
     "execution_count": 100,
     "metadata": {},
     "output_type": "execute_result"
    }
   ],
   "source": [
    "#to show first 3 records from Series \n",
    "X.head(3)"
   ]
  },
  {
   "cell_type": "code",
   "execution_count": 101,
   "id": "8f5893cd",
   "metadata": {},
   "outputs": [
    {
     "data": {
      "text/plain": [
       "0    10\n",
       "1    35\n",
       "2    78\n",
       "3    90\n",
       "4    76\n",
       "dtype: int32"
      ]
     },
     "execution_count": 101,
     "metadata": {},
     "output_type": "execute_result"
    }
   ],
   "source": [
    "# to show first 5 record  without using head() in pandas\n",
    "X[:5]"
   ]
  },
  {
   "cell_type": "code",
   "execution_count": 102,
   "id": "2f516329",
   "metadata": {},
   "outputs": [
    {
     "data": {
      "text/plain": [
       "1    35\n",
       "2    78\n",
       "3    90\n",
       "4    76\n",
       "5    54\n",
       "dtype: int32"
      ]
     },
     "execution_count": 102,
     "metadata": {},
     "output_type": "execute_result"
    }
   ],
   "source": [
    "#to show last 5 records without using tail() in pandas\n",
    "X[-5:]  "
   ]
  },
  {
   "cell_type": "code",
   "execution_count": 103,
   "id": "952b141d",
   "metadata": {},
   "outputs": [
    {
     "data": {
      "text/plain": [
       "1    35\n",
       "2    78\n",
       "3    90\n",
       "4    76\n",
       "5    54\n",
       "dtype: int32"
      ]
     },
     "execution_count": 103,
     "metadata": {},
     "output_type": "execute_result"
    }
   ],
   "source": [
    "#or \n",
    "X.tail()"
   ]
  },
  {
   "cell_type": "code",
   "execution_count": 104,
   "id": "73839fa7",
   "metadata": {},
   "outputs": [
    {
     "data": {
      "text/plain": [
       "3    90\n",
       "dtype: int32"
      ]
     },
     "execution_count": 104,
     "metadata": {},
     "output_type": "execute_result"
    }
   ],
   "source": [
    "#sample() : to show any records randomly .by default\n",
    "#any 1 record  randomly\n",
    "X.sample()"
   ]
  },
  {
   "cell_type": "code",
   "execution_count": 105,
   "id": "7815a5af",
   "metadata": {},
   "outputs": [
    {
     "data": {
      "text/plain": [
       "5    54\n",
       "4    76\n",
       "2    78\n",
       "dtype: int32"
      ]
     },
     "execution_count": 105,
     "metadata": {},
     "output_type": "execute_result"
    }
   ],
   "source": [
    "X.sample(3) #any 3 records randomly"
   ]
  },
  {
   "cell_type": "code",
   "execution_count": 106,
   "id": "5c29eb52",
   "metadata": {},
   "outputs": [
    {
     "name": "stdout",
     "output_type": "stream",
     "text": [
      "{'rollno': [110, 120, 130, 140, 150, 160], 'name': ['Rekha', 'Seema', 'Deepa', 'Mohan', nan, 'Rakesh'], 'Age': [21, 23, 24, 25, 22, 27]}\n",
      "<class 'dict'>\n"
     ]
    }
   ],
   "source": [
    "#DataFrame : 2nd data structure of pandas library \n",
    "#DataFrame means number of rows and in each row , many\n",
    "#columns \n",
    "#create a dataframe from dictionary \n",
    "dict={'rollno':[110,120,130,140,150,160],\n",
    "     'name':['Rekha','Seema','Deepa','Mohan',\n",
    "            np.nan,'Rakesh'],'Age':[21,23,24,25,22,27]}\n",
    "print(dict)\n",
    "print(type(dict))"
   ]
  },
  {
   "cell_type": "code",
   "execution_count": 107,
   "id": "4f54438f",
   "metadata": {},
   "outputs": [
    {
     "name": "stdout",
     "output_type": "stream",
     "text": [
      "<class 'pandas.core.frame.DataFrame'>\n"
     ]
    }
   ],
   "source": [
    "#convert dictionary dict into DataFrame\n",
    "student=pd.DataFrame(dict)\n",
    "print(type(student))"
   ]
  },
  {
   "cell_type": "code",
   "execution_count": 108,
   "id": "3a4f3925",
   "metadata": {},
   "outputs": [
    {
     "data": {
      "text/html": [
       "<div>\n",
       "<style scoped>\n",
       "    .dataframe tbody tr th:only-of-type {\n",
       "        vertical-align: middle;\n",
       "    }\n",
       "\n",
       "    .dataframe tbody tr th {\n",
       "        vertical-align: top;\n",
       "    }\n",
       "\n",
       "    .dataframe thead th {\n",
       "        text-align: right;\n",
       "    }\n",
       "</style>\n",
       "<table border=\"1\" class=\"dataframe\">\n",
       "  <thead>\n",
       "    <tr style=\"text-align: right;\">\n",
       "      <th></th>\n",
       "      <th>rollno</th>\n",
       "      <th>name</th>\n",
       "      <th>Age</th>\n",
       "    </tr>\n",
       "  </thead>\n",
       "  <tbody>\n",
       "    <tr>\n",
       "      <th>0</th>\n",
       "      <td>110</td>\n",
       "      <td>Rekha</td>\n",
       "      <td>21</td>\n",
       "    </tr>\n",
       "    <tr>\n",
       "      <th>1</th>\n",
       "      <td>120</td>\n",
       "      <td>Seema</td>\n",
       "      <td>23</td>\n",
       "    </tr>\n",
       "    <tr>\n",
       "      <th>2</th>\n",
       "      <td>130</td>\n",
       "      <td>Deepa</td>\n",
       "      <td>24</td>\n",
       "    </tr>\n",
       "    <tr>\n",
       "      <th>3</th>\n",
       "      <td>140</td>\n",
       "      <td>Mohan</td>\n",
       "      <td>25</td>\n",
       "    </tr>\n",
       "    <tr>\n",
       "      <th>4</th>\n",
       "      <td>150</td>\n",
       "      <td>NaN</td>\n",
       "      <td>22</td>\n",
       "    </tr>\n",
       "    <tr>\n",
       "      <th>5</th>\n",
       "      <td>160</td>\n",
       "      <td>Rakesh</td>\n",
       "      <td>27</td>\n",
       "    </tr>\n",
       "  </tbody>\n",
       "</table>\n",
       "</div>"
      ],
      "text/plain": [
       "   rollno    name  Age\n",
       "0     110   Rekha   21\n",
       "1     120   Seema   23\n",
       "2     130   Deepa   24\n",
       "3     140   Mohan   25\n",
       "4     150     NaN   22\n",
       "5     160  Rakesh   27"
      ]
     },
     "execution_count": 108,
     "metadata": {},
     "output_type": "execute_result"
    }
   ],
   "source": [
    "student"
   ]
  },
  {
   "cell_type": "code",
   "execution_count": 109,
   "id": "0bfe6845",
   "metadata": {},
   "outputs": [
    {
     "data": {
      "text/plain": [
       "rollno      130\n",
       "name      Deepa\n",
       "Age          24\n",
       "Name: 2, dtype: object"
      ]
     },
     "execution_count": 109,
     "metadata": {},
     "output_type": "execute_result"
    }
   ],
   "source": [
    "#Access all details(all columns) of 3rd record means 2nd row index\n",
    "#student[2]#raise error\n",
    "student.iloc[2] #iloc means index location"
   ]
  },
  {
   "cell_type": "code",
   "execution_count": 110,
   "id": "9ebb0a81",
   "metadata": {},
   "outputs": [
    {
     "data": {
      "text/plain": [
       "0    21\n",
       "1    23\n",
       "2    24\n",
       "3    25\n",
       "4    22\n",
       "5    27\n",
       "Name: Age, dtype: int64"
      ]
     },
     "execution_count": 110,
     "metadata": {},
     "output_type": "execute_result"
    }
   ],
   "source": [
    "#access Age of alll students \n",
    "student[\"Age\"]"
   ]
  },
  {
   "cell_type": "code",
   "execution_count": 111,
   "id": "34f48ca3",
   "metadata": {},
   "outputs": [
    {
     "data": {
      "text/html": [
       "<div>\n",
       "<style scoped>\n",
       "    .dataframe tbody tr th:only-of-type {\n",
       "        vertical-align: middle;\n",
       "    }\n",
       "\n",
       "    .dataframe tbody tr th {\n",
       "        vertical-align: top;\n",
       "    }\n",
       "\n",
       "    .dataframe thead th {\n",
       "        text-align: right;\n",
       "    }\n",
       "</style>\n",
       "<table border=\"1\" class=\"dataframe\">\n",
       "  <thead>\n",
       "    <tr style=\"text-align: right;\">\n",
       "      <th></th>\n",
       "      <th>name</th>\n",
       "      <th>Age</th>\n",
       "    </tr>\n",
       "  </thead>\n",
       "  <tbody>\n",
       "    <tr>\n",
       "      <th>0</th>\n",
       "      <td>Rekha</td>\n",
       "      <td>21</td>\n",
       "    </tr>\n",
       "    <tr>\n",
       "      <th>1</th>\n",
       "      <td>Seema</td>\n",
       "      <td>23</td>\n",
       "    </tr>\n",
       "    <tr>\n",
       "      <th>2</th>\n",
       "      <td>Deepa</td>\n",
       "      <td>24</td>\n",
       "    </tr>\n",
       "    <tr>\n",
       "      <th>3</th>\n",
       "      <td>Mohan</td>\n",
       "      <td>25</td>\n",
       "    </tr>\n",
       "    <tr>\n",
       "      <th>4</th>\n",
       "      <td>NaN</td>\n",
       "      <td>22</td>\n",
       "    </tr>\n",
       "    <tr>\n",
       "      <th>5</th>\n",
       "      <td>Rakesh</td>\n",
       "      <td>27</td>\n",
       "    </tr>\n",
       "  </tbody>\n",
       "</table>\n",
       "</div>"
      ],
      "text/plain": [
       "     name  Age\n",
       "0   Rekha   21\n",
       "1   Seema   23\n",
       "2   Deepa   24\n",
       "3   Mohan   25\n",
       "4     NaN   22\n",
       "5  Rakesh   27"
      ]
     },
     "execution_count": 111,
     "metadata": {},
     "output_type": "execute_result"
    }
   ],
   "source": [
    "#access name and Age of all student (means all rows)\n",
    "student[[\"name\",\"Age\"]]"
   ]
  },
  {
   "cell_type": "code",
   "execution_count": 112,
   "id": "607beec3",
   "metadata": {},
   "outputs": [
    {
     "data": {
      "text/html": [
       "<div>\n",
       "<style scoped>\n",
       "    .dataframe tbody tr th:only-of-type {\n",
       "        vertical-align: middle;\n",
       "    }\n",
       "\n",
       "    .dataframe tbody tr th {\n",
       "        vertical-align: top;\n",
       "    }\n",
       "\n",
       "    .dataframe thead th {\n",
       "        text-align: right;\n",
       "    }\n",
       "</style>\n",
       "<table border=\"1\" class=\"dataframe\">\n",
       "  <thead>\n",
       "    <tr style=\"text-align: right;\">\n",
       "      <th></th>\n",
       "      <th>rollno</th>\n",
       "      <th>name</th>\n",
       "      <th>Age</th>\n",
       "    </tr>\n",
       "  </thead>\n",
       "  <tbody>\n",
       "    <tr>\n",
       "      <th>0</th>\n",
       "      <td>110</td>\n",
       "      <td>Rekha</td>\n",
       "      <td>21</td>\n",
       "    </tr>\n",
       "    <tr>\n",
       "      <th>1</th>\n",
       "      <td>120</td>\n",
       "      <td>Seema</td>\n",
       "      <td>23</td>\n",
       "    </tr>\n",
       "    <tr>\n",
       "      <th>2</th>\n",
       "      <td>130</td>\n",
       "      <td>Deepa</td>\n",
       "      <td>24</td>\n",
       "    </tr>\n",
       "    <tr>\n",
       "      <th>3</th>\n",
       "      <td>140</td>\n",
       "      <td>Mohan</td>\n",
       "      <td>25</td>\n",
       "    </tr>\n",
       "    <tr>\n",
       "      <th>4</th>\n",
       "      <td>150</td>\n",
       "      <td>NaN</td>\n",
       "      <td>22</td>\n",
       "    </tr>\n",
       "    <tr>\n",
       "      <th>5</th>\n",
       "      <td>160</td>\n",
       "      <td>Rakesh</td>\n",
       "      <td>27</td>\n",
       "    </tr>\n",
       "  </tbody>\n",
       "</table>\n",
       "</div>"
      ],
      "text/plain": [
       "   rollno    name  Age\n",
       "0     110   Rekha   21\n",
       "1     120   Seema   23\n",
       "2     130   Deepa   24\n",
       "3     140   Mohan   25\n",
       "4     150     NaN   22\n",
       "5     160  Rakesh   27"
      ]
     },
     "execution_count": 112,
     "metadata": {},
     "output_type": "execute_result"
    }
   ],
   "source": [
    "student"
   ]
  },
  {
   "cell_type": "code",
   "execution_count": 113,
   "id": "e235d47e",
   "metadata": {},
   "outputs": [
    {
     "data": {
      "text/plain": [
       "'Deepa'"
      ]
     },
     "execution_count": 113,
     "metadata": {},
     "output_type": "execute_result"
    }
   ],
   "source": [
    "#Access name of 3rd student means name of 2nd rowindex\n",
    "student.loc[2,'name']  #syntax : dataframe name.loc[rowindex,\"column name\"]"
   ]
  },
  {
   "cell_type": "code",
   "execution_count": 114,
   "id": "c56dad36",
   "metadata": {},
   "outputs": [
    {
     "data": {
      "text/plain": [
       "'Deepa'"
      ]
     },
     "execution_count": 114,
     "metadata": {},
     "output_type": "execute_result"
    }
   ],
   "source": [
    "#or\n",
    "student.iloc[2,1] #dataframename.iloc[rowindex,colindex]"
   ]
  },
  {
   "cell_type": "code",
   "execution_count": 115,
   "id": "149118d3",
   "metadata": {},
   "outputs": [
    {
     "data": {
      "text/plain": [
       "'Deepa'"
      ]
     },
     "execution_count": 115,
     "metadata": {},
     "output_type": "execute_result"
    }
   ],
   "source": [
    "#without using iloc or loc \n",
    "student[\"name\"][2] #dataframename[\"colname\"][rowindex]"
   ]
  },
  {
   "cell_type": "code",
   "execution_count": 116,
   "id": "55b7773a",
   "metadata": {},
   "outputs": [
    {
     "data": {
      "text/plain": [
       "Index(['rollno', 'name', 'Age'], dtype='object')"
      ]
     },
     "execution_count": 116,
     "metadata": {},
     "output_type": "execute_result"
    }
   ],
   "source": [
    "#to show all column name of given dataframe, \n",
    "#use inbuilt attributes columns\n",
    "student.columns   #dataframename.columns"
   ]
  },
  {
   "cell_type": "code",
   "execution_count": 117,
   "id": "38e75fce",
   "metadata": {},
   "outputs": [
    {
     "data": {
      "text/html": [
       "<div>\n",
       "<style scoped>\n",
       "    .dataframe tbody tr th:only-of-type {\n",
       "        vertical-align: middle;\n",
       "    }\n",
       "\n",
       "    .dataframe tbody tr th {\n",
       "        vertical-align: top;\n",
       "    }\n",
       "\n",
       "    .dataframe thead th {\n",
       "        text-align: right;\n",
       "    }\n",
       "</style>\n",
       "<table border=\"1\" class=\"dataframe\">\n",
       "  <thead>\n",
       "    <tr style=\"text-align: right;\">\n",
       "      <th></th>\n",
       "      <th>rollno</th>\n",
       "      <th>name</th>\n",
       "      <th>Age</th>\n",
       "    </tr>\n",
       "  </thead>\n",
       "  <tbody>\n",
       "    <tr>\n",
       "      <th>0</th>\n",
       "      <td>110</td>\n",
       "      <td>Rekha</td>\n",
       "      <td>21</td>\n",
       "    </tr>\n",
       "    <tr>\n",
       "      <th>1</th>\n",
       "      <td>120</td>\n",
       "      <td>Seema</td>\n",
       "      <td>23</td>\n",
       "    </tr>\n",
       "    <tr>\n",
       "      <th>2</th>\n",
       "      <td>130</td>\n",
       "      <td>Deepa</td>\n",
       "      <td>24</td>\n",
       "    </tr>\n",
       "    <tr>\n",
       "      <th>3</th>\n",
       "      <td>140</td>\n",
       "      <td>Mohan</td>\n",
       "      <td>25</td>\n",
       "    </tr>\n",
       "    <tr>\n",
       "      <th>4</th>\n",
       "      <td>150</td>\n",
       "      <td>NaN</td>\n",
       "      <td>22</td>\n",
       "    </tr>\n",
       "    <tr>\n",
       "      <th>5</th>\n",
       "      <td>160</td>\n",
       "      <td>Rakesh</td>\n",
       "      <td>27</td>\n",
       "    </tr>\n",
       "  </tbody>\n",
       "</table>\n",
       "</div>"
      ],
      "text/plain": [
       "   rollno    name  Age\n",
       "0     110   Rekha   21\n",
       "1     120   Seema   23\n",
       "2     130   Deepa   24\n",
       "3     140   Mohan   25\n",
       "4     150     NaN   22\n",
       "5     160  Rakesh   27"
      ]
     },
     "execution_count": 117,
     "metadata": {},
     "output_type": "execute_result"
    }
   ],
   "source": [
    "student"
   ]
  },
  {
   "cell_type": "code",
   "execution_count": 118,
   "id": "176c6aad",
   "metadata": {},
   "outputs": [
    {
     "data": {
      "text/html": [
       "<div>\n",
       "<style scoped>\n",
       "    .dataframe tbody tr th:only-of-type {\n",
       "        vertical-align: middle;\n",
       "    }\n",
       "\n",
       "    .dataframe tbody tr th {\n",
       "        vertical-align: top;\n",
       "    }\n",
       "\n",
       "    .dataframe thead th {\n",
       "        text-align: right;\n",
       "    }\n",
       "</style>\n",
       "<table border=\"1\" class=\"dataframe\">\n",
       "  <thead>\n",
       "    <tr style=\"text-align: right;\">\n",
       "      <th></th>\n",
       "      <th>rollno</th>\n",
       "      <th>name</th>\n",
       "      <th>Age</th>\n",
       "    </tr>\n",
       "  </thead>\n",
       "  <tbody>\n",
       "    <tr>\n",
       "      <th>1</th>\n",
       "      <td>120</td>\n",
       "      <td>Seema</td>\n",
       "      <td>23</td>\n",
       "    </tr>\n",
       "    <tr>\n",
       "      <th>2</th>\n",
       "      <td>130</td>\n",
       "      <td>Deepa</td>\n",
       "      <td>24</td>\n",
       "    </tr>\n",
       "    <tr>\n",
       "      <th>3</th>\n",
       "      <td>140</td>\n",
       "      <td>Mohan</td>\n",
       "      <td>25</td>\n",
       "    </tr>\n",
       "  </tbody>\n",
       "</table>\n",
       "</div>"
      ],
      "text/plain": [
       "   rollno   name  Age\n",
       "1     120  Seema   23\n",
       "2     130  Deepa   24\n",
       "3     140  Mohan   25"
      ]
     },
     "execution_count": 118,
     "metadata": {},
     "output_type": "execute_result"
    }
   ],
   "source": [
    "#access all details of 1st row index,2nd rowindex and\n",
    "#3rd row index \n",
    "student.iloc[1:4]"
   ]
  },
  {
   "cell_type": "code",
   "execution_count": 119,
   "id": "ec5e9871",
   "metadata": {},
   "outputs": [
    {
     "data": {
      "text/plain": [
       "0    21\n",
       "1    23\n",
       "2    24\n",
       "3    25\n",
       "4    22\n",
       "5    27\n",
       "Name: Age, dtype: int64"
      ]
     },
     "execution_count": 119,
     "metadata": {},
     "output_type": "execute_result"
    }
   ],
   "source": [
    "#to showw last columns of all students\n",
    "student.iloc[:,-1]"
   ]
  },
  {
   "cell_type": "code",
   "execution_count": 120,
   "id": "de6516e3",
   "metadata": {},
   "outputs": [
    {
     "data": {
      "text/plain": [
       "rollno     int64\n",
       "name      object\n",
       "Age        int64\n",
       "dtype: object"
      ]
     },
     "execution_count": 120,
     "metadata": {},
     "output_type": "execute_result"
    }
   ],
   "source": [
    "#To check datatype of all columns in given dataframe \n",
    "#student, use inbuilt attributes dtypes\n",
    "student.dtypes"
   ]
  },
  {
   "cell_type": "code",
   "execution_count": 121,
   "id": "045b4e3c",
   "metadata": {},
   "outputs": [
    {
     "data": {
      "text/html": [
       "<div>\n",
       "<style scoped>\n",
       "    .dataframe tbody tr th:only-of-type {\n",
       "        vertical-align: middle;\n",
       "    }\n",
       "\n",
       "    .dataframe tbody tr th {\n",
       "        vertical-align: top;\n",
       "    }\n",
       "\n",
       "    .dataframe thead th {\n",
       "        text-align: right;\n",
       "    }\n",
       "</style>\n",
       "<table border=\"1\" class=\"dataframe\">\n",
       "  <thead>\n",
       "    <tr style=\"text-align: right;\">\n",
       "      <th></th>\n",
       "      <th>rollno</th>\n",
       "      <th>name</th>\n",
       "      <th>Age</th>\n",
       "    </tr>\n",
       "  </thead>\n",
       "  <tbody>\n",
       "    <tr>\n",
       "      <th>0</th>\n",
       "      <td>False</td>\n",
       "      <td>False</td>\n",
       "      <td>False</td>\n",
       "    </tr>\n",
       "    <tr>\n",
       "      <th>1</th>\n",
       "      <td>False</td>\n",
       "      <td>False</td>\n",
       "      <td>False</td>\n",
       "    </tr>\n",
       "    <tr>\n",
       "      <th>2</th>\n",
       "      <td>False</td>\n",
       "      <td>False</td>\n",
       "      <td>False</td>\n",
       "    </tr>\n",
       "    <tr>\n",
       "      <th>3</th>\n",
       "      <td>False</td>\n",
       "      <td>False</td>\n",
       "      <td>False</td>\n",
       "    </tr>\n",
       "    <tr>\n",
       "      <th>4</th>\n",
       "      <td>False</td>\n",
       "      <td>True</td>\n",
       "      <td>False</td>\n",
       "    </tr>\n",
       "    <tr>\n",
       "      <th>5</th>\n",
       "      <td>False</td>\n",
       "      <td>False</td>\n",
       "      <td>False</td>\n",
       "    </tr>\n",
       "  </tbody>\n",
       "</table>\n",
       "</div>"
      ],
      "text/plain": [
       "   rollno   name    Age\n",
       "0   False  False  False\n",
       "1   False  False  False\n",
       "2   False  False  False\n",
       "3   False  False  False\n",
       "4   False   True  False\n",
       "5   False  False  False"
      ]
     },
     "execution_count": 121,
     "metadata": {},
     "output_type": "execute_result"
    }
   ],
   "source": [
    "#check null values in given dataframe ,use inbuilt \n",
    "#method isnull() : its return answer in bool type means\n",
    "#True /False\n",
    "student.isnull()"
   ]
  },
  {
   "cell_type": "code",
   "execution_count": 122,
   "id": "7877e320",
   "metadata": {},
   "outputs": [
    {
     "data": {
      "text/plain": [
       "rollno    0\n",
       "name      1\n",
       "Age       0\n",
       "dtype: int64"
      ]
     },
     "execution_count": 122,
     "metadata": {},
     "output_type": "execute_result"
    }
   ],
   "source": [
    "#count null values in each column\n",
    "student.isnull().sum()"
   ]
  },
  {
   "cell_type": "code",
   "execution_count": 123,
   "id": "ef423b8c",
   "metadata": {},
   "outputs": [],
   "source": [
    "#extract data from different sources \n",
    "#1. Webscraping : - bs4\n",
    "#2. from clipboard \n",
    "#clipboard means temporary memory : -"
   ]
  },
  {
   "cell_type": "code",
   "execution_count": 124,
   "id": "8e52b915",
   "metadata": {},
   "outputs": [],
   "source": [
    "#Data Extract from clipboard , use inbuilt method read_clipboard() of\n",
    "#pandas  and hold in dataframe\n",
    "#match=pd.read_clipboard()\n",
    "#To read data from csv file \n",
    "#ipl_match.csv file name\n"
   ]
  },
  {
   "cell_type": "code",
   "execution_count": 125,
   "id": "5b11b444",
   "metadata": {},
   "outputs": [],
   "source": [
    "#match\n",
    "#To save the data from match dataframe into csv file permanently\n",
    "#use inbuilt method to_csv()\n",
    "#match.to_csv(\"ipl_match.csv\",index=False) \n",
    "#csv means comma seperated value  "
   ]
  },
  {
   "cell_type": "code",
   "execution_count": 126,
   "id": "59e37d3e",
   "metadata": {},
   "outputs": [
    {
     "data": {
      "text/plain": [
       "'C:\\\\Users\\\\Lenovo'"
      ]
     },
     "execution_count": 126,
     "metadata": {},
     "output_type": "execute_result"
    }
   ],
   "source": [
    "import os\n",
    "os.getcwd()"
   ]
  },
  {
   "cell_type": "code",
   "execution_count": 127,
   "id": "9c99c0ef",
   "metadata": {},
   "outputs": [
    {
     "data": {
      "text/html": [
       "<div>\n",
       "<style scoped>\n",
       "    .dataframe tbody tr th:only-of-type {\n",
       "        vertical-align: middle;\n",
       "    }\n",
       "\n",
       "    .dataframe tbody tr th {\n",
       "        vertical-align: top;\n",
       "    }\n",
       "\n",
       "    .dataframe thead th {\n",
       "        text-align: right;\n",
       "    }\n",
       "</style>\n",
       "<table border=\"1\" class=\"dataframe\">\n",
       "  <thead>\n",
       "    <tr style=\"text-align: right;\">\n",
       "      <th></th>\n",
       "      <th>Year</th>\n",
       "      <th>Winner</th>\n",
       "      <th>Captain</th>\n",
       "      <th>Man of the Match</th>\n",
       "      <th>Player of the Series</th>\n",
       "    </tr>\n",
       "  </thead>\n",
       "  <tbody>\n",
       "    <tr>\n",
       "      <th>0</th>\n",
       "      <td>2008</td>\n",
       "      <td>Rajasthan Royals</td>\n",
       "      <td>Shane Warne</td>\n",
       "      <td>Yusuf Pathan</td>\n",
       "      <td>Shane Watson</td>\n",
       "    </tr>\n",
       "    <tr>\n",
       "      <th>1</th>\n",
       "      <td>2009</td>\n",
       "      <td>Deccan Chargers</td>\n",
       "      <td>Adam Gilchrist</td>\n",
       "      <td>Anil Kumble</td>\n",
       "      <td>Adam Gilchrist</td>\n",
       "    </tr>\n",
       "    <tr>\n",
       "      <th>2</th>\n",
       "      <td>2010</td>\n",
       "      <td>Chennai Super Kings</td>\n",
       "      <td>MS Dhoni</td>\n",
       "      <td>Suresh Raina</td>\n",
       "      <td>Sachin Tendulkar</td>\n",
       "    </tr>\n",
       "    <tr>\n",
       "      <th>3</th>\n",
       "      <td>2011</td>\n",
       "      <td>Chennai Super Kings</td>\n",
       "      <td>MS Dhoni</td>\n",
       "      <td>Murali Vijay</td>\n",
       "      <td>Chris Gayle</td>\n",
       "    </tr>\n",
       "    <tr>\n",
       "      <th>4</th>\n",
       "      <td>2012</td>\n",
       "      <td>Kolkata Knight Riders</td>\n",
       "      <td>Gautam Gambhir</td>\n",
       "      <td>Manvinder Bisla</td>\n",
       "      <td>Sunil Narine</td>\n",
       "    </tr>\n",
       "    <tr>\n",
       "      <th>5</th>\n",
       "      <td>2013</td>\n",
       "      <td>Mumbai Indians</td>\n",
       "      <td>Rohit Sharma</td>\n",
       "      <td>Kieron Pollard</td>\n",
       "      <td>Shane Watson</td>\n",
       "    </tr>\n",
       "    <tr>\n",
       "      <th>6</th>\n",
       "      <td>2014</td>\n",
       "      <td>Kolkata Knight Riders</td>\n",
       "      <td>Gautam Gambhir</td>\n",
       "      <td>Manish Pandey</td>\n",
       "      <td>Glenn Maxwell</td>\n",
       "    </tr>\n",
       "    <tr>\n",
       "      <th>7</th>\n",
       "      <td>2015</td>\n",
       "      <td>Mumbai Indians</td>\n",
       "      <td>Rohit Sharma</td>\n",
       "      <td>Rohit Sharma</td>\n",
       "      <td>Andre Russell</td>\n",
       "    </tr>\n",
       "    <tr>\n",
       "      <th>8</th>\n",
       "      <td>2016</td>\n",
       "      <td>Sunrisers Hyderabad</td>\n",
       "      <td>David Warner</td>\n",
       "      <td>Ben Cutting</td>\n",
       "      <td>Virat Kohli</td>\n",
       "    </tr>\n",
       "    <tr>\n",
       "      <th>9</th>\n",
       "      <td>2017</td>\n",
       "      <td>Mumbai Indians</td>\n",
       "      <td>Rohit Sharma</td>\n",
       "      <td>Krunal Pandya</td>\n",
       "      <td>Ben Stokes</td>\n",
       "    </tr>\n",
       "    <tr>\n",
       "      <th>10</th>\n",
       "      <td>2018</td>\n",
       "      <td>Chennai Super Kings</td>\n",
       "      <td>MS Dhoni</td>\n",
       "      <td>Shane Watson</td>\n",
       "      <td>Sunil Narine</td>\n",
       "    </tr>\n",
       "    <tr>\n",
       "      <th>11</th>\n",
       "      <td>2019</td>\n",
       "      <td>Mumbai Indians</td>\n",
       "      <td>Rohit Sharma</td>\n",
       "      <td>Jasprit Bumrah</td>\n",
       "      <td>Andre Russell</td>\n",
       "    </tr>\n",
       "    <tr>\n",
       "      <th>12</th>\n",
       "      <td>2020</td>\n",
       "      <td>Mumbai Indians</td>\n",
       "      <td>Rohit Sharma</td>\n",
       "      <td>Trent Boult</td>\n",
       "      <td>Jofra Archer</td>\n",
       "    </tr>\n",
       "    <tr>\n",
       "      <th>13</th>\n",
       "      <td>2021</td>\n",
       "      <td>Chennai Super Kings</td>\n",
       "      <td>MS Dhoni</td>\n",
       "      <td>Faf du Plessis</td>\n",
       "      <td>Harshal Patel</td>\n",
       "    </tr>\n",
       "    <tr>\n",
       "      <th>14</th>\n",
       "      <td>2022</td>\n",
       "      <td>Gujarat Titans</td>\n",
       "      <td>Hardik Pandya</td>\n",
       "      <td>Hardik Pandya</td>\n",
       "      <td>Jos Butler</td>\n",
       "    </tr>\n",
       "    <tr>\n",
       "      <th>15</th>\n",
       "      <td>2023</td>\n",
       "      <td>Chennai Super Kings</td>\n",
       "      <td>MS Dhoni</td>\n",
       "      <td>Devon Conway</td>\n",
       "      <td>Shubman Gill</td>\n",
       "    </tr>\n",
       "    <tr>\n",
       "      <th>16</th>\n",
       "      <td>2024</td>\n",
       "      <td>Not Decided</td>\n",
       "      <td>Not Decided</td>\n",
       "      <td>Not Decided</td>\n",
       "      <td>Not Decided</td>\n",
       "    </tr>\n",
       "  </tbody>\n",
       "</table>\n",
       "</div>"
      ],
      "text/plain": [
       "    Year                 Winner         Captain Man of the Match  \\\n",
       "0   2008       Rajasthan Royals     Shane Warne     Yusuf Pathan   \n",
       "1   2009        Deccan Chargers  Adam Gilchrist      Anil Kumble   \n",
       "2   2010    Chennai Super Kings        MS Dhoni     Suresh Raina   \n",
       "3   2011    Chennai Super Kings        MS Dhoni     Murali Vijay   \n",
       "4   2012  Kolkata Knight Riders  Gautam Gambhir  Manvinder Bisla   \n",
       "5   2013         Mumbai Indians    Rohit Sharma   Kieron Pollard   \n",
       "6   2014  Kolkata Knight Riders  Gautam Gambhir    Manish Pandey   \n",
       "7   2015         Mumbai Indians    Rohit Sharma     Rohit Sharma   \n",
       "8   2016    Sunrisers Hyderabad    David Warner      Ben Cutting   \n",
       "9   2017         Mumbai Indians    Rohit Sharma    Krunal Pandya   \n",
       "10  2018    Chennai Super Kings        MS Dhoni     Shane Watson   \n",
       "11  2019         Mumbai Indians    Rohit Sharma   Jasprit Bumrah   \n",
       "12  2020         Mumbai Indians    Rohit Sharma      Trent Boult   \n",
       "13  2021    Chennai Super Kings        MS Dhoni   Faf du Plessis   \n",
       "14  2022         Gujarat Titans   Hardik Pandya    Hardik Pandya   \n",
       "15  2023    Chennai Super Kings        MS Dhoni     Devon Conway   \n",
       "16  2024            Not Decided     Not Decided      Not Decided   \n",
       "\n",
       "   Player of the Series  \n",
       "0          Shane Watson  \n",
       "1        Adam Gilchrist  \n",
       "2      Sachin Tendulkar  \n",
       "3           Chris Gayle  \n",
       "4          Sunil Narine  \n",
       "5          Shane Watson  \n",
       "6         Glenn Maxwell  \n",
       "7         Andre Russell  \n",
       "8           Virat Kohli  \n",
       "9            Ben Stokes  \n",
       "10         Sunil Narine  \n",
       "11        Andre Russell  \n",
       "12         Jofra Archer  \n",
       "13        Harshal Patel  \n",
       "14           Jos Butler  \n",
       "15         Shubman Gill  \n",
       "16          Not Decided  "
      ]
     },
     "execution_count": 127,
     "metadata": {},
     "output_type": "execute_result"
    }
   ],
   "source": [
    "#To read data from csv file , use inbuilt method read_csv('filename.csv')\n",
    "match=pd.read_csv('ipl_match.csv')\n",
    "match "
   ]
  },
  {
   "cell_type": "code",
   "execution_count": 128,
   "id": "dc047533",
   "metadata": {},
   "outputs": [
    {
     "data": {
      "text/plain": [
       "pandas.core.frame.DataFrame"
      ]
     },
     "execution_count": 128,
     "metadata": {},
     "output_type": "execute_result"
    }
   ],
   "source": [
    "#to check type of match\n",
    "type(match)"
   ]
  },
  {
   "cell_type": "code",
   "execution_count": 129,
   "id": "e7393753",
   "metadata": {},
   "outputs": [
    {
     "data": {
      "text/plain": [
       "Year                     int64\n",
       "Winner                  object\n",
       "Captain                 object\n",
       "Man of the Match        object\n",
       "Player of the Series    object\n",
       "dtype: object"
      ]
     },
     "execution_count": 129,
     "metadata": {},
     "output_type": "execute_result"
    }
   ],
   "source": [
    "#to check datatype of each column of match dataframe\n",
    "match.dtypes"
   ]
  },
  {
   "cell_type": "code",
   "execution_count": 130,
   "id": "7a3a99d7",
   "metadata": {},
   "outputs": [
    {
     "data": {
      "text/plain": [
       "(17, 5)"
      ]
     },
     "execution_count": 130,
     "metadata": {},
     "output_type": "execute_result"
    }
   ],
   "source": [
    "#how many rows and columns in given dataframe match\n",
    "match.shape"
   ]
  },
  {
   "cell_type": "code",
   "execution_count": 131,
   "id": "680a3c92",
   "metadata": {},
   "outputs": [
    {
     "data": {
      "text/html": [
       "<div>\n",
       "<style scoped>\n",
       "    .dataframe tbody tr th:only-of-type {\n",
       "        vertical-align: middle;\n",
       "    }\n",
       "\n",
       "    .dataframe tbody tr th {\n",
       "        vertical-align: top;\n",
       "    }\n",
       "\n",
       "    .dataframe thead th {\n",
       "        text-align: right;\n",
       "    }\n",
       "</style>\n",
       "<table border=\"1\" class=\"dataframe\">\n",
       "  <thead>\n",
       "    <tr style=\"text-align: right;\">\n",
       "      <th></th>\n",
       "      <th>Year</th>\n",
       "      <th>Winner</th>\n",
       "      <th>Captain</th>\n",
       "      <th>Man of the Match</th>\n",
       "      <th>Player of the Series</th>\n",
       "    </tr>\n",
       "  </thead>\n",
       "  <tbody>\n",
       "    <tr>\n",
       "      <th>0</th>\n",
       "      <td>2008</td>\n",
       "      <td>Rajasthan Royals</td>\n",
       "      <td>Shane Warne</td>\n",
       "      <td>Yusuf Pathan</td>\n",
       "      <td>Shane Watson</td>\n",
       "    </tr>\n",
       "    <tr>\n",
       "      <th>1</th>\n",
       "      <td>2009</td>\n",
       "      <td>Deccan Chargers</td>\n",
       "      <td>Adam Gilchrist</td>\n",
       "      <td>Anil Kumble</td>\n",
       "      <td>Adam Gilchrist</td>\n",
       "    </tr>\n",
       "    <tr>\n",
       "      <th>2</th>\n",
       "      <td>2010</td>\n",
       "      <td>Chennai Super Kings</td>\n",
       "      <td>MS Dhoni</td>\n",
       "      <td>Suresh Raina</td>\n",
       "      <td>Sachin Tendulkar</td>\n",
       "    </tr>\n",
       "    <tr>\n",
       "      <th>3</th>\n",
       "      <td>2011</td>\n",
       "      <td>Chennai Super Kings</td>\n",
       "      <td>MS Dhoni</td>\n",
       "      <td>Murali Vijay</td>\n",
       "      <td>Chris Gayle</td>\n",
       "    </tr>\n",
       "    <tr>\n",
       "      <th>4</th>\n",
       "      <td>2012</td>\n",
       "      <td>Kolkata Knight Riders</td>\n",
       "      <td>Gautam Gambhir</td>\n",
       "      <td>Manvinder Bisla</td>\n",
       "      <td>Sunil Narine</td>\n",
       "    </tr>\n",
       "  </tbody>\n",
       "</table>\n",
       "</div>"
      ],
      "text/plain": [
       "   Year                 Winner         Captain Man of the Match  \\\n",
       "0  2008       Rajasthan Royals     Shane Warne     Yusuf Pathan   \n",
       "1  2009        Deccan Chargers  Adam Gilchrist      Anil Kumble   \n",
       "2  2010    Chennai Super Kings        MS Dhoni     Suresh Raina   \n",
       "3  2011    Chennai Super Kings        MS Dhoni     Murali Vijay   \n",
       "4  2012  Kolkata Knight Riders  Gautam Gambhir  Manvinder Bisla   \n",
       "\n",
       "  Player of the Series  \n",
       "0         Shane Watson  \n",
       "1       Adam Gilchrist  \n",
       "2     Sachin Tendulkar  \n",
       "3          Chris Gayle  \n",
       "4         Sunil Narine  "
      ]
     },
     "execution_count": 131,
     "metadata": {},
     "output_type": "execute_result"
    }
   ],
   "source": [
    "#To show first 5 records from given dataframe\n",
    "match.head()"
   ]
  },
  {
   "cell_type": "code",
   "execution_count": 132,
   "id": "7f606824",
   "metadata": {},
   "outputs": [
    {
     "data": {
      "text/html": [
       "<div>\n",
       "<style scoped>\n",
       "    .dataframe tbody tr th:only-of-type {\n",
       "        vertical-align: middle;\n",
       "    }\n",
       "\n",
       "    .dataframe tbody tr th {\n",
       "        vertical-align: top;\n",
       "    }\n",
       "\n",
       "    .dataframe thead th {\n",
       "        text-align: right;\n",
       "    }\n",
       "</style>\n",
       "<table border=\"1\" class=\"dataframe\">\n",
       "  <thead>\n",
       "    <tr style=\"text-align: right;\">\n",
       "      <th></th>\n",
       "      <th>Year</th>\n",
       "      <th>Winner</th>\n",
       "    </tr>\n",
       "  </thead>\n",
       "  <tbody>\n",
       "    <tr>\n",
       "      <th>0</th>\n",
       "      <td>2008</td>\n",
       "      <td>Rajasthan Royals</td>\n",
       "    </tr>\n",
       "    <tr>\n",
       "      <th>1</th>\n",
       "      <td>2009</td>\n",
       "      <td>Deccan Chargers</td>\n",
       "    </tr>\n",
       "    <tr>\n",
       "      <th>2</th>\n",
       "      <td>2010</td>\n",
       "      <td>Chennai Super Kings</td>\n",
       "    </tr>\n",
       "    <tr>\n",
       "      <th>3</th>\n",
       "      <td>2011</td>\n",
       "      <td>Chennai Super Kings</td>\n",
       "    </tr>\n",
       "    <tr>\n",
       "      <th>4</th>\n",
       "      <td>2012</td>\n",
       "      <td>Kolkata Knight Riders</td>\n",
       "    </tr>\n",
       "    <tr>\n",
       "      <th>5</th>\n",
       "      <td>2013</td>\n",
       "      <td>Mumbai Indians</td>\n",
       "    </tr>\n",
       "    <tr>\n",
       "      <th>6</th>\n",
       "      <td>2014</td>\n",
       "      <td>Kolkata Knight Riders</td>\n",
       "    </tr>\n",
       "    <tr>\n",
       "      <th>7</th>\n",
       "      <td>2015</td>\n",
       "      <td>Mumbai Indians</td>\n",
       "    </tr>\n",
       "    <tr>\n",
       "      <th>8</th>\n",
       "      <td>2016</td>\n",
       "      <td>Sunrisers Hyderabad</td>\n",
       "    </tr>\n",
       "    <tr>\n",
       "      <th>9</th>\n",
       "      <td>2017</td>\n",
       "      <td>Mumbai Indians</td>\n",
       "    </tr>\n",
       "    <tr>\n",
       "      <th>10</th>\n",
       "      <td>2018</td>\n",
       "      <td>Chennai Super Kings</td>\n",
       "    </tr>\n",
       "    <tr>\n",
       "      <th>11</th>\n",
       "      <td>2019</td>\n",
       "      <td>Mumbai Indians</td>\n",
       "    </tr>\n",
       "    <tr>\n",
       "      <th>12</th>\n",
       "      <td>2020</td>\n",
       "      <td>Mumbai Indians</td>\n",
       "    </tr>\n",
       "    <tr>\n",
       "      <th>13</th>\n",
       "      <td>2021</td>\n",
       "      <td>Chennai Super Kings</td>\n",
       "    </tr>\n",
       "    <tr>\n",
       "      <th>14</th>\n",
       "      <td>2022</td>\n",
       "      <td>Gujarat Titans</td>\n",
       "    </tr>\n",
       "    <tr>\n",
       "      <th>15</th>\n",
       "      <td>2023</td>\n",
       "      <td>Chennai Super Kings</td>\n",
       "    </tr>\n",
       "    <tr>\n",
       "      <th>16</th>\n",
       "      <td>2024</td>\n",
       "      <td>Not Decided</td>\n",
       "    </tr>\n",
       "  </tbody>\n",
       "</table>\n",
       "</div>"
      ],
      "text/plain": [
       "    Year                 Winner\n",
       "0   2008       Rajasthan Royals\n",
       "1   2009        Deccan Chargers\n",
       "2   2010    Chennai Super Kings\n",
       "3   2011    Chennai Super Kings\n",
       "4   2012  Kolkata Knight Riders\n",
       "5   2013         Mumbai Indians\n",
       "6   2014  Kolkata Knight Riders\n",
       "7   2015         Mumbai Indians\n",
       "8   2016    Sunrisers Hyderabad\n",
       "9   2017         Mumbai Indians\n",
       "10  2018    Chennai Super Kings\n",
       "11  2019         Mumbai Indians\n",
       "12  2020         Mumbai Indians\n",
       "13  2021    Chennai Super Kings\n",
       "14  2022         Gujarat Titans\n",
       "15  2023    Chennai Super Kings\n",
       "16  2024            Not Decided"
      ]
     },
     "execution_count": 132,
     "metadata": {},
     "output_type": "execute_result"
    }
   ],
   "source": [
    "#to show winner of all rows\n",
    "match[['Year','Winner']]"
   ]
  },
  {
   "cell_type": "code",
   "execution_count": 133,
   "id": "0f83d353",
   "metadata": {},
   "outputs": [
    {
     "data": {
      "text/plain": [
       "array(['Rajasthan Royals', 'Deccan Chargers', 'Chennai Super Kings',\n",
       "       'Kolkata Knight Riders', 'Mumbai Indians', 'Sunrisers Hyderabad',\n",
       "       'Gujarat Titans', 'Not Decided'], dtype=object)"
      ]
     },
     "execution_count": 133,
     "metadata": {},
     "output_type": "execute_result"
    }
   ],
   "source": [
    "#to show winner List (unique means duplicates value not allowed)\n",
    "match['Winner'].unique()"
   ]
  },
  {
   "cell_type": "code",
   "execution_count": 134,
   "id": "d0dd277c",
   "metadata": {},
   "outputs": [
    {
     "data": {
      "text/plain": [
       "Winner\n",
       "Chennai Super Kings      5\n",
       "Mumbai Indians           5\n",
       "Kolkata Knight Riders    2\n",
       "Rajasthan Royals         1\n",
       "Deccan Chargers          1\n",
       "Sunrisers Hyderabad      1\n",
       "Gujarat Titans           1\n",
       "Not Decided              1\n",
       "Name: count, dtype: int64"
      ]
     },
     "execution_count": 134,
     "metadata": {},
     "output_type": "execute_result"
    }
   ],
   "source": [
    "#How many times to won the match  each winner team , use  inbuilt\n",
    "#method value_counts()\n",
    "match['Winner'].value_counts()"
   ]
  },
  {
   "cell_type": "code",
   "execution_count": 135,
   "id": "42e885a8",
   "metadata": {},
   "outputs": [
    {
     "data": {
      "text/plain": [
       "<Axes: xlabel='Winner'>"
      ]
     },
     "execution_count": 135,
     "metadata": {},
     "output_type": "execute_result"
    },
    {
     "data": {
      "image/png": "[encoded data removed]",
      "text/plain": [
       "<Figure size 640x480 with 1 Axes>"
      ]
     },
     "metadata": {},
     "output_type": "display_data"
    }
   ],
   "source": [
    "#How many times to won the match  each winner team in visualise form\n",
    "#use bar graph \n",
    "match[\"Winner\"].value_counts().plot(kind=\"bar\")\n"
   ]
  },
  {
   "cell_type": "code",
   "execution_count": 136,
   "id": "41a6a6a6",
   "metadata": {},
   "outputs": [],
   "source": [
    "#use inbuilt package : matplotlib  inbuilt package of python . and it is\n",
    "#open source means its provides free of cost \n",
    "#first time install on system \n",
    "#!pip install matplotlib\n",
    "#call library\n",
    "import matplotlib.pyplot as plt"
   ]
  },
  {
   "cell_type": "code",
   "execution_count": 137,
   "id": "741a4fe3",
   "metadata": {},
   "outputs": [
    {
     "data": {
      "image/png": "[encoded data removed]",
      "text/plain": [
       "<Figure size 640x480 with 1 Axes>"
      ]
     },
     "metadata": {},
     "output_type": "display_data"
    }
   ],
   "source": [
    "match[\"Winner\"].value_counts().plot(kind=\"bar\",\n",
    "                                    color=[\"red\",\"green\",'yellow'])\n",
    "plt.xlabel(\"Winner Team\")\n",
    "plt.ylabel(\"Frequency\")\n",
    "plt.title(\"IPL Winner Team from 2008-2022\")\n",
    "plt.show()"
   ]
  },
  {
   "cell_type": "code",
   "execution_count": 138,
   "id": "58cf7fb0",
   "metadata": {},
   "outputs": [],
   "source": [
    "#seaborn : inbuilt package of python : it is used for visualisation \n",
    "#first time install seaborn library \n",
    "#!pip install seaborn"
   ]
  },
  {
   "cell_type": "code",
   "execution_count": 139,
   "id": "d9aa2fae",
   "metadata": {},
   "outputs": [],
   "source": [
    "import seaborn as sb"
   ]
  },
  {
   "cell_type": "code",
   "execution_count": 140,
   "id": "e30d4354",
   "metadata": {},
   "outputs": [
    {
     "data": {
      "image/png": "[encoded data removed]",
      "text/plain": [
       "<Figure size 2000x1000 with 1 Axes>"
      ]
     },
     "metadata": {},
     "output_type": "display_data"
    }
   ],
   "source": [
    "plt.figure(figsize=(20,10)) #to change the graph's paper size (width,height)\n",
    "sb.countplot(data=match,x='Winner')\n",
    "plt.show()"
   ]
  },
  {
   "cell_type": "code",
   "execution_count": 141,
   "id": "d4b5569c",
   "metadata": {},
   "outputs": [
    {
     "data": {
      "text/html": [
       "<div>\n",
       "<style scoped>\n",
       "    .dataframe tbody tr th:only-of-type {\n",
       "        vertical-align: middle;\n",
       "    }\n",
       "\n",
       "    .dataframe tbody tr th {\n",
       "        vertical-align: top;\n",
       "    }\n",
       "\n",
       "    .dataframe thead th {\n",
       "        text-align: right;\n",
       "    }\n",
       "</style>\n",
       "<table border=\"1\" class=\"dataframe\">\n",
       "  <thead>\n",
       "    <tr style=\"text-align: right;\">\n",
       "      <th></th>\n",
       "      <th>Year</th>\n",
       "      <th>Winner</th>\n",
       "      <th>Captain</th>\n",
       "      <th>Man of the Match</th>\n",
       "      <th>Player of the Series</th>\n",
       "    </tr>\n",
       "  </thead>\n",
       "  <tbody>\n",
       "    <tr>\n",
       "      <th>0</th>\n",
       "      <td>2008</td>\n",
       "      <td>Rajasthan Royals</td>\n",
       "      <td>Shane Warne</td>\n",
       "      <td>Yusuf Pathan</td>\n",
       "      <td>Shane Watson</td>\n",
       "    </tr>\n",
       "    <tr>\n",
       "      <th>1</th>\n",
       "      <td>2009</td>\n",
       "      <td>Deccan Chargers</td>\n",
       "      <td>Adam Gilchrist</td>\n",
       "      <td>Anil Kumble</td>\n",
       "      <td>Adam Gilchrist</td>\n",
       "    </tr>\n",
       "    <tr>\n",
       "      <th>2</th>\n",
       "      <td>2010</td>\n",
       "      <td>Chennai Super Kings</td>\n",
       "      <td>MS Dhoni</td>\n",
       "      <td>Suresh Raina</td>\n",
       "      <td>Sachin Tendulkar</td>\n",
       "    </tr>\n",
       "    <tr>\n",
       "      <th>3</th>\n",
       "      <td>2011</td>\n",
       "      <td>Chennai Super Kings</td>\n",
       "      <td>MS Dhoni</td>\n",
       "      <td>Murali Vijay</td>\n",
       "      <td>Chris Gayle</td>\n",
       "    </tr>\n",
       "    <tr>\n",
       "      <th>4</th>\n",
       "      <td>2012</td>\n",
       "      <td>Kolkata Knight Riders</td>\n",
       "      <td>Gautam Gambhir</td>\n",
       "      <td>Manvinder Bisla</td>\n",
       "      <td>Sunil Narine</td>\n",
       "    </tr>\n",
       "  </tbody>\n",
       "</table>\n",
       "</div>"
      ],
      "text/plain": [
       "   Year                 Winner         Captain Man of the Match  \\\n",
       "0  2008       Rajasthan Royals     Shane Warne     Yusuf Pathan   \n",
       "1  2009        Deccan Chargers  Adam Gilchrist      Anil Kumble   \n",
       "2  2010    Chennai Super Kings        MS Dhoni     Suresh Raina   \n",
       "3  2011    Chennai Super Kings        MS Dhoni     Murali Vijay   \n",
       "4  2012  Kolkata Knight Riders  Gautam Gambhir  Manvinder Bisla   \n",
       "\n",
       "  Player of the Series  \n",
       "0         Shane Watson  \n",
       "1       Adam Gilchrist  \n",
       "2     Sachin Tendulkar  \n",
       "3          Chris Gayle  \n",
       "4         Sunil Narine  "
      ]
     },
     "execution_count": 141,
     "metadata": {},
     "output_type": "execute_result"
    }
   ],
   "source": [
    "match.head()"
   ]
  },
  {
   "cell_type": "code",
   "execution_count": 142,
   "id": "11f26455",
   "metadata": {},
   "outputs": [
    {
     "data": {
      "text/plain": [
       "Year                    0\n",
       "Winner                  0\n",
       "Captain                 0\n",
       "Man of the Match        0\n",
       "Player of the Series    0\n",
       "dtype: int64"
      ]
     },
     "execution_count": 142,
     "metadata": {},
     "output_type": "execute_result"
    }
   ],
   "source": [
    "#check null values in each column\n",
    "match.isnull().sum()"
   ]
  },
  {
   "cell_type": "code",
   "execution_count": 143,
   "id": "474a0c95",
   "metadata": {},
   "outputs": [
    {
     "data": {
      "image/png": "[encoded data removed]",
      "text/plain": [
       "<Figure size 640x480 with 2 Axes>"
      ]
     },
     "metadata": {},
     "output_type": "display_data"
    }
   ],
   "source": [
    "#show null values in visualise form , use inbuilt method heatmap() which\n",
    "#define in seaborn library\n",
    "sb.heatmap(match.isnull())\n",
    "plt.show()"
   ]
  },
  {
   "cell_type": "code",
   "execution_count": 144,
   "id": "01bc59db",
   "metadata": {},
   "outputs": [
    {
     "data": {
      "text/plain": [
       "Year                                2008\n",
       "Winner                  Rajasthan Royals\n",
       "Captain                      Shane Warne\n",
       "Man of the Match            Yusuf Pathan\n",
       "Player of the Series        Shane Watson\n",
       "Name: 0, dtype: object"
      ]
     },
     "execution_count": 144,
     "metadata": {},
     "output_type": "execute_result"
    }
   ],
   "source": [
    "#to show first row means 0th row index\n",
    "match.iloc[0]"
   ]
  },
  {
   "cell_type": "code",
   "execution_count": 145,
   "id": "309ec861",
   "metadata": {},
   "outputs": [
    {
     "data": {
      "text/html": [
       "<div>\n",
       "<style scoped>\n",
       "    .dataframe tbody tr th:only-of-type {\n",
       "        vertical-align: middle;\n",
       "    }\n",
       "\n",
       "    .dataframe tbody tr th {\n",
       "        vertical-align: top;\n",
       "    }\n",
       "\n",
       "    .dataframe thead th {\n",
       "        text-align: right;\n",
       "    }\n",
       "</style>\n",
       "<table border=\"1\" class=\"dataframe\">\n",
       "  <thead>\n",
       "    <tr style=\"text-align: right;\">\n",
       "      <th></th>\n",
       "      <th>Year</th>\n",
       "      <th>Winner</th>\n",
       "      <th>Captain</th>\n",
       "      <th>Man of the Match</th>\n",
       "      <th>Player of the Series</th>\n",
       "    </tr>\n",
       "  </thead>\n",
       "  <tbody>\n",
       "    <tr>\n",
       "      <th>0</th>\n",
       "      <td>2008</td>\n",
       "      <td>Rajasthan Royals</td>\n",
       "      <td>Shane Warne</td>\n",
       "      <td>Yusuf Pathan</td>\n",
       "      <td>Shane Watson</td>\n",
       "    </tr>\n",
       "    <tr>\n",
       "      <th>1</th>\n",
       "      <td>2009</td>\n",
       "      <td>Deccan Chargers</td>\n",
       "      <td>Adam Gilchrist</td>\n",
       "      <td>Anil Kumble</td>\n",
       "      <td>Adam Gilchrist</td>\n",
       "    </tr>\n",
       "    <tr>\n",
       "      <th>2</th>\n",
       "      <td>2010</td>\n",
       "      <td>Chennai Super Kings</td>\n",
       "      <td>MS Dhoni</td>\n",
       "      <td>Suresh Raina</td>\n",
       "      <td>Sachin Tendulkar</td>\n",
       "    </tr>\n",
       "    <tr>\n",
       "      <th>3</th>\n",
       "      <td>2011</td>\n",
       "      <td>Chennai Super Kings</td>\n",
       "      <td>MS Dhoni</td>\n",
       "      <td>Murali Vijay</td>\n",
       "      <td>Chris Gayle</td>\n",
       "    </tr>\n",
       "    <tr>\n",
       "      <th>4</th>\n",
       "      <td>2012</td>\n",
       "      <td>Kolkata Knight Riders</td>\n",
       "      <td>Gautam Gambhir</td>\n",
       "      <td>Manvinder Bisla</td>\n",
       "      <td>Sunil Narine</td>\n",
       "    </tr>\n",
       "  </tbody>\n",
       "</table>\n",
       "</div>"
      ],
      "text/plain": [
       "   Year                 Winner         Captain Man of the Match  \\\n",
       "0  2008       Rajasthan Royals     Shane Warne     Yusuf Pathan   \n",
       "1  2009        Deccan Chargers  Adam Gilchrist      Anil Kumble   \n",
       "2  2010    Chennai Super Kings        MS Dhoni     Suresh Raina   \n",
       "3  2011    Chennai Super Kings        MS Dhoni     Murali Vijay   \n",
       "4  2012  Kolkata Knight Riders  Gautam Gambhir  Manvinder Bisla   \n",
       "\n",
       "  Player of the Series  \n",
       "0         Shane Watson  \n",
       "1       Adam Gilchrist  \n",
       "2     Sachin Tendulkar  \n",
       "3          Chris Gayle  \n",
       "4         Sunil Narine  "
      ]
     },
     "execution_count": 145,
     "metadata": {},
     "output_type": "execute_result"
    }
   ],
   "source": [
    "match.head()"
   ]
  },
  {
   "cell_type": "code",
   "execution_count": 146,
   "id": "7b7d53b5",
   "metadata": {},
   "outputs": [
    {
     "data": {
      "text/html": [
       "<div>\n",
       "<style scoped>\n",
       "    .dataframe tbody tr th:only-of-type {\n",
       "        vertical-align: middle;\n",
       "    }\n",
       "\n",
       "    .dataframe tbody tr th {\n",
       "        vertical-align: top;\n",
       "    }\n",
       "\n",
       "    .dataframe thead th {\n",
       "        text-align: right;\n",
       "    }\n",
       "</style>\n",
       "<table border=\"1\" class=\"dataframe\">\n",
       "  <thead>\n",
       "    <tr style=\"text-align: right;\">\n",
       "      <th></th>\n",
       "      <th>Year</th>\n",
       "      <th>Winner</th>\n",
       "      <th>Captain</th>\n",
       "      <th>Man of the Match</th>\n",
       "      <th>Player of the Series</th>\n",
       "    </tr>\n",
       "  </thead>\n",
       "  <tbody>\n",
       "    <tr>\n",
       "      <th>0</th>\n",
       "      <td>2008</td>\n",
       "      <td>Rajasthan Royals</td>\n",
       "      <td>Shane Warne</td>\n",
       "      <td>Yusuf Pathan</td>\n",
       "      <td>Shane Watson</td>\n",
       "    </tr>\n",
       "    <tr>\n",
       "      <th>1</th>\n",
       "      <td>2009</td>\n",
       "      <td>Deccan Chargers</td>\n",
       "      <td>Adam Gilchrist</td>\n",
       "      <td>Anil Kumble</td>\n",
       "      <td>Adam Gilchrist</td>\n",
       "    </tr>\n",
       "    <tr>\n",
       "      <th>2</th>\n",
       "      <td>2010</td>\n",
       "      <td>Chennai Super Kings</td>\n",
       "      <td>MS Dhoni</td>\n",
       "      <td>Suresh Raina</td>\n",
       "      <td>Sachin Tendulkar</td>\n",
       "    </tr>\n",
       "    <tr>\n",
       "      <th>3</th>\n",
       "      <td>2011</td>\n",
       "      <td>Chennai Super Kings</td>\n",
       "      <td>MS Dhoni</td>\n",
       "      <td>Murali Vijay</td>\n",
       "      <td>Chris Gayle</td>\n",
       "    </tr>\n",
       "    <tr>\n",
       "      <th>4</th>\n",
       "      <td>2012</td>\n",
       "      <td>Kolkata Knight Riders</td>\n",
       "      <td>Gautam Gambhir</td>\n",
       "      <td>Manvinder Bisla</td>\n",
       "      <td>Sunil Narine</td>\n",
       "    </tr>\n",
       "    <tr>\n",
       "      <th>5</th>\n",
       "      <td>2013</td>\n",
       "      <td>Mumbai Indians</td>\n",
       "      <td>Rohit Sharma</td>\n",
       "      <td>Kieron Pollard</td>\n",
       "      <td>Shane Watson</td>\n",
       "    </tr>\n",
       "    <tr>\n",
       "      <th>6</th>\n",
       "      <td>2014</td>\n",
       "      <td>Kolkata Knight Riders</td>\n",
       "      <td>Gautam Gambhir</td>\n",
       "      <td>Manish Pandey</td>\n",
       "      <td>Glenn Maxwell</td>\n",
       "    </tr>\n",
       "    <tr>\n",
       "      <th>7</th>\n",
       "      <td>2015</td>\n",
       "      <td>Mumbai Indians</td>\n",
       "      <td>Rohit Sharma</td>\n",
       "      <td>Rohit Sharma</td>\n",
       "      <td>Andre Russell</td>\n",
       "    </tr>\n",
       "    <tr>\n",
       "      <th>8</th>\n",
       "      <td>2016</td>\n",
       "      <td>Sunrisers Hyderabad</td>\n",
       "      <td>David Warner</td>\n",
       "      <td>Ben Cutting</td>\n",
       "      <td>Virat Kohli</td>\n",
       "    </tr>\n",
       "    <tr>\n",
       "      <th>9</th>\n",
       "      <td>2017</td>\n",
       "      <td>Mumbai Indians</td>\n",
       "      <td>Rohit Sharma</td>\n",
       "      <td>Krunal Pandya</td>\n",
       "      <td>Ben Stokes</td>\n",
       "    </tr>\n",
       "    <tr>\n",
       "      <th>10</th>\n",
       "      <td>2018</td>\n",
       "      <td>Chennai Super Kings</td>\n",
       "      <td>MS Dhoni</td>\n",
       "      <td>Shane Watson</td>\n",
       "      <td>Sunil Narine</td>\n",
       "    </tr>\n",
       "    <tr>\n",
       "      <th>11</th>\n",
       "      <td>2019</td>\n",
       "      <td>Mumbai Indians</td>\n",
       "      <td>Rohit Sharma</td>\n",
       "      <td>Jasprit Bumrah</td>\n",
       "      <td>Andre Russell</td>\n",
       "    </tr>\n",
       "    <tr>\n",
       "      <th>12</th>\n",
       "      <td>2020</td>\n",
       "      <td>Mumbai Indians</td>\n",
       "      <td>Rohit Sharma</td>\n",
       "      <td>Trent Boult</td>\n",
       "      <td>Jofra Archer</td>\n",
       "    </tr>\n",
       "    <tr>\n",
       "      <th>13</th>\n",
       "      <td>2021</td>\n",
       "      <td>Chennai Super Kings</td>\n",
       "      <td>MS Dhoni</td>\n",
       "      <td>Faf du Plessis</td>\n",
       "      <td>Harshal Patel</td>\n",
       "    </tr>\n",
       "    <tr>\n",
       "      <th>14</th>\n",
       "      <td>2022</td>\n",
       "      <td>Gujarat Titans</td>\n",
       "      <td>Hardik Pandya</td>\n",
       "      <td>Hardik Pandya</td>\n",
       "      <td>Jos Butler</td>\n",
       "    </tr>\n",
       "    <tr>\n",
       "      <th>15</th>\n",
       "      <td>2023</td>\n",
       "      <td>Chennai Super Kings</td>\n",
       "      <td>MS Dhoni</td>\n",
       "      <td>Devon Conway</td>\n",
       "      <td>Shubman Gill</td>\n",
       "    </tr>\n",
       "    <tr>\n",
       "      <th>16</th>\n",
       "      <td>2024</td>\n",
       "      <td>Not Decided</td>\n",
       "      <td>Not Decided</td>\n",
       "      <td>Not Decided</td>\n",
       "      <td>Not Decided</td>\n",
       "    </tr>\n",
       "  </tbody>\n",
       "</table>\n",
       "</div>"
      ],
      "text/plain": [
       "    Year                 Winner         Captain Man of the Match  \\\n",
       "0   2008       Rajasthan Royals     Shane Warne     Yusuf Pathan   \n",
       "1   2009        Deccan Chargers  Adam Gilchrist      Anil Kumble   \n",
       "2   2010    Chennai Super Kings        MS Dhoni     Suresh Raina   \n",
       "3   2011    Chennai Super Kings        MS Dhoni     Murali Vijay   \n",
       "4   2012  Kolkata Knight Riders  Gautam Gambhir  Manvinder Bisla   \n",
       "5   2013         Mumbai Indians    Rohit Sharma   Kieron Pollard   \n",
       "6   2014  Kolkata Knight Riders  Gautam Gambhir    Manish Pandey   \n",
       "7   2015         Mumbai Indians    Rohit Sharma     Rohit Sharma   \n",
       "8   2016    Sunrisers Hyderabad    David Warner      Ben Cutting   \n",
       "9   2017         Mumbai Indians    Rohit Sharma    Krunal Pandya   \n",
       "10  2018    Chennai Super Kings        MS Dhoni     Shane Watson   \n",
       "11  2019         Mumbai Indians    Rohit Sharma   Jasprit Bumrah   \n",
       "12  2020         Mumbai Indians    Rohit Sharma      Trent Boult   \n",
       "13  2021    Chennai Super Kings        MS Dhoni   Faf du Plessis   \n",
       "14  2022         Gujarat Titans   Hardik Pandya    Hardik Pandya   \n",
       "15  2023    Chennai Super Kings        MS Dhoni     Devon Conway   \n",
       "16  2024            Not Decided     Not Decided      Not Decided   \n",
       "\n",
       "   Player of the Series  \n",
       "0          Shane Watson  \n",
       "1        Adam Gilchrist  \n",
       "2      Sachin Tendulkar  \n",
       "3           Chris Gayle  \n",
       "4          Sunil Narine  \n",
       "5          Shane Watson  \n",
       "6         Glenn Maxwell  \n",
       "7         Andre Russell  \n",
       "8           Virat Kohli  \n",
       "9            Ben Stokes  \n",
       "10         Sunil Narine  \n",
       "11        Andre Russell  \n",
       "12         Jofra Archer  \n",
       "13        Harshal Patel  \n",
       "14           Jos Butler  \n",
       "15         Shubman Gill  \n",
       "16          Not Decided  "
      ]
     },
     "execution_count": 146,
     "metadata": {},
     "output_type": "execute_result"
    }
   ],
   "source": [
    "match.dropna() #to remove those rows whose found null but temporary remove"
   ]
  },
  {
   "cell_type": "code",
   "execution_count": 147,
   "id": "f4fd0534",
   "metadata": {},
   "outputs": [
    {
     "data": {
      "text/html": [
       "<div>\n",
       "<style scoped>\n",
       "    .dataframe tbody tr th:only-of-type {\n",
       "        vertical-align: middle;\n",
       "    }\n",
       "\n",
       "    .dataframe tbody tr th {\n",
       "        vertical-align: top;\n",
       "    }\n",
       "\n",
       "    .dataframe thead th {\n",
       "        text-align: right;\n",
       "    }\n",
       "</style>\n",
       "<table border=\"1\" class=\"dataframe\">\n",
       "  <thead>\n",
       "    <tr style=\"text-align: right;\">\n",
       "      <th></th>\n",
       "      <th>Year</th>\n",
       "      <th>Winner</th>\n",
       "      <th>Captain</th>\n",
       "      <th>Man of the Match</th>\n",
       "      <th>Player of the Series</th>\n",
       "    </tr>\n",
       "  </thead>\n",
       "  <tbody>\n",
       "    <tr>\n",
       "      <th>0</th>\n",
       "      <td>2008</td>\n",
       "      <td>Rajasthan Royals</td>\n",
       "      <td>Shane Warne</td>\n",
       "      <td>Yusuf Pathan</td>\n",
       "      <td>Shane Watson</td>\n",
       "    </tr>\n",
       "    <tr>\n",
       "      <th>1</th>\n",
       "      <td>2009</td>\n",
       "      <td>Deccan Chargers</td>\n",
       "      <td>Adam Gilchrist</td>\n",
       "      <td>Anil Kumble</td>\n",
       "      <td>Adam Gilchrist</td>\n",
       "    </tr>\n",
       "    <tr>\n",
       "      <th>2</th>\n",
       "      <td>2010</td>\n",
       "      <td>Chennai Super Kings</td>\n",
       "      <td>MS Dhoni</td>\n",
       "      <td>Suresh Raina</td>\n",
       "      <td>Sachin Tendulkar</td>\n",
       "    </tr>\n",
       "    <tr>\n",
       "      <th>3</th>\n",
       "      <td>2011</td>\n",
       "      <td>Chennai Super Kings</td>\n",
       "      <td>MS Dhoni</td>\n",
       "      <td>Murali Vijay</td>\n",
       "      <td>Chris Gayle</td>\n",
       "    </tr>\n",
       "    <tr>\n",
       "      <th>4</th>\n",
       "      <td>2012</td>\n",
       "      <td>Kolkata Knight Riders</td>\n",
       "      <td>Gautam Gambhir</td>\n",
       "      <td>Manvinder Bisla</td>\n",
       "      <td>Sunil Narine</td>\n",
       "    </tr>\n",
       "    <tr>\n",
       "      <th>5</th>\n",
       "      <td>2013</td>\n",
       "      <td>Mumbai Indians</td>\n",
       "      <td>Rohit Sharma</td>\n",
       "      <td>Kieron Pollard</td>\n",
       "      <td>Shane Watson</td>\n",
       "    </tr>\n",
       "    <tr>\n",
       "      <th>6</th>\n",
       "      <td>2014</td>\n",
       "      <td>Kolkata Knight Riders</td>\n",
       "      <td>Gautam Gambhir</td>\n",
       "      <td>Manish Pandey</td>\n",
       "      <td>Glenn Maxwell</td>\n",
       "    </tr>\n",
       "    <tr>\n",
       "      <th>7</th>\n",
       "      <td>2015</td>\n",
       "      <td>Mumbai Indians</td>\n",
       "      <td>Rohit Sharma</td>\n",
       "      <td>Rohit Sharma</td>\n",
       "      <td>Andre Russell</td>\n",
       "    </tr>\n",
       "    <tr>\n",
       "      <th>8</th>\n",
       "      <td>2016</td>\n",
       "      <td>Sunrisers Hyderabad</td>\n",
       "      <td>David Warner</td>\n",
       "      <td>Ben Cutting</td>\n",
       "      <td>Virat Kohli</td>\n",
       "    </tr>\n",
       "    <tr>\n",
       "      <th>9</th>\n",
       "      <td>2017</td>\n",
       "      <td>Mumbai Indians</td>\n",
       "      <td>Rohit Sharma</td>\n",
       "      <td>Krunal Pandya</td>\n",
       "      <td>Ben Stokes</td>\n",
       "    </tr>\n",
       "    <tr>\n",
       "      <th>10</th>\n",
       "      <td>2018</td>\n",
       "      <td>Chennai Super Kings</td>\n",
       "      <td>MS Dhoni</td>\n",
       "      <td>Shane Watson</td>\n",
       "      <td>Sunil Narine</td>\n",
       "    </tr>\n",
       "    <tr>\n",
       "      <th>11</th>\n",
       "      <td>2019</td>\n",
       "      <td>Mumbai Indians</td>\n",
       "      <td>Rohit Sharma</td>\n",
       "      <td>Jasprit Bumrah</td>\n",
       "      <td>Andre Russell</td>\n",
       "    </tr>\n",
       "    <tr>\n",
       "      <th>12</th>\n",
       "      <td>2020</td>\n",
       "      <td>Mumbai Indians</td>\n",
       "      <td>Rohit Sharma</td>\n",
       "      <td>Trent Boult</td>\n",
       "      <td>Jofra Archer</td>\n",
       "    </tr>\n",
       "    <tr>\n",
       "      <th>13</th>\n",
       "      <td>2021</td>\n",
       "      <td>Chennai Super Kings</td>\n",
       "      <td>MS Dhoni</td>\n",
       "      <td>Faf du Plessis</td>\n",
       "      <td>Harshal Patel</td>\n",
       "    </tr>\n",
       "    <tr>\n",
       "      <th>14</th>\n",
       "      <td>2022</td>\n",
       "      <td>Gujarat Titans</td>\n",
       "      <td>Hardik Pandya</td>\n",
       "      <td>Hardik Pandya</td>\n",
       "      <td>Jos Butler</td>\n",
       "    </tr>\n",
       "    <tr>\n",
       "      <th>15</th>\n",
       "      <td>2023</td>\n",
       "      <td>Chennai Super Kings</td>\n",
       "      <td>MS Dhoni</td>\n",
       "      <td>Devon Conway</td>\n",
       "      <td>Shubman Gill</td>\n",
       "    </tr>\n",
       "    <tr>\n",
       "      <th>16</th>\n",
       "      <td>2024</td>\n",
       "      <td>Not Decided</td>\n",
       "      <td>Not Decided</td>\n",
       "      <td>Not Decided</td>\n",
       "      <td>Not Decided</td>\n",
       "    </tr>\n",
       "  </tbody>\n",
       "</table>\n",
       "</div>"
      ],
      "text/plain": [
       "    Year                 Winner         Captain Man of the Match  \\\n",
       "0   2008       Rajasthan Royals     Shane Warne     Yusuf Pathan   \n",
       "1   2009        Deccan Chargers  Adam Gilchrist      Anil Kumble   \n",
       "2   2010    Chennai Super Kings        MS Dhoni     Suresh Raina   \n",
       "3   2011    Chennai Super Kings        MS Dhoni     Murali Vijay   \n",
       "4   2012  Kolkata Knight Riders  Gautam Gambhir  Manvinder Bisla   \n",
       "5   2013         Mumbai Indians    Rohit Sharma   Kieron Pollard   \n",
       "6   2014  Kolkata Knight Riders  Gautam Gambhir    Manish Pandey   \n",
       "7   2015         Mumbai Indians    Rohit Sharma     Rohit Sharma   \n",
       "8   2016    Sunrisers Hyderabad    David Warner      Ben Cutting   \n",
       "9   2017         Mumbai Indians    Rohit Sharma    Krunal Pandya   \n",
       "10  2018    Chennai Super Kings        MS Dhoni     Shane Watson   \n",
       "11  2019         Mumbai Indians    Rohit Sharma   Jasprit Bumrah   \n",
       "12  2020         Mumbai Indians    Rohit Sharma      Trent Boult   \n",
       "13  2021    Chennai Super Kings        MS Dhoni   Faf du Plessis   \n",
       "14  2022         Gujarat Titans   Hardik Pandya    Hardik Pandya   \n",
       "15  2023    Chennai Super Kings        MS Dhoni     Devon Conway   \n",
       "16  2024            Not Decided     Not Decided      Not Decided   \n",
       "\n",
       "   Player of the Series  \n",
       "0          Shane Watson  \n",
       "1        Adam Gilchrist  \n",
       "2      Sachin Tendulkar  \n",
       "3           Chris Gayle  \n",
       "4          Sunil Narine  \n",
       "5          Shane Watson  \n",
       "6         Glenn Maxwell  \n",
       "7         Andre Russell  \n",
       "8           Virat Kohli  \n",
       "9            Ben Stokes  \n",
       "10         Sunil Narine  \n",
       "11        Andre Russell  \n",
       "12         Jofra Archer  \n",
       "13        Harshal Patel  \n",
       "14           Jos Butler  \n",
       "15         Shubman Gill  \n",
       "16          Not Decided  "
      ]
     },
     "execution_count": 147,
     "metadata": {},
     "output_type": "execute_result"
    }
   ],
   "source": [
    "#delete permamnently those rows whose found null\n",
    "match=match.dropna() \n",
    "match"
   ]
  },
  {
   "cell_type": "code",
   "execution_count": 148,
   "id": "236ac336",
   "metadata": {},
   "outputs": [
    {
     "data": {
      "image/png": "[encoded data removed]",
      "text/plain": [
       "<Figure size 640x480 with 2 Axes>"
      ]
     },
     "metadata": {},
     "output_type": "display_data"
    }
   ],
   "source": [
    "#again check null values\n",
    "sb.heatmap(match.isnull())\n",
    "plt.show()"
   ]
  },
  {
   "cell_type": "code",
   "execution_count": null,
   "id": "89d8da92",
   "metadata": {},
   "outputs": [],
   "source": []
  }
 ],
 "metadata": {
  "kernelspec": {
   "display_name": "Python 3 (ipykernel)",
   "language": "python",
   "name": "python3"
  },
  "language_info": {
   "codemirror_mode": {
    "name": "ipython",
    "version": 3
   },
   "file_extension": ".py",
   "mimetype": "text/x-python",
   "name": "python",
   "nbconvert_exporter": "python",
   "pygments_lexer": "ipython3",
   "version": "3.11.5"
  }
 },
 "nbformat": 4,
 "nbformat_minor": 5
}
