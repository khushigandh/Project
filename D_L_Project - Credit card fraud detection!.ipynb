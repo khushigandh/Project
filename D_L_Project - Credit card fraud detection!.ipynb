{
  "nbformat": 4,
  "nbformat_minor": 0,
  "metadata": {
    "colab": {
      "name": "D.L.Project.ipynb",
      "provenance": []
    },
    "kernelspec": {
      "name": "python3",
      "display_name": "Python 3"
    },
    "language_info": {
      "name": "python"
    }
  },
  "cells": [
    {
      "cell_type": "code",
      "execution_count": 1,
      "metadata": {
        "id": "oQLzcJoLoNyl"
      },
      "outputs": [],
      "source": [
        " #First import all basic libraries\n",
        "import pandas as PD\n",
        "import numpy as NP\n",
        "import matplotlib.pyplot as MPL\n",
        "import seaborn as SB\n",
        "import warnings\n",
        "warnings.filterwarnings('ignore')\n",
        "import tensorflow as TF"
      ]
    },
    {
      "cell_type": "code",
      "source": [
        "#Load Dataset\n",
        "CR_FD = PD.read_csv(\"/content/drive/MyDrive/DEEP LEARNING/creditcard.csv\")\n",
        "CR_FD.sample(9)"
      ],
      "metadata": {
        "colab": {
          "base_uri": "https://localhost:8080/",
          "height": 425
        },
        "id": "VlH-n3ufon8D",
        "outputId": "8c81193e-d1e2-4b7f-cc9d-167b39dffbbc"
      },
      "execution_count": 2,
      "outputs": [
        {
          "output_type": "execute_result",
          "data": {
            "text/plain": [
              "            Time        V1        V2        V3        V4        V5        V6  \\\n",
              "239736  150237.0  2.060955 -0.087013 -1.071585  0.423605 -0.193490 -1.231025   \n",
              "100792   67624.0 -1.453563  0.256900  1.026045  1.227140  0.621816  0.140321   \n",
              "256794  157864.0  2.038941  0.241511 -2.794134  1.157233  1.326883 -0.109780   \n",
              "273113  165427.0  2.007839 -0.305715 -0.484716  0.331294 -0.270266  0.014489   \n",
              "172402  121088.0 -0.100969  1.425898 -1.902412 -0.826365  0.727033 -0.226592   \n",
              "112796   72809.0 -0.641061 -0.427413  1.164048  0.838731 -1.063626  0.425806   \n",
              "62180    50165.0  1.137152  0.134520  0.196730  0.955990 -0.180340 -0.449203   \n",
              "270949  164342.0 -1.644534 -0.305258  1.825990 -0.407615  0.825329 -0.415748   \n",
              "49386    44035.0 -0.092847  1.137565  1.253136  2.005960  0.778232  0.436899   \n",
              "\n",
              "              V7        V8        V9  ...       V21       V22       V23  \\\n",
              "239736  0.150937 -0.306995  0.617249  ... -0.294367 -0.738843  0.347207   \n",
              "100792 -0.241843  0.517888 -0.642355  ...  0.200256  0.501813  0.113239   \n",
              "256794  0.389111  0.018821  0.314203  ... -0.077600 -0.190487 -0.107994   \n",
              "273113 -0.551448 -0.041364  1.231981  ...  0.186607  0.838059  0.097391   \n",
              "172402 -1.052784 -5.666703 -0.740262  ... -2.337642  1.325933  0.084485   \n",
              "112796  0.849339  0.087597 -1.256331  ... -0.223731 -0.468375  0.527530   \n",
              "62180   0.110193 -0.016425 -0.153566  ... -0.105484 -0.459330 -0.054167   \n",
              "270949  0.058989  0.072418 -0.042421  ... -0.131465 -0.279544 -0.438399   \n",
              "49386   0.497463  0.109612 -1.602497  ...  0.035774  0.058939 -0.098396   \n",
              "\n",
              "             V24       V25       V26       V27       V28  Amount  Class  \n",
              "239736  0.032514 -0.316703  0.197053 -0.074053 -0.060897    1.98      0  \n",
              "100792 -0.740878 -0.170015 -0.216513 -0.019362  0.047170   27.55      0  \n",
              "256794 -0.549251  0.498880 -0.468905 -0.024522 -0.046451   17.18      0  \n",
              "273113  0.541809  0.017888 -0.235721  0.046990 -0.028835    9.99      0  \n",
              "172402  0.595698  0.556708  0.127174  0.065539  0.351268    7.63      0  \n",
              "112796 -0.025806 -0.230298 -0.240602  0.112758  0.162172  249.55      0  \n",
              "62180  -0.034960  0.480227 -0.524949 -0.000886  0.017088   46.32      0  \n",
              "270949 -0.331543  0.366299 -0.728682  0.164486 -0.019817  100.00      0  \n",
              "49386  -0.524033 -0.394819 -0.076865  0.089866  0.070062    5.48      0  \n",
              "\n",
              "[9 rows x 31 columns]"
            ],
            "text/html": [
              "\n",
              "  <div id=\"df-a3c2bd80-d2c1-4d45-8521-6f083ca26946\">\n",
              "    <div class=\"colab-df-container\">\n",
              "      <div>\n",
              "<style scoped>\n",
              "    .dataframe tbody tr th:only-of-type {\n",
              "        vertical-align: middle;\n",
              "    }\n",
              "\n",
              "    .dataframe tbody tr th {\n",
              "        vertical-align: top;\n",
              "    }\n",
              "\n",
              "    .dataframe thead th {\n",
              "        text-align: right;\n",
              "    }\n",
              "</style>\n",
              "<table border=\"1\" class=\"dataframe\">\n",
              "  <thead>\n",
              "    <tr style=\"text-align: right;\">\n",
              "      <th></th>\n",
              "      <th>Time</th>\n",
              "      <th>V1</th>\n",
              "      <th>V2</th>\n",
              "      <th>V3</th>\n",
              "      <th>V4</th>\n",
              "      <th>V5</th>\n",
              "      <th>V6</th>\n",
              "      <th>V7</th>\n",
              "      <th>V8</th>\n",
              "      <th>V9</th>\n",
              "      <th>...</th>\n",
              "      <th>V21</th>\n",
              "      <th>V22</th>\n",
              "      <th>V23</th>\n",
              "      <th>V24</th>\n",
              "      <th>V25</th>\n",
              "      <th>V26</th>\n",
              "      <th>V27</th>\n",
              "      <th>V28</th>\n",
              "      <th>Amount</th>\n",
              "      <th>Class</th>\n",
              "    </tr>\n",
              "  </thead>\n",
              "  <tbody>\n",
              "    <tr>\n",
              "      <th>239736</th>\n",
              "      <td>150237.0</td>\n",
              "      <td>2.060955</td>\n",
              "      <td>-0.087013</td>\n",
              "      <td>-1.071585</td>\n",
              "      <td>0.423605</td>\n",
              "      <td>-0.193490</td>\n",
              "      <td>-1.231025</td>\n",
              "      <td>0.150937</td>\n",
              "      <td>-0.306995</td>\n",
              "      <td>0.617249</td>\n",
              "      <td>...</td>\n",
              "      <td>-0.294367</td>\n",
              "      <td>-0.738843</td>\n",
              "      <td>0.347207</td>\n",
              "      <td>0.032514</td>\n",
              "      <td>-0.316703</td>\n",
              "      <td>0.197053</td>\n",
              "      <td>-0.074053</td>\n",
              "      <td>-0.060897</td>\n",
              "      <td>1.98</td>\n",
              "      <td>0</td>\n",
              "    </tr>\n",
              "    <tr>\n",
              "      <th>100792</th>\n",
              "      <td>67624.0</td>\n",
              "      <td>-1.453563</td>\n",
              "      <td>0.256900</td>\n",
              "      <td>1.026045</td>\n",
              "      <td>1.227140</td>\n",
              "      <td>0.621816</td>\n",
              "      <td>0.140321</td>\n",
              "      <td>-0.241843</td>\n",
              "      <td>0.517888</td>\n",
              "      <td>-0.642355</td>\n",
              "      <td>...</td>\n",
              "      <td>0.200256</td>\n",
              "      <td>0.501813</td>\n",
              "      <td>0.113239</td>\n",
              "      <td>-0.740878</td>\n",
              "      <td>-0.170015</td>\n",
              "      <td>-0.216513</td>\n",
              "      <td>-0.019362</td>\n",
              "      <td>0.047170</td>\n",
              "      <td>27.55</td>\n",
              "      <td>0</td>\n",
              "    </tr>\n",
              "    <tr>\n",
              "      <th>256794</th>\n",
              "      <td>157864.0</td>\n",
              "      <td>2.038941</td>\n",
              "      <td>0.241511</td>\n",
              "      <td>-2.794134</td>\n",
              "      <td>1.157233</td>\n",
              "      <td>1.326883</td>\n",
              "      <td>-0.109780</td>\n",
              "      <td>0.389111</td>\n",
              "      <td>0.018821</td>\n",
              "      <td>0.314203</td>\n",
              "      <td>...</td>\n",
              "      <td>-0.077600</td>\n",
              "      <td>-0.190487</td>\n",
              "      <td>-0.107994</td>\n",
              "      <td>-0.549251</td>\n",
              "      <td>0.498880</td>\n",
              "      <td>-0.468905</td>\n",
              "      <td>-0.024522</td>\n",
              "      <td>-0.046451</td>\n",
              "      <td>17.18</td>\n",
              "      <td>0</td>\n",
              "    </tr>\n",
              "    <tr>\n",
              "      <th>273113</th>\n",
              "      <td>165427.0</td>\n",
              "      <td>2.007839</td>\n",
              "      <td>-0.305715</td>\n",
              "      <td>-0.484716</td>\n",
              "      <td>0.331294</td>\n",
              "      <td>-0.270266</td>\n",
              "      <td>0.014489</td>\n",
              "      <td>-0.551448</td>\n",
              "      <td>-0.041364</td>\n",
              "      <td>1.231981</td>\n",
              "      <td>...</td>\n",
              "      <td>0.186607</td>\n",
              "      <td>0.838059</td>\n",
              "      <td>0.097391</td>\n",
              "      <td>0.541809</td>\n",
              "      <td>0.017888</td>\n",
              "      <td>-0.235721</td>\n",
              "      <td>0.046990</td>\n",
              "      <td>-0.028835</td>\n",
              "      <td>9.99</td>\n",
              "      <td>0</td>\n",
              "    </tr>\n",
              "    <tr>\n",
              "      <th>172402</th>\n",
              "      <td>121088.0</td>\n",
              "      <td>-0.100969</td>\n",
              "      <td>1.425898</td>\n",
              "      <td>-1.902412</td>\n",
              "      <td>-0.826365</td>\n",
              "      <td>0.727033</td>\n",
              "      <td>-0.226592</td>\n",
              "      <td>-1.052784</td>\n",
              "      <td>-5.666703</td>\n",
              "      <td>-0.740262</td>\n",
              "      <td>...</td>\n",
              "      <td>-2.337642</td>\n",
              "      <td>1.325933</td>\n",
              "      <td>0.084485</td>\n",
              "      <td>0.595698</td>\n",
              "      <td>0.556708</td>\n",
              "      <td>0.127174</td>\n",
              "      <td>0.065539</td>\n",
              "      <td>0.351268</td>\n",
              "      <td>7.63</td>\n",
              "      <td>0</td>\n",
              "    </tr>\n",
              "    <tr>\n",
              "      <th>112796</th>\n",
              "      <td>72809.0</td>\n",
              "      <td>-0.641061</td>\n",
              "      <td>-0.427413</td>\n",
              "      <td>1.164048</td>\n",
              "      <td>0.838731</td>\n",
              "      <td>-1.063626</td>\n",
              "      <td>0.425806</td>\n",
              "      <td>0.849339</td>\n",
              "      <td>0.087597</td>\n",
              "      <td>-1.256331</td>\n",
              "      <td>...</td>\n",
              "      <td>-0.223731</td>\n",
              "      <td>-0.468375</td>\n",
              "      <td>0.527530</td>\n",
              "      <td>-0.025806</td>\n",
              "      <td>-0.230298</td>\n",
              "      <td>-0.240602</td>\n",
              "      <td>0.112758</td>\n",
              "      <td>0.162172</td>\n",
              "      <td>249.55</td>\n",
              "      <td>0</td>\n",
              "    </tr>\n",
              "    <tr>\n",
              "      <th>62180</th>\n",
              "      <td>50165.0</td>\n",
              "      <td>1.137152</td>\n",
              "      <td>0.134520</td>\n",
              "      <td>0.196730</td>\n",
              "      <td>0.955990</td>\n",
              "      <td>-0.180340</td>\n",
              "      <td>-0.449203</td>\n",
              "      <td>0.110193</td>\n",
              "      <td>-0.016425</td>\n",
              "      <td>-0.153566</td>\n",
              "      <td>...</td>\n",
              "      <td>-0.105484</td>\n",
              "      <td>-0.459330</td>\n",
              "      <td>-0.054167</td>\n",
              "      <td>-0.034960</td>\n",
              "      <td>0.480227</td>\n",
              "      <td>-0.524949</td>\n",
              "      <td>-0.000886</td>\n",
              "      <td>0.017088</td>\n",
              "      <td>46.32</td>\n",
              "      <td>0</td>\n",
              "    </tr>\n",
              "    <tr>\n",
              "      <th>270949</th>\n",
              "      <td>164342.0</td>\n",
              "      <td>-1.644534</td>\n",
              "      <td>-0.305258</td>\n",
              "      <td>1.825990</td>\n",
              "      <td>-0.407615</td>\n",
              "      <td>0.825329</td>\n",
              "      <td>-0.415748</td>\n",
              "      <td>0.058989</td>\n",
              "      <td>0.072418</td>\n",
              "      <td>-0.042421</td>\n",
              "      <td>...</td>\n",
              "      <td>-0.131465</td>\n",
              "      <td>-0.279544</td>\n",
              "      <td>-0.438399</td>\n",
              "      <td>-0.331543</td>\n",
              "      <td>0.366299</td>\n",
              "      <td>-0.728682</td>\n",
              "      <td>0.164486</td>\n",
              "      <td>-0.019817</td>\n",
              "      <td>100.00</td>\n",
              "      <td>0</td>\n",
              "    </tr>\n",
              "    <tr>\n",
              "      <th>49386</th>\n",
              "      <td>44035.0</td>\n",
              "      <td>-0.092847</td>\n",
              "      <td>1.137565</td>\n",
              "      <td>1.253136</td>\n",
              "      <td>2.005960</td>\n",
              "      <td>0.778232</td>\n",
              "      <td>0.436899</td>\n",
              "      <td>0.497463</td>\n",
              "      <td>0.109612</td>\n",
              "      <td>-1.602497</td>\n",
              "      <td>...</td>\n",
              "      <td>0.035774</td>\n",
              "      <td>0.058939</td>\n",
              "      <td>-0.098396</td>\n",
              "      <td>-0.524033</td>\n",
              "      <td>-0.394819</td>\n",
              "      <td>-0.076865</td>\n",
              "      <td>0.089866</td>\n",
              "      <td>0.070062</td>\n",
              "      <td>5.48</td>\n",
              "      <td>0</td>\n",
              "    </tr>\n",
              "  </tbody>\n",
              "</table>\n",
              "<p>9 rows × 31 columns</p>\n",
              "</div>\n",
              "      <button class=\"colab-df-convert\" onclick=\"convertToInteractive('df-a3c2bd80-d2c1-4d45-8521-6f083ca26946')\"\n",
              "              title=\"Convert this dataframe to an interactive table.\"\n",
              "              style=\"display:none;\">\n",
              "        \n",
              "  <svg xmlns=\"http://www.w3.org/2000/svg\" height=\"24px\"viewBox=\"0 0 24 24\"\n",
              "       width=\"24px\">\n",
              "    <path d=\"M0 0h24v24H0V0z\" fill=\"none\"/>\n",
              "    <path d=\"M18.56 5.44l.94 2.06.94-2.06 2.06-.94-2.06-.94-.94-2.06-.94 2.06-2.06.94zm-11 1L8.5 8.5l.94-2.06 2.06-.94-2.06-.94L8.5 2.5l-.94 2.06-2.06.94zm10 10l.94 2.06.94-2.06 2.06-.94-2.06-.94-.94-2.06-.94 2.06-2.06.94z\"/><path d=\"M17.41 7.96l-1.37-1.37c-.4-.4-.92-.59-1.43-.59-.52 0-1.04.2-1.43.59L10.3 9.45l-7.72 7.72c-.78.78-.78 2.05 0 2.83L4 21.41c.39.39.9.59 1.41.59.51 0 1.02-.2 1.41-.59l7.78-7.78 2.81-2.81c.8-.78.8-2.07 0-2.86zM5.41 20L4 18.59l7.72-7.72 1.47 1.35L5.41 20z\"/>\n",
              "  </svg>\n",
              "      </button>\n",
              "      \n",
              "  <style>\n",
              "    .colab-df-container {\n",
              "      display:flex;\n",
              "      flex-wrap:wrap;\n",
              "      gap: 12px;\n",
              "    }\n",
              "\n",
              "    .colab-df-convert {\n",
              "      background-color: #E8F0FE;\n",
              "      border: none;\n",
              "      border-radius: 50%;\n",
              "      cursor: pointer;\n",
              "      display: none;\n",
              "      fill: #1967D2;\n",
              "      height: 32px;\n",
              "      padding: 0 0 0 0;\n",
              "      width: 32px;\n",
              "    }\n",
              "\n",
              "    .colab-df-convert:hover {\n",
              "      background-color: #E2EBFA;\n",
              "      box-shadow: 0px 1px 2px rgba(60, 64, 67, 0.3), 0px 1px 3px 1px rgba(60, 64, 67, 0.15);\n",
              "      fill: #174EA6;\n",
              "    }\n",
              "\n",
              "    [theme=dark] .colab-df-convert {\n",
              "      background-color: #3B4455;\n",
              "      fill: #D2E3FC;\n",
              "    }\n",
              "\n",
              "    [theme=dark] .colab-df-convert:hover {\n",
              "      background-color: #434B5C;\n",
              "      box-shadow: 0px 1px 3px 1px rgba(0, 0, 0, 0.15);\n",
              "      filter: drop-shadow(0px 1px 2px rgba(0, 0, 0, 0.3));\n",
              "      fill: #FFFFFF;\n",
              "    }\n",
              "  </style>\n",
              "\n",
              "      <script>\n",
              "        const buttonEl =\n",
              "          document.querySelector('#df-a3c2bd80-d2c1-4d45-8521-6f083ca26946 button.colab-df-convert');\n",
              "        buttonEl.style.display =\n",
              "          google.colab.kernel.accessAllowed ? 'block' : 'none';\n",
              "\n",
              "        async function convertToInteractive(key) {\n",
              "          const element = document.querySelector('#df-a3c2bd80-d2c1-4d45-8521-6f083ca26946');\n",
              "          const dataTable =\n",
              "            await google.colab.kernel.invokeFunction('convertToInteractive',\n",
              "                                                     [key], {});\n",
              "          if (!dataTable) return;\n",
              "\n",
              "          const docLinkHtml = 'Like what you see? Visit the ' +\n",
              "            '<a target=\"_blank\" href=https://colab.research.google.com/notebooks/data_table.ipynb>data table notebook</a>'\n",
              "            + ' to learn more about interactive tables.';\n",
              "          element.innerHTML = '';\n",
              "          dataTable['output_type'] = 'display_data';\n",
              "          await google.colab.output.renderOutput(dataTable, element);\n",
              "          const docLink = document.createElement('div');\n",
              "          docLink.innerHTML = docLinkHtml;\n",
              "          element.appendChild(docLink);\n",
              "        }\n",
              "      </script>\n",
              "    </div>\n",
              "  </div>\n",
              "  "
            ]
          },
          "metadata": {},
          "execution_count": 2
        }
      ]
    },
    {
      "cell_type": "code",
      "source": [
        "#Data Preprocessing\n",
        "#Check null values.\n",
        "CR_FD.isnull().sum()"
      ],
      "metadata": {
        "colab": {
          "base_uri": "https://localhost:8080/"
        },
        "id": "Y5eL-IVgBa3r",
        "outputId": "6801a270-1f32-40bd-aecc-7d72bc80eca4"
      },
      "execution_count": 3,
      "outputs": [
        {
          "output_type": "execute_result",
          "data": {
            "text/plain": [
              "Time      0\n",
              "V1        0\n",
              "V2        0\n",
              "V3        0\n",
              "V4        0\n",
              "V5        0\n",
              "V6        0\n",
              "V7        0\n",
              "V8        0\n",
              "V9        0\n",
              "V10       0\n",
              "V11       0\n",
              "V12       0\n",
              "V13       0\n",
              "V14       0\n",
              "V15       0\n",
              "V16       0\n",
              "V17       0\n",
              "V18       0\n",
              "V19       0\n",
              "V20       0\n",
              "V21       0\n",
              "V22       0\n",
              "V23       0\n",
              "V24       0\n",
              "V25       0\n",
              "V26       0\n",
              "V27       0\n",
              "V28       0\n",
              "Amount    0\n",
              "Class     0\n",
              "dtype: int64"
            ]
          },
          "metadata": {},
          "execution_count": 3
        }
      ]
    },
    {
      "cell_type": "code",
      "source": [
        "CR_FD.duplicated().sum()"
      ],
      "metadata": {
        "colab": {
          "base_uri": "https://localhost:8080/"
        },
        "id": "MgYayZLmCHFt",
        "outputId": "e1dfbaf2-50fd-4d34-8575-489b81fae208"
      },
      "execution_count": 4,
      "outputs": [
        {
          "output_type": "execute_result",
          "data": {
            "text/plain": [
              "1081"
            ]
          },
          "metadata": {},
          "execution_count": 4
        }
      ]
    },
    {
      "cell_type": "code",
      "source": [
        "#To remove duplicate row\n",
        "CR_FD.drop_duplicates(inplace=True)"
      ],
      "metadata": {
        "id": "ozqQVhg9CNRd"
      },
      "execution_count": 5,
      "outputs": []
    },
    {
      "cell_type": "code",
      "source": [
        "CR_FD.duplicated().sum()"
      ],
      "metadata": {
        "colab": {
          "base_uri": "https://localhost:8080/"
        },
        "id": "-eoGtV9SCTnV",
        "outputId": "60e76a3b-53fe-456b-eece-eb0ea10b1e16"
      },
      "execution_count": 6,
      "outputs": [
        {
          "output_type": "execute_result",
          "data": {
            "text/plain": [
              "0"
            ]
          },
          "metadata": {},
          "execution_count": 6
        }
      ]
    },
    {
      "cell_type": "code",
      "source": [
        "CR_FD.dtypes"
      ],
      "metadata": {
        "colab": {
          "base_uri": "https://localhost:8080/"
        },
        "id": "otPntd9TCWkz",
        "outputId": "e5ad5fc7-b6ba-442e-d934-bd3fb1777864"
      },
      "execution_count": 7,
      "outputs": [
        {
          "output_type": "execute_result",
          "data": {
            "text/plain": [
              "Time      float64\n",
              "V1        float64\n",
              "V2        float64\n",
              "V3        float64\n",
              "V4        float64\n",
              "V5        float64\n",
              "V6        float64\n",
              "V7        float64\n",
              "V8        float64\n",
              "V9        float64\n",
              "V10       float64\n",
              "V11       float64\n",
              "V12       float64\n",
              "V13       float64\n",
              "V14       float64\n",
              "V15       float64\n",
              "V16       float64\n",
              "V17       float64\n",
              "V18       float64\n",
              "V19       float64\n",
              "V20       float64\n",
              "V21       float64\n",
              "V22       float64\n",
              "V23       float64\n",
              "V24       float64\n",
              "V25       float64\n",
              "V26       float64\n",
              "V27       float64\n",
              "V28       float64\n",
              "Amount    float64\n",
              "Class       int64\n",
              "dtype: object"
            ]
          },
          "metadata": {},
          "execution_count": 7
        }
      ]
    },
    {
      "cell_type": "code",
      "source": [
        "#Check balance of dataset.\n",
        "CR_FD['Class'].value_counts()"
      ],
      "metadata": {
        "colab": {
          "base_uri": "https://localhost:8080/"
        },
        "id": "X3oFIcKtCcj9",
        "outputId": "33990c70-ab92-47a8-cdef-6508a7129c47"
      },
      "execution_count": 8,
      "outputs": [
        {
          "output_type": "execute_result",
          "data": {
            "text/plain": [
              "0    283253\n",
              "1       473\n",
              "Name: Class, dtype: int64"
            ]
          },
          "metadata": {},
          "execution_count": 8
        }
      ]
    },
    {
      "cell_type": "code",
      "source": [
        "CR_FD\n",
        "IP = CR_FD.drop(['Class'],axis=1)\n",
        "OP = CR_FD['Class']"
      ],
      "metadata": {
        "id": "k8FKrDU8CnJZ"
      },
      "execution_count": 9,
      "outputs": []
    },
    {
      "cell_type": "code",
      "source": [
        "#Train test split\n",
        "from sklearn.model_selection import train_test_split\n",
        "I_P_train,I_P_test,O_P_train,O_P_test=train_test_split(IP,OP,test_size=0.3,random_state=1)"
      ],
      "metadata": {
        "id": "eLCySFHtEfo1"
      },
      "execution_count": 10,
      "outputs": []
    },
    {
      "cell_type": "code",
      "source": [
        "#Training the standard scalar on I_P_train and I_P_test input data.\n",
        "from sklearn.preprocessing import StandardScaler\n",
        "#Create object of StandardScaler class\n",
        "S_S = StandardScaler()\n",
        "I_P_train=S_S.fit_transform(I_P_train)\n",
        "I_P_test=S_S.transform(I_P_test)"
      ],
      "metadata": {
        "id": "ysGFrvPdExKy"
      },
      "execution_count": 11,
      "outputs": []
    },
    {
      "cell_type": "code",
      "source": [
        "I_P_train.shape"
      ],
      "metadata": {
        "colab": {
          "base_uri": "https://localhost:8080/"
        },
        "id": "7mPIHn0sE0Ja",
        "outputId": "271fd6cb-887c-47de-85de-a000261081a3"
      },
      "execution_count": 12,
      "outputs": [
        {
          "output_type": "execute_result",
          "data": {
            "text/plain": [
              "(198608, 30)"
            ]
          },
          "metadata": {},
          "execution_count": 12
        }
      ]
    },
    {
      "cell_type": "code",
      "source": [
        "#Clearly Data is imbalance\n",
        "#Here, there are 2 classes : first class : 0 means income <50k\n",
        "#and second class : 1 means Income>=50k\n",
        "#here majority class : 0 and minority class : 1\n",
        "#Here we have to balance of both classes\n",
        "#means here we have to use sampling technique for baqlance of 2 classes\n",
        "#There are 2 types of sampling technique :-\n",
        "#1. RandomOverSampling : in this sampling , converts minority class into\n",
        "#majority class\n",
        "#2. RandonUnderSampling : in this sampling , converts majority class into\n",
        "#minority class"
      ],
      "metadata": {
        "id": "nhACVmYXE4cf"
      },
      "execution_count": 13,
      "outputs": []
    },
    {
      "cell_type": "code",
      "source": [
        "#First install inbuilt package imblearn\n",
        "!pip install imblearn\n",
        "#Random oversampler : To create duplicate Minor samplings to meet the no. of major samplings.\n",
        "from imblearn.over_sampling import RandomOverSampler\n",
        "#Apply RandomOverSampler\n",
        "#First create an object\n",
        "R_O_S = RandomOverSampler()"
      ],
      "metadata": {
        "colab": {
          "base_uri": "https://localhost:8080/"
        },
        "id": "9FzU1XtcE8Rs",
        "outputId": "ae5c5624-e9d8-4d66-95a9-0dec004f7391"
      },
      "execution_count": 14,
      "outputs": [
        {
          "output_type": "stream",
          "name": "stdout",
          "text": [
            "Looking in indexes: https://pypi.org/simple, https://us-python.pkg.dev/colab-wheels/public/simple/\n",
            "Requirement already satisfied: imblearn in /usr/local/lib/python3.7/dist-packages (0.0)\n",
            "Requirement already satisfied: imbalanced-learn in /usr/local/lib/python3.7/dist-packages (from imblearn) (0.8.1)\n",
            "Requirement already satisfied: joblib>=0.11 in /usr/local/lib/python3.7/dist-packages (from imbalanced-learn->imblearn) (1.1.0)\n",
            "Requirement already satisfied: numpy>=1.13.3 in /usr/local/lib/python3.7/dist-packages (from imbalanced-learn->imblearn) (1.21.6)\n",
            "Requirement already satisfied: scikit-learn>=0.24 in /usr/local/lib/python3.7/dist-packages (from imbalanced-learn->imblearn) (1.0.2)\n",
            "Requirement already satisfied: scipy>=0.19.1 in /usr/local/lib/python3.7/dist-packages (from imbalanced-learn->imblearn) (1.4.1)\n",
            "Requirement already satisfied: threadpoolctl>=2.0.0 in /usr/local/lib/python3.7/dist-packages (from scikit-learn>=0.24->imbalanced-learn->imblearn) (3.1.0)\n"
          ]
        }
      ]
    },
    {
      "cell_type": "code",
      "source": [
        "#Resampling the training samples\n",
        "IP_train_S,OP_train_S=R_O_S.fit_resample(I_P_train,O_P_train)"
      ],
      "metadata": {
        "id": "K3ZHZyXpFBcd"
      },
      "execution_count": 15,
      "outputs": []
    },
    {
      "cell_type": "code",
      "source": [
        "#Resampling the testing samples\n",
        "IP_test_S,OP_test_S=R_O_S.fit_resample(I_P_test,O_P_test)"
      ],
      "metadata": {
        "id": "Adcl5aicFj0r"
      },
      "execution_count": 16,
      "outputs": []
    },
    {
      "cell_type": "code",
      "source": [
        "IP.shape"
      ],
      "metadata": {
        "colab": {
          "base_uri": "https://localhost:8080/"
        },
        "id": "GMtr93YAF4tL",
        "outputId": "b1a758f7-3b1e-4a86-b083-fc906a0d940f"
      },
      "execution_count": 17,
      "outputs": [
        {
          "output_type": "execute_result",
          "data": {
            "text/plain": [
              "(283726, 30)"
            ]
          },
          "metadata": {},
          "execution_count": 17
        }
      ]
    },
    {
      "cell_type": "code",
      "source": [
        "IP.shape[1]"
      ],
      "metadata": {
        "colab": {
          "base_uri": "https://localhost:8080/"
        },
        "id": "V66ULK3qHKd1",
        "outputId": "4c38ab87-1e3e-4946-dfd1-7bdf84de34d8"
      },
      "execution_count": 18,
      "outputs": [
        {
          "output_type": "execute_result",
          "data": {
            "text/plain": [
              "30"
            ]
          },
          "metadata": {},
          "execution_count": 18
        }
      ]
    },
    {
      "cell_type": "code",
      "source": [
        "# to apply regularization :\n",
        "from tensorflow.keras import regularizers\n",
        "# regularizers is method of keras\n",
        "#create object of Sequential class\n",
        "model=TF.keras.models.Sequential([\n",
        "  TF.keras.layers.Dense(units=72,activation='relu',input_shape=(IP.shape[1],),\n",
        "   kernel_regularizer = regularizers.l2(0.21)),TF.keras.layers.Dropout(0.5),\n",
        "  #first hidden layer\n",
        "  TF.keras.layers.Dense(units=72,activation='relu',\n",
        "  kernel_regularizer = regularizers.l2(0.21)), #hidden layer2\n",
        "  TF.keras.layers.Dropout(0.5),\n",
        "  TF.keras.layers.Dense(units=36,activation='relu',kernel_regularizer = regularizers.l2(0.01)),TF.keras.layers.Dropout(0.30),\n",
        "  #hidden layer3\n",
        "  TF.keras.layers.Dense(units=1,activation='sigmoid',kernel_regularizer = regularizers.l1(0.01))\n",
        "])"
      ],
      "metadata": {
        "id": "dqgRT71yGvcJ"
      },
      "execution_count": 42,
      "outputs": []
    },
    {
      "cell_type": "code",
      "source": [
        "model.summary()"
      ],
      "metadata": {
        "colab": {
          "base_uri": "https://localhost:8080/"
        },
        "id": "8bKWc_J_HMr0",
        "outputId": "6749707c-51de-46ea-d382-d7a7fed0edd4"
      },
      "execution_count": 43,
      "outputs": [
        {
          "output_type": "stream",
          "name": "stdout",
          "text": [
            "Model: \"sequential_2\"\n",
            "_________________________________________________________________\n",
            " Layer (type)                Output Shape              Param #   \n",
            "=================================================================\n",
            " dense_6 (Dense)             (None, 72)                2232      \n",
            "                                                                 \n",
            " dropout_4 (Dropout)         (None, 72)                0         \n",
            "                                                                 \n",
            " dense_7 (Dense)             (None, 72)                5256      \n",
            "                                                                 \n",
            " dropout_5 (Dropout)         (None, 72)                0         \n",
            "                                                                 \n",
            " dense_8 (Dense)             (None, 36)                2628      \n",
            "                                                                 \n",
            " dropout_6 (Dropout)         (None, 36)                0         \n",
            "                                                                 \n",
            " dense_9 (Dense)             (None, 1)                 37        \n",
            "                                                                 \n",
            "=================================================================\n",
            "Total params: 10,153\n",
            "Trainable params: 10,153\n",
            "Non-trainable params: 0\n",
            "_________________________________________________________________\n"
          ]
        }
      ]
    },
    {
      "cell_type": "code",
      "source": [
        "#Compile the model\n",
        "model.compile(optimizer='Adam',loss='binary_crossentropy',metrics=['accuracy'])"
      ],
      "metadata": {
        "id": "bq2PakEYHUIl"
      },
      "execution_count": 44,
      "outputs": []
    },
    {
      "cell_type": "code",
      "source": [
        "#Early Stopping :\n",
        "from tensorflow.keras.callbacks import EarlyStopping            \n",
        "#callbacks inbuilt parameter of fit() \n",
        "#create callback : Call_B -\n",
        "#EarlyStopping() inbuilt function\n",
        "Call_B=EarlyStopping(\n",
        "    monitor=\"val_loss\",  #val_loss means testing error\n",
        "    min_delta=0.00001, #value of lambda \n",
        "    patience=20,\n",
        "    verbose=1,\n",
        "    mode=\"auto\", #min loss \n",
        "    baseline=None,\n",
        "    restore_best_weights=False\n",
        ")"
      ],
      "metadata": {
        "id": "JZz3UjshJDY3"
      },
      "execution_count": 45,
      "outputs": []
    },
    {
      "cell_type": "code",
      "source": [
        "#Train the model,use inbuilt method fit()\n",
        "Trained_Model = model.fit(IP_train_S,OP_train_S,epochs=5400,batch_size=100,validation_data=(IP_test_S,OP_test_S),callbacks = Call_B)\n",
        "#Trained_Model user defined object"
      ],
      "metadata": {
        "colab": {
          "base_uri": "https://localhost:8080/"
        },
        "id": "zig7FBmEH7Fd",
        "outputId": "cd4ca51c-cf71-4412-aca2-d8dbbc51ec9d"
      },
      "execution_count": 46,
      "outputs": [
        {
          "output_type": "stream",
          "name": "stdout",
          "text": [
            "Epoch 1/5400\n",
            "3966/3966 [==============================] - 15s 4ms/step - loss: 0.8233 - accuracy: 0.9304 - val_loss: 0.4216 - val_accuracy: 0.8947\n",
            "Epoch 2/5400\n",
            "3966/3966 [==============================] - 14s 3ms/step - loss: 0.3660 - accuracy: 0.9341 - val_loss: 0.3970 - val_accuracy: 0.8980\n",
            "Epoch 3/5400\n",
            "3966/3966 [==============================] - 14s 3ms/step - loss: 0.3570 - accuracy: 0.9340 - val_loss: 0.3972 - val_accuracy: 0.8970\n",
            "Epoch 4/5400\n",
            "3966/3966 [==============================] - 13s 3ms/step - loss: 0.3566 - accuracy: 0.9339 - val_loss: 0.4007 - val_accuracy: 0.8950\n",
            "Epoch 5/5400\n",
            "3966/3966 [==============================] - 14s 3ms/step - loss: 0.3564 - accuracy: 0.9339 - val_loss: 0.3973 - val_accuracy: 0.8942\n",
            "Epoch 6/5400\n",
            "3966/3966 [==============================] - 14s 3ms/step - loss: 0.3566 - accuracy: 0.9339 - val_loss: 0.3962 - val_accuracy: 0.9011\n",
            "Epoch 7/5400\n",
            "3966/3966 [==============================] - 14s 3ms/step - loss: 0.3566 - accuracy: 0.9339 - val_loss: 0.3952 - val_accuracy: 0.8940\n",
            "Epoch 8/5400\n",
            "3966/3966 [==============================] - 14s 3ms/step - loss: 0.3564 - accuracy: 0.9337 - val_loss: 0.3975 - val_accuracy: 0.8942\n",
            "Epoch 9/5400\n",
            "3966/3966 [==============================] - 14s 3ms/step - loss: 0.3565 - accuracy: 0.9337 - val_loss: 0.4014 - val_accuracy: 0.9016\n",
            "Epoch 10/5400\n",
            "3966/3966 [==============================] - 14s 3ms/step - loss: 0.3566 - accuracy: 0.9342 - val_loss: 0.3929 - val_accuracy: 0.9010\n",
            "Epoch 11/5400\n",
            "3966/3966 [==============================] - 14s 3ms/step - loss: 0.3568 - accuracy: 0.9338 - val_loss: 0.3984 - val_accuracy: 0.8946\n",
            "Epoch 12/5400\n",
            "3966/3966 [==============================] - 13s 3ms/step - loss: 0.3564 - accuracy: 0.9339 - val_loss: 0.3949 - val_accuracy: 0.8946\n",
            "Epoch 13/5400\n",
            "3966/3966 [==============================] - 13s 3ms/step - loss: 0.3565 - accuracy: 0.9337 - val_loss: 0.3944 - val_accuracy: 0.9006\n",
            "Epoch 14/5400\n",
            "3966/3966 [==============================] - 14s 4ms/step - loss: 0.3566 - accuracy: 0.9338 - val_loss: 0.3967 - val_accuracy: 0.8934\n",
            "Epoch 15/5400\n",
            "3966/3966 [==============================] - 14s 3ms/step - loss: 0.3564 - accuracy: 0.9339 - val_loss: 0.3982 - val_accuracy: 0.8982\n",
            "Epoch 16/5400\n",
            "3966/3966 [==============================] - 14s 3ms/step - loss: 0.3567 - accuracy: 0.9339 - val_loss: 0.3986 - val_accuracy: 0.9010\n",
            "Epoch 17/5400\n",
            "3966/3966 [==============================] - 13s 3ms/step - loss: 0.3564 - accuracy: 0.9336 - val_loss: 0.3992 - val_accuracy: 0.8965\n",
            "Epoch 18/5400\n",
            "3966/3966 [==============================] - 14s 3ms/step - loss: 0.3565 - accuracy: 0.9337 - val_loss: 0.4050 - val_accuracy: 0.8955\n",
            "Epoch 19/5400\n",
            "3966/3966 [==============================] - 14s 3ms/step - loss: 0.3563 - accuracy: 0.9341 - val_loss: 0.3934 - val_accuracy: 0.9004\n",
            "Epoch 20/5400\n",
            "3966/3966 [==============================] - 14s 3ms/step - loss: 0.3562 - accuracy: 0.9338 - val_loss: 0.4003 - val_accuracy: 0.8949\n",
            "Epoch 21/5400\n",
            "3966/3966 [==============================] - 14s 3ms/step - loss: 0.3567 - accuracy: 0.9335 - val_loss: 0.3973 - val_accuracy: 0.9001\n",
            "Epoch 22/5400\n",
            "3966/3966 [==============================] - 13s 3ms/step - loss: 0.3569 - accuracy: 0.9333 - val_loss: 0.4005 - val_accuracy: 0.8950\n",
            "Epoch 23/5400\n",
            "3966/3966 [==============================] - 14s 3ms/step - loss: 0.3567 - accuracy: 0.9338 - val_loss: 0.3999 - val_accuracy: 0.8977\n",
            "Epoch 24/5400\n",
            "3966/3966 [==============================] - 14s 3ms/step - loss: 0.3567 - accuracy: 0.9340 - val_loss: 0.3922 - val_accuracy: 0.8974\n",
            "Epoch 25/5400\n",
            "3966/3966 [==============================] - 14s 3ms/step - loss: 0.3562 - accuracy: 0.9341 - val_loss: 0.3966 - val_accuracy: 0.8939\n",
            "Epoch 26/5400\n",
            "3966/3966 [==============================] - 14s 4ms/step - loss: 0.3565 - accuracy: 0.9339 - val_loss: 0.4009 - val_accuracy: 0.8967\n",
            "Epoch 27/5400\n",
            "3966/3966 [==============================] - 14s 3ms/step - loss: 0.3562 - accuracy: 0.9339 - val_loss: 0.3954 - val_accuracy: 0.9025\n",
            "Epoch 28/5400\n",
            "3966/3966 [==============================] - 14s 4ms/step - loss: 0.3563 - accuracy: 0.9341 - val_loss: 0.3952 - val_accuracy: 0.8948\n",
            "Epoch 29/5400\n",
            "3966/3966 [==============================] - 14s 3ms/step - loss: 0.3566 - accuracy: 0.9339 - val_loss: 0.3952 - val_accuracy: 0.9002\n",
            "Epoch 30/5400\n",
            "3966/3966 [==============================] - 14s 4ms/step - loss: 0.3564 - accuracy: 0.9337 - val_loss: 0.3991 - val_accuracy: 0.8963\n",
            "Epoch 31/5400\n",
            "3966/3966 [==============================] - 14s 3ms/step - loss: 0.3562 - accuracy: 0.9341 - val_loss: 0.3982 - val_accuracy: 0.8944\n",
            "Epoch 32/5400\n",
            "3966/3966 [==============================] - 14s 3ms/step - loss: 0.3566 - accuracy: 0.9337 - val_loss: 0.3898 - val_accuracy: 0.9014\n",
            "Epoch 33/5400\n",
            "3966/3966 [==============================] - 14s 3ms/step - loss: 0.3562 - accuracy: 0.9340 - val_loss: 0.3948 - val_accuracy: 0.9014\n",
            "Epoch 34/5400\n",
            "3966/3966 [==============================] - 13s 3ms/step - loss: 0.3561 - accuracy: 0.9339 - val_loss: 0.3937 - val_accuracy: 0.9010\n",
            "Epoch 35/5400\n",
            "3966/3966 [==============================] - 14s 3ms/step - loss: 0.3563 - accuracy: 0.9336 - val_loss: 0.3962 - val_accuracy: 0.8971\n",
            "Epoch 36/5400\n",
            "3966/3966 [==============================] - 14s 3ms/step - loss: 0.3563 - accuracy: 0.9340 - val_loss: 0.3955 - val_accuracy: 0.8995\n",
            "Epoch 37/5400\n",
            "3966/3966 [==============================] - 16s 4ms/step - loss: 0.3569 - accuracy: 0.9338 - val_loss: 0.4039 - val_accuracy: 0.8960\n",
            "Epoch 38/5400\n",
            "3966/3966 [==============================] - 14s 3ms/step - loss: 0.3566 - accuracy: 0.9337 - val_loss: 0.3993 - val_accuracy: 0.9028\n",
            "Epoch 39/5400\n",
            "3966/3966 [==============================] - 13s 3ms/step - loss: 0.3559 - accuracy: 0.9340 - val_loss: 0.4055 - val_accuracy: 0.8960\n",
            "Epoch 40/5400\n",
            "3966/3966 [==============================] - 14s 3ms/step - loss: 0.3570 - accuracy: 0.9335 - val_loss: 0.3986 - val_accuracy: 0.8975\n",
            "Epoch 41/5400\n",
            "3966/3966 [==============================] - 13s 3ms/step - loss: 0.3566 - accuracy: 0.9338 - val_loss: 0.3987 - val_accuracy: 0.8946\n",
            "Epoch 42/5400\n",
            "3966/3966 [==============================] - 14s 3ms/step - loss: 0.3570 - accuracy: 0.9335 - val_loss: 0.3941 - val_accuracy: 0.9006\n",
            "Epoch 43/5400\n",
            "3966/3966 [==============================] - 14s 3ms/step - loss: 0.3562 - accuracy: 0.9341 - val_loss: 0.3945 - val_accuracy: 0.8998\n",
            "Epoch 44/5400\n",
            "3966/3966 [==============================] - 14s 3ms/step - loss: 0.3570 - accuracy: 0.9338 - val_loss: 0.3987 - val_accuracy: 0.8997\n",
            "Epoch 45/5400\n",
            "3966/3966 [==============================] - 14s 4ms/step - loss: 0.3563 - accuracy: 0.9342 - val_loss: 0.4033 - val_accuracy: 0.8955\n",
            "Epoch 46/5400\n",
            "3966/3966 [==============================] - 14s 3ms/step - loss: 0.3570 - accuracy: 0.9337 - val_loss: 0.4001 - val_accuracy: 0.8956\n",
            "Epoch 47/5400\n",
            "3966/3966 [==============================] - 14s 3ms/step - loss: 0.3564 - accuracy: 0.9338 - val_loss: 0.4040 - val_accuracy: 0.8952\n",
            "Epoch 48/5400\n",
            "3966/3966 [==============================] - 14s 4ms/step - loss: 0.3564 - accuracy: 0.9341 - val_loss: 0.3926 - val_accuracy: 0.8998\n",
            "Epoch 49/5400\n",
            "3966/3966 [==============================] - 14s 3ms/step - loss: 0.3569 - accuracy: 0.9339 - val_loss: 0.3982 - val_accuracy: 0.9000\n",
            "Epoch 50/5400\n",
            "3966/3966 [==============================] - 14s 3ms/step - loss: 0.3568 - accuracy: 0.9340 - val_loss: 0.4044 - val_accuracy: 0.8942\n",
            "Epoch 51/5400\n",
            "3966/3966 [==============================] - 14s 3ms/step - loss: 0.3564 - accuracy: 0.9338 - val_loss: 0.4060 - val_accuracy: 0.8973\n",
            "Epoch 52/5400\n",
            "3966/3966 [==============================] - 14s 3ms/step - loss: 0.3565 - accuracy: 0.9342 - val_loss: 0.4008 - val_accuracy: 0.8964\n",
            "Epoch 52: early stopping\n"
          ]
        }
      ]
    },
    {
      "cell_type": "code",
      "source": [
        "model.evaluate(IP_train_S,OP_train_S)"
      ],
      "metadata": {
        "colab": {
          "base_uri": "https://localhost:8080/"
        },
        "id": "K1viCbSHIJ-Z",
        "outputId": "fec6c958-85a0-4792-fa70-2eb11d6ea540"
      },
      "execution_count": 47,
      "outputs": [
        {
          "output_type": "stream",
          "name": "stdout",
          "text": [
            "12392/12392 [==============================] - 21s 2ms/step - loss: 0.3360 - accuracy: 0.9397\n"
          ]
        },
        {
          "output_type": "execute_result",
          "data": {
            "text/plain": [
              "[0.336031049489975, 0.9396953582763672]"
            ]
          },
          "metadata": {},
          "execution_count": 47
        }
      ]
    },
    {
      "cell_type": "code",
      "source": [
        "model.evaluate(IP_test_S,OP_test_S)"
      ],
      "metadata": {
        "colab": {
          "base_uri": "https://localhost:8080/"
        },
        "id": "YK_zn5k8QGQF",
        "outputId": "56053b7a-b986-4385-9047-a722e3cc04c4"
      },
      "execution_count": 48,
      "outputs": [
        {
          "output_type": "stream",
          "name": "stdout",
          "text": [
            "5313/5313 [==============================] - 9s 2ms/step - loss: 0.4008 - accuracy: 0.8964\n"
          ]
        },
        {
          "output_type": "execute_result",
          "data": {
            "text/plain": [
              "[0.40075135231018066, 0.8963914513587952]"
            ]
          },
          "metadata": {},
          "execution_count": 48
        }
      ]
    },
    {
      "cell_type": "code",
      "source": [
        "#Find the prediction means test the model\n",
        "OP_pred = model.predict(IP_test_S).round(3)\n",
        "OP_pred"
      ],
      "metadata": {
        "colab": {
          "base_uri": "https://localhost:8080/"
        },
        "id": "DyVklt0BLfx_",
        "outputId": "80359b28-47ea-47cb-8aed-2fc891988687"
      },
      "execution_count": 49,
      "outputs": [
        {
          "output_type": "execute_result",
          "data": {
            "text/plain": [
              "array([[0.108],\n",
              "       [0.084],\n",
              "       [0.181],\n",
              "       ...,\n",
              "       [1.   ],\n",
              "       [1.   ],\n",
              "       [0.422]], dtype=float32)"
            ]
          },
          "metadata": {},
          "execution_count": 49
        }
      ]
    },
    {
      "cell_type": "code",
      "source": [
        "OP_pred = NP.where(OP_pred>=0.5,1,0)\n",
        "OP_pred"
      ],
      "metadata": {
        "colab": {
          "base_uri": "https://localhost:8080/"
        },
        "id": "utNi-Xm3Lo1B",
        "outputId": "fe706ed8-17cb-4660-fe10-224196546f3a"
      },
      "execution_count": 50,
      "outputs": [
        {
          "output_type": "execute_result",
          "data": {
            "text/plain": [
              "array([[0],\n",
              "       [0],\n",
              "       [0],\n",
              "       ...,\n",
              "       [1],\n",
              "       [1],\n",
              "       [0]])"
            ]
          },
          "metadata": {},
          "execution_count": 50
        }
      ]
    },
    {
      "cell_type": "code",
      "source": [
        "#Print Report \n",
        "from sklearn.metrics import classification_report,confusion_matrix\n",
        "print(classification_report(OP_test_S,OP_pred))\n",
        "print(confusion_matrix(OP_test_S,OP_pred))"
      ],
      "metadata": {
        "colab": {
          "base_uri": "https://localhost:8080/"
        },
        "id": "A79uYCCYLxKV",
        "outputId": "900beb06-1241-4e43-f633-d97fefd4ce91"
      },
      "execution_count": 54,
      "outputs": [
        {
          "output_type": "stream",
          "name": "stdout",
          "text": [
            "              precision    recall  f1-score   support\n",
            "\n",
            "           0       0.83      0.99      0.91     84993\n",
            "           1       0.99      0.80      0.89     84993\n",
            "\n",
            "    accuracy                           0.90    169986\n",
            "   macro avg       0.91      0.90      0.90    169986\n",
            "weighted avg       0.91      0.90      0.90    169986\n",
            "\n",
            "[[84540   453]\n",
            " [17159 67834]]\n"
          ]
        }
      ]
    },
    {
      "cell_type": "code",
      "source": [
        ""
      ],
      "metadata": {
        "id": "aF6cSv1gL1uM"
      },
      "execution_count": 53,
      "outputs": []
    }
  ]
}