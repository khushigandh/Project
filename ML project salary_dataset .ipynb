{
 "cells": [
  {
   "cell_type": "code",
   "execution_count": 1,
   "id": "0183be55",
   "metadata": {
    "id": "0183be55"
   },
   "outputs": [],
   "source": [
    "import numpy as np\n",
    "import pandas as pd\n",
    "import matplotlib.pyplot as plt\n",
    "import seaborn as sb\n",
    "import warnings\n",
    "warnings.filterwarnings('ignore')\n"
   ]
  },
  {
   "cell_type": "code",
   "execution_count": null,
   "id": "iEzMYmmiJHvD",
   "metadata": {
    "id": "iEzMYmmiJHvD"
   },
   "outputs": [],
   "source": []
  },
  {
   "cell_type": "code",
   "execution_count": 2,
   "id": "uYA4_tKHWPVK",
   "metadata": {
    "colab": {
     "base_uri": "https://localhost:8080/",
     "height": 35
    },
    "id": "uYA4_tKHWPVK",
    "outputId": "d78df6ed-925d-45d1-d5d5-6ecffa56b030"
   },
   "outputs": [
    {
     "data": {
      "text/plain": [
       "'C:\\\\Users\\\\Lenovo'"
      ]
     },
     "execution_count": 2,
     "metadata": {},
     "output_type": "execute_result"
    }
   ],
   "source": [
    "import os\n",
    "os.getcwd()"
   ]
  },
  {
   "cell_type": "code",
   "execution_count": 3,
   "id": "d9b83adb",
   "metadata": {
    "id": "d9b83adb"
   },
   "outputs": [],
   "source": [
    "df=pd.read_csv(\"salary1.csv\")"
   ]
  },
  {
   "cell_type": "code",
   "execution_count": 4,
   "id": "205d7374",
   "metadata": {
    "colab": {
     "base_uri": "https://localhost:8080/",
     "height": 399
    },
    "id": "205d7374",
    "outputId": "3365f111-e2ec-406c-f537-447d28153541"
   },
   "outputs": [
    {
     "data": {
      "text/html": [
       "<div>\n",
       "<style scoped>\n",
       "    .dataframe tbody tr th:only-of-type {\n",
       "        vertical-align: middle;\n",
       "    }\n",
       "\n",
       "    .dataframe tbody tr th {\n",
       "        vertical-align: top;\n",
       "    }\n",
       "\n",
       "    .dataframe thead th {\n",
       "        text-align: right;\n",
       "    }\n",
       "</style>\n",
       "<table border=\"1\" class=\"dataframe\">\n",
       "  <thead>\n",
       "    <tr style=\"text-align: right;\">\n",
       "      <th></th>\n",
       "      <th>Unnamed: 0</th>\n",
       "      <th>age</th>\n",
       "      <th>Workclass</th>\n",
       "      <th>fnlwgt</th>\n",
       "      <th>education</th>\n",
       "      <th>education-num</th>\n",
       "      <th>marital-status</th>\n",
       "      <th>occupation</th>\n",
       "      <th>relationship</th>\n",
       "      <th>race</th>\n",
       "      <th>sex</th>\n",
       "      <th>capital-gain</th>\n",
       "      <th>capital-loss</th>\n",
       "      <th>hours-per-week</th>\n",
       "      <th>native-country</th>\n",
       "      <th>Income</th>\n",
       "    </tr>\n",
       "  </thead>\n",
       "  <tbody>\n",
       "    <tr>\n",
       "      <th>0</th>\n",
       "      <td>0</td>\n",
       "      <td>39</td>\n",
       "      <td>State-gov</td>\n",
       "      <td>77516</td>\n",
       "      <td>Bachelors</td>\n",
       "      <td>13</td>\n",
       "      <td>Never-married</td>\n",
       "      <td>Adm-clerical</td>\n",
       "      <td>Not-in-family</td>\n",
       "      <td>White</td>\n",
       "      <td>Male</td>\n",
       "      <td>2174</td>\n",
       "      <td>0</td>\n",
       "      <td>40</td>\n",
       "      <td>United-States</td>\n",
       "      <td>0</td>\n",
       "    </tr>\n",
       "    <tr>\n",
       "      <th>1</th>\n",
       "      <td>1</td>\n",
       "      <td>50</td>\n",
       "      <td>Self-emp-not-inc</td>\n",
       "      <td>83311</td>\n",
       "      <td>Bachelors</td>\n",
       "      <td>13</td>\n",
       "      <td>Married-civ-spouse</td>\n",
       "      <td>Exec-managerial</td>\n",
       "      <td>Husband</td>\n",
       "      <td>White</td>\n",
       "      <td>Male</td>\n",
       "      <td>0</td>\n",
       "      <td>0</td>\n",
       "      <td>13</td>\n",
       "      <td>United-States</td>\n",
       "      <td>0</td>\n",
       "    </tr>\n",
       "    <tr>\n",
       "      <th>2</th>\n",
       "      <td>2</td>\n",
       "      <td>38</td>\n",
       "      <td>Private</td>\n",
       "      <td>215646</td>\n",
       "      <td>HS-grad</td>\n",
       "      <td>9</td>\n",
       "      <td>Divorced</td>\n",
       "      <td>Handlers-cleaners</td>\n",
       "      <td>Not-in-family</td>\n",
       "      <td>White</td>\n",
       "      <td>Male</td>\n",
       "      <td>0</td>\n",
       "      <td>0</td>\n",
       "      <td>40</td>\n",
       "      <td>United-States</td>\n",
       "      <td>0</td>\n",
       "    </tr>\n",
       "    <tr>\n",
       "      <th>3</th>\n",
       "      <td>3</td>\n",
       "      <td>53</td>\n",
       "      <td>Private</td>\n",
       "      <td>234721</td>\n",
       "      <td>11th</td>\n",
       "      <td>7</td>\n",
       "      <td>Married-civ-spouse</td>\n",
       "      <td>Handlers-cleaners</td>\n",
       "      <td>Husband</td>\n",
       "      <td>Black</td>\n",
       "      <td>Male</td>\n",
       "      <td>0</td>\n",
       "      <td>0</td>\n",
       "      <td>40</td>\n",
       "      <td>United-States</td>\n",
       "      <td>0</td>\n",
       "    </tr>\n",
       "    <tr>\n",
       "      <th>4</th>\n",
       "      <td>4</td>\n",
       "      <td>28</td>\n",
       "      <td>Private</td>\n",
       "      <td>338409</td>\n",
       "      <td>Bachelors</td>\n",
       "      <td>13</td>\n",
       "      <td>Married-civ-spouse</td>\n",
       "      <td>Prof-specialty</td>\n",
       "      <td>Wife</td>\n",
       "      <td>Black</td>\n",
       "      <td>Female</td>\n",
       "      <td>0</td>\n",
       "      <td>0</td>\n",
       "      <td>40</td>\n",
       "      <td>Cuba</td>\n",
       "      <td>0</td>\n",
       "    </tr>\n",
       "  </tbody>\n",
       "</table>\n",
       "</div>"
      ],
      "text/plain": [
       "   Unnamed: 0  age          Workclass  fnlwgt   education  education-num  \\\n",
       "0           0   39          State-gov   77516   Bachelors             13   \n",
       "1           1   50   Self-emp-not-inc   83311   Bachelors             13   \n",
       "2           2   38            Private  215646     HS-grad              9   \n",
       "3           3   53            Private  234721        11th              7   \n",
       "4           4   28            Private  338409   Bachelors             13   \n",
       "\n",
       "        marital-status          occupation    relationship    race      sex  \\\n",
       "0        Never-married        Adm-clerical   Not-in-family   White     Male   \n",
       "1   Married-civ-spouse     Exec-managerial         Husband   White     Male   \n",
       "2             Divorced   Handlers-cleaners   Not-in-family   White     Male   \n",
       "3   Married-civ-spouse   Handlers-cleaners         Husband   Black     Male   \n",
       "4   Married-civ-spouse      Prof-specialty            Wife   Black   Female   \n",
       "\n",
       "   capital-gain  capital-loss  hours-per-week  native-country  Income  \n",
       "0          2174             0              40   United-States       0  \n",
       "1             0             0              13   United-States       0  \n",
       "2             0             0              40   United-States       0  \n",
       "3             0             0              40   United-States       0  \n",
       "4             0             0              40            Cuba       0  "
      ]
     },
     "execution_count": 4,
     "metadata": {},
     "output_type": "execute_result"
    }
   ],
   "source": [
    "df.head()"
   ]
  },
  {
   "cell_type": "code",
   "execution_count": 5,
   "id": "3bc61fa9",
   "metadata": {
    "colab": {
     "base_uri": "https://localhost:8080/"
    },
    "id": "3bc61fa9",
    "outputId": "bd06702b-0743-4337-bf46-5e8fcbee0458"
   },
   "outputs": [
    {
     "data": {
      "text/plain": [
       "(1032, 16)"
      ]
     },
     "execution_count": 5,
     "metadata": {},
     "output_type": "execute_result"
    }
   ],
   "source": [
    "df.shape"
   ]
  },
  {
   "cell_type": "code",
   "execution_count": 6,
   "id": "6250e9a5",
   "metadata": {
    "colab": {
     "base_uri": "https://localhost:8080/"
    },
    "id": "6250e9a5",
    "outputId": "113ae1ad-b63d-4644-c234-d12870822590"
   },
   "outputs": [
    {
     "data": {
      "text/plain": [
       "Unnamed: 0         int64\n",
       "age                int64\n",
       "Workclass         object\n",
       "fnlwgt             int64\n",
       "education         object\n",
       "education-num      int64\n",
       "marital-status    object\n",
       "occupation        object\n",
       "relationship      object\n",
       "race              object\n",
       "sex               object\n",
       "capital-gain       int64\n",
       "capital-loss       int64\n",
       "hours-per-week     int64\n",
       "native-country    object\n",
       "Income             int64\n",
       "dtype: object"
      ]
     },
     "execution_count": 6,
     "metadata": {},
     "output_type": "execute_result"
    }
   ],
   "source": [
    "df.dtypes"
   ]
  },
  {
   "cell_type": "code",
   "execution_count": 7,
   "id": "94129e56",
   "metadata": {
    "colab": {
     "base_uri": "https://localhost:8080/"
    },
    "id": "94129e56",
    "outputId": "1fd54c56-cfbf-4b6c-e74e-d0b8756ebbbf"
   },
   "outputs": [
    {
     "data": {
      "text/plain": [
       "Unnamed: 0        0\n",
       "age               0\n",
       "Workclass         0\n",
       "fnlwgt            0\n",
       "education         0\n",
       "education-num     0\n",
       "marital-status    0\n",
       "occupation        0\n",
       "relationship      0\n",
       "race              0\n",
       "sex               0\n",
       "capital-gain      0\n",
       "capital-loss      0\n",
       "hours-per-week    0\n",
       "native-country    0\n",
       "Income            0\n",
       "dtype: int64"
      ]
     },
     "execution_count": 7,
     "metadata": {},
     "output_type": "execute_result"
    }
   ],
   "source": [
    "df.isnull().sum()"
   ]
  },
  {
   "cell_type": "code",
   "execution_count": 8,
   "id": "c82dd877",
   "metadata": {
    "id": "c82dd877"
   },
   "outputs": [],
   "source": [
    "#remove unwanted columns permanently\n",
    "df.drop(\"Unnamed: 0\",axis=1,inplace=True)"
   ]
  },
  {
   "cell_type": "code",
   "execution_count": 9,
   "id": "28884507",
   "metadata": {
    "colab": {
     "base_uri": "https://localhost:8080/"
    },
    "id": "28884507",
    "outputId": "374640fc-860d-485f-80cf-e4e34fbf005d"
   },
   "outputs": [
    {
     "data": {
      "text/plain": [
       "age                int64\n",
       "Workclass         object\n",
       "fnlwgt             int64\n",
       "education         object\n",
       "education-num      int64\n",
       "marital-status    object\n",
       "occupation        object\n",
       "relationship      object\n",
       "race              object\n",
       "sex               object\n",
       "capital-gain       int64\n",
       "capital-loss       int64\n",
       "hours-per-week     int64\n",
       "native-country    object\n",
       "Income             int64\n",
       "dtype: object"
      ]
     },
     "execution_count": 9,
     "metadata": {},
     "output_type": "execute_result"
    }
   ],
   "source": [
    "df.dtypes"
   ]
  },
  {
   "cell_type": "code",
   "execution_count": 10,
   "id": "a6e28e79",
   "metadata": {
    "colab": {
     "base_uri": "https://localhost:8080/"
    },
    "id": "a6e28e79",
    "outputId": "d1ec8f13-96e0-49bb-9c3f-a14ff6fcb96e"
   },
   "outputs": [
    {
     "data": {
      "text/plain": [
       "0"
      ]
     },
     "execution_count": 10,
     "metadata": {},
     "output_type": "execute_result"
    }
   ],
   "source": [
    "#check duplicate\n",
    "df.duplicated().sum()"
   ]
  },
  {
   "cell_type": "code",
   "execution_count": 11,
   "id": "a1634ec5",
   "metadata": {
    "id": "a1634ec5"
   },
   "outputs": [],
   "source": [
    "#separate object type data and numeric type\n",
    "#data in new dataframe df_obj and hold numeric type\n",
    "#use select_dtypes() inbuilt method\n",
    "df_obj=df.select_dtypes('object')\n",
    "df_num=df.select_dtypes('int64')"
   ]
  },
  {
   "cell_type": "code",
   "execution_count": 12,
   "id": "e2909401",
   "metadata": {
    "colab": {
     "base_uri": "https://localhost:8080/"
    },
    "id": "e2909401",
    "outputId": "21d908b7-53e5-4a01-e31b-a96097bc5c2d"
   },
   "outputs": [
    {
     "data": {
      "text/plain": [
       "Workclass         object\n",
       "education         object\n",
       "marital-status    object\n",
       "occupation        object\n",
       "relationship      object\n",
       "race              object\n",
       "sex               object\n",
       "native-country    object\n",
       "dtype: object"
      ]
     },
     "execution_count": 12,
     "metadata": {},
     "output_type": "execute_result"
    }
   ],
   "source": [
    "df_obj.dtypes"
   ]
  },
  {
   "cell_type": "code",
   "execution_count": 13,
   "id": "94fff658",
   "metadata": {
    "colab": {
     "base_uri": "https://localhost:8080/"
    },
    "id": "94fff658",
    "outputId": "820ef66c-3203-443e-be35-c50a96308f4e"
   },
   "outputs": [
    {
     "data": {
      "text/plain": [
       "age               int64\n",
       "fnlwgt            int64\n",
       "education-num     int64\n",
       "capital-gain      int64\n",
       "capital-loss      int64\n",
       "hours-per-week    int64\n",
       "Income            int64\n",
       "dtype: object"
      ]
     },
     "execution_count": 13,
     "metadata": {},
     "output_type": "execute_result"
    }
   ],
   "source": [
    "df_num.dtypes"
   ]
  },
  {
   "cell_type": "code",
   "execution_count": 14,
   "id": "02ac248c",
   "metadata": {
    "colab": {
     "base_uri": "https://localhost:8080/"
    },
    "id": "02ac248c",
    "outputId": "b5a6172c-9fd3-49d4-ee6e-21b8115095a4"
   },
   "outputs": [
    {
     "data": {
      "text/plain": [
       "array([' State-gov', ' Self-emp-not-inc', ' Private', ' Federal-gov',\n",
       "       ' Local-gov', ' Self-emp-inc'], dtype=object)"
      ]
     },
     "execution_count": 14,
     "metadata": {},
     "output_type": "execute_result"
    }
   ],
   "source": [
    "df['Workclass'].unique()"
   ]
  },
  {
   "cell_type": "code",
   "execution_count": 15,
   "id": "0d4b0a8e",
   "metadata": {
    "colab": {
     "base_uri": "https://localhost:8080/"
    },
    "id": "0d4b0a8e",
    "outputId": "2b373a58-0b81-4e0b-b17c-5b06077e2a0e"
   },
   "outputs": [
    {
     "data": {
      "text/plain": [
       "array([' Never-married', ' Married-civ-spouse', ' Divorced',\n",
       "       ' Married-spouse-absent', ' Separated', ' Married-AF-spouse',\n",
       "       ' Widowed'], dtype=object)"
      ]
     },
     "execution_count": 15,
     "metadata": {},
     "output_type": "execute_result"
    }
   ],
   "source": [
    "df['marital-status'].unique()"
   ]
  },
  {
   "cell_type": "code",
   "execution_count": 16,
   "id": "b63c0476",
   "metadata": {
    "id": "b63c0476"
   },
   "outputs": [],
   "source": [
    "column=df_obj.columns"
   ]
  },
  {
   "cell_type": "code",
   "execution_count": 17,
   "id": "b3d06300",
   "metadata": {
    "colab": {
     "base_uri": "https://localhost:8080/"
    },
    "id": "b3d06300",
    "outputId": "cf2b5637-766d-48a1-9cb8-c5140117254e"
   },
   "outputs": [
    {
     "data": {
      "text/plain": [
       "Index(['Workclass', 'education', 'marital-status', 'occupation',\n",
       "       'relationship', 'race', 'sex', 'native-country'],\n",
       "      dtype='object')"
      ]
     },
     "execution_count": 17,
     "metadata": {},
     "output_type": "execute_result"
    }
   ],
   "source": [
    "column"
   ]
  },
  {
   "cell_type": "code",
   "execution_count": 18,
   "id": "6da6bf84",
   "metadata": {
    "id": "6da6bf84"
   },
   "outputs": [],
   "source": [
    "from sklearn.preprocessing import LabelEncoder\n",
    "for col in column :\n",
    "    #create object of label encoder class\n",
    "    le=LabelEncoder()\n",
    "    df_obj[col]=le.fit_transform(df_obj[col])"
   ]
  },
  {
   "cell_type": "code",
   "execution_count": 19,
   "id": "456964e8",
   "metadata": {
    "colab": {
     "base_uri": "https://localhost:8080/"
    },
    "id": "456964e8",
    "outputId": "a1177f0b-626f-4dc3-fb03-667efb67676f"
   },
   "outputs": [
    {
     "data": {
      "text/plain": [
       "Workclass         int32\n",
       "education         int32\n",
       "marital-status    int32\n",
       "occupation        int32\n",
       "relationship      int32\n",
       "race              int32\n",
       "sex               int32\n",
       "native-country    int32\n",
       "dtype: object"
      ]
     },
     "execution_count": 19,
     "metadata": {},
     "output_type": "execute_result"
    }
   ],
   "source": [
    "df_obj.dtypes"
   ]
  },
  {
   "cell_type": "code",
   "execution_count": 20,
   "id": "3b62d1a4",
   "metadata": {
    "colab": {
     "base_uri": "https://localhost:8080/"
    },
    "id": "3b62d1a4",
    "outputId": "4feb68ec-5773-40c4-a431-2a5a687b74c7"
   },
   "outputs": [
    {
     "data": {
      "text/plain": [
       "Workclass         int32\n",
       "education         int32\n",
       "marital-status    int32\n",
       "occupation        int32\n",
       "relationship      int32\n",
       "race              int32\n",
       "sex               int32\n",
       "native-country    int32\n",
       "age               int64\n",
       "fnlwgt            int64\n",
       "education-num     int64\n",
       "capital-gain      int64\n",
       "capital-loss      int64\n",
       "hours-per-week    int64\n",
       "Income            int64\n",
       "dtype: object"
      ]
     },
     "execution_count": 20,
     "metadata": {},
     "output_type": "execute_result"
    }
   ],
   "source": [
    "#merge df_num and df_obj and hold new dataframe df_new\n",
    "df_new=pd.concat([df_obj,df_num],axis =1)\n",
    "df_new.dtypes"
   ]
  },
  {
   "cell_type": "code",
   "execution_count": 21,
   "id": "4bfb86c5",
   "metadata": {
    "id": "4bfb86c5"
   },
   "outputs": [],
   "source": [
    "df_new.drop(\"education-num\",axis=1,inplace=True)"
   ]
  },
  {
   "cell_type": "code",
   "execution_count": 22,
   "id": "e3225c3d",
   "metadata": {
    "colab": {
     "base_uri": "https://localhost:8080/"
    },
    "id": "e3225c3d",
    "outputId": "f4665441-5558-4acc-fd25-51f951f2d65a"
   },
   "outputs": [
    {
     "data": {
      "text/plain": [
       "Income\n",
       "0    778\n",
       "1    254\n",
       "Name: count, dtype: int64"
      ]
     },
     "execution_count": 22,
     "metadata": {},
     "output_type": "execute_result"
    }
   ],
   "source": [
    "df_new['Income'].value_counts()"
   ]
  },
  {
   "cell_type": "code",
   "execution_count": 23,
   "id": "1b7eb527",
   "metadata": {
    "id": "1b7eb527"
   },
   "outputs": [],
   "source": [
    "#separate input and output\n",
    "X=df_new.drop(\"Income\",axis=1) #select input\n",
    "Y=df_new['Income'] #select output"
   ]
  },
  {
   "cell_type": "code",
   "execution_count": 24,
   "id": "b60d9bff",
   "metadata": {
    "colab": {
     "base_uri": "https://localhost:8080/"
    },
    "id": "b60d9bff",
    "outputId": "22341297-326a-4905-8b3c-a098816a27c7"
   },
   "outputs": [
    {
     "data": {
      "text/plain": [
       "Index(['Workclass', 'education', 'marital-status', 'occupation',\n",
       "       'relationship', 'race', 'sex', 'native-country', 'age', 'fnlwgt',\n",
       "       'capital-gain', 'capital-loss', 'hours-per-week'],\n",
       "      dtype='object')"
      ]
     },
     "execution_count": 24,
     "metadata": {},
     "output_type": "execute_result"
    }
   ],
   "source": [
    "X.columns"
   ]
  },
  {
   "cell_type": "code",
   "execution_count": 25,
   "id": "03e25855",
   "metadata": {
    "id": "03e25855"
   },
   "outputs": [],
   "source": [
    "#train test split 70% and 30%\n",
    "from sklearn.model_selection import train_test_split\n",
    "X_train,X_test,Y_train,Y_test=train_test_split(X,Y,test_size=0.3,\n",
    "                                              random_state=1)"
   ]
  },
  {
   "cell_type": "code",
   "execution_count": 26,
   "id": "9af13d9b",
   "metadata": {
    "colab": {
     "base_uri": "https://localhost:8080/"
    },
    "id": "9af13d9b",
    "outputId": "ad22eaa9-e358-4e86-d8e5-178c64f70607"
   },
   "outputs": [
    {
     "data": {
      "text/plain": [
       "((722, 13), (722,))"
      ]
     },
     "execution_count": 26,
     "metadata": {},
     "output_type": "execute_result"
    }
   ],
   "source": [
    "X_train.shape,Y_train.shape"
   ]
  },
  {
   "cell_type": "code",
   "execution_count": 27,
   "id": "b12af32e",
   "metadata": {
    "colab": {
     "base_uri": "https://localhost:8080/"
    },
    "id": "b12af32e",
    "outputId": "82772f4a-8b57-43c4-8b70-39c139264c6c"
   },
   "outputs": [
    {
     "data": {
      "text/plain": [
       "((310, 13), (310,))"
      ]
     },
     "execution_count": 27,
     "metadata": {},
     "output_type": "execute_result"
    }
   ],
   "source": [
    "X_test.shape,Y_test.shape"
   ]
  },
  {
   "cell_type": "code",
   "execution_count": 28,
   "id": "bad2db2a",
   "metadata": {
    "id": "bad2db2a"
   },
   "outputs": [],
   "source": [
    "#apply StandardScaler\n",
    "from sklearn.preprocessing import StandardScaler\n",
    "ss=StandardScaler()\n",
    "X_train=ss.fit_transform(X_train)\n",
    "X_test=ss.transform(X_test)"
   ]
  },
  {
   "cell_type": "code",
   "execution_count": 29,
   "id": "4e9910fe",
   "metadata": {
    "colab": {
     "base_uri": "https://localhost:8080/"
    },
    "id": "4e9910fe",
    "outputId": "4df83781-2f9b-4d0b-97f4-ecd478e0f211"
   },
   "outputs": [
    {
     "data": {
      "text/plain": [
       "array([[-0.24904966, -0.93217405, -0.37685422, ..., -0.24796148,\n",
       "        -0.2300775 , -0.10196177],\n",
       "       [-0.24904966,  0.17523798,  0.95691415, ...,  1.38249871,\n",
       "        -0.2300775 ,  0.77130512],\n",
       "       [-0.24904966, -0.37846803,  0.95691415, ..., -0.24796148,\n",
       "        -0.2300775 , -1.84849555],\n",
       "       ...,\n",
       "       [-1.2824626 , -0.65532104, -1.71062259, ..., -0.24796148,\n",
       "        -0.2300775 ,  1.29526525],\n",
       "       [ 1.81777623,  0.17523798,  0.95691415, ..., -0.24796148,\n",
       "        -0.2300775 ,  0.07269161],\n",
       "       [ 1.81777623,  0.17523798, -0.37685422, ..., -0.24796148,\n",
       "        -0.2300775 , -0.10196177]])"
      ]
     },
     "execution_count": 29,
     "metadata": {},
     "output_type": "execute_result"
    }
   ],
   "source": [
    "X_train"
   ]
  },
  {
   "cell_type": "code",
   "execution_count": 30,
   "id": "3bbb8d40",
   "metadata": {
    "colab": {
     "base_uri": "https://localhost:8080/"
    },
    "id": "3bbb8d40",
    "outputId": "08084a64-242a-4543-b318-6740ff0fbd29"
   },
   "outputs": [
    {
     "data": {
      "text/plain": [
       "286    1\n",
       "600    0\n",
       "691    0\n",
       "474    0\n",
       "639    0\n",
       "      ..\n",
       "960    0\n",
       "847    0\n",
       "715    0\n",
       "905    0\n",
       "235    1\n",
       "Name: Income, Length: 722, dtype: int64"
      ]
     },
     "execution_count": 30,
     "metadata": {},
     "output_type": "execute_result"
    }
   ],
   "source": [
    "Y_train"
   ]
  },
  {
   "cell_type": "code",
   "execution_count": 31,
   "id": "a361399b",
   "metadata": {
    "colab": {
     "base_uri": "https://localhost:8080/"
    },
    "id": "a361399b",
    "outputId": "daa03e12-6304-467c-8944-4558fa5a29c4"
   },
   "outputs": [
    {
     "data": {
      "text/plain": [
       "Income\n",
       "0    540\n",
       "1    182\n",
       "Name: count, dtype: int64"
      ]
     },
     "execution_count": 31,
     "metadata": {},
     "output_type": "execute_result"
    }
   ],
   "source": [
    "Y_train.value_counts()"
   ]
  },
  {
   "cell_type": "code",
   "execution_count": 34,
   "id": "79c308e2",
   "metadata": {
    "id": "79c308e2"
   },
   "outputs": [
    {
     "name": "stdout",
     "output_type": "stream",
     "text": [
      "Requirement already satisfied: imblearn in c:\\users\\lenovo\\anaconda3\\lib\\site-packages (0.0)\n",
      "Requirement already satisfied: imbalanced-learn in c:\\users\\lenovo\\anaconda3\\lib\\site-packages (from imblearn) (0.10.1)\n",
      "Requirement already satisfied: numpy>=1.17.3 in c:\\users\\lenovo\\anaconda3\\lib\\site-packages (from imbalanced-learn->imblearn) (1.24.3)\n",
      "Requirement already satisfied: scipy>=1.3.2 in c:\\users\\lenovo\\anaconda3\\lib\\site-packages (from imbalanced-learn->imblearn) (1.11.1)\n",
      "Requirement already satisfied: scikit-learn>=1.0.2 in c:\\users\\lenovo\\anaconda3\\lib\\site-packages (from imbalanced-learn->imblearn) (1.3.0)\n",
      "Requirement already satisfied: joblib>=1.1.1 in c:\\users\\lenovo\\anaconda3\\lib\\site-packages (from imbalanced-learn->imblearn) (1.2.0)\n",
      "Requirement already satisfied: threadpoolctl>=2.0.0 in c:\\users\\lenovo\\anaconda3\\lib\\site-packages (from imbalanced-learn->imblearn) (2.2.0)\n"
     ]
    }
   ],
   "source": [
    "#Data is unbalanced\n",
    "#use RandomOverSampler class: converts minority class into majority class\n",
    "#first time install imblearn\n",
    "!#pip install imblearn"
   ]
  },
  {
   "cell_type": "code",
   "execution_count": 33,
   "id": "22b0661e",
   "metadata": {
    "id": "22b0661e"
   },
   "outputs": [
    {
     "ename": "ImportError",
     "evalue": "cannot import name '_MissingValues' from 'sklearn.utils._param_validation' (C:\\Users\\Lenovo\\anaconda3\\Lib\\site-packages\\sklearn\\utils\\_param_validation.py)",
     "output_type": "error",
     "traceback": [
      "\u001b[1;31m---------------------------------------------------------------------------\u001b[0m",
      "\u001b[1;31mImportError\u001b[0m                               Traceback (most recent call last)",
      "Cell \u001b[1;32mIn[33], line 1\u001b[0m\n\u001b[1;32m----> 1\u001b[0m \u001b[38;5;28;01mfrom\u001b[39;00m \u001b[38;5;21;01mimblearn\u001b[39;00m\u001b[38;5;21;01m.\u001b[39;00m\u001b[38;5;21;01mover_sampling\u001b[39;00m \u001b[38;5;28;01mimport\u001b[39;00m RandomOverSampler\n",
      "File \u001b[1;32m~\\anaconda3\\Lib\\site-packages\\imblearn\\__init__.py:52\u001b[0m\n\u001b[0;32m     48\u001b[0m     sys\u001b[38;5;241m.\u001b[39mstderr\u001b[38;5;241m.\u001b[39mwrite(\u001b[38;5;124m\"\u001b[39m\u001b[38;5;124mPartial import of imblearn during the build process.\u001b[39m\u001b[38;5;130;01m\\n\u001b[39;00m\u001b[38;5;124m\"\u001b[39m)\n\u001b[0;32m     49\u001b[0m     \u001b[38;5;66;03m# We are not importing the rest of scikit-learn during the build\u001b[39;00m\n\u001b[0;32m     50\u001b[0m     \u001b[38;5;66;03m# process, as it may not be compiled yet\u001b[39;00m\n\u001b[0;32m     51\u001b[0m \u001b[38;5;28;01melse\u001b[39;00m:\n\u001b[1;32m---> 52\u001b[0m     \u001b[38;5;28;01mfrom\u001b[39;00m \u001b[38;5;21;01m.\u001b[39;00m \u001b[38;5;28;01mimport\u001b[39;00m (\n\u001b[0;32m     53\u001b[0m         combine,\n\u001b[0;32m     54\u001b[0m         ensemble,\n\u001b[0;32m     55\u001b[0m         exceptions,\n\u001b[0;32m     56\u001b[0m         metrics,\n\u001b[0;32m     57\u001b[0m         over_sampling,\n\u001b[0;32m     58\u001b[0m         pipeline,\n\u001b[0;32m     59\u001b[0m         tensorflow,\n\u001b[0;32m     60\u001b[0m         under_sampling,\n\u001b[0;32m     61\u001b[0m         utils,\n\u001b[0;32m     62\u001b[0m     )\n\u001b[0;32m     63\u001b[0m     \u001b[38;5;28;01mfrom\u001b[39;00m \u001b[38;5;21;01m.\u001b[39;00m\u001b[38;5;21;01m_version\u001b[39;00m \u001b[38;5;28;01mimport\u001b[39;00m __version__\n\u001b[0;32m     64\u001b[0m     \u001b[38;5;28;01mfrom\u001b[39;00m \u001b[38;5;21;01m.\u001b[39;00m\u001b[38;5;21;01mbase\u001b[39;00m \u001b[38;5;28;01mimport\u001b[39;00m FunctionSampler\n",
      "File \u001b[1;32m~\\anaconda3\\Lib\\site-packages\\imblearn\\combine\\__init__.py:5\u001b[0m\n\u001b[0;32m      1\u001b[0m \u001b[38;5;124;03m\"\"\"The :mod:`imblearn.combine` provides methods which combine\u001b[39;00m\n\u001b[0;32m      2\u001b[0m \u001b[38;5;124;03mover-sampling and under-sampling.\u001b[39;00m\n\u001b[0;32m      3\u001b[0m \u001b[38;5;124;03m\"\"\"\u001b[39;00m\n\u001b[1;32m----> 5\u001b[0m \u001b[38;5;28;01mfrom\u001b[39;00m \u001b[38;5;21;01m.\u001b[39;00m\u001b[38;5;21;01m_smote_enn\u001b[39;00m \u001b[38;5;28;01mimport\u001b[39;00m SMOTEENN\n\u001b[0;32m      6\u001b[0m \u001b[38;5;28;01mfrom\u001b[39;00m \u001b[38;5;21;01m.\u001b[39;00m\u001b[38;5;21;01m_smote_tomek\u001b[39;00m \u001b[38;5;28;01mimport\u001b[39;00m SMOTETomek\n\u001b[0;32m      8\u001b[0m __all__ \u001b[38;5;241m=\u001b[39m [\u001b[38;5;124m\"\u001b[39m\u001b[38;5;124mSMOTEENN\u001b[39m\u001b[38;5;124m\"\u001b[39m, \u001b[38;5;124m\"\u001b[39m\u001b[38;5;124mSMOTETomek\u001b[39m\u001b[38;5;124m\"\u001b[39m]\n",
      "File \u001b[1;32m~\\anaconda3\\Lib\\site-packages\\imblearn\\combine\\_smote_enn.py:12\u001b[0m\n\u001b[0;32m      9\u001b[0m \u001b[38;5;28;01mfrom\u001b[39;00m \u001b[38;5;21;01msklearn\u001b[39;00m\u001b[38;5;21;01m.\u001b[39;00m\u001b[38;5;21;01mbase\u001b[39;00m \u001b[38;5;28;01mimport\u001b[39;00m clone\n\u001b[0;32m     10\u001b[0m \u001b[38;5;28;01mfrom\u001b[39;00m \u001b[38;5;21;01msklearn\u001b[39;00m\u001b[38;5;21;01m.\u001b[39;00m\u001b[38;5;21;01mutils\u001b[39;00m \u001b[38;5;28;01mimport\u001b[39;00m check_X_y\n\u001b[1;32m---> 12\u001b[0m \u001b[38;5;28;01mfrom\u001b[39;00m \u001b[38;5;21;01m.\u001b[39;00m\u001b[38;5;21;01m.\u001b[39;00m\u001b[38;5;21;01mbase\u001b[39;00m \u001b[38;5;28;01mimport\u001b[39;00m BaseSampler\n\u001b[0;32m     13\u001b[0m \u001b[38;5;28;01mfrom\u001b[39;00m \u001b[38;5;21;01m.\u001b[39;00m\u001b[38;5;21;01m.\u001b[39;00m\u001b[38;5;21;01mover_sampling\u001b[39;00m \u001b[38;5;28;01mimport\u001b[39;00m SMOTE\n\u001b[0;32m     14\u001b[0m \u001b[38;5;28;01mfrom\u001b[39;00m \u001b[38;5;21;01m.\u001b[39;00m\u001b[38;5;21;01m.\u001b[39;00m\u001b[38;5;21;01mover_sampling\u001b[39;00m\u001b[38;5;21;01m.\u001b[39;00m\u001b[38;5;21;01mbase\u001b[39;00m \u001b[38;5;28;01mimport\u001b[39;00m BaseOverSampler\n",
      "File \u001b[1;32m~\\anaconda3\\Lib\\site-packages\\imblearn\\base.py:21\u001b[0m\n\u001b[0;32m     18\u001b[0m \u001b[38;5;28;01mfrom\u001b[39;00m \u001b[38;5;21;01msklearn\u001b[39;00m\u001b[38;5;21;01m.\u001b[39;00m\u001b[38;5;21;01mutils\u001b[39;00m\u001b[38;5;21;01m.\u001b[39;00m\u001b[38;5;21;01mmulticlass\u001b[39;00m \u001b[38;5;28;01mimport\u001b[39;00m check_classification_targets\n\u001b[0;32m     20\u001b[0m \u001b[38;5;28;01mfrom\u001b[39;00m \u001b[38;5;21;01m.\u001b[39;00m\u001b[38;5;21;01mutils\u001b[39;00m \u001b[38;5;28;01mimport\u001b[39;00m check_sampling_strategy, check_target_type\n\u001b[1;32m---> 21\u001b[0m \u001b[38;5;28;01mfrom\u001b[39;00m \u001b[38;5;21;01m.\u001b[39;00m\u001b[38;5;21;01mutils\u001b[39;00m\u001b[38;5;21;01m.\u001b[39;00m\u001b[38;5;21;01m_param_validation\u001b[39;00m \u001b[38;5;28;01mimport\u001b[39;00m validate_parameter_constraints\n\u001b[0;32m     22\u001b[0m \u001b[38;5;28;01mfrom\u001b[39;00m \u001b[38;5;21;01m.\u001b[39;00m\u001b[38;5;21;01mutils\u001b[39;00m\u001b[38;5;21;01m.\u001b[39;00m\u001b[38;5;21;01m_validation\u001b[39;00m \u001b[38;5;28;01mimport\u001b[39;00m ArraysTransformer\n\u001b[0;32m     25\u001b[0m \u001b[38;5;28;01mclass\u001b[39;00m \u001b[38;5;21;01mSamplerMixin\u001b[39;00m(BaseEstimator, metaclass\u001b[38;5;241m=\u001b[39mABCMeta):\n",
      "File \u001b[1;32m~\\anaconda3\\Lib\\site-packages\\imblearn\\utils\\_param_validation.py:908\u001b[0m\n\u001b[0;32m    906\u001b[0m \u001b[38;5;28;01mfrom\u001b[39;00m \u001b[38;5;21;01msklearn\u001b[39;00m\u001b[38;5;21;01m.\u001b[39;00m\u001b[38;5;21;01mutils\u001b[39;00m\u001b[38;5;21;01m.\u001b[39;00m\u001b[38;5;21;01m_param_validation\u001b[39;00m \u001b[38;5;28;01mimport\u001b[39;00m generate_valid_param  \u001b[38;5;66;03m# noqa\u001b[39;00m\n\u001b[0;32m    907\u001b[0m \u001b[38;5;28;01mfrom\u001b[39;00m \u001b[38;5;21;01msklearn\u001b[39;00m\u001b[38;5;21;01m.\u001b[39;00m\u001b[38;5;21;01mutils\u001b[39;00m\u001b[38;5;21;01m.\u001b[39;00m\u001b[38;5;21;01m_param_validation\u001b[39;00m \u001b[38;5;28;01mimport\u001b[39;00m validate_parameter_constraints  \u001b[38;5;66;03m# noqa\u001b[39;00m\n\u001b[1;32m--> 908\u001b[0m \u001b[38;5;28;01mfrom\u001b[39;00m \u001b[38;5;21;01msklearn\u001b[39;00m\u001b[38;5;21;01m.\u001b[39;00m\u001b[38;5;21;01mutils\u001b[39;00m\u001b[38;5;21;01m.\u001b[39;00m\u001b[38;5;21;01m_param_validation\u001b[39;00m \u001b[38;5;28;01mimport\u001b[39;00m (\n\u001b[0;32m    909\u001b[0m     HasMethods,\n\u001b[0;32m    910\u001b[0m     Hidden,\n\u001b[0;32m    911\u001b[0m     Interval,\n\u001b[0;32m    912\u001b[0m     Options,\n\u001b[0;32m    913\u001b[0m     StrOptions,\n\u001b[0;32m    914\u001b[0m     _ArrayLikes,\n\u001b[0;32m    915\u001b[0m     _Booleans,\n\u001b[0;32m    916\u001b[0m     _Callables,\n\u001b[0;32m    917\u001b[0m     _CVObjects,\n\u001b[0;32m    918\u001b[0m     _InstancesOf,\n\u001b[0;32m    919\u001b[0m     _IterablesNotString,\n\u001b[0;32m    920\u001b[0m     _MissingValues,\n\u001b[0;32m    921\u001b[0m     _NoneConstraint,\n\u001b[0;32m    922\u001b[0m     _PandasNAConstraint,\n\u001b[0;32m    923\u001b[0m     _RandomStates,\n\u001b[0;32m    924\u001b[0m     _SparseMatrices,\n\u001b[0;32m    925\u001b[0m     _VerboseHelper,\n\u001b[0;32m    926\u001b[0m     make_constraint,\n\u001b[0;32m    927\u001b[0m     validate_params,\n\u001b[0;32m    928\u001b[0m )\n",
      "\u001b[1;31mImportError\u001b[0m: cannot import name '_MissingValues' from 'sklearn.utils._param_validation' (C:\\Users\\Lenovo\\anaconda3\\Lib\\site-packages\\sklearn\\utils\\_param_validation.py)"
     ]
    }
   ],
   "source": [
    "from imblearn.over_sampling import RandomOverSampler"
   ]
  },
  {
   "cell_type": "code",
   "execution_count": null,
   "id": "599d243d",
   "metadata": {
    "id": "599d243d"
   },
   "outputs": [],
   "source": [
    "#create object of RandomOverSampler class\n",
    "ros=RandomOverSampler(random_state=1)"
   ]
  },
  {
   "cell_type": "code",
   "execution_count": null,
   "id": "759453f4",
   "metadata": {
    "id": "759453f4"
   },
   "outputs": [],
   "source": [
    "#apply ROS on training input and output\n",
    "X_train1,Y_train1=ros.fit_resample(X_train,Y_train)"
   ]
  },
  {
   "cell_type": "code",
   "execution_count": null,
   "id": "7ce85eff",
   "metadata": {
    "colab": {
     "base_uri": "https://localhost:8080/"
    },
    "id": "7ce85eff",
    "outputId": "aaa7b14a-1f20-450c-ddac-1aff77733be9"
   },
   "outputs": [],
   "source": [
    "Y_train1.value_counts()"
   ]
  },
  {
   "cell_type": "code",
   "execution_count": null,
   "id": "8b973a94",
   "metadata": {
    "colab": {
     "base_uri": "https://localhost:8080/"
    },
    "id": "8b973a94",
    "outputId": "59ce0395-512a-490a-9293-7f03980c99dd"
   },
   "outputs": [],
   "source": [
    "Y_test.value_counts()"
   ]
  },
  {
   "cell_type": "code",
   "execution_count": null,
   "id": "1726de34",
   "metadata": {
    "id": "1726de34"
   },
   "outputs": [],
   "source": [
    "#apply ROS on training input and output\n",
    "X_test1,Y_test1=ros.fit_resample(X_test,Y_test)"
   ]
  },
  {
   "cell_type": "code",
   "execution_count": null,
   "id": "bc78ffd6",
   "metadata": {
    "colab": {
     "base_uri": "https://localhost:8080/"
    },
    "id": "bc78ffd6",
    "outputId": "866b7b3f-017e-4164-fa1b-469f9f2f9012"
   },
   "outputs": [],
   "source": [
    "Y_test1.value_counts()"
   ]
  },
  {
   "cell_type": "code",
   "execution_count": null,
   "id": "3fdd35ee",
   "metadata": {
    "id": "3fdd35ee"
   },
   "outputs": [],
   "source": [
    "def create_model(model) :  #here create_model() user defined function name\n",
    "    #model is a user defined parameter which hold the object of algorithm\n",
    "    model.fit(X_train1,Y_train1) #train the model with 70% training data\n",
    "    Y_pred=model.predict(X_test1) #test the model with 30% input\n",
    "    #print confusion matrix\n",
    "    print(confusion_matrix(Y_test1,Y_pred))\n",
    "    #print classification report\n",
    "    print(classification_report(Y_test1,Y_pred))\n",
    "    return model"
   ]
  },
  {
   "cell_type": "code",
   "execution_count": null,
   "id": "343edd55",
   "metadata": {
    "id": "343edd55"
   },
   "outputs": [],
   "source": [
    "from sklearn.metrics import classification_report\n",
    "from sklearn.metrics import confusion_matrix"
   ]
  },
  {
   "cell_type": "code",
   "execution_count": null,
   "id": "eb878dce",
   "metadata": {
    "id": "eb878dce"
   },
   "outputs": [],
   "source": [
    "#Use LogisticRegression Algorithm\n",
    "from sklearn.linear_model import LogisticRegression"
   ]
  },
  {
   "cell_type": "code",
   "execution_count": null,
   "id": "bbc1816a",
   "metadata": {
    "id": "bbc1816a"
   },
   "outputs": [],
   "source": [
    "lr=LogisticRegression ()"
   ]
  },
  {
   "cell_type": "code",
   "execution_count": null,
   "id": "21d5d0eb",
   "metadata": {
    "colab": {
     "base_uri": "https://localhost:8080/"
    },
    "id": "21d5d0eb",
    "outputId": "779f2e50-85a7-48ef-ccb2-50ac3e51d67b"
   },
   "outputs": [],
   "source": [
    "lr=create_model(lr)"
   ]
  },
  {
   "cell_type": "code",
   "execution_count": null,
   "id": "998f791b",
   "metadata": {
    "id": "998f791b"
   },
   "outputs": [],
   "source": [
    "#recall=65% which is not good amd f1 score is 68% which is not good\n",
    "#use DecisionTreeClassifier class"
   ]
  },
  {
   "cell_type": "code",
   "execution_count": null,
   "id": "8d2c7055",
   "metadata": {
    "id": "8d2c7055"
   },
   "outputs": [],
   "source": [
    "from sklearn.tree import DecisionTreeClassifier"
   ]
  },
  {
   "cell_type": "code",
   "execution_count": null,
   "id": "a1fa239d",
   "metadata": {
    "id": "a1fa239d"
   },
   "outputs": [],
   "source": [
    "#create object\n",
    "dt=DecisionTreeClassifier(random_state=1)"
   ]
  },
  {
   "cell_type": "code",
   "execution_count": null,
   "id": "4bfc24b3",
   "metadata": {
    "colab": {
     "base_uri": "https://localhost:8080/"
    },
    "id": "4bfc24b3",
    "outputId": "7902de4b-6ce4-4f0e-a47b-4fe8a92680ac"
   },
   "outputs": [],
   "source": [
    "#call function\n",
    "dt=create_model(dt)"
   ]
  },
  {
   "cell_type": "code",
   "execution_count": null,
   "id": "76979e32",
   "metadata": {
    "id": "76979e32"
   },
   "outputs": [],
   "source": [
    "#recall score is 45% which is not good and difference is more than 20"
   ]
  },
  {
   "cell_type": "code",
   "execution_count": null,
   "id": "76bc7038",
   "metadata": {
    "colab": {
     "base_uri": "https://localhost:8080/",
     "height": 52
    },
    "id": "76bc7038",
    "outputId": "aa660048-0fe4-421b-aa93-623423637f5e"
   },
   "outputs": [],
   "source": [
    "'''for i in range(1,9):\n",
    "    dt1=DecisionTreeClassifier(random_state=1,max_depth=i)\n",
    "\n",
    "    print(\"Max depth: \",i)\n",
    "    print(\"Confusion matrix and classification report\")\n",
    "    dt1=create_model(dt1)'''"
   ]
  },
  {
   "cell_type": "code",
   "execution_count": null,
   "id": "hC05uVrEZDUo",
   "metadata": {
    "colab": {
     "base_uri": "https://localhost:8080/"
    },
    "id": "hC05uVrEZDUo",
    "outputId": "24122c5b-3ac4-4401-bfcd-5bc30f8432db"
   },
   "outputs": [],
   "source": [
    "dt1=DecisionTreeClassifier(random_state=1,max_depth=6)\n",
    "print(\"Confusion matrix and classification report\")\n",
    "dt1=create_model(dt1)"
   ]
  },
  {
   "cell_type": "code",
   "execution_count": null,
   "id": "rcsyCLUTZm6Y",
   "metadata": {
    "id": "rcsyCLUTZm6Y"
   },
   "outputs": [],
   "source": [
    "#Pruning technique(Gini index) at depth 6= f1 score = 81% and accuracy = 80%"
   ]
  },
  {
   "cell_type": "code",
   "execution_count": null,
   "id": "5LnR4T7yZuQw",
   "metadata": {
    "colab": {
     "base_uri": "https://localhost:8080/",
     "height": 52
    },
    "id": "5LnR4T7yZuQw",
    "outputId": "69c0b372-1609-4c43-8bf7-64aa39a0ea31"
   },
   "outputs": [],
   "source": [
    "#using entropy\n",
    "'''for i in range(1,9):\n",
    "    dt1=DecisionTreeClassifier(random_state=1,max_depth=i,criterion='entropy')\n",
    "\n",
    "    print(\"Max depth: \",i)\n",
    "    print(\"Confusion matrix and classification report\")\n",
    "    dt1=create_model(dt1)'''"
   ]
  },
  {
   "cell_type": "code",
   "execution_count": null,
   "id": "oLK_Vr0baHTw",
   "metadata": {
    "colab": {
     "base_uri": "https://localhost:8080/"
    },
    "id": "oLK_Vr0baHTw",
    "outputId": "ec5207e9-fa4f-4f60-8338-06bada78759e"
   },
   "outputs": [],
   "source": [
    "dt1=DecisionTreeClassifier(random_state=1,max_depth=6,criterion='entropy')\n",
    "print(\"Confusion matrix and classification report\")\n",
    "dt1=create_model(dt1)"
   ]
  },
  {
   "cell_type": "code",
   "execution_count": null,
   "id": "AaKWgzI2adxB",
   "metadata": {
    "id": "AaKWgzI2adxB"
   },
   "outputs": [],
   "source": [
    "#Pruning technique(entropy) at depth 6= f1 score = 81% and accuracy = 80%"
   ]
  },
  {
   "cell_type": "code",
   "execution_count": null,
   "id": "nEY96Irkaqvk",
   "metadata": {
    "colab": {
     "base_uri": "https://localhost:8080/",
     "height": 52
    },
    "id": "nEY96Irkaqvk",
    "outputId": "78c352b8-e883-40e9-dbc5-dcbaa212be65"
   },
   "outputs": [],
   "source": [
    "#Second Pruning technique: min_samples_leaf\n",
    "'''for i in range(45,101):\n",
    "    dt1=DecisionTreeClassifier(random_state=1,min_samples_leaf=i)\n",
    "\n",
    "    print(\"Min_samples leaf depth: \",i)\n",
    "    print(\"Confusion matrix and classification report\")\n",
    "    dt1=create_model(dt1)'''"
   ]
  },
  {
   "cell_type": "code",
   "execution_count": null,
   "id": "9MmmlRBla7sx",
   "metadata": {
    "colab": {
     "base_uri": "https://localhost:8080/"
    },
    "id": "9MmmlRBla7sx",
    "outputId": "940c4287-e3ad-4013-a97d-513e8a81447d"
   },
   "outputs": [],
   "source": [
    "dt1=DecisionTreeClassifier(random_state=1,min_samples_leaf=47)\n",
    "\n",
    "print(\"Confusion matrix and classification report\")\n",
    "dt1=create_model(dt1)"
   ]
  },
  {
   "cell_type": "code",
   "execution_count": null,
   "id": "FD-mk5ShcJ9C",
   "metadata": {
    "id": "FD-mk5ShcJ9C"
   },
   "outputs": [],
   "source": [
    "#Min samples leaf = recall = 86%, f1= 79% and accuracy 77%"
   ]
  },
  {
   "cell_type": "code",
   "execution_count": null,
   "id": "YxvKtSo14IqU",
   "metadata": {
    "id": "YxvKtSo14IqU"
   },
   "outputs": [],
   "source": [
    "#RandomForestTree(Bagging)\n",
    "from sklearn.ensemble import RandomForestClassifier"
   ]
  },
  {
   "cell_type": "code",
   "execution_count": null,
   "id": "3VCxki_lcZeU",
   "metadata": {
    "colab": {
     "base_uri": "https://localhost:8080/",
     "height": 52
    },
    "id": "3VCxki_lcZeU",
    "outputId": "5c0e6acb-89b2-4095-9b91-98d7fdbe0b9a"
   },
   "outputs": [],
   "source": [
    "'''for i in range(10,101):\n",
    "    rfc=RandomForestClassifier(random_state=1,n_estimators=i)\n",
    "    print(\"No. of Decision Trees: \",i)\n",
    "    rfc=create_model(rfc)'''"
   ]
  },
  {
   "cell_type": "code",
   "execution_count": null,
   "id": "gpLc7Npo4Hg6",
   "metadata": {
    "colab": {
     "base_uri": "https://localhost:8080/"
    },
    "id": "gpLc7Npo4Hg6",
    "outputId": "aa9c7a1c-d1ce-43ec-80ac-488fa39196df"
   },
   "outputs": [],
   "source": [
    "rfc=RandomForestClassifier(random_state=1,n_estimators=23)\n",
    "\n",
    "rfc=create_model(rfc)\n",
    "rfc.feature_importances_"
   ]
  },
  {
   "cell_type": "code",
   "execution_count": null,
   "id": "Bd3yINiu4Cs8",
   "metadata": {
    "id": "Bd3yINiu4Cs8"
   },
   "outputs": [],
   "source": [
    "#recall score=66%(0.66), f1 score= 75%\n",
    "#accuracy=(0.85)"
   ]
  },
  {
   "cell_type": "code",
   "execution_count": null,
   "id": "3n7VGGL35ZAA",
   "metadata": {
    "id": "3n7VGGL35ZAA"
   },
   "outputs": [],
   "source": [
    "from sklearn.ensemble import AdaBoostClassifier"
   ]
  },
  {
   "cell_type": "code",
   "execution_count": null,
   "id": "ZcJaxhbD5ima",
   "metadata": {
    "colab": {
     "base_uri": "https://localhost:8080/"
    },
    "id": "ZcJaxhbD5ima",
    "outputId": "2ea2401f-dc24-49d0-9058-58002d18e364"
   },
   "outputs": [],
   "source": [
    "for i in range(1,17):\n",
    "    #create object\n",
    "    ada=AdaBoostClassifier(random_state=1,n_estimators=i)\n",
    "    print(\"No. of decision stumps: \",i)\n",
    "    ada=create_model(ada)"
   ]
  },
  {
   "cell_type": "code",
   "execution_count": null,
   "id": "MSsPzJ4l5pFK",
   "metadata": {
    "colab": {
     "base_uri": "https://localhost:8080/"
    },
    "id": "MSsPzJ4l5pFK",
    "outputId": "aff9bc43-3d04-4832-e8ea-720004478624"
   },
   "outputs": [],
   "source": [
    "ada=AdaBoostClassifier(random_state=1,n_estimators=4)\n",
    "ada=create_model(ada)\n",
    "ada.feature_importances_"
   ]
  },
  {
   "cell_type": "code",
   "execution_count": null,
   "id": "7qakjiSb6IUY",
   "metadata": {
    "id": "7qakjiSb6IUY"
   },
   "outputs": [],
   "source": [
    "#ada boost (f1 score= 78% and accuracy= 77%)"
   ]
  },
  {
   "cell_type": "code",
   "execution_count": null,
   "id": "FKDZBz2558kY",
   "metadata": {
    "id": "FKDZBz2558kY"
   },
   "outputs": [],
   "source": [
    "#gradient Boosting Algo\n",
    "from sklearn.ensemble import GradientBoostingClassifier"
   ]
  },
  {
   "cell_type": "code",
   "execution_count": null,
   "id": "76Rl7zql6HC7",
   "metadata": {
    "colab": {
     "base_uri": "https://localhost:8080/"
    },
    "id": "76Rl7zql6HC7",
    "outputId": "aa2dd21d-57cc-4ec7-bfa3-719575570292"
   },
   "outputs": [],
   "source": [
    "for i in range(10,101):\n",
    "    gbc=GradientBoostingClassifier(random_state=1,n_estimators=i)\n",
    "    print(\"No. of Decision Trees: \",i)\n",
    "    gbc=create_model(gbc)"
   ]
  },
  {
   "cell_type": "code",
   "execution_count": null,
   "id": "a3wwBidA6ZAm",
   "metadata": {
    "colab": {
     "base_uri": "https://localhost:8080/"
    },
    "id": "a3wwBidA6ZAm",
    "outputId": "fa678e5f-210f-40c0-e411-6f9e6e91ae9a"
   },
   "outputs": [],
   "source": [
    "gbc=GradientBoostingClassifier(random_state=1,n_estimators=51)\n",
    "\n",
    "gbc=create_model(gbc)"
   ]
  },
  {
   "cell_type": "code",
   "execution_count": null,
   "id": "eWn-WceQ7KSy",
   "metadata": {
    "id": "eWn-WceQ7KSy"
   },
   "outputs": [],
   "source": [
    "#gbc at 51:Recall : 0.80, f1 score = 80% and accuracy = 0.80"
   ]
  },
  {
   "cell_type": "code",
   "execution_count": null,
   "id": "zOeKLgZR7aXX",
   "metadata": {
    "colab": {
     "base_uri": "https://localhost:8080/"
    },
    "id": "zOeKLgZR7aXX",
    "outputId": "0cee5ac2-a847-4c1e-f284-3305467fefb2"
   },
   "outputs": [],
   "source": [
    "!pip install xgboost"
   ]
  },
  {
   "cell_type": "code",
   "execution_count": null,
   "id": "my2SuP9JQxOa",
   "metadata": {
    "id": "my2SuP9JQxOa"
   },
   "outputs": [],
   "source": [
    "from xgboost import XGBClassifier"
   ]
  },
  {
   "cell_type": "code",
   "execution_count": null,
   "id": "mBotqnjkQ3f6",
   "metadata": {
    "colab": {
     "base_uri": "https://localhost:8080/"
    },
    "id": "mBotqnjkQ3f6",
    "outputId": "eaf29ab5-c528-42ca-afb3-dea40e1057d1"
   },
   "outputs": [],
   "source": [
    "for i in range(10,101):\n",
    "    xgb=XGBClassifier(random_state=1,n_estimators=i,reg_alpha=1)\n",
    "    print(\"No. of Decision Trees: \",i)\n",
    "    xgb=create_model(xgb)"
   ]
  },
  {
   "cell_type": "code",
   "execution_count": null,
   "id": "1XgYigA9J-RR",
   "metadata": {
    "id": "1XgYigA9J-RR"
   },
   "outputs": [],
   "source": [
    "#12:F1 score : 0.81 and accuracy = 0.82"
   ]
  },
  {
   "cell_type": "code",
   "execution_count": null,
   "id": "zQtUj0FaKnfa",
   "metadata": {
    "id": "zQtUj0FaKnfa"
   },
   "outputs": [],
   "source": [
    "#SVM\n",
    "from sklearn.svm import LinearSVC"
   ]
  },
  {
   "cell_type": "code",
   "execution_count": null,
   "id": "ZNi6Plh3Kr32",
   "metadata": {
    "id": "ZNi6Plh3Kr32"
   },
   "outputs": [],
   "source": [
    "#create object\n",
    "svc=LinearSVC(random_state=1)"
   ]
  },
  {
   "cell_type": "code",
   "execution_count": null,
   "id": "gxqSOVnwKt-R",
   "metadata": {
    "colab": {
     "base_uri": "https://localhost:8080/"
    },
    "id": "gxqSOVnwKt-R",
    "outputId": "0177135b-259d-4ce5-a7ec-7e005a4b4dd5"
   },
   "outputs": [],
   "source": [
    "#call function\n",
    "svc=create_model(svc)"
   ]
  },
  {
   "cell_type": "code",
   "execution_count": null,
   "id": "b5X0rprNKwme",
   "metadata": {
    "id": "b5X0rprNKwme"
   },
   "outputs": [],
   "source": [
    "#add error\n",
    "svc1=LinearSVC(random_state=1,C=0.01)"
   ]
  },
  {
   "cell_type": "code",
   "execution_count": null,
   "id": "jXH9dnJrLFxl",
   "metadata": {
    "colab": {
     "base_uri": "https://localhost:8080/"
    },
    "id": "jXH9dnJrLFxl",
    "outputId": "dcb2d767-85bc-4d69-dbe4-e62489d770e1"
   },
   "outputs": [],
   "source": [
    "svc1=create_model(svc1)"
   ]
  },
  {
   "cell_type": "code",
   "execution_count": null,
   "id": "rQmbKnXqLIj9",
   "metadata": {
    "colab": {
     "base_uri": "https://localhost:8080/"
    },
    "id": "rQmbKnXqLIj9",
    "outputId": "065a4623-8416-4574-f6ad-608fa00f8d7e"
   },
   "outputs": [],
   "source": [
    "svc1=LinearSVC(random_state=1,C=0.08)\n",
    "svc1=create_model(svc1)"
   ]
  },
  {
   "cell_type": "code",
   "execution_count": null,
   "id": "oyEhNUK5LPKj",
   "metadata": {
    "colab": {
     "base_uri": "https://localhost:8080/"
    },
    "id": "oyEhNUK5LPKj",
    "outputId": "7a617103-f15e-42eb-896e-4d35b0b94c90"
   },
   "outputs": [],
   "source": [
    "svc1=LinearSVC(random_state=1,C=0.1)\n",
    "svc1=create_model(svc1)"
   ]
  },
  {
   "cell_type": "code",
   "execution_count": null,
   "id": "ViUeO7uzLXco",
   "metadata": {
    "id": "ViUeO7uzLXco"
   },
   "outputs": [],
   "source": [
    "#non linear data\n",
    "from sklearn.svm import SVC"
   ]
  },
  {
   "cell_type": "code",
   "execution_count": null,
   "id": "T3KXJmRDLiwY",
   "metadata": {
    "id": "T3KXJmRDLiwY"
   },
   "outputs": [],
   "source": [
    "#create object\n",
    "p_svc=SVC(random_state=1,kernel='poly')"
   ]
  },
  {
   "cell_type": "code",
   "execution_count": null,
   "id": "73pYDdW2Llty",
   "metadata": {
    "colab": {
     "base_uri": "https://localhost:8080/"
    },
    "id": "73pYDdW2Llty",
    "outputId": "597802e6-d0ec-4854-dcf7-e6833a6e7ea6"
   },
   "outputs": [],
   "source": [
    "#call function\n",
    "p_svc=create_model(p_svc)"
   ]
  },
  {
   "cell_type": "code",
   "execution_count": null,
   "id": "s21EJQwGLnt5",
   "metadata": {
    "id": "s21EJQwGLnt5"
   },
   "outputs": [],
   "source": [
    "r_svc=SVC(random_state=1,kernel='rbf')"
   ]
  },
  {
   "cell_type": "code",
   "execution_count": null,
   "id": "Aj5TN2EFLvAf",
   "metadata": {
    "colab": {
     "base_uri": "https://localhost:8080/"
    },
    "id": "Aj5TN2EFLvAf",
    "outputId": "57b26ec9-853c-43b3-ee51-184f1bb0dbb4"
   },
   "outputs": [],
   "source": [
    "r_svc=create_model(r_svc)"
   ]
  },
  {
   "cell_type": "code",
   "execution_count": null,
   "id": "0wRRzRGLLzNC",
   "metadata": {
    "id": "0wRRzRGLLzNC"
   },
   "outputs": [],
   "source": [
    "#Logistic Regression\n",
    "#recall=65% which is not good amd f1 score is 68% which is not good\n",
    "#Decision tree classifier: recall score is 45% which is not good and difference is more than 20\n",
    "#Pruning technique(Gini index) at depth 6= f1 score = 81% and accuracy = 80%\n",
    "#Pruning technique(entropy) at depth 6= f1 score = 81% and accuracy = 80%\n",
    "#Min samples leaf = recall = 86%, f1= 79% and accuracy 77%\n",
    "#Random Forest #recall score=66%(0.66), f1 score= 75% accuracy=(0.85)\n",
    "#ada boost (f1 score= 78% and accuracy= 77%)\n",
    "#xgboost at 12:F1 score : 0.81 and accuracy = 0.82"
   ]
  }
 ],
 "metadata": {
  "colab": {
   "provenance": []
  },
  "kernelspec": {
   "display_name": "Python 3 (ipykernel)",
   "language": "python",
   "name": "python3"
  },
  "language_info": {
   "codemirror_mode": {
    "name": "ipython",
    "version": 3
   },
   "file_extension": ".py",
   "mimetype": "text/x-python",
   "name": "python",
   "nbconvert_exporter": "python",
   "pygments_lexer": "ipython3",
   "version": "3.11.5"
  }
 },
 "nbformat": 4,
 "nbformat_minor": 5
}
