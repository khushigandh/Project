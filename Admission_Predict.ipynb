{
 "cells": [
  {
   "cell_type": "code",
   "execution_count": 1,
   "id": "1e428e62",
   "metadata": {},
   "outputs": [],
   "source": [
    "#First import all basic libraries\n",
    "import pandas as PD\n",
    "import numpy as NP\n",
    "import matplotlib.pyplot as MPL\n",
    "import seaborn as SB\n",
    "import warnings\n",
    "warnings.filterwarnings('ignore')"
   ]
  },
  {
   "cell_type": "code",
   "execution_count": 2,
   "id": "b0dbb42c",
   "metadata": {},
   "outputs": [
    {
     "data": {
      "text/html": [
       "<div>\n",
       "<style scoped>\n",
       "    .dataframe tbody tr th:only-of-type {\n",
       "        vertical-align: middle;\n",
       "    }\n",
       "\n",
       "    .dataframe tbody tr th {\n",
       "        vertical-align: top;\n",
       "    }\n",
       "\n",
       "    .dataframe thead th {\n",
       "        text-align: right;\n",
       "    }\n",
       "</style>\n",
       "<table border=\"1\" class=\"dataframe\">\n",
       "  <thead>\n",
       "    <tr style=\"text-align: right;\">\n",
       "      <th></th>\n",
       "      <th>Serial No.</th>\n",
       "      <th>GRE Score</th>\n",
       "      <th>TOEFL Score</th>\n",
       "      <th>University Rating</th>\n",
       "      <th>SOP</th>\n",
       "      <th>LOR</th>\n",
       "      <th>CGPA</th>\n",
       "      <th>Research</th>\n",
       "      <th>Chance of Admit</th>\n",
       "    </tr>\n",
       "  </thead>\n",
       "  <tbody>\n",
       "    <tr>\n",
       "      <th>0</th>\n",
       "      <td>1</td>\n",
       "      <td>337</td>\n",
       "      <td>118</td>\n",
       "      <td>4</td>\n",
       "      <td>4.5</td>\n",
       "      <td>4.5</td>\n",
       "      <td>9.65</td>\n",
       "      <td>1</td>\n",
       "      <td>0.92</td>\n",
       "    </tr>\n",
       "    <tr>\n",
       "      <th>1</th>\n",
       "      <td>2</td>\n",
       "      <td>324</td>\n",
       "      <td>107</td>\n",
       "      <td>4</td>\n",
       "      <td>4.0</td>\n",
       "      <td>4.5</td>\n",
       "      <td>8.87</td>\n",
       "      <td>1</td>\n",
       "      <td>0.76</td>\n",
       "    </tr>\n",
       "    <tr>\n",
       "      <th>2</th>\n",
       "      <td>3</td>\n",
       "      <td>316</td>\n",
       "      <td>104</td>\n",
       "      <td>3</td>\n",
       "      <td>3.0</td>\n",
       "      <td>3.5</td>\n",
       "      <td>8.00</td>\n",
       "      <td>1</td>\n",
       "      <td>0.72</td>\n",
       "    </tr>\n",
       "    <tr>\n",
       "      <th>3</th>\n",
       "      <td>4</td>\n",
       "      <td>322</td>\n",
       "      <td>110</td>\n",
       "      <td>3</td>\n",
       "      <td>3.5</td>\n",
       "      <td>2.5</td>\n",
       "      <td>8.67</td>\n",
       "      <td>1</td>\n",
       "      <td>0.80</td>\n",
       "    </tr>\n",
       "    <tr>\n",
       "      <th>4</th>\n",
       "      <td>5</td>\n",
       "      <td>314</td>\n",
       "      <td>103</td>\n",
       "      <td>2</td>\n",
       "      <td>2.0</td>\n",
       "      <td>3.0</td>\n",
       "      <td>8.21</td>\n",
       "      <td>0</td>\n",
       "      <td>0.65</td>\n",
       "    </tr>\n",
       "    <tr>\n",
       "      <th>5</th>\n",
       "      <td>6</td>\n",
       "      <td>330</td>\n",
       "      <td>115</td>\n",
       "      <td>5</td>\n",
       "      <td>4.5</td>\n",
       "      <td>3.0</td>\n",
       "      <td>9.34</td>\n",
       "      <td>1</td>\n",
       "      <td>0.90</td>\n",
       "    </tr>\n",
       "    <tr>\n",
       "      <th>6</th>\n",
       "      <td>7</td>\n",
       "      <td>321</td>\n",
       "      <td>109</td>\n",
       "      <td>3</td>\n",
       "      <td>3.0</td>\n",
       "      <td>4.0</td>\n",
       "      <td>8.20</td>\n",
       "      <td>1</td>\n",
       "      <td>0.75</td>\n",
       "    </tr>\n",
       "    <tr>\n",
       "      <th>7</th>\n",
       "      <td>8</td>\n",
       "      <td>308</td>\n",
       "      <td>101</td>\n",
       "      <td>2</td>\n",
       "      <td>3.0</td>\n",
       "      <td>4.0</td>\n",
       "      <td>7.90</td>\n",
       "      <td>0</td>\n",
       "      <td>0.68</td>\n",
       "    </tr>\n",
       "    <tr>\n",
       "      <th>8</th>\n",
       "      <td>9</td>\n",
       "      <td>302</td>\n",
       "      <td>102</td>\n",
       "      <td>1</td>\n",
       "      <td>2.0</td>\n",
       "      <td>1.5</td>\n",
       "      <td>8.00</td>\n",
       "      <td>0</td>\n",
       "      <td>0.50</td>\n",
       "    </tr>\n",
       "  </tbody>\n",
       "</table>\n",
       "</div>"
      ],
      "text/plain": [
       "   Serial No.  GRE Score  TOEFL Score  University Rating  SOP  LOR   CGPA  \\\n",
       "0           1        337          118                  4  4.5   4.5  9.65   \n",
       "1           2        324          107                  4  4.0   4.5  8.87   \n",
       "2           3        316          104                  3  3.0   3.5  8.00   \n",
       "3           4        322          110                  3  3.5   2.5  8.67   \n",
       "4           5        314          103                  2  2.0   3.0  8.21   \n",
       "5           6        330          115                  5  4.5   3.0  9.34   \n",
       "6           7        321          109                  3  3.0   4.0  8.20   \n",
       "7           8        308          101                  2  3.0   4.0  7.90   \n",
       "8           9        302          102                  1  2.0   1.5  8.00   \n",
       "\n",
       "   Research  Chance of Admit   \n",
       "0         1              0.92  \n",
       "1         1              0.76  \n",
       "2         1              0.72  \n",
       "3         1              0.80  \n",
       "4         0              0.65  \n",
       "5         1              0.90  \n",
       "6         1              0.75  \n",
       "7         0              0.68  \n",
       "8         0              0.50  "
      ]
     },
     "execution_count": 2,
     "metadata": {},
     "output_type": "execute_result"
    }
   ],
   "source": [
    "#To load dataset 'bank.csv'\n",
    "AP_DF = PD.read_csv('Admission_Predict.csv')\n",
    "AP_DF.head(9)"
   ]
  },
  {
   "cell_type": "code",
   "execution_count": 3,
   "id": "74d02c5c",
   "metadata": {},
   "outputs": [
    {
     "data": {
      "text/plain": [
       "(400, 9)"
      ]
     },
     "execution_count": 3,
     "metadata": {},
     "output_type": "execute_result"
    }
   ],
   "source": [
    "AP_DF.shape"
   ]
  },
  {
   "cell_type": "code",
   "execution_count": 4,
   "id": "03750272",
   "metadata": {},
   "outputs": [
    {
     "data": {
      "text/plain": [
       "Serial No.           0\n",
       "GRE Score            0\n",
       "TOEFL Score          0\n",
       "University Rating    0\n",
       "SOP                  0\n",
       "LOR                  0\n",
       "CGPA                 0\n",
       "Research             0\n",
       "Chance of Admit      0\n",
       "dtype: int64"
      ]
     },
     "execution_count": 4,
     "metadata": {},
     "output_type": "execute_result"
    }
   ],
   "source": [
    "#To check null values\n",
    "AP_DF.isnull().sum()"
   ]
  },
  {
   "cell_type": "code",
   "execution_count": 5,
   "id": "55d058f5",
   "metadata": {},
   "outputs": [
    {
     "data": {
      "text/plain": [
       "Serial No.             int64\n",
       "GRE Score              int64\n",
       "TOEFL Score            int64\n",
       "University Rating      int64\n",
       "SOP                  float64\n",
       "LOR                  float64\n",
       "CGPA                 float64\n",
       "Research               int64\n",
       "Chance of Admit      float64\n",
       "dtype: object"
      ]
     },
     "execution_count": 5,
     "metadata": {},
     "output_type": "execute_result"
    }
   ],
   "source": [
    "#To check datatypes.\n",
    "AP_DF.dtypes"
   ]
  },
  {
   "cell_type": "code",
   "execution_count": 6,
   "id": "fbfa203d",
   "metadata": {},
   "outputs": [
    {
     "data": {
      "text/plain": [
       "Index(['Serial No.', 'GRE Score', 'TOEFL Score', 'University Rating', 'SOP',\n",
       "       'LOR ', 'CGPA', 'Research', 'Chance of Admit '],\n",
       "      dtype='object')"
      ]
     },
     "execution_count": 6,
     "metadata": {},
     "output_type": "execute_result"
    }
   ],
   "source": [
    "AP_DF.columns"
   ]
  },
  {
   "cell_type": "code",
   "execution_count": 7,
   "id": "f4ab4754",
   "metadata": {},
   "outputs": [
    {
     "data": {
      "image/png": "[encoded data removed]",
      "text/plain": [
       "<Figure size 864x648 with 2 Axes>"
      ]
     },
     "metadata": {
      "needs_background": "light"
     },
     "output_type": "display_data"
    }
   ],
   "source": [
    "MPL.figure(figsize=(12,9))\n",
    "SB.heatmap(AP_DF.isnull())\n",
    "MPL.show()"
   ]
  },
  {
   "cell_type": "code",
   "execution_count": 8,
   "id": "b5e7acf3",
   "metadata": {
    "scrolled": true
   },
   "outputs": [
    {
     "data": {
      "text/plain": [
       "0.64    17\n",
       "0.71    16\n",
       "0.72    15\n",
       "0.73    13\n",
       "0.94    12\n",
       "0.79    12\n",
       "0.76    12\n",
       "0.70    12\n",
       "0.78    12\n",
       "0.74    11\n",
       "0.80    11\n",
       "0.68    10\n",
       "0.93     9\n",
       "0.84     9\n",
       "0.89     9\n",
       "0.65     9\n",
       "0.62     9\n",
       "0.82     8\n",
       "0.86     8\n",
       "0.75     8\n",
       "0.90     8\n",
       "0.57     8\n",
       "0.81     8\n",
       "0.77     8\n",
       "0.91     7\n",
       "0.69     7\n",
       "0.96     7\n",
       "0.66     7\n",
       "0.61     7\n",
       "0.67     7\n",
       "0.85     6\n",
       "0.63     6\n",
       "0.56     6\n",
       "0.92     6\n",
       "0.58     5\n",
       "0.46     5\n",
       "0.87     5\n",
       "0.54     5\n",
       "0.52     5\n",
       "0.47     5\n",
       "0.59     4\n",
       "0.49     4\n",
       "0.97     4\n",
       "0.88     4\n",
       "0.95     4\n",
       "0.53     3\n",
       "0.48     3\n",
       "0.44     3\n",
       "0.42     3\n",
       "0.83     3\n",
       "0.38     2\n",
       "0.34     2\n",
       "0.36     2\n",
       "0.45     2\n",
       "0.50     2\n",
       "0.43     1\n",
       "0.51     1\n",
       "0.55     1\n",
       "0.60     1\n",
       "0.39     1\n",
       "Name: Chance of Admit , dtype: int64"
      ]
     },
     "execution_count": 8,
     "metadata": {},
     "output_type": "execute_result"
    }
   ],
   "source": [
    "AP_DF['Chance of Admit '].value_counts()"
   ]
  },
  {
   "cell_type": "markdown",
   "id": "c6430c37",
   "metadata": {},
   "source": [
    "***************************************************************************************************"
   ]
  },
  {
   "cell_type": "markdown",
   "id": "e353d65f",
   "metadata": {},
   "source": [
    "# Working on First Assumption : Remove Multicoliniearity"
   ]
  },
  {
   "cell_type": "code",
   "execution_count": 9,
   "id": "e22c28fe",
   "metadata": {
    "scrolled": true
   },
   "outputs": [
    {
     "data": {
      "image/png": "[encoded data removed]",
      "text/plain": [
       "<Figure size 1296x864 with 2 Axes>"
      ]
     },
     "metadata": {
      "needs_background": "light"
     },
     "output_type": "display_data"
    }
   ],
   "source": [
    "MPL.figure(figsize=(18,12))\n",
    "SB.heatmap(AP_DF.corr(),annot=True)\n",
    "MPL.show()"
   ]
  },
  {
   "cell_type": "code",
   "execution_count": 10,
   "id": "51a93e31",
   "metadata": {},
   "outputs": [],
   "source": [
    "#Select Input and Output from dataset\n",
    "IP = AP_DF.drop(['Serial No.', 'GRE Score', 'TOEFL Score', 'University Rating', 'SOP',\n",
    "       'LOR ', 'Research', 'Chance of Admit '],axis=1) #INPUT\n",
    "OP = AP_DF['Chance of Admit '] #OUTPUT"
   ]
  },
  {
   "cell_type": "code",
   "execution_count": 11,
   "id": "54892f4e",
   "metadata": {
    "scrolled": true
   },
   "outputs": [
    {
     "data": {
      "text/html": [
       "<div>\n",
       "<style scoped>\n",
       "    .dataframe tbody tr th:only-of-type {\n",
       "        vertical-align: middle;\n",
       "    }\n",
       "\n",
       "    .dataframe tbody tr th {\n",
       "        vertical-align: top;\n",
       "    }\n",
       "\n",
       "    .dataframe thead th {\n",
       "        text-align: right;\n",
       "    }\n",
       "</style>\n",
       "<table border=\"1\" class=\"dataframe\">\n",
       "  <thead>\n",
       "    <tr style=\"text-align: right;\">\n",
       "      <th></th>\n",
       "      <th>CGPA</th>\n",
       "    </tr>\n",
       "  </thead>\n",
       "  <tbody>\n",
       "    <tr>\n",
       "      <th>0</th>\n",
       "      <td>9.65</td>\n",
       "    </tr>\n",
       "    <tr>\n",
       "      <th>1</th>\n",
       "      <td>8.87</td>\n",
       "    </tr>\n",
       "    <tr>\n",
       "      <th>2</th>\n",
       "      <td>8.00</td>\n",
       "    </tr>\n",
       "    <tr>\n",
       "      <th>3</th>\n",
       "      <td>8.67</td>\n",
       "    </tr>\n",
       "    <tr>\n",
       "      <th>4</th>\n",
       "      <td>8.21</td>\n",
       "    </tr>\n",
       "    <tr>\n",
       "      <th>...</th>\n",
       "      <td>...</td>\n",
       "    </tr>\n",
       "    <tr>\n",
       "      <th>395</th>\n",
       "      <td>9.04</td>\n",
       "    </tr>\n",
       "    <tr>\n",
       "      <th>396</th>\n",
       "      <td>9.11</td>\n",
       "    </tr>\n",
       "    <tr>\n",
       "      <th>397</th>\n",
       "      <td>9.45</td>\n",
       "    </tr>\n",
       "    <tr>\n",
       "      <th>398</th>\n",
       "      <td>8.78</td>\n",
       "    </tr>\n",
       "    <tr>\n",
       "      <th>399</th>\n",
       "      <td>9.66</td>\n",
       "    </tr>\n",
       "  </tbody>\n",
       "</table>\n",
       "<p>400 rows × 1 columns</p>\n",
       "</div>"
      ],
      "text/plain": [
       "     CGPA\n",
       "0    9.65\n",
       "1    8.87\n",
       "2    8.00\n",
       "3    8.67\n",
       "4    8.21\n",
       "..    ...\n",
       "395  9.04\n",
       "396  9.11\n",
       "397  9.45\n",
       "398  8.78\n",
       "399  9.66\n",
       "\n",
       "[400 rows x 1 columns]"
      ]
     },
     "execution_count": 11,
     "metadata": {},
     "output_type": "execute_result"
    }
   ],
   "source": [
    "IP"
   ]
  },
  {
   "cell_type": "code",
   "execution_count": 12,
   "id": "1df3e17b",
   "metadata": {},
   "outputs": [
    {
     "data": {
      "image/png": "[encoded data removed]",
      "text/plain": [
       "<Figure size 1296x864 with 1 Axes>"
      ]
     },
     "metadata": {
      "needs_background": "light"
     },
     "output_type": "display_data"
    }
   ],
   "source": [
    "MPL.figure(figsize=(18,12))\n",
    "SB.scatterplot(data=AP_DF,x='CGPA',y='Chance of Admit ')\n",
    "MPL.show()"
   ]
  },
  {
   "cell_type": "code",
   "execution_count": 13,
   "id": "4e3e7277",
   "metadata": {},
   "outputs": [
    {
     "data": {
      "text/plain": [
       "Index(['CGPA'], dtype='object')"
      ]
     },
     "execution_count": 13,
     "metadata": {},
     "output_type": "execute_result"
    }
   ],
   "source": [
    "IP.columns"
   ]
  },
  {
   "cell_type": "code",
   "execution_count": 14,
   "id": "224d29f4",
   "metadata": {},
   "outputs": [],
   "source": [
    "#Import train test split\n",
    "from sklearn.model_selection import train_test_split\n",
    "I_P_train,I_P_test,O_P_train,O_P_test=train_test_split(IP,OP,test_size=0.3,random_state=1)"
   ]
  },
  {
   "cell_type": "code",
   "execution_count": 15,
   "id": "c7c61acd",
   "metadata": {},
   "outputs": [],
   "source": [
    "#Apply scaling\n",
    "from sklearn.preprocessing import StandardScaler\n",
    "S_S = StandardScaler()\n",
    "I_P_train = S_S.fit_transform(I_P_train)\n",
    "I_P_test = S_S.transform(I_P_test)"
   ]
  },
  {
   "cell_type": "code",
   "execution_count": 16,
   "id": "dbebede5",
   "metadata": {},
   "outputs": [],
   "source": [
    "#LinearRegression inbuilt class\n",
    "#We will give dataset in LinearRegression class because we predict continuous numeric value\n",
    "from sklearn.linear_model import LinearRegression\n",
    "L_R = LinearRegression()"
   ]
  },
  {
   "cell_type": "code",
   "execution_count": 17,
   "id": "06a31a68",
   "metadata": {},
   "outputs": [
    {
     "data": {
      "text/plain": [
       "LinearRegression()"
      ]
     },
     "execution_count": 17,
     "metadata": {},
     "output_type": "execute_result"
    }
   ],
   "source": [
    "#Train the model with 70% data\n",
    "L_R.fit(I_P_train,O_P_train)"
   ]
  },
  {
   "cell_type": "code",
   "execution_count": 18,
   "id": "fddb2508",
   "metadata": {},
   "outputs": [
    {
     "name": "stdout",
     "output_type": "stream",
     "text": [
      "Slope: [0.11984692]\n"
     ]
    }
   ],
   "source": [
    "#Check SLOPE.\n",
    "M=L_R.coef_\n",
    "print(\"Slope:\",M)"
   ]
  },
  {
   "cell_type": "code",
   "execution_count": 19,
   "id": "3e459b59",
   "metadata": {
    "scrolled": true
   },
   "outputs": [
    {
     "data": {
      "text/html": [
       "<div>\n",
       "<style scoped>\n",
       "    .dataframe tbody tr th:only-of-type {\n",
       "        vertical-align: middle;\n",
       "    }\n",
       "\n",
       "    .dataframe tbody tr th {\n",
       "        vertical-align: top;\n",
       "    }\n",
       "\n",
       "    .dataframe thead th {\n",
       "        text-align: right;\n",
       "    }\n",
       "</style>\n",
       "<table border=\"1\" class=\"dataframe\">\n",
       "  <thead>\n",
       "    <tr style=\"text-align: right;\">\n",
       "      <th></th>\n",
       "      <th>Columns input</th>\n",
       "      <th>Slope</th>\n",
       "    </tr>\n",
       "  </thead>\n",
       "  <tbody>\n",
       "    <tr>\n",
       "      <th>0</th>\n",
       "      <td>CGPA</td>\n",
       "      <td>0.119847</td>\n",
       "    </tr>\n",
       "  </tbody>\n",
       "</table>\n",
       "</div>"
      ],
      "text/plain": [
       "  Columns input     Slope\n",
       "0          CGPA  0.119847"
      ]
     },
     "execution_count": 19,
     "metadata": {},
     "output_type": "execute_result"
    }
   ],
   "source": [
    "A_P_dict = {'Columns input':IP.columns,'Slope':M}\n",
    "A_P_dict = PD.DataFrame(A_P_dict)\n",
    "A_P_dict"
   ]
  },
  {
   "cell_type": "code",
   "execution_count": 20,
   "id": "769db7b1",
   "metadata": {},
   "outputs": [
    {
     "name": "stdout",
     "output_type": "stream",
     "text": [
      "Intercept: 0.7275357142857145\n"
     ]
    }
   ],
   "source": [
    "#Check INTERCEPT.\n",
    "C=L_R.intercept_\n",
    "print(\"Intercept:\",C)"
   ]
  },
  {
   "cell_type": "code",
   "execution_count": 21,
   "id": "4cbf87fd",
   "metadata": {},
   "outputs": [
    {
     "name": "stdout",
     "output_type": "stream",
     "text": [
      "Train_Score :  0.7493981351140423\n"
     ]
    }
   ],
   "source": [
    "#Check training score.(70% trained course)\n",
    "#Score is an inbuilt method of LinearRegression class\n",
    "Train_Score=L_R.score(I_P_train,O_P_train)\n",
    "print('Train_Score : ',Train_Score)"
   ]
  },
  {
   "cell_type": "code",
   "execution_count": 22,
   "id": "f1b7eb93",
   "metadata": {},
   "outputs": [],
   "source": [
    "#Test the model with 30% data.\n",
    "O_P_pred = L_R.predict(I_P_test)"
   ]
  },
  {
   "cell_type": "code",
   "execution_count": 23,
   "id": "89bd4031",
   "metadata": {},
   "outputs": [
    {
     "name": "stdout",
     "output_type": "stream",
     "text": [
      "Test_Score :  0.7850979166652725\n"
     ]
    }
   ],
   "source": [
    "#Testing score\n",
    "from sklearn.metrics import r2_score\n",
    "Test_Score=r2_score(O_P_test,O_P_pred) #for lr.score(I_P_test,O_P_test)\n",
    "print('Test_Score : ',Test_Score)"
   ]
  },
  {
   "cell_type": "code",
   "execution_count": 24,
   "id": "d4ae7b9e",
   "metadata": {
    "scrolled": true
   },
   "outputs": [
    {
     "name": "stdout",
     "output_type": "stream",
     "text": [
      "Train_Score :  0.7493981351140423\n",
      "Test_Score :  0.7850979166652725\n",
      "Train_Score < Test_Score\n"
     ]
    }
   ],
   "source": [
    "print('Train_Score : ',Train_Score)\n",
    "print('Test_Score : ',Test_Score)\n",
    "if Train_Score > Test_Score:\n",
    "    print(\"Train_Score > Test_Score,overfitting present,requires regularization\")\n",
    "else :\n",
    "    print(\"Train_Score < Test_Score\")"
   ]
  },
  {
   "cell_type": "markdown",
   "id": "3d670fcf",
   "metadata": {},
   "source": [
    "# Training score < Testing score,Hence model is not overfit.\n",
    "# Also only one input is selected hence multicoliniearity removed.\n",
    "# First Assumption Fulfilled."
   ]
  },
  {
   "cell_type": "markdown",
   "id": "1d86a6df",
   "metadata": {},
   "source": [
    "***************************************************************************************************"
   ]
  },
  {
   "cell_type": "markdown",
   "id": "3e4bb435",
   "metadata": {},
   "source": [
    "# Work on Second Assumption : Homoskedastic vs Heterskedastic "
   ]
  },
  {
   "cell_type": "code",
   "execution_count": 25,
   "id": "629ad287",
   "metadata": {},
   "outputs": [
    {
     "name": "stdout",
     "output_type": "stream",
     "text": [
      "398   -0.092465\n",
      "125   -0.098207\n",
      "328    0.039556\n",
      "339    0.071793\n",
      "172    0.026780\n",
      "         ...   \n",
      "91    -0.156050\n",
      "322    0.060634\n",
      "248    0.019340\n",
      "186    0.097750\n",
      "395    0.004974\n",
      "Name: Chance of Admit , Length: 120, dtype: float64\n"
     ]
    }
   ],
   "source": [
    "#Trick - How to check linear relation between multiple inputs and output.\n",
    "#Find the residual for each input.\n",
    "Residual=O_P_test - O_P_pred\n",
    "print(Residual)"
   ]
  },
  {
   "cell_type": "code",
   "execution_count": 26,
   "id": "5e755ef7",
   "metadata": {
    "scrolled": true
   },
   "outputs": [
    {
     "data": {
      "image/png": "[encoded data removed]",
      "text/plain": [
       "<Figure size 864x648 with 1 Axes>"
      ]
     },
     "metadata": {
      "needs_background": "light"
     },
     "output_type": "display_data"
    }
   ],
   "source": [
    "#Visualise\n",
    "MPL.figure(figsize=(12,9))\n",
    "#SB.scatterplot(AP_DF['CGPA'],AP_DF['Chance of Admit '])\n",
    "SB.scatterplot(Residual,O_P_pred)\n",
    "MPL.xlabel(\"Value of X \")\n",
    "MPL.ylabel(\"Value of Y \")\n",
    "MPL.title(\"Linear Regression\")\n",
    "MPL.show()"
   ]
  },
  {
   "cell_type": "markdown",
   "id": "f24dba6c",
   "metadata": {},
   "source": [
    "# Plotting of Residual v/s Predicted output is heteroskedastic.\n",
    "# Second Assumption not fulfilled."
   ]
  },
  {
   "cell_type": "markdown",
   "id": "c3c40aa2",
   "metadata": {},
   "source": [
    "***************************************************************************************************"
   ]
  },
  {
   "cell_type": "markdown",
   "id": "dd24231e",
   "metadata": {},
   "source": [
    "# Work on Third Assumption : Normal Distribution Curve."
   ]
  },
  {
   "cell_type": "code",
   "execution_count": 27,
   "id": "d1214a38",
   "metadata": {},
   "outputs": [
    {
     "data": {
      "image/png": "[encoded data removed]",
      "text/plain": [
       "<Figure size 864x648 with 1 Axes>"
      ]
     },
     "metadata": {
      "needs_background": "light"
     },
     "output_type": "display_data"
    }
   ],
   "source": [
    "MPL.figure(figsize=(12,9))\n",
    "SB.histplot(Residual)\n",
    "MPL.show()"
   ]
  },
  {
   "cell_type": "code",
   "execution_count": 28,
   "id": "570124c1",
   "metadata": {},
   "outputs": [
    {
     "data": {
      "image/png": "[encoded data removed]",
      "text/plain": [
       "<Figure size 864x648 with 1 Axes>"
      ]
     },
     "metadata": {
      "needs_background": "light"
     },
     "output_type": "display_data"
    }
   ],
   "source": [
    "MPL.figure(figsize=(12,9))\n",
    "SB.distplot(Residual)\n",
    "MPL.show()"
   ]
  },
  {
   "cell_type": "markdown",
   "id": "7467c3bf",
   "metadata": {},
   "source": [
    "# Normal Distribution curve is asymmetric.Third Asumption failed.\n"
   ]
  },
  {
   "cell_type": "markdown",
   "id": "f4db5906",
   "metadata": {},
   "source": [
    "***************************************************************************************************"
   ]
  },
  {
   "cell_type": "markdown",
   "id": "37decb8d",
   "metadata": {},
   "source": [
    "# Working on fourth assumption : Skewness. "
   ]
  },
  {
   "cell_type": "code",
   "execution_count": 29,
   "id": "5335c89a",
   "metadata": {},
   "outputs": [
    {
     "data": {
      "text/plain": [
       "-1.217668474090369"
      ]
     },
     "execution_count": 29,
     "metadata": {},
     "output_type": "execute_result"
    }
   ],
   "source": [
    "Residual.skew()"
   ]
  },
  {
   "cell_type": "markdown",
   "id": "eb629211",
   "metadata": {},
   "source": [
    "# Skewness is negative and not close to zero.\n",
    "# Out of 4, Assumptions fulfilled should be 3,Here it's only 1."
   ]
  },
  {
   "cell_type": "markdown",
   "id": "75d722ef",
   "metadata": {},
   "source": [
    "***************************************************************************************************"
   ]
  },
  {
   "cell_type": "markdown",
   "id": "81be4565",
   "metadata": {},
   "source": [
    "# Let's move to Polynomial regression(Change the degree of Input)"
   ]
  },
  {
   "cell_type": "code",
   "execution_count": 30,
   "id": "21dfbdac",
   "metadata": {},
   "outputs": [],
   "source": [
    "#Polynomial Linear Regression\n",
    "#Demo of PLR\n",
    "#create user defined function for different power of independent variable\n",
    "#Linear means degree/power=1 of input variable means independent variable"
   ]
  },
  {
   "cell_type": "code",
   "execution_count": 31,
   "id": "6798367f",
   "metadata": {},
   "outputs": [],
   "source": [
    "from sklearn.preprocessing import PolynomialFeatures\n",
    "P_F=PolynomialFeatures(2)\n",
    "I_P_Poly=P_F.fit_transform(IP)"
   ]
  },
  {
   "cell_type": "code",
   "execution_count": 32,
   "id": "01c77103",
   "metadata": {},
   "outputs": [],
   "source": [
    "#Import train test split\n",
    "from sklearn.model_selection import train_test_split\n",
    "I_P_train,I_P_test,O_P_train,O_P_test=train_test_split(I_P_Poly,OP,test_size=0.3,random_state=1)"
   ]
  },
  {
   "cell_type": "code",
   "execution_count": 33,
   "id": "fb56fff1",
   "metadata": {},
   "outputs": [],
   "source": [
    "#Apply scaling\n",
    "from sklearn.preprocessing import StandardScaler\n",
    "S_S = StandardScaler()\n",
    "I_P_train = S_S.fit_transform(I_P_train)\n",
    "I_P_test = S_S.transform(I_P_test)"
   ]
  },
  {
   "cell_type": "code",
   "execution_count": 34,
   "id": "63b68a3f",
   "metadata": {},
   "outputs": [],
   "source": [
    "#LinearRegression inbuilt class\n",
    "#We will give dataset in LinearRegression class because we predict continuous numeric value\n",
    "from sklearn.linear_model import LinearRegression\n",
    "L_R = LinearRegression()"
   ]
  },
  {
   "cell_type": "code",
   "execution_count": 35,
   "id": "0e36f8d0",
   "metadata": {},
   "outputs": [
    {
     "data": {
      "text/plain": [
       "LinearRegression()"
      ]
     },
     "execution_count": 35,
     "metadata": {},
     "output_type": "execute_result"
    }
   ],
   "source": [
    "#Train the model with 70% data\n",
    "L_R.fit(I_P_train,O_P_train)"
   ]
  },
  {
   "cell_type": "code",
   "execution_count": 36,
   "id": "3f11edc5",
   "metadata": {},
   "outputs": [
    {
     "name": "stdout",
     "output_type": "stream",
     "text": [
      "Slope: [0.         0.01612644 0.10380761]\n"
     ]
    }
   ],
   "source": [
    "#Check SLOPE.\n",
    "M=L_R.coef_\n",
    "print(\"Slope:\",M)"
   ]
  },
  {
   "cell_type": "code",
   "execution_count": 37,
   "id": "36a98fc9",
   "metadata": {},
   "outputs": [
    {
     "name": "stdout",
     "output_type": "stream",
     "text": [
      "Intercept: 0.7275357142857151\n"
     ]
    }
   ],
   "source": [
    "#Check INTERCEPT.\n",
    "C=L_R.intercept_\n",
    "print(\"Intercept:\",C)"
   ]
  },
  {
   "cell_type": "code",
   "execution_count": 38,
   "id": "580a0c3b",
   "metadata": {},
   "outputs": [
    {
     "name": "stdout",
     "output_type": "stream",
     "text": [
      "Train_Score :  0.7503415344872955\n"
     ]
    }
   ],
   "source": [
    "#Check training score.(70% trained course)\n",
    "#Score is an inbuilt method of LinearRegression class\n",
    "Train_Score=L_R.score(I_P_train,O_P_train)\n",
    "print('Train_Score : ',Train_Score)"
   ]
  },
  {
   "cell_type": "code",
   "execution_count": 39,
   "id": "b0fffd92",
   "metadata": {},
   "outputs": [],
   "source": [
    "#Test the model with 30% data.\n",
    "O_P_pred = L_R.predict(I_P_test)"
   ]
  },
  {
   "cell_type": "code",
   "execution_count": 40,
   "id": "b42d3973",
   "metadata": {},
   "outputs": [
    {
     "name": "stdout",
     "output_type": "stream",
     "text": [
      "Test_Score : 0.783916556809418\n"
     ]
    }
   ],
   "source": [
    "#Testing score\n",
    "from sklearn.metrics import r2_score\n",
    "Test_Score=r2_score(O_P_test,O_P_pred) #for lr.score(I_P_test,O_P_test)\n",
    "print('Test_Score :',Test_Score)"
   ]
  },
  {
   "cell_type": "code",
   "execution_count": 41,
   "id": "3e1b937a",
   "metadata": {},
   "outputs": [
    {
     "name": "stdout",
     "output_type": "stream",
     "text": [
      "Train_Score :  0.7503415344872955\n",
      "Test_Score :  0.783916556809418\n",
      "Train_Score < Test_Score\n"
     ]
    }
   ],
   "source": [
    "print('Train_Score : ',Train_Score)\n",
    "print('Test_Score : ',Test_Score)\n",
    "if Train_Score > Test_Score:\n",
    "    print(\"Train_Score > Test_Score,overfitting present,requires regularization\")\n",
    "elif Train_Score == Test_Score:\n",
    "    print(\"Train_Score = Test_Score\")\n",
    "else: print(\"Train_Score < Test_Score\")"
   ]
  },
  {
   "cell_type": "markdown",
   "id": "7d1e800f",
   "metadata": {},
   "source": [
    "# Since r2_score = 0.78,Here we got 78% accuracy."
   ]
  },
  {
   "cell_type": "code",
   "execution_count": null,
   "id": "8ec2abee",
   "metadata": {},
   "outputs": [],
   "source": []
  }
 ],
 "metadata": {
  "kernelspec": {
   "display_name": "Python 3 (ipykernel)",
   "language": "python",
   "name": "python3"
  },
  "language_info": {
   "codemirror_mode": {
    "name": "ipython",
    "version": 3
   },
   "file_extension": ".py",
   "mimetype": "text/x-python",
   "name": "python",
   "nbconvert_exporter": "python",
   "pygments_lexer": "ipython3",
   "version": "3.10.1"
  }
 },
 "nbformat": 4,
 "nbformat_minor": 5
}
