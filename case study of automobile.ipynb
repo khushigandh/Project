{
 "cells": [
  {
   "cell_type": "code",
   "execution_count": 1,
   "id": "4ff87844",
   "metadata": {},
   "outputs": [],
   "source": [
    "import numpy as np\n",
    "import pandas as pd\n",
    "import matplotlib.pyplot as plt\n",
    "import seaborn as sb\n",
    "import warnings\n",
    "warnings.filterwarnings('ignore')"
   ]
  },
  {
   "cell_type": "code",
   "execution_count": 2,
   "id": "447549e3",
   "metadata": {},
   "outputs": [
    {
     "data": {
      "text/plain": [
       "'C:\\\\Users\\\\Lenovo'"
      ]
     },
     "execution_count": 2,
     "metadata": {},
     "output_type": "execute_result"
    }
   ],
   "source": [
    "import os\n",
    "os.getcwd()"
   ]
  },
  {
   "cell_type": "code",
   "execution_count": 3,
   "id": "daa9f73d",
   "metadata": {},
   "outputs": [],
   "source": [
    "#To load data\n",
    "df=pd.read_csv(\"automobile_data (1).csv\")"
   ]
  },
  {
   "cell_type": "code",
   "execution_count": 4,
   "id": "6b48e9fe",
   "metadata": {},
   "outputs": [
    {
     "data": {
      "text/html": [
       "<div>\n",
       "<style scoped>\n",
       "    .dataframe tbody tr th:only-of-type {\n",
       "        vertical-align: middle;\n",
       "    }\n",
       "\n",
       "    .dataframe tbody tr th {\n",
       "        vertical-align: top;\n",
       "    }\n",
       "\n",
       "    .dataframe thead th {\n",
       "        text-align: right;\n",
       "    }\n",
       "</style>\n",
       "<table border=\"1\" class=\"dataframe\">\n",
       "  <thead>\n",
       "    <tr style=\"text-align: right;\">\n",
       "      <th></th>\n",
       "      <th>symboling</th>\n",
       "      <th>normalized-losses</th>\n",
       "      <th>make</th>\n",
       "      <th>fuel-type</th>\n",
       "      <th>body-style</th>\n",
       "      <th>drive-wheels</th>\n",
       "      <th>engine-location</th>\n",
       "      <th>width</th>\n",
       "      <th>height</th>\n",
       "      <th>engine-type</th>\n",
       "      <th>engine-size</th>\n",
       "      <th>horsepower</th>\n",
       "      <th>city-mpg</th>\n",
       "      <th>highway-mpg</th>\n",
       "      <th>price</th>\n",
       "    </tr>\n",
       "  </thead>\n",
       "  <tbody>\n",
       "    <tr>\n",
       "      <th>0</th>\n",
       "      <td>3</td>\n",
       "      <td>?</td>\n",
       "      <td>alfa-romero</td>\n",
       "      <td>gas</td>\n",
       "      <td>convertible</td>\n",
       "      <td>rwd</td>\n",
       "      <td>front</td>\n",
       "      <td>64.1</td>\n",
       "      <td>48.8</td>\n",
       "      <td>dohc</td>\n",
       "      <td>130</td>\n",
       "      <td>111</td>\n",
       "      <td>21</td>\n",
       "      <td>27</td>\n",
       "      <td>13495</td>\n",
       "    </tr>\n",
       "    <tr>\n",
       "      <th>1</th>\n",
       "      <td>3</td>\n",
       "      <td>?</td>\n",
       "      <td>alfa-romero</td>\n",
       "      <td>gas</td>\n",
       "      <td>convertible</td>\n",
       "      <td>rwd</td>\n",
       "      <td>front</td>\n",
       "      <td>64.1</td>\n",
       "      <td>48.8</td>\n",
       "      <td>dohc</td>\n",
       "      <td>130</td>\n",
       "      <td>111</td>\n",
       "      <td>21</td>\n",
       "      <td>27</td>\n",
       "      <td>16500</td>\n",
       "    </tr>\n",
       "    <tr>\n",
       "      <th>2</th>\n",
       "      <td>1</td>\n",
       "      <td>?</td>\n",
       "      <td>alfa-romero</td>\n",
       "      <td>gas</td>\n",
       "      <td>hatchback</td>\n",
       "      <td>rwd</td>\n",
       "      <td>front</td>\n",
       "      <td>65.5</td>\n",
       "      <td>52.4</td>\n",
       "      <td>ohcv</td>\n",
       "      <td>152</td>\n",
       "      <td>154</td>\n",
       "      <td>19</td>\n",
       "      <td>26</td>\n",
       "      <td>16500</td>\n",
       "    </tr>\n",
       "    <tr>\n",
       "      <th>3</th>\n",
       "      <td>2</td>\n",
       "      <td>164</td>\n",
       "      <td>audi</td>\n",
       "      <td>gas</td>\n",
       "      <td>sedan</td>\n",
       "      <td>fwd</td>\n",
       "      <td>front</td>\n",
       "      <td>66.2</td>\n",
       "      <td>54.3</td>\n",
       "      <td>ohc</td>\n",
       "      <td>109</td>\n",
       "      <td>102</td>\n",
       "      <td>24</td>\n",
       "      <td>30</td>\n",
       "      <td>13950</td>\n",
       "    </tr>\n",
       "    <tr>\n",
       "      <th>4</th>\n",
       "      <td>2</td>\n",
       "      <td>164</td>\n",
       "      <td>audi</td>\n",
       "      <td>gas</td>\n",
       "      <td>sedan</td>\n",
       "      <td>4wd</td>\n",
       "      <td>front</td>\n",
       "      <td>66.4</td>\n",
       "      <td>54.3</td>\n",
       "      <td>ohc</td>\n",
       "      <td>136</td>\n",
       "      <td>115</td>\n",
       "      <td>18</td>\n",
       "      <td>22</td>\n",
       "      <td>17450</td>\n",
       "    </tr>\n",
       "  </tbody>\n",
       "</table>\n",
       "</div>"
      ],
      "text/plain": [
       "   symboling normalized-losses         make fuel-type   body-style  \\\n",
       "0          3                 ?  alfa-romero       gas  convertible   \n",
       "1          3                 ?  alfa-romero       gas  convertible   \n",
       "2          1                 ?  alfa-romero       gas    hatchback   \n",
       "3          2               164         audi       gas        sedan   \n",
       "4          2               164         audi       gas        sedan   \n",
       "\n",
       "  drive-wheels engine-location  width  height engine-type  engine-size  \\\n",
       "0          rwd           front   64.1    48.8        dohc          130   \n",
       "1          rwd           front   64.1    48.8        dohc          130   \n",
       "2          rwd           front   65.5    52.4        ohcv          152   \n",
       "3          fwd           front   66.2    54.3         ohc          109   \n",
       "4          4wd           front   66.4    54.3         ohc          136   \n",
       "\n",
       "  horsepower  city-mpg  highway-mpg  price  \n",
       "0        111        21           27  13495  \n",
       "1        111        21           27  16500  \n",
       "2        154        19           26  16500  \n",
       "3        102        24           30  13950  \n",
       "4        115        18           22  17450  "
      ]
     },
     "execution_count": 4,
     "metadata": {},
     "output_type": "execute_result"
    }
   ],
   "source": [
    "df.head()"
   ]
  },
  {
   "cell_type": "code",
   "execution_count": 5,
   "id": "2d498194",
   "metadata": {},
   "outputs": [
    {
     "data": {
      "text/plain": [
       "symboling            0\n",
       "normalized-losses    0\n",
       "make                 0\n",
       "fuel-type            0\n",
       "body-style           0\n",
       "drive-wheels         0\n",
       "engine-location      0\n",
       "width                0\n",
       "height               0\n",
       "engine-type          0\n",
       "engine-size          0\n",
       "horsepower           0\n",
       "city-mpg             0\n",
       "highway-mpg          0\n",
       "price                0\n",
       "dtype: int64"
      ]
     },
     "execution_count": 5,
     "metadata": {},
     "output_type": "execute_result"
    }
   ],
   "source": [
    "#TO check null values\n",
    "df.isnull().sum()"
   ]
  },
  {
   "cell_type": "code",
   "execution_count": 6,
   "id": "9a34696b",
   "metadata": {},
   "outputs": [
    {
     "data": {
      "text/plain": [
       "symboling              int64\n",
       "normalized-losses     object\n",
       "make                  object\n",
       "fuel-type             object\n",
       "body-style            object\n",
       "drive-wheels          object\n",
       "engine-location       object\n",
       "width                float64\n",
       "height               float64\n",
       "engine-type           object\n",
       "engine-size            int64\n",
       "horsepower            object\n",
       "city-mpg               int64\n",
       "highway-mpg            int64\n",
       "price                  int64\n",
       "dtype: object"
      ]
     },
     "execution_count": 6,
     "metadata": {},
     "output_type": "execute_result"
    }
   ],
   "source": [
    "#to check datatype of each column\n",
    "df.dtypes"
   ]
  },
  {
   "cell_type": "code",
   "execution_count": 7,
   "id": "8d414ee7",
   "metadata": {},
   "outputs": [
    {
     "data": {
      "text/plain": [
       "array(['?', '164', '158', '192', '188', '121', '98', '81', '118', '148',\n",
       "       '110', '145', '137', '101', '78', '106', '85', '107', '104', '113',\n",
       "       '150', '129', '115', '93', '142', '161', '153', '125', '128',\n",
       "       '122', '103', '168', '108', '194', '231', '119', '154', '74',\n",
       "       '186', '83', '102', '89', '87', '77', '91', '134', '65', '197',\n",
       "       '90', '94', '256', '95'], dtype=object)"
      ]
     },
     "execution_count": 7,
     "metadata": {},
     "output_type": "execute_result"
    }
   ],
   "source": [
    "df[\"normalized-losses\"].unique()"
   ]
  },
  {
   "cell_type": "code",
   "execution_count": 8,
   "id": "ce746585",
   "metadata": {},
   "outputs": [],
   "source": [
    "df[\"normalized-losses\"].replace(\"?\",np.nan,inplace=True)"
   ]
  },
  {
   "cell_type": "code",
   "execution_count": 9,
   "id": "af55748f",
   "metadata": {},
   "outputs": [
    {
     "data": {
      "text/plain": [
       "symboling             0\n",
       "normalized-losses    41\n",
       "make                  0\n",
       "fuel-type             0\n",
       "body-style            0\n",
       "drive-wheels          0\n",
       "engine-location       0\n",
       "width                 0\n",
       "height                0\n",
       "engine-type           0\n",
       "engine-size           0\n",
       "horsepower            0\n",
       "city-mpg              0\n",
       "highway-mpg           0\n",
       "price                 0\n",
       "dtype: int64"
      ]
     },
     "execution_count": 9,
     "metadata": {},
     "output_type": "execute_result"
    }
   ],
   "source": [
    "#check null values\n",
    "df.isnull().sum()"
   ]
  },
  {
   "cell_type": "code",
   "execution_count": 10,
   "id": "8119d050",
   "metadata": {},
   "outputs": [],
   "source": [
    "#to change datatype of normalized column from object to float\n",
    "df[\"normalized-losses\"]=df[\"normalized-losses\"].astype(\"float\")"
   ]
  },
  {
   "cell_type": "code",
   "execution_count": 11,
   "id": "80d822e6",
   "metadata": {},
   "outputs": [
    {
     "data": {
      "text/plain": [
       "symboling              int64\n",
       "normalized-losses    float64\n",
       "make                  object\n",
       "fuel-type             object\n",
       "body-style            object\n",
       "drive-wheels          object\n",
       "engine-location       object\n",
       "width                float64\n",
       "height               float64\n",
       "engine-type           object\n",
       "engine-size            int64\n",
       "horsepower            object\n",
       "city-mpg               int64\n",
       "highway-mpg            int64\n",
       "price                  int64\n",
       "dtype: object"
      ]
     },
     "execution_count": 11,
     "metadata": {},
     "output_type": "execute_result"
    }
   ],
   "source": [
    "df.dtypes"
   ]
  },
  {
   "cell_type": "code",
   "execution_count": 12,
   "id": "8204811b",
   "metadata": {},
   "outputs": [
    {
     "name": "stdout",
     "output_type": "stream",
     "text": [
      "122.0\n"
     ]
    }
   ],
   "source": [
    "m=df[\"normalized-losses\"].mean()\n",
    "print(m)\n",
    "df[\"normalized-losses\"].fillna(m,inplace=True)"
   ]
  },
  {
   "cell_type": "code",
   "execution_count": 13,
   "id": "e2472df8",
   "metadata": {},
   "outputs": [
    {
     "data": {
      "text/plain": [
       "symboling            0\n",
       "normalized-losses    0\n",
       "make                 0\n",
       "fuel-type            0\n",
       "body-style           0\n",
       "drive-wheels         0\n",
       "engine-location      0\n",
       "width                0\n",
       "height               0\n",
       "engine-type          0\n",
       "engine-size          0\n",
       "horsepower           0\n",
       "city-mpg             0\n",
       "highway-mpg          0\n",
       "price                0\n",
       "dtype: int64"
      ]
     },
     "execution_count": 13,
     "metadata": {},
     "output_type": "execute_result"
    }
   ],
   "source": [
    "df.isnull().sum()"
   ]
  },
  {
   "cell_type": "code",
   "execution_count": 14,
   "id": "7cbf9f8f",
   "metadata": {},
   "outputs": [
    {
     "data": {
      "text/plain": [
       "array(['111', '154', '102', '115', '110', '140', '160', '101', '121',\n",
       "       '182', '48', '70', '68', '88', '145', '58', '76', '60', '86',\n",
       "       '100', '78', '90', '176', '262', '135', '84', '64', '120', '72',\n",
       "       '123', '155', '184', '175', '116', '69', '55', '97', '152', '200',\n",
       "       '95', '142', '143', '207', '288', '?', '73', '82', '94', '62',\n",
       "       '56', '112', '92', '161', '156', '52', '85', '114', '162', '134',\n",
       "       '106'], dtype=object)"
      ]
     },
     "execution_count": 14,
     "metadata": {},
     "output_type": "execute_result"
    }
   ],
   "source": [
    "df[\"horsepower\"].unique()"
   ]
  },
  {
   "cell_type": "code",
   "execution_count": 15,
   "id": "254d8967",
   "metadata": {},
   "outputs": [
    {
     "data": {
      "text/plain": [
       "horsepower\n",
       "68     19\n",
       "70     11\n",
       "69     10\n",
       "116     9\n",
       "110     8\n",
       "95      7\n",
       "88      6\n",
       "62      6\n",
       "101     6\n",
       "160     6\n",
       "114     6\n",
       "84      5\n",
       "97      5\n",
       "102     5\n",
       "145     5\n",
       "82      5\n",
       "76      5\n",
       "111     4\n",
       "92      4\n",
       "123     4\n",
       "86      4\n",
       "90      3\n",
       "73      3\n",
       "85      3\n",
       "207     3\n",
       "182     3\n",
       "121     3\n",
       "152     3\n",
       "112     2\n",
       "56      2\n",
       "161     2\n",
       "156     2\n",
       "94      2\n",
       "52      2\n",
       "?       2\n",
       "162     2\n",
       "155     2\n",
       "184     2\n",
       "100     2\n",
       "176     2\n",
       "55      1\n",
       "262     1\n",
       "134     1\n",
       "115     1\n",
       "140     1\n",
       "48      1\n",
       "58      1\n",
       "60      1\n",
       "78      1\n",
       "135     1\n",
       "200     1\n",
       "64      1\n",
       "120     1\n",
       "72      1\n",
       "154     1\n",
       "288     1\n",
       "143     1\n",
       "142     1\n",
       "175     1\n",
       "106     1\n",
       "Name: count, dtype: int64"
      ]
     },
     "execution_count": 15,
     "metadata": {},
     "output_type": "execute_result"
    }
   ],
   "source": [
    "df[\"horsepower\"].value_counts()"
   ]
  },
  {
   "cell_type": "code",
   "execution_count": 16,
   "id": "4584929f",
   "metadata": {},
   "outputs": [],
   "source": [
    "df[\"horsepower\"].replace(\"?\",np.nan,inplace=True)"
   ]
  },
  {
   "cell_type": "code",
   "execution_count": 17,
   "id": "32df0c4e",
   "metadata": {},
   "outputs": [
    {
     "data": {
      "text/plain": [
       "symboling            0\n",
       "normalized-losses    0\n",
       "make                 0\n",
       "fuel-type            0\n",
       "body-style           0\n",
       "drive-wheels         0\n",
       "engine-location      0\n",
       "width                0\n",
       "height               0\n",
       "engine-type          0\n",
       "engine-size          0\n",
       "horsepower           2\n",
       "city-mpg             0\n",
       "highway-mpg          0\n",
       "price                0\n",
       "dtype: int64"
      ]
     },
     "execution_count": 17,
     "metadata": {},
     "output_type": "execute_result"
    }
   ],
   "source": [
    "df.isnull().sum()"
   ]
  },
  {
   "cell_type": "code",
   "execution_count": 18,
   "id": "8cb8b81c",
   "metadata": {},
   "outputs": [],
   "source": [
    "df[\"horsepower\"]=df[\"horsepower\"].astype(\"float\")"
   ]
  },
  {
   "cell_type": "code",
   "execution_count": 19,
   "id": "884948df",
   "metadata": {},
   "outputs": [
    {
     "data": {
      "text/plain": [
       "symboling              int64\n",
       "normalized-losses    float64\n",
       "make                  object\n",
       "fuel-type             object\n",
       "body-style            object\n",
       "drive-wheels          object\n",
       "engine-location       object\n",
       "width                float64\n",
       "height               float64\n",
       "engine-type           object\n",
       "engine-size            int64\n",
       "horsepower           float64\n",
       "city-mpg               int64\n",
       "highway-mpg            int64\n",
       "price                  int64\n",
       "dtype: object"
      ]
     },
     "execution_count": 19,
     "metadata": {},
     "output_type": "execute_result"
    }
   ],
   "source": [
    "df.dtypes"
   ]
  },
  {
   "cell_type": "code",
   "execution_count": 20,
   "id": "e19ca7ef",
   "metadata": {},
   "outputs": [
    {
     "name": "stdout",
     "output_type": "stream",
     "text": [
      "104.25615763546799\n"
     ]
    }
   ],
   "source": [
    "m=df[\"horsepower\"].mean()\n",
    "print(m)\n",
    "df[\"horsepower\"].fillna(m,inplace=True)"
   ]
  },
  {
   "cell_type": "code",
   "execution_count": 21,
   "id": "6417da8b",
   "metadata": {},
   "outputs": [
    {
     "data": {
      "text/plain": [
       "symboling            0\n",
       "normalized-losses    0\n",
       "make                 0\n",
       "fuel-type            0\n",
       "body-style           0\n",
       "drive-wheels         0\n",
       "engine-location      0\n",
       "width                0\n",
       "height               0\n",
       "engine-type          0\n",
       "engine-size          0\n",
       "horsepower           0\n",
       "city-mpg             0\n",
       "highway-mpg          0\n",
       "price                0\n",
       "dtype: int64"
      ]
     },
     "execution_count": 21,
     "metadata": {},
     "output_type": "execute_result"
    }
   ],
   "source": [
    "df.isnull().sum()"
   ]
  },
  {
   "cell_type": "code",
   "execution_count": 22,
   "id": "9642bc05",
   "metadata": {},
   "outputs": [
    {
     "data": {
      "image/png": "[encoded data removed]",
      "text/plain": [
       "<Figure size 640x480 with 2 Axes>"
      ]
     },
     "metadata": {},
     "output_type": "display_data"
    }
   ],
   "source": [
    "#visualize null value\n",
    "sb.heatmap(df.isnull())\n",
    "plt.show()"
   ]
  },
  {
   "cell_type": "code",
   "execution_count": 23,
   "id": "4e3c4389",
   "metadata": {},
   "outputs": [
    {
     "data": {
      "text/plain": [
       "0"
      ]
     },
     "execution_count": 23,
     "metadata": {},
     "output_type": "execute_result"
    }
   ],
   "source": [
    "#Step 2 : To check duplicates rows\n",
    "df.duplicated().sum()"
   ]
  },
  {
   "cell_type": "code",
   "execution_count": 24,
   "id": "78a5515e",
   "metadata": {},
   "outputs": [],
   "source": [
    "# Handle Categorical type data means object type data\n",
    "#we converts object type dta into numeric type use LabelEncoder\n",
    "from sklearn.preprocessing import LabelEncoder\n"
   ]
  },
  {
   "cell_type": "code",
   "execution_count": 25,
   "id": "8a24165d",
   "metadata": {},
   "outputs": [
    {
     "data": {
      "text/plain": [
       "array(['alfa-romero', 'audi', 'bmw', 'chevrolet', 'dodge', 'honda',\n",
       "       'isuzu', 'jaguar', 'mazda', 'mercedes-benz', 'mercury',\n",
       "       'mitsubishi', 'nissan', 'peugot', 'plymouth', 'porsche', 'renault',\n",
       "       'saab', 'subaru', 'toyota', 'volkswagen', 'volvo'], dtype=object)"
      ]
     },
     "execution_count": 25,
     "metadata": {},
     "output_type": "execute_result"
    }
   ],
   "source": [
    "df[\"make\"].unique()"
   ]
  },
  {
   "cell_type": "code",
   "execution_count": 26,
   "id": "d3b0b9ef",
   "metadata": {},
   "outputs": [
    {
     "data": {
      "text/plain": [
       "22"
      ]
     },
     "execution_count": 26,
     "metadata": {},
     "output_type": "execute_result"
    }
   ],
   "source": [
    "len(df[\"make\"].unique())"
   ]
  },
  {
   "cell_type": "code",
   "execution_count": 27,
   "id": "37653607",
   "metadata": {},
   "outputs": [],
   "source": [
    "#create object of LabelEncoder class\n",
    "le=LabelEncoder()"
   ]
  },
  {
   "cell_type": "code",
   "execution_count": 28,
   "id": "f34801c3",
   "metadata": {},
   "outputs": [
    {
     "data": {
      "text/plain": [
       "array([ 0,  1,  2,  3,  4,  5,  6,  7,  8,  9, 10, 11, 12, 13, 14, 15, 16,\n",
       "       17, 18, 19, 20, 21])"
      ]
     },
     "execution_count": 28,
     "metadata": {},
     "output_type": "execute_result"
    }
   ],
   "source": [
    "df[\"make\"]=le.fit_transform(df[\"make\"])\n",
    "df[\"make\"].unique()"
   ]
  },
  {
   "cell_type": "code",
   "execution_count": 29,
   "id": "107f42f4",
   "metadata": {},
   "outputs": [
    {
     "data": {
      "text/plain": [
       "symboling              int64\n",
       "normalized-losses    float64\n",
       "make                   int32\n",
       "fuel-type             object\n",
       "body-style            object\n",
       "drive-wheels          object\n",
       "engine-location       object\n",
       "width                float64\n",
       "height               float64\n",
       "engine-type           object\n",
       "engine-size            int64\n",
       "horsepower           float64\n",
       "city-mpg               int64\n",
       "highway-mpg            int64\n",
       "price                  int64\n",
       "dtype: object"
      ]
     },
     "execution_count": 29,
     "metadata": {},
     "output_type": "execute_result"
    }
   ],
   "source": [
    "df.dtypes"
   ]
  },
  {
   "cell_type": "code",
   "execution_count": 30,
   "id": "e2191b88",
   "metadata": {},
   "outputs": [
    {
     "data": {
      "text/plain": [
       "array([1, 0])"
      ]
     },
     "execution_count": 30,
     "metadata": {},
     "output_type": "execute_result"
    }
   ],
   "source": [
    "df[\"fuel-type\"]=le.fit_transform(df[\"fuel-type\"])\n",
    "df[\"fuel-type\"].unique()"
   ]
  },
  {
   "cell_type": "code",
   "execution_count": 31,
   "id": "2e551e18",
   "metadata": {},
   "outputs": [
    {
     "data": {
      "text/plain": [
       "symboling              int64\n",
       "normalized-losses    float64\n",
       "make                   int32\n",
       "fuel-type              int32\n",
       "body-style            object\n",
       "drive-wheels          object\n",
       "engine-location       object\n",
       "width                float64\n",
       "height               float64\n",
       "engine-type           object\n",
       "engine-size            int64\n",
       "horsepower           float64\n",
       "city-mpg               int64\n",
       "highway-mpg            int64\n",
       "price                  int64\n",
       "dtype: object"
      ]
     },
     "execution_count": 31,
     "metadata": {},
     "output_type": "execute_result"
    }
   ],
   "source": [
    "df.dtypes"
   ]
  },
  {
   "cell_type": "code",
   "execution_count": 32,
   "id": "652b29ce",
   "metadata": {},
   "outputs": [
    {
     "data": {
      "text/plain": [
       "array([0, 2, 3, 4, 1])"
      ]
     },
     "execution_count": 32,
     "metadata": {},
     "output_type": "execute_result"
    }
   ],
   "source": [
    "df[\"body-style\"]=le.fit_transform(df[\"body-style\"])\n",
    "df[\"body-style\"].unique()"
   ]
  },
  {
   "cell_type": "code",
   "execution_count": 33,
   "id": "b0b20a11",
   "metadata": {},
   "outputs": [
    {
     "data": {
      "text/plain": [
       "symboling              int64\n",
       "normalized-losses    float64\n",
       "make                   int32\n",
       "fuel-type              int32\n",
       "body-style             int32\n",
       "drive-wheels          object\n",
       "engine-location       object\n",
       "width                float64\n",
       "height               float64\n",
       "engine-type           object\n",
       "engine-size            int64\n",
       "horsepower           float64\n",
       "city-mpg               int64\n",
       "highway-mpg            int64\n",
       "price                  int64\n",
       "dtype: object"
      ]
     },
     "execution_count": 33,
     "metadata": {},
     "output_type": "execute_result"
    }
   ],
   "source": [
    "df.dtypes"
   ]
  },
  {
   "cell_type": "code",
   "execution_count": 34,
   "id": "18973eac",
   "metadata": {},
   "outputs": [
    {
     "data": {
      "text/plain": [
       "array([2, 1, 0])"
      ]
     },
     "execution_count": 34,
     "metadata": {},
     "output_type": "execute_result"
    }
   ],
   "source": [
    "df[\"drive-wheels\"]=le.fit_transform(df[\"drive-wheels\"])\n",
    "df[\"drive-wheels\"].unique()"
   ]
  },
  {
   "cell_type": "code",
   "execution_count": 35,
   "id": "154e7578",
   "metadata": {},
   "outputs": [
    {
     "data": {
      "text/plain": [
       "symboling              int64\n",
       "normalized-losses    float64\n",
       "make                   int32\n",
       "fuel-type              int32\n",
       "body-style             int32\n",
       "drive-wheels           int32\n",
       "engine-location       object\n",
       "width                float64\n",
       "height               float64\n",
       "engine-type           object\n",
       "engine-size            int64\n",
       "horsepower           float64\n",
       "city-mpg               int64\n",
       "highway-mpg            int64\n",
       "price                  int64\n",
       "dtype: object"
      ]
     },
     "execution_count": 35,
     "metadata": {},
     "output_type": "execute_result"
    }
   ],
   "source": [
    "df.dtypes"
   ]
  },
  {
   "cell_type": "code",
   "execution_count": 36,
   "id": "1fb8df37",
   "metadata": {},
   "outputs": [
    {
     "data": {
      "text/plain": [
       "array([0, 1])"
      ]
     },
     "execution_count": 36,
     "metadata": {},
     "output_type": "execute_result"
    }
   ],
   "source": [
    "df[\"engine-location\"]=le.fit_transform(df[\"engine-location\"])\n",
    "df[\"engine-location\"].unique()"
   ]
  },
  {
   "cell_type": "code",
   "execution_count": 37,
   "id": "9fee1a71",
   "metadata": {},
   "outputs": [
    {
     "data": {
      "text/plain": [
       "symboling              int64\n",
       "normalized-losses    float64\n",
       "make                   int32\n",
       "fuel-type              int32\n",
       "body-style             int32\n",
       "drive-wheels           int32\n",
       "engine-location        int32\n",
       "width                float64\n",
       "height               float64\n",
       "engine-type           object\n",
       "engine-size            int64\n",
       "horsepower           float64\n",
       "city-mpg               int64\n",
       "highway-mpg            int64\n",
       "price                  int64\n",
       "dtype: object"
      ]
     },
     "execution_count": 37,
     "metadata": {},
     "output_type": "execute_result"
    }
   ],
   "source": [
    "df.dtypes"
   ]
  },
  {
   "cell_type": "code",
   "execution_count": 38,
   "id": "9d956b62",
   "metadata": {},
   "outputs": [
    {
     "data": {
      "text/plain": [
       "array([0, 5, 3, 2, 6, 4, 1])"
      ]
     },
     "execution_count": 38,
     "metadata": {},
     "output_type": "execute_result"
    }
   ],
   "source": [
    "df[\"engine-type\"]=le.fit_transform(df[\"engine-type\"])\n",
    "df[\"engine-type\"].unique()"
   ]
  },
  {
   "cell_type": "code",
   "execution_count": 39,
   "id": "8fd20c4d",
   "metadata": {},
   "outputs": [
    {
     "data": {
      "text/plain": [
       "symboling              int64\n",
       "normalized-losses    float64\n",
       "make                   int32\n",
       "fuel-type              int32\n",
       "body-style             int32\n",
       "drive-wheels           int32\n",
       "engine-location        int32\n",
       "width                float64\n",
       "height               float64\n",
       "engine-type            int32\n",
       "engine-size            int64\n",
       "horsepower           float64\n",
       "city-mpg               int64\n",
       "highway-mpg            int64\n",
       "price                  int64\n",
       "dtype: object"
      ]
     },
     "execution_count": 39,
     "metadata": {},
     "output_type": "execute_result"
    }
   ],
   "source": [
    "df.dtypes"
   ]
  },
  {
   "cell_type": "code",
   "execution_count": 40,
   "id": "8ae5096a",
   "metadata": {},
   "outputs": [],
   "source": [
    "#select input and output from given dataset\n",
    "X=df.drop(\"price\",axis=1) # input select ,all columns copied in x except price\n",
    "Y=df[\"price\"] # output select"
   ]
  },
  {
   "cell_type": "code",
   "execution_count": 41,
   "id": "7cf5d2b6",
   "metadata": {},
   "outputs": [
    {
     "data": {
      "text/html": [
       "<div>\n",
       "<style scoped>\n",
       "    .dataframe tbody tr th:only-of-type {\n",
       "        vertical-align: middle;\n",
       "    }\n",
       "\n",
       "    .dataframe tbody tr th {\n",
       "        vertical-align: top;\n",
       "    }\n",
       "\n",
       "    .dataframe thead th {\n",
       "        text-align: right;\n",
       "    }\n",
       "</style>\n",
       "<table border=\"1\" class=\"dataframe\">\n",
       "  <thead>\n",
       "    <tr style=\"text-align: right;\">\n",
       "      <th></th>\n",
       "      <th>symboling</th>\n",
       "      <th>normalized-losses</th>\n",
       "      <th>make</th>\n",
       "      <th>fuel-type</th>\n",
       "      <th>body-style</th>\n",
       "      <th>drive-wheels</th>\n",
       "      <th>engine-location</th>\n",
       "      <th>width</th>\n",
       "      <th>height</th>\n",
       "      <th>engine-type</th>\n",
       "      <th>engine-size</th>\n",
       "      <th>horsepower</th>\n",
       "      <th>city-mpg</th>\n",
       "      <th>highway-mpg</th>\n",
       "    </tr>\n",
       "  </thead>\n",
       "  <tbody>\n",
       "    <tr>\n",
       "      <th>0</th>\n",
       "      <td>3</td>\n",
       "      <td>122.0</td>\n",
       "      <td>0</td>\n",
       "      <td>1</td>\n",
       "      <td>0</td>\n",
       "      <td>2</td>\n",
       "      <td>0</td>\n",
       "      <td>64.1</td>\n",
       "      <td>48.8</td>\n",
       "      <td>0</td>\n",
       "      <td>130</td>\n",
       "      <td>111.0</td>\n",
       "      <td>21</td>\n",
       "      <td>27</td>\n",
       "    </tr>\n",
       "    <tr>\n",
       "      <th>1</th>\n",
       "      <td>3</td>\n",
       "      <td>122.0</td>\n",
       "      <td>0</td>\n",
       "      <td>1</td>\n",
       "      <td>0</td>\n",
       "      <td>2</td>\n",
       "      <td>0</td>\n",
       "      <td>64.1</td>\n",
       "      <td>48.8</td>\n",
       "      <td>0</td>\n",
       "      <td>130</td>\n",
       "      <td>111.0</td>\n",
       "      <td>21</td>\n",
       "      <td>27</td>\n",
       "    </tr>\n",
       "    <tr>\n",
       "      <th>2</th>\n",
       "      <td>1</td>\n",
       "      <td>122.0</td>\n",
       "      <td>0</td>\n",
       "      <td>1</td>\n",
       "      <td>2</td>\n",
       "      <td>2</td>\n",
       "      <td>0</td>\n",
       "      <td>65.5</td>\n",
       "      <td>52.4</td>\n",
       "      <td>5</td>\n",
       "      <td>152</td>\n",
       "      <td>154.0</td>\n",
       "      <td>19</td>\n",
       "      <td>26</td>\n",
       "    </tr>\n",
       "    <tr>\n",
       "      <th>3</th>\n",
       "      <td>2</td>\n",
       "      <td>164.0</td>\n",
       "      <td>1</td>\n",
       "      <td>1</td>\n",
       "      <td>3</td>\n",
       "      <td>1</td>\n",
       "      <td>0</td>\n",
       "      <td>66.2</td>\n",
       "      <td>54.3</td>\n",
       "      <td>3</td>\n",
       "      <td>109</td>\n",
       "      <td>102.0</td>\n",
       "      <td>24</td>\n",
       "      <td>30</td>\n",
       "    </tr>\n",
       "    <tr>\n",
       "      <th>4</th>\n",
       "      <td>2</td>\n",
       "      <td>164.0</td>\n",
       "      <td>1</td>\n",
       "      <td>1</td>\n",
       "      <td>3</td>\n",
       "      <td>0</td>\n",
       "      <td>0</td>\n",
       "      <td>66.4</td>\n",
       "      <td>54.3</td>\n",
       "      <td>3</td>\n",
       "      <td>136</td>\n",
       "      <td>115.0</td>\n",
       "      <td>18</td>\n",
       "      <td>22</td>\n",
       "    </tr>\n",
       "  </tbody>\n",
       "</table>\n",
       "</div>"
      ],
      "text/plain": [
       "   symboling  normalized-losses  make  fuel-type  body-style  drive-wheels  \\\n",
       "0          3              122.0     0          1           0             2   \n",
       "1          3              122.0     0          1           0             2   \n",
       "2          1              122.0     0          1           2             2   \n",
       "3          2              164.0     1          1           3             1   \n",
       "4          2              164.0     1          1           3             0   \n",
       "\n",
       "   engine-location  width  height  engine-type  engine-size  horsepower  \\\n",
       "0                0   64.1    48.8            0          130       111.0   \n",
       "1                0   64.1    48.8            0          130       111.0   \n",
       "2                0   65.5    52.4            5          152       154.0   \n",
       "3                0   66.2    54.3            3          109       102.0   \n",
       "4                0   66.4    54.3            3          136       115.0   \n",
       "\n",
       "   city-mpg  highway-mpg  \n",
       "0        21           27  \n",
       "1        21           27  \n",
       "2        19           26  \n",
       "3        24           30  \n",
       "4        18           22  "
      ]
     },
     "execution_count": 41,
     "metadata": {},
     "output_type": "execute_result"
    }
   ],
   "source": [
    "X.head()"
   ]
  },
  {
   "cell_type": "code",
   "execution_count": 42,
   "id": "415556ef",
   "metadata": {},
   "outputs": [
    {
     "data": {
      "text/plain": [
       "0    13495\n",
       "1    16500\n",
       "2    16500\n",
       "3    13950\n",
       "4    17450\n",
       "Name: price, dtype: int64"
      ]
     },
     "execution_count": 42,
     "metadata": {},
     "output_type": "execute_result"
    }
   ],
   "source": [
    "Y.head()"
   ]
  },
  {
   "cell_type": "code",
   "execution_count": 43,
   "id": "6fd743af",
   "metadata": {},
   "outputs": [],
   "source": [
    "# train test split\n",
    "from sklearn.model_selection import train_test_split\n",
    "X_train,X_test,Y_train,Y_test=train_test_split(X,Y,test_size=0.3,random_state=1)"
   ]
  },
  {
   "cell_type": "code",
   "execution_count": 44,
   "id": "35a901f8",
   "metadata": {},
   "outputs": [
    {
     "data": {
      "text/plain": [
       "((143, 14), (143,))"
      ]
     },
     "execution_count": 44,
     "metadata": {},
     "output_type": "execute_result"
    }
   ],
   "source": [
    "X_train.shape,Y_train.shape"
   ]
  },
  {
   "cell_type": "code",
   "execution_count": 45,
   "id": "58c8c3ec",
   "metadata": {},
   "outputs": [
    {
     "data": {
      "text/html": [
       "<div>\n",
       "<style scoped>\n",
       "    .dataframe tbody tr th:only-of-type {\n",
       "        vertical-align: middle;\n",
       "    }\n",
       "\n",
       "    .dataframe tbody tr th {\n",
       "        vertical-align: top;\n",
       "    }\n",
       "\n",
       "    .dataframe thead th {\n",
       "        text-align: right;\n",
       "    }\n",
       "</style>\n",
       "<table border=\"1\" class=\"dataframe\">\n",
       "  <thead>\n",
       "    <tr style=\"text-align: right;\">\n",
       "      <th></th>\n",
       "      <th>symboling</th>\n",
       "      <th>normalized-losses</th>\n",
       "      <th>make</th>\n",
       "      <th>fuel-type</th>\n",
       "      <th>body-style</th>\n",
       "      <th>drive-wheels</th>\n",
       "      <th>engine-location</th>\n",
       "      <th>width</th>\n",
       "      <th>height</th>\n",
       "      <th>engine-type</th>\n",
       "      <th>engine-size</th>\n",
       "      <th>horsepower</th>\n",
       "      <th>city-mpg</th>\n",
       "      <th>highway-mpg</th>\n",
       "    </tr>\n",
       "  </thead>\n",
       "  <tbody>\n",
       "    <tr>\n",
       "      <th>124</th>\n",
       "      <td>3</td>\n",
       "      <td>122.0</td>\n",
       "      <td>14</td>\n",
       "      <td>1</td>\n",
       "      <td>2</td>\n",
       "      <td>2</td>\n",
       "      <td>0</td>\n",
       "      <td>66.3</td>\n",
       "      <td>50.2</td>\n",
       "      <td>3</td>\n",
       "      <td>156</td>\n",
       "      <td>145.0</td>\n",
       "      <td>19</td>\n",
       "      <td>24</td>\n",
       "    </tr>\n",
       "    <tr>\n",
       "      <th>181</th>\n",
       "      <td>-1</td>\n",
       "      <td>122.0</td>\n",
       "      <td>19</td>\n",
       "      <td>1</td>\n",
       "      <td>4</td>\n",
       "      <td>2</td>\n",
       "      <td>0</td>\n",
       "      <td>66.5</td>\n",
       "      <td>54.1</td>\n",
       "      <td>0</td>\n",
       "      <td>161</td>\n",
       "      <td>156.0</td>\n",
       "      <td>19</td>\n",
       "      <td>24</td>\n",
       "    </tr>\n",
       "    <tr>\n",
       "      <th>154</th>\n",
       "      <td>0</td>\n",
       "      <td>81.0</td>\n",
       "      <td>19</td>\n",
       "      <td>1</td>\n",
       "      <td>4</td>\n",
       "      <td>0</td>\n",
       "      <td>0</td>\n",
       "      <td>63.6</td>\n",
       "      <td>59.1</td>\n",
       "      <td>3</td>\n",
       "      <td>92</td>\n",
       "      <td>62.0</td>\n",
       "      <td>27</td>\n",
       "      <td>32</td>\n",
       "    </tr>\n",
       "    <tr>\n",
       "      <th>53</th>\n",
       "      <td>1</td>\n",
       "      <td>113.0</td>\n",
       "      <td>8</td>\n",
       "      <td>1</td>\n",
       "      <td>3</td>\n",
       "      <td>1</td>\n",
       "      <td>0</td>\n",
       "      <td>64.2</td>\n",
       "      <td>54.1</td>\n",
       "      <td>3</td>\n",
       "      <td>91</td>\n",
       "      <td>68.0</td>\n",
       "      <td>31</td>\n",
       "      <td>38</td>\n",
       "    </tr>\n",
       "    <tr>\n",
       "      <th>94</th>\n",
       "      <td>1</td>\n",
       "      <td>128.0</td>\n",
       "      <td>12</td>\n",
       "      <td>1</td>\n",
       "      <td>3</td>\n",
       "      <td>1</td>\n",
       "      <td>0</td>\n",
       "      <td>63.8</td>\n",
       "      <td>54.5</td>\n",
       "      <td>3</td>\n",
       "      <td>97</td>\n",
       "      <td>69.0</td>\n",
       "      <td>31</td>\n",
       "      <td>37</td>\n",
       "    </tr>\n",
       "  </tbody>\n",
       "</table>\n",
       "</div>"
      ],
      "text/plain": [
       "     symboling  normalized-losses  make  fuel-type  body-style  drive-wheels  \\\n",
       "124          3              122.0    14          1           2             2   \n",
       "181         -1              122.0    19          1           4             2   \n",
       "154          0               81.0    19          1           4             0   \n",
       "53           1              113.0     8          1           3             1   \n",
       "94           1              128.0    12          1           3             1   \n",
       "\n",
       "     engine-location  width  height  engine-type  engine-size  horsepower  \\\n",
       "124                0   66.3    50.2            3          156       145.0   \n",
       "181                0   66.5    54.1            0          161       156.0   \n",
       "154                0   63.6    59.1            3           92        62.0   \n",
       "53                 0   64.2    54.1            3           91        68.0   \n",
       "94                 0   63.8    54.5            3           97        69.0   \n",
       "\n",
       "     city-mpg  highway-mpg  \n",
       "124        19           24  \n",
       "181        19           24  \n",
       "154        27           32  \n",
       "53         31           38  \n",
       "94         31           37  "
      ]
     },
     "execution_count": 45,
     "metadata": {},
     "output_type": "execute_result"
    }
   ],
   "source": [
    "X_train.head()"
   ]
  },
  {
   "cell_type": "code",
   "execution_count": 46,
   "id": "91d96a2b",
   "metadata": {},
   "outputs": [
    {
     "data": {
      "text/plain": [
       "124    12764\n",
       "181    15750\n",
       "154     7898\n",
       "53      6695\n",
       "94      7299\n",
       "Name: price, dtype: int64"
      ]
     },
     "execution_count": 46,
     "metadata": {},
     "output_type": "execute_result"
    }
   ],
   "source": [
    "Y_train.head()"
   ]
  },
  {
   "cell_type": "code",
   "execution_count": 47,
   "id": "35de9a24",
   "metadata": {},
   "outputs": [],
   "source": [
    "#Apply StandardScaler on X_train input and X_test input\n",
    "from sklearn.preprocessing import StandardScaler\n",
    "#create object of StandardScaler class\n",
    "ss=StandardScaler()\n",
    "\n",
    "X_train=ss.fit_transform(X_train)\n",
    "X_test=ss.transform(X_test)"
   ]
  },
  {
   "cell_type": "code",
   "execution_count": 48,
   "id": "cadd5866",
   "metadata": {},
   "outputs": [
    {
     "data": {
      "text/plain": [
       "array([[ 1.69785729,  0.02383412,  0.26113762, ...,  0.91249629,\n",
       "        -0.90919255, -0.94885315],\n",
       "       [-1.42488988,  0.02383412,  1.05905813, ...,  1.17665241,\n",
       "        -0.90919255, -0.94885315],\n",
       "       [-0.64420309, -1.38767531,  1.05905813, ..., -1.08068167,\n",
       "         0.34245159,  0.25058111],\n",
       "       ...,\n",
       "       [ 1.69785729,  0.7123753 , -0.53678289, ...,  1.15263822,\n",
       "        -1.3785591 , -1.84842885],\n",
       "       [ 0.91717049, -1.31882119,  0.89947403, ..., -0.81652556,\n",
       "         0.18599607,  0.10065183],\n",
       "       [-0.64420309, -0.52699883, -1.17511929, ..., -0.50434106,\n",
       "         0.34245159,  0.40051039]])"
      ]
     },
     "execution_count": 48,
     "metadata": {},
     "output_type": "execute_result"
    }
   ],
   "source": [
    "X_train"
   ]
  },
  {
   "cell_type": "code",
   "execution_count": 49,
   "id": "8c3337a0",
   "metadata": {},
   "outputs": [
    {
     "data": {
      "text/plain": [
       "array([[ 0.91717049,  1.36648942, -0.21761468,  0.31622777, -0.73084958,\n",
       "        -0.59254744, -0.14638501, -0.75759101, -1.1505694 ,  0.00639503,\n",
       "        -0.88726449, -0.93659652,  0.96827365,  1.1501568 ],\n",
       "       [ 0.1364837 , -0.63028001, -0.05803058,  0.31622777,  1.54113933,\n",
       "        -0.59254744, -0.14638501, -1.03620785, -0.08423516,  0.00639503,\n",
       "        -0.76570977, -0.91258233,  0.96827365,  1.00022752],\n",
       "       [ 0.1364837 , -1.18111295,  1.05905813,  0.31622777, -0.73084958,\n",
       "        -0.59254744, -0.14638501, -1.12908013,  0.31070345,  0.00639503,\n",
       "        -0.88726449, -1.08068167,  0.96827365,  1.1501568 ],\n",
       "       [ 0.1364837 ,  0.02383412, -1.01553519,  0.31622777,  0.40514488,\n",
       "        -0.59254744, -0.14638501, -1.12908013, -0.67664307,  0.00639503,\n",
       "        -0.93588638, -0.88856813,  2.06346227,  1.89980322],\n",
       "       [-0.64420309, -1.24996707, -1.17511929,  0.31622777,  0.40514488,\n",
       "        -0.59254744, -0.14638501, -1.63987766,  0.15272801,  0.00639503,\n",
       "        -0.44966748, -0.50434106,  0.34245159,  0.40051039],\n",
       "       [-1.42488988, -0.9745506 , -0.53678289, -3.16227766,  0.40514488,\n",
       "         1.17275014, -0.14638501,  1.98214124,  1.10058066,  0.00639503,\n",
       "         1.32503151,  0.38418406, -0.439826  , -0.79892387],\n",
       "       [ 0.91717049,  1.60747884, -0.05803058,  0.31622777, -1.86684404,\n",
       "        -0.59254744, -0.14638501, -1.03620785, -0.16322288,  0.00639503,\n",
       "        -0.76570977, -0.91258233,  0.96827365,  1.00022752],\n",
       "       [ 0.91717049, -0.01059294, -1.4942875 ,  0.31622777, -0.73084958,\n",
       "        -0.59254744, -0.14638501, -2.66147274, -0.20271674, -0.90809472,\n",
       "        -1.64090379, -1.41688037,  3.47156192,  3.39909604],\n",
       "       [ 0.1364837 , -1.62866472,  1.05905813,  0.31622777, -0.73084958,\n",
       "        -0.59254744, -0.14638501, -1.12908013,  0.31070345,  0.00639503,\n",
       "        -0.88726449, -1.08068167,  0.96827365,  1.1501568 ],\n",
       "       [-0.64420309, -0.2171553 , -0.69636699,  0.31622777,  0.40514488,\n",
       "        -0.59254744, -0.14638501,  0.21756793,  0.70564206,  0.00639503,\n",
       "        -0.15793614, -0.55236944,  0.18599607,  0.25058111],\n",
       "       [ 0.91717049,  1.4697706 , -1.8134557 ,  0.31622777,  0.40514488,\n",
       "        -2.35784501, -0.14638501,  0.17113179,  0.23171573,  0.00639503,\n",
       "         0.18241709,  0.19207052, -1.06564807, -1.24871172],\n",
       "       [ 0.91717049,  0.43695883,  1.05905813,  0.31622777, -3.00283849,\n",
       "         1.17275014, -0.14638501, -0.20035733, -0.28170446,  0.00639503,\n",
       "         0.42552654,  0.21608471, -0.12691496, -0.04927746],\n",
       "       [-1.42488988, -1.62866472,  1.37822633,  0.31622777,  1.54113933,\n",
       "         1.17275014, -0.14638501,  0.54262091,  1.49551927,  0.00639503,\n",
       "         0.30397182,  0.16805633, -0.12691496, -0.34913602],\n",
       "       [-0.64420309, -0.52699883, -1.17511929,  0.31622777, -0.73084958,\n",
       "        -0.59254744, -0.14638501, -0.38610189, -0.16322288,  0.00639503,\n",
       "        -0.44966748, -0.50434106,  0.34245159,  0.40051039],\n",
       "       [ 1.69785729,  0.81565648, -1.33470339,  0.31622777, -0.73084958,\n",
       "        -0.59254744, -0.14638501,  0.12469565, -1.38753256,  0.00639503,\n",
       "         0.66863599,  0.91249629, -0.90919255, -0.94885315],\n",
       "       [ 0.91717049,  0.43695883,  1.05905813,  0.31622777, -1.86684404,\n",
       "         1.17275014, -0.14638501, -0.20035733, -0.67664307,  0.00639503,\n",
       "         0.42552654,  0.21608471, -0.12691496, -0.04927746],\n",
       "       [ 1.69785729,  4.63706004,  1.21864223,  0.31622777, -0.73084958,\n",
       "        -0.59254744, -0.14638501, -0.94333557, -0.91360623,  0.00639503,\n",
       "        -0.47397842, -0.40828429, -0.12691496, -0.19920674],\n",
       "       [ 0.1364837 , -0.69913412, -1.17511929,  0.31622777, -0.73084958,\n",
       "        -0.59254744, -0.14638501, -0.94333557, -0.4396799 ,  0.00639503,\n",
       "        -0.88726449, -0.74448298,  0.81181814,  0.55043967],\n",
       "       [ 1.69785729,  0.98779177,  0.73988993,  0.31622777, -0.73084958,\n",
       "        -0.59254744, -0.14638501,  0.21756793,  0.94260522, -2.73707423,\n",
       "        -0.18224708,  1.27270918, -0.90919255, -0.64899459],\n",
       "       [-0.64420309, -0.66470706,  0.89947403,  0.31622777,  0.40514488,\n",
       "        -2.35784501, -0.14638501, -0.29322961,  0.23171573,  0.92088479,\n",
       "        -0.49828937,  0.09601375, -0.12691496, -0.19920674],\n",
       "       [-1.42488988, -1.93850825,  1.05905813,  0.31622777,  0.40514488,\n",
       "        -0.59254744, -0.14638501,  0.21756793,  0.46867889,  0.00639503,\n",
       "        -0.15793614, -0.3602559 ,  0.65536262,  0.55043967],\n",
       "       [ 0.91717049,  0.54024   , -1.17511929,  0.31622777, -0.73084958,\n",
       "        -0.59254744, -0.14638501, -0.98977171, -1.1505694 ,  0.00639503,\n",
       "        -0.88726449, -0.74448298,  0.96827365,  1.1501568 ],\n",
       "       [-0.64420309,  2.43372826, -1.6538716 ,  0.31622777,  0.40514488,\n",
       "         1.17275014, -0.14638501, -0.57184645,  0.23171573,  0.00639503,\n",
       "        -0.49828937, -0.14412817, -0.28337048, -0.19920674],\n",
       "       [ 0.1364837 , -0.07944706,  0.26113762,  0.31622777, -0.73084958,\n",
       "        -0.59254744, -0.14638501, -1.03620785, -1.1505694 ,  0.00639503,\n",
       "        -0.74139882, -0.12011398, -0.12691496, -0.04927746],\n",
       "       [ 0.91717049,  0.43695883,  1.05905813,  0.31622777, -0.73084958,\n",
       "         1.17275014, -0.14638501, -0.20035733, -0.67664307,  0.00639503,\n",
       "         0.42552654,  0.21608471, -0.12691496, -0.04927746],\n",
       "       [ 0.1364837 , -0.69913412, -1.17511929,  0.31622777, -0.73084958,\n",
       "        -0.59254744, -0.14638501, -0.94333557, -0.4396799 ,  0.00639503,\n",
       "        -0.88726449, -0.74448298,  0.81181814,  0.55043967],\n",
       "       [ 1.69785729,  0.02383412, -0.21761468,  0.31622777, -0.73084958,\n",
       "        -0.59254744, -0.14638501,  0.12469565, -1.38753256,  0.00639503,\n",
       "         0.66863599,  0.91249629, -0.90919255, -0.94885315],\n",
       "       [ 0.91717049, -0.94012354,  1.21864223, -3.16227766,  0.40514488,\n",
       "        -0.59254744, -0.14638501, -0.24679347,  0.78462978,  0.00639503,\n",
       "        -0.76570977, -1.3208236 ,  1.90700675,  2.34959106],\n",
       "       [ 0.1364837 ,  1.12550001,  0.26113762,  0.31622777, -0.73084958,\n",
       "        -0.59254744, -0.14638501, -1.03620785, -1.22955712,  0.00639503,\n",
       "        -0.93588638, -0.93659652,  0.96827365,  1.1501568 ],\n",
       "       [-0.64420309, -0.38929059, -1.17511929,  0.31622777,  0.40514488,\n",
       "        -0.59254744, -0.14638501, -0.94333557,  0.31070345,  0.00639503,\n",
       "        -0.88726449, -0.74448298,  0.81181814,  0.55043967],\n",
       "       [ 0.1364837 ,  1.60747884,  1.05905813,  0.31622777,  0.40514488,\n",
       "         1.17275014, -0.14638501, -0.94333557, -0.4396799 ,  0.00639503,\n",
       "        -0.74139882, -0.88856813,  0.65536262,  0.55043967],\n",
       "       [-1.42488988, -0.38929059, -1.33470339,  0.31622777,  1.54113933,\n",
       "        -0.59254744, -0.14638501, -0.66471873,  2.40387807,  0.00639503,\n",
       "        -0.15793614, -0.45631267, -0.12691496, -0.04927746],\n",
       "       [-0.64420309,  0.02383412, -1.6538716 ,  0.31622777,  0.40514488,\n",
       "         1.17275014, -0.14638501,  0.86767388, -0.00524744,  0.00639503,\n",
       "         1.95711608,  1.80102141, -1.3785591 , -1.24871172],\n",
       "       [-0.64420309,  0.02383412,  0.58030582,  0.31622777,  1.54113933,\n",
       "        -0.59254744, -0.14638501,  0.21756793,  0.58716047,  0.00639503,\n",
       "         0.08517331, -0.06593418, -0.28337048,  0.10065183],\n",
       "       [-0.64420309,  1.36648942,  0.10155352, -3.16227766,  0.40514488,\n",
       "         1.17275014, -0.14638501,  1.09985458,  1.17956839, -0.90809472,\n",
       "         0.57139221, -0.28821333,  0.4989071 ,  0.40051039],\n",
       "       [ 0.91717049,  0.02383412,  1.21864223, -3.16227766,  0.40514488,\n",
       "        -0.59254744, -0.14638501, -0.24679347,  0.78462978,  0.00639503,\n",
       "        -0.76570977, -1.3208236 ,  1.90700675,  2.34959106],\n",
       "       [ 0.1364837 ,  0.91893766, -1.33470339,  0.31622777,  0.40514488,\n",
       "        -0.59254744, -0.14638501, -1.03620785, -1.22955712,  0.00639503,\n",
       "        -0.74139882, -0.12011398, -0.12691496, -0.04927746],\n",
       "       [-0.64420309,  0.81565648, -0.85595109,  0.31622777,  0.40514488,\n",
       "         1.17275014, -0.14638501,  1.65708826, -0.36069218, -2.73707423,\n",
       "         3.14835239,  1.65693626, -1.53501462, -1.69849956],\n",
       "       [ 1.69785729,  0.98779177, -0.69636699,  0.31622777, -0.73084958,\n",
       "         1.17275014, -0.14638501, -0.15392119, -1.62449573,  2.74986429,\n",
       "        -1.17899583,  0.67235437, -1.3785591 , -1.09878243],\n",
       "       [-1.42488988, -0.90569648,  1.37822633,  0.31622777,  0.40514488,\n",
       "         1.17275014, -0.14638501,  1.33203528,  0.70564206,  0.00639503,\n",
       "         0.30397182,  0.16805633, -0.90919255, -0.79892387],\n",
       "       [ 0.91717049, -1.31882119,  0.89947403,  0.31622777, -0.73084958,\n",
       "        -0.59254744, -0.14638501, -1.2219524 , -0.00524744,  0.92088479,\n",
       "        -0.76570977, -0.91258233,  0.96827365,  0.85029824],\n",
       "       [ 0.1364837 ,  3.77638356, -0.05803058,  0.31622777, -0.73084958,\n",
       "         1.17275014, -0.14638501,  0.86767388, -1.58500186,  1.83537454,\n",
       "         1.27640962,  1.27270918, -0.90919255, -0.79892387],\n",
       "       [ 0.1364837 ,  0.23039647, -0.05803058, -3.16227766,  0.40514488,\n",
       "        -0.59254744, -0.14638501, -1.03620785,  0.31070345,  0.00639503,\n",
       "        -0.6198441 , -1.24878102,  3.15865089,  2.94930819],\n",
       "       [-0.64420309, -1.11225883,  0.89947403,  0.31622777,  1.54113933,\n",
       "        -0.59254744, -0.14638501, -0.29322961, -0.28170446,  0.92088479,\n",
       "        -0.49828937, -0.31222752,  0.02954055,  0.10065183],\n",
       "       [ 0.91717049, -0.94012354,  1.21864223,  0.31622777,  0.40514488,\n",
       "        -0.59254744, -0.14638501, -0.24679347,  0.78462978,  0.00639503,\n",
       "        -0.47397842, -0.52835525,  0.34245159,  0.55043967],\n",
       "       [ 0.1364837 ,  0.23039647, -0.05803058,  0.31622777, -0.73084958,\n",
       "        -0.59254744, -0.14638501, -1.03620785, -0.16322288,  0.00639503,\n",
       "        -0.76570977, -0.91258233,  0.96827365,  1.00022752],\n",
       "       [-0.64420309,  0.02383412, -0.53678289,  0.31622777,  0.40514488,\n",
       "         1.17275014, -0.14638501,  2.63224719,  1.17956839,  1.83537454,\n",
       "         4.36389964,  1.84904979, -1.69147013, -2.14828741],\n",
       "       [ 0.1364837 , -0.59585295, -0.69636699,  0.31622777, -0.73084958,\n",
       "        -0.59254744, -0.14638501, -0.85046329,  0.15272801,  0.00639503,\n",
       "        -0.91157544, -0.93659652,  0.96827365,  1.1501568 ],\n",
       "       [-0.64420309,  1.36648942,  0.10155352,  0.31622777,  0.40514488,\n",
       "         1.17275014, -0.14638501,  1.05341844,  0.90311136, -0.90809472,\n",
       "         0.1337952 ,  0.84045372, -1.06564807, -0.94885315],\n",
       "       [-0.64420309, -0.45814471, -0.05803058,  0.31622777,  0.40514488,\n",
       "        -0.59254744, -0.14638501,  0.21756793,  0.54766661,  1.83537454,\n",
       "         1.27640962,  1.08059564, -0.90919255, -0.79892387],\n",
       "       [-0.64420309, -0.9745506 , -0.53678289, -3.16227766, -1.86684404,\n",
       "         1.17275014, -0.14638501,  1.98214124,  0.46867889,  0.00639503,\n",
       "         1.32503151,  0.38418406, -0.439826  , -0.79892387],\n",
       "       [-0.64420309,  1.36648942,  0.10155352,  0.31622777,  0.40514488,\n",
       "         1.17275014, -0.14638501,  1.09985458,  1.17956839, -0.90809472,\n",
       "        -0.20655803, -0.24018494, -0.90919255, -0.94885315],\n",
       "       [ 0.1364837 ,  0.02383412, -1.6538716 ,  0.31622777,  0.40514488,\n",
       "         1.17275014, -0.14638501,  0.40331249,  0.78462978,  0.00639503,\n",
       "         0.86312355,  0.33615568, -0.75273703, -0.79892387],\n",
       "       [-0.64420309, -1.04340471,  1.05905813,  0.31622777,  0.40514488,\n",
       "        -0.59254744, -0.14638501, -0.75759101, -0.36069218,  0.00639503,\n",
       "        -0.74139882, -0.88856813,  0.4989071 ,  0.55043967],\n",
       "       [ 0.1364837 ,  0.26482353, -0.69636699,  0.31622777, -0.73084958,\n",
       "        -0.59254744, -0.14638501,  0.21756793, -0.00524744,  0.00639503,\n",
       "        -0.15793614, -0.55236944,  0.18599607,  0.25058111],\n",
       "       [ 0.1364837 , -0.8024153 , -1.4942875 ,  0.31622777, -0.73084958,\n",
       "        -0.59254744, -0.14638501, -1.12908013, -0.67664307,  0.00639503,\n",
       "        -0.93588638, -0.88856813,  2.06346227,  1.89980322],\n",
       "       [-1.42488988, -1.93850825,  1.05905813,  0.31622777, -0.73084958,\n",
       "        -0.59254744, -0.14638501,  0.21756793,  0.07374029,  0.00639503,\n",
       "        -0.15793614, -0.3602559 ,  0.34245159,  0.25058111],\n",
       "       [-0.64420309, -1.24996707, -1.17511929,  0.31622777,  0.40514488,\n",
       "        -0.59254744, -0.14638501, -0.38610189,  0.15272801,  0.00639503,\n",
       "        -0.44966748, -0.50434106,  0.34245159,  0.40051039],\n",
       "       [-0.64420309,  0.02383412,  0.10155352, -3.16227766,  1.54113933,\n",
       "         1.17275014, -0.14638501,  1.09985458,  1.9694456 , -0.90809472,\n",
       "         0.57139221, -0.28821333,  0.02954055, -0.79892387],\n",
       "       [ 0.1364837 ,  1.60747884,  1.05905813,  0.31622777, -0.73084958,\n",
       "         1.17275014, -0.14638501, -0.94333557, -0.4396799 ,  0.00639503,\n",
       "        -0.74139882, -0.88856813,  0.65536262,  0.55043967],\n",
       "       [ 1.69785729,  0.98779177, -0.69636699,  0.31622777, -0.73084958,\n",
       "         1.17275014, -0.14638501, -0.15392119, -1.62449573,  2.74986429,\n",
       "        -1.42210528, -0.14412817, -1.22210358, -1.09878243],\n",
       "       [-1.42488988, -1.93850825,  1.05905813,  0.31622777,  0.40514488,\n",
       "        -0.59254744, -0.14638501,  0.21756793,  0.46867889,  0.00639503,\n",
       "        -0.15793614, -0.3602559 ,  0.34245159,  0.25058111]])"
      ]
     },
     "execution_count": 49,
     "metadata": {},
     "output_type": "execute_result"
    }
   ],
   "source": [
    "X_test"
   ]
  },
  {
   "cell_type": "code",
   "execution_count": 50,
   "id": "9e1f3a2c",
   "metadata": {},
   "outputs": [],
   "source": [
    "#Train the model with 70% data\n",
    "#with LinearRegression Alogrithm why ?\n",
    "#because output/target variable is continous numeric value\n",
    "from sklearn.linear_model import LinearRegression"
   ]
  },
  {
   "cell_type": "code",
   "execution_count": 51,
   "id": "20139f7c",
   "metadata": {},
   "outputs": [],
   "source": [
    "#create object of  LinearRegression class\n",
    "lr=LinearRegression()"
   ]
  },
  {
   "cell_type": "code",
   "execution_count": 52,
   "id": "56b5b816",
   "metadata": {},
   "outputs": [
    {
     "data": {
      "text/html": [
       "<style>#sk-container-id-1 {color: black;}#sk-container-id-1 pre{padding: 0;}#sk-container-id-1 div.sk-toggleable {background-color: white;}#sk-container-id-1 label.sk-toggleable__label {cursor: pointer;display: block;width: 100%;margin-bottom: 0;padding: 0.3em;box-sizing: border-box;text-align: center;}#sk-container-id-1 label.sk-toggleable__label-arrow:before {content: \"▸\";float: left;margin-right: 0.25em;color: #696969;}#sk-container-id-1 label.sk-toggleable__label-arrow:hover:before {color: black;}#sk-container-id-1 div.sk-estimator:hover label.sk-toggleable__label-arrow:before {color: black;}#sk-container-id-1 div.sk-toggleable__content {max-height: 0;max-width: 0;overflow: hidden;text-align: left;background-color: #f0f8ff;}#sk-container-id-1 div.sk-toggleable__content pre {margin: 0.2em;color: black;border-radius: 0.25em;background-color: #f0f8ff;}#sk-container-id-1 input.sk-toggleable__control:checked~div.sk-toggleable__content {max-height: 200px;max-width: 100%;overflow: auto;}#sk-container-id-1 input.sk-toggleable__control:checked~label.sk-toggleable__label-arrow:before {content: \"▾\";}#sk-container-id-1 div.sk-estimator input.sk-toggleable__control:checked~label.sk-toggleable__label {background-color: #d4ebff;}#sk-container-id-1 div.sk-label input.sk-toggleable__control:checked~label.sk-toggleable__label {background-color: #d4ebff;}#sk-container-id-1 input.sk-hidden--visually {border: 0;clip: rect(1px 1px 1px 1px);clip: rect(1px, 1px, 1px, 1px);height: 1px;margin: -1px;overflow: hidden;padding: 0;position: absolute;width: 1px;}#sk-container-id-1 div.sk-estimator {font-family: monospace;background-color: #f0f8ff;border: 1px dotted black;border-radius: 0.25em;box-sizing: border-box;margin-bottom: 0.5em;}#sk-container-id-1 div.sk-estimator:hover {background-color: #d4ebff;}#sk-container-id-1 div.sk-parallel-item::after {content: \"\";width: 100%;border-bottom: 1px solid gray;flex-grow: 1;}#sk-container-id-1 div.sk-label:hover label.sk-toggleable__label {background-color: #d4ebff;}#sk-container-id-1 div.sk-serial::before {content: \"\";position: absolute;border-left: 1px solid gray;box-sizing: border-box;top: 0;bottom: 0;left: 50%;z-index: 0;}#sk-container-id-1 div.sk-serial {display: flex;flex-direction: column;align-items: center;background-color: white;padding-right: 0.2em;padding-left: 0.2em;position: relative;}#sk-container-id-1 div.sk-item {position: relative;z-index: 1;}#sk-container-id-1 div.sk-parallel {display: flex;align-items: stretch;justify-content: center;background-color: white;position: relative;}#sk-container-id-1 div.sk-item::before, #sk-container-id-1 div.sk-parallel-item::before {content: \"\";position: absolute;border-left: 1px solid gray;box-sizing: border-box;top: 0;bottom: 0;left: 50%;z-index: -1;}#sk-container-id-1 div.sk-parallel-item {display: flex;flex-direction: column;z-index: 1;position: relative;background-color: white;}#sk-container-id-1 div.sk-parallel-item:first-child::after {align-self: flex-end;width: 50%;}#sk-container-id-1 div.sk-parallel-item:last-child::after {align-self: flex-start;width: 50%;}#sk-container-id-1 div.sk-parallel-item:only-child::after {width: 0;}#sk-container-id-1 div.sk-dashed-wrapped {border: 1px dashed gray;margin: 0 0.4em 0.5em 0.4em;box-sizing: border-box;padding-bottom: 0.4em;background-color: white;}#sk-container-id-1 div.sk-label label {font-family: monospace;font-weight: bold;display: inline-block;line-height: 1.2em;}#sk-container-id-1 div.sk-label-container {text-align: center;}#sk-container-id-1 div.sk-container {/* jupyter's `normalize.less` sets `[hidden] { display: none; }` but bootstrap.min.css set `[hidden] { display: none !important; }` so we also need the `!important` here to be able to override the default hidden behavior on the sphinx rendered scikit-learn.org. See: https://github.com/scikit-learn/scikit-learn/issues/21755 */display: inline-block !important;position: relative;}#sk-container-id-1 div.sk-text-repr-fallback {display: none;}</style><div id=\"sk-container-id-1\" class=\"sk-top-container\"><div class=\"sk-text-repr-fallback\"><pre>LinearRegression()</pre><b>In a Jupyter environment, please rerun this cell to show the HTML representation or trust the notebook. <br />On GitHub, the HTML representation is unable to render, please try loading this page with nbviewer.org.</b></div><div class=\"sk-container\" hidden><div class=\"sk-item\"><div class=\"sk-estimator sk-toggleable\"><input class=\"sk-toggleable__control sk-hidden--visually\" id=\"sk-estimator-id-1\" type=\"checkbox\" checked><label for=\"sk-estimator-id-1\" class=\"sk-toggleable__label sk-toggleable__label-arrow\">LinearRegression</label><div class=\"sk-toggleable__content\"><pre>LinearRegression()</pre></div></div></div></div></div>"
      ],
      "text/plain": [
       "LinearRegression()"
      ]
     },
     "execution_count": 52,
     "metadata": {},
     "output_type": "execute_result"
    }
   ],
   "source": [
    "#Train the model with 70% data, use inbuilt method fit()\n",
    "lr.fit(X_train,Y_train)"
   ]
  },
  {
   "cell_type": "code",
   "execution_count": 53,
   "id": "349bebca",
   "metadata": {},
   "outputs": [
    {
     "data": {
      "text/plain": [
       "array([   57.81895665,    44.47885193, -1253.87858019,  -178.99929397,\n",
       "        -149.85563859,  1058.52249069,  2352.26450278,  1700.08139295,\n",
       "         918.27940669,   309.65276269,  4046.25518791,  -450.43882012,\n",
       "        1968.72478882, -2781.47379917])"
      ]
     },
     "execution_count": 53,
     "metadata": {},
     "output_type": "execute_result"
    }
   ],
   "source": [
    "#Check slope of each inputs use inbuilt attributes coef_ of LinearRegression class\n",
    "lr.coef_"
   ]
  },
  {
   "cell_type": "code",
   "execution_count": 54,
   "id": "0dca6226",
   "metadata": {},
   "outputs": [
    {
     "data": {
      "text/plain": [
       "Index(['symboling', 'normalized-losses', 'make', 'fuel-type', 'body-style',\n",
       "       'drive-wheels', 'engine-location', 'width', 'height', 'engine-type',\n",
       "       'engine-size', 'horsepower', 'city-mpg', 'highway-mpg'],\n",
       "      dtype='object')"
      ]
     },
     "execution_count": 54,
     "metadata": {},
     "output_type": "execute_result"
    }
   ],
   "source": [
    "X.columns"
   ]
  },
  {
   "cell_type": "code",
   "execution_count": 55,
   "id": "1254d560",
   "metadata": {},
   "outputs": [
    {
     "data": {
      "text/plain": [
       "13483.55944055944"
      ]
     },
     "execution_count": 55,
     "metadata": {},
     "output_type": "execute_result"
    }
   ],
   "source": [
    "#check intercept , use inbuilt attributes intercept_ of LinearRegression class\n",
    "lr.intercept_"
   ]
  },
  {
   "cell_type": "code",
   "execution_count": 56,
   "id": "18562355",
   "metadata": {},
   "outputs": [],
   "source": [
    "#Test the model with 30% data , use inbuilt method predict()\n",
    "Y_pred=lr.predict(X_test)"
   ]
  },
  {
   "cell_type": "code",
   "execution_count": 57,
   "id": "a6010373",
   "metadata": {},
   "outputs": [
    {
     "data": {
      "text/plain": [
       "(62, 2)"
      ]
     },
     "execution_count": 57,
     "metadata": {},
     "output_type": "execute_result"
    }
   ],
   "source": [
    "dict={\"Actual Output\" :Y_test,'Predicted Output':Y_pred}\n",
    "df1=pd.DataFrame(dict)\n",
    "df1.shape"
   ]
  },
  {
   "cell_type": "code",
   "execution_count": 58,
   "id": "b8e9b08f",
   "metadata": {},
   "outputs": [
    {
     "name": "stdout",
     "output_type": "stream",
     "text": [
      "Mean squared error : 12259459.688784512\n"
     ]
    }
   ],
   "source": [
    "#find th mean squared error\n",
    "# mean_squared_error inbuilt inner class which define in outer class metrics\n",
    "from sklearn.metrics import mean_squared_error\n",
    "mse= mean_squared_error(Y_test,Y_pred)\n",
    "# mse is user defined variable\n",
    "print(\"Mean squared error :\",mse)"
   ]
  },
  {
   "cell_type": "code",
   "execution_count": 59,
   "id": "64610ceb",
   "metadata": {},
   "outputs": [
    {
     "data": {
      "text/plain": [
       "0.7965566780397383"
      ]
     },
     "execution_count": 59,
     "metadata": {},
     "output_type": "execute_result"
    }
   ],
   "source": [
    "#check testing score\n",
    "lr.score(X_test,Y_test)"
   ]
  },
  {
   "cell_type": "code",
   "execution_count": 60,
   "id": "8d5f94cb",
   "metadata": {},
   "outputs": [
    {
     "data": {
      "text/plain": [
       "0.8504573774895474"
      ]
     },
     "execution_count": 60,
     "metadata": {},
     "output_type": "execute_result"
    }
   ],
   "source": [
    "#check training score\n",
    "lr.score(X_train,Y_train)"
   ]
  },
  {
   "cell_type": "code",
   "execution_count": 61,
   "id": "1eead83d",
   "metadata": {},
   "outputs": [],
   "source": [
    "#here clearly see, training score>testing score means model is no under fit"
   ]
  },
  {
   "cell_type": "code",
   "execution_count": 62,
   "id": "1950512f",
   "metadata": {},
   "outputs": [],
   "source": [
    "#here model is overfit,to overcome or reduce overfititng of model , use technique Regularisation :-\n",
    "#1 Lasso Regularisation\n",
    "#2 Ridge Regularisation\n"
   ]
  },
  {
   "cell_type": "code",
   "execution_count": 63,
   "id": "4647e2fb",
   "metadata": {},
   "outputs": [],
   "source": [
    "#What is Regularisation ? \n",
    "#Regularisation means to add external error during training time\n",
    "#Error : - RSS : residual sum of squared error :\n"
   ]
  },
  {
   "cell_type": "code",
   "execution_count": 64,
   "id": "ba6de61f",
   "metadata": {},
   "outputs": [
    {
     "data": {
      "text/plain": [
       "' Add some error during training time \\n   1. Lasso Regularization : L1  \\n   RSS+lambda*sum(abs(all coefficient)) here lambda is also known as \\n   hyper-parameter, value of lambda  can be 200,300,400,600,..1000\\n   2. Ridge Regularization : L2\\n   RSS+lambda*sum(square(all coefficient)) here lambda is also known as \\n   hyper-parameter, value of lambda  can be 0 to 50\\n    '"
      ]
     },
     "execution_count": 64,
     "metadata": {},
     "output_type": "execute_result"
    }
   ],
   "source": [
    "#How do we take care of overfitting : -  \n",
    "#use L1 : Lasso and L2 : Ridge  regularization\n",
    "\n",
    "''' Add some error during training time \n",
    "   1. Lasso Regularization : L1  \n",
    "   RSS+lambda*sum(abs(all coefficient)) here lambda is also known as \n",
    "   hyper-parameter, value of lambda  can be 200,300,400,600,..1000\n",
    "   2. Ridge Regularization : L2\n",
    "   RSS+lambda*sum(square(all coefficient)) here lambda is also known as \n",
    "   hyper-parameter, value of lambda  can be 0 to 50\n",
    "    '''"
   ]
  },
  {
   "cell_type": "code",
   "execution_count": 65,
   "id": "419e8636",
   "metadata": {},
   "outputs": [],
   "source": [
    "#Lasso Regularisation is also known as L1 regularisation\n",
    "#Lasso inbuilt class \n",
    "from sklearn.linear_model import Lasso"
   ]
  },
  {
   "cell_type": "code",
   "execution_count": 66,
   "id": "de366283",
   "metadata": {},
   "outputs": [
    {
     "data": {
      "text/plain": [
       "'for i in range(200,1001,50): # start i=200 stop=1001-1=1000 step=+50\\n    #create the object of Lasso class and pass value of lambda\\n    L1=Lasso(i) #i means lambda =200 next time 250\\n    #Train the model with 70% data with Lasso \\n    L1.fit(X_train,Y_train) #RSS+i*sum(abs(all slope))\\n    #check training score \\n    train_score=L1.score(X_train,Y_train)\\n    #check testing score \\n    test_score=L1.score(X_test,Y_test)\\n    print(\"Training Score At Value of Lambda {} - {}\".format(i,train_score))\\n    print(\"Testing Score At Value of Lambda {} - {}\".format(i,test_score))\\n    print(\"\\n\")'"
      ]
     },
     "execution_count": 66,
     "metadata": {},
     "output_type": "execute_result"
    }
   ],
   "source": [
    "#200 -1000 \n",
    "#start lambda =200  stop=1001-1  step =50 \n",
    "# choose right value of lambda\n",
    "'''for i in range(200,1001,50): # start i=200 stop=1001-1=1000 step=+50\n",
    "    #create the object of Lasso class and pass value of lambda\n",
    "    L1=Lasso(i) #i means lambda =200 next time 250\n",
    "    #Train the model with 70% data with Lasso \n",
    "    L1.fit(X_train,Y_train) #RSS+i*sum(abs(all slope))\n",
    "    #check training score \n",
    "    train_score=L1.score(X_train,Y_train)\n",
    "    #check testing score \n",
    "    test_score=L1.score(X_test,Y_test)\n",
    "    print(\"Training Score At Value of Lambda {} - {}\".format(i,train_score))\n",
    "    print(\"Testing Score At Value of Lambda {} - {}\".format(i,test_score))\n",
    "    print(\"\\n\")'''"
   ]
  },
  {
   "cell_type": "code",
   "execution_count": 67,
   "id": "5d6e4f30",
   "metadata": {},
   "outputs": [
    {
     "name": "stdout",
     "output_type": "stream",
     "text": [
      "testing score :  0.8111395742766208\n",
      "training score :  0.8410268620601096\n"
     ]
    }
   ],
   "source": [
    "#create the object of Lasso class and pass value of lambda\n",
    "L1=Lasso(200) #i means lambda =200 next time 250\n",
    "    #Train the model with 70% data with Lasso \n",
    "L1.fit(X_train,Y_train) #RSS+i*sum(abs(all slope))\n",
    "    #check training score \n",
    "train_score=L1.score(X_train,Y_train)\n",
    "    #check testing score \n",
    "test_score=L1.score(X_test,Y_test)\n",
    "print(\"testing score : \" ,L1.score(X_test,Y_test))\n",
    "print(\"training score : \" ,L1.score(X_train,Y_train))\n",
    "    \n",
    "   "
   ]
  },
  {
   "cell_type": "code",
   "execution_count": 68,
   "id": "0eef2f99",
   "metadata": {},
   "outputs": [
    {
     "data": {
      "text/plain": [
       "array([  -0.        ,    0.        , -983.41038718, -206.58250251,\n",
       "         -0.        ,  845.36118792, 1971.76463549, 1526.45045203,\n",
       "        676.38731644,  146.23146918, 3934.42518389,   -0.        ,\n",
       "         -0.        , -740.17131961])"
      ]
     },
     "execution_count": 68,
     "metadata": {},
     "output_type": "execute_result"
    }
   ],
   "source": [
    "#check slope of each input after apply lasso\n",
    "L1.coef_"
   ]
  },
  {
   "cell_type": "code",
   "execution_count": 69,
   "id": "4f73cd0f",
   "metadata": {},
   "outputs": [
    {
     "data": {
      "text/plain": [
       "Index(['symboling', 'normalized-losses', 'make', 'fuel-type', 'body-style',\n",
       "       'drive-wheels', 'engine-location', 'width', 'height', 'engine-type',\n",
       "       'engine-size', 'horsepower', 'city-mpg', 'highway-mpg'],\n",
       "      dtype='object')"
      ]
     },
     "execution_count": 69,
     "metadata": {},
     "output_type": "execute_result"
    }
   ],
   "source": [
    "X.columns"
   ]
  },
  {
   "cell_type": "code",
   "execution_count": 70,
   "id": "f262118b",
   "metadata": {},
   "outputs": [
    {
     "data": {
      "text/html": [
       "<div>\n",
       "<style scoped>\n",
       "    .dataframe tbody tr th:only-of-type {\n",
       "        vertical-align: middle;\n",
       "    }\n",
       "\n",
       "    .dataframe tbody tr th {\n",
       "        vertical-align: top;\n",
       "    }\n",
       "\n",
       "    .dataframe thead th {\n",
       "        text-align: right;\n",
       "    }\n",
       "</style>\n",
       "<table border=\"1\" class=\"dataframe\">\n",
       "  <thead>\n",
       "    <tr style=\"text-align: right;\">\n",
       "      <th></th>\n",
       "      <th>Input Columns</th>\n",
       "      <th>Slope before use Lasso</th>\n",
       "      <th>Slope After use Lasso</th>\n",
       "    </tr>\n",
       "  </thead>\n",
       "  <tbody>\n",
       "    <tr>\n",
       "      <th>0</th>\n",
       "      <td>symboling</td>\n",
       "      <td>57.818957</td>\n",
       "      <td>-0.000000</td>\n",
       "    </tr>\n",
       "    <tr>\n",
       "      <th>1</th>\n",
       "      <td>normalized-losses</td>\n",
       "      <td>44.478852</td>\n",
       "      <td>0.000000</td>\n",
       "    </tr>\n",
       "    <tr>\n",
       "      <th>2</th>\n",
       "      <td>make</td>\n",
       "      <td>-1253.878580</td>\n",
       "      <td>-983.410387</td>\n",
       "    </tr>\n",
       "    <tr>\n",
       "      <th>3</th>\n",
       "      <td>fuel-type</td>\n",
       "      <td>-178.999294</td>\n",
       "      <td>-206.582503</td>\n",
       "    </tr>\n",
       "    <tr>\n",
       "      <th>4</th>\n",
       "      <td>body-style</td>\n",
       "      <td>-149.855639</td>\n",
       "      <td>-0.000000</td>\n",
       "    </tr>\n",
       "    <tr>\n",
       "      <th>5</th>\n",
       "      <td>drive-wheels</td>\n",
       "      <td>1058.522491</td>\n",
       "      <td>845.361188</td>\n",
       "    </tr>\n",
       "    <tr>\n",
       "      <th>6</th>\n",
       "      <td>engine-location</td>\n",
       "      <td>2352.264503</td>\n",
       "      <td>1971.764635</td>\n",
       "    </tr>\n",
       "    <tr>\n",
       "      <th>7</th>\n",
       "      <td>width</td>\n",
       "      <td>1700.081393</td>\n",
       "      <td>1526.450452</td>\n",
       "    </tr>\n",
       "    <tr>\n",
       "      <th>8</th>\n",
       "      <td>height</td>\n",
       "      <td>918.279407</td>\n",
       "      <td>676.387316</td>\n",
       "    </tr>\n",
       "    <tr>\n",
       "      <th>9</th>\n",
       "      <td>engine-type</td>\n",
       "      <td>309.652763</td>\n",
       "      <td>146.231469</td>\n",
       "    </tr>\n",
       "    <tr>\n",
       "      <th>10</th>\n",
       "      <td>engine-size</td>\n",
       "      <td>4046.255188</td>\n",
       "      <td>3934.425184</td>\n",
       "    </tr>\n",
       "    <tr>\n",
       "      <th>11</th>\n",
       "      <td>horsepower</td>\n",
       "      <td>-450.438820</td>\n",
       "      <td>-0.000000</td>\n",
       "    </tr>\n",
       "    <tr>\n",
       "      <th>12</th>\n",
       "      <td>city-mpg</td>\n",
       "      <td>1968.724789</td>\n",
       "      <td>-0.000000</td>\n",
       "    </tr>\n",
       "    <tr>\n",
       "      <th>13</th>\n",
       "      <td>highway-mpg</td>\n",
       "      <td>-2781.473799</td>\n",
       "      <td>-740.171320</td>\n",
       "    </tr>\n",
       "  </tbody>\n",
       "</table>\n",
       "</div>"
      ],
      "text/plain": [
       "        Input Columns  Slope before use Lasso  Slope After use Lasso\n",
       "0           symboling               57.818957              -0.000000\n",
       "1   normalized-losses               44.478852               0.000000\n",
       "2                make            -1253.878580            -983.410387\n",
       "3           fuel-type             -178.999294            -206.582503\n",
       "4          body-style             -149.855639              -0.000000\n",
       "5        drive-wheels             1058.522491             845.361188\n",
       "6     engine-location             2352.264503            1971.764635\n",
       "7               width             1700.081393            1526.450452\n",
       "8              height              918.279407             676.387316\n",
       "9         engine-type              309.652763             146.231469\n",
       "10        engine-size             4046.255188            3934.425184\n",
       "11         horsepower             -450.438820              -0.000000\n",
       "12           city-mpg             1968.724789              -0.000000\n",
       "13        highway-mpg            -2781.473799            -740.171320"
      ]
     },
     "execution_count": 70,
     "metadata": {},
     "output_type": "execute_result"
    }
   ],
   "source": [
    "dict={'Input Columns':X.columns,'Slope before use Lasso':lr.coef_,'Slope After use Lasso': L1.coef_}\n",
    "#convert dictionary into dataframe\n",
    "df1=pd.DataFrame(dict)\n",
    "df1"
   ]
  },
  {
   "cell_type": "code",
   "execution_count": 71,
   "id": "dc83a6bc",
   "metadata": {},
   "outputs": [],
   "source": [
    "#Score = 81% (Lasso) value of lamda/alpha(Hyper parameter)=200\n"
   ]
  },
  {
   "cell_type": "code",
   "execution_count": 72,
   "id": "87c229ff",
   "metadata": {},
   "outputs": [],
   "source": [
    "#APPly Ridge Egularisation on same dataset\n",
    "#formula RSS+Lambda*sum(square(all slope))\n",
    "from sklearn.linear_model import Ridge"
   ]
  },
  {
   "cell_type": "code",
   "execution_count": 73,
   "id": "837c039d",
   "metadata": {},
   "outputs": [
    {
     "data": {
      "text/plain": [
       "'for i in range(0,51,1):\\n    #create object\\n    L2=Ridge(i)\\n    #train the model with 70% data\\n    L2.fit(X_train,Y_train)\\n    #check training score \\n    train_score=L2.score(X_train,Y_train)\\n    #check testing score \\n    test_score=L2.score(X_test,Y_test)\\n    print(\"Training Score At Value of Lambda {} - {}\".format(i,train_score))\\n    print(\"Testing Score At Value of Lambda {} - {}\".format(i,test_score))\\n    print(\"\\n\")'"
      ]
     },
     "execution_count": 73,
     "metadata": {},
     "output_type": "execute_result"
    }
   ],
   "source": [
    "#value of lambda 0-50  start=0 stop=51-1=50 sep=+1\n",
    "#choose right value of lambda\n",
    "'''for i in range(0,51,1):\n",
    "    #create object\n",
    "    L2=Ridge(i)\n",
    "    #train the model with 70% data\n",
    "    L2.fit(X_train,Y_train)\n",
    "    #check training score \n",
    "    train_score=L2.score(X_train,Y_train)\n",
    "    #check testing score \n",
    "    test_score=L2.score(X_test,Y_test)\n",
    "    print(\"Training Score At Value of Lambda {} - {}\".format(i,train_score))\n",
    "    print(\"Testing Score At Value of Lambda {} - {}\".format(i,test_score))\n",
    "    print(\"\\n\")'''\n",
    "    "
   ]
  },
  {
   "cell_type": "code",
   "execution_count": 74,
   "id": "5851539c",
   "metadata": {},
   "outputs": [
    {
     "name": "stdout",
     "output_type": "stream",
     "text": [
      "testing score :  0.8101604250480486\n",
      "training score :  0.8432726575220613\n"
     ]
    }
   ],
   "source": [
    "L2=Ridge(12)\n",
    "    #train the model with 70% data\n",
    "L2.fit(X_train,Y_train)\n",
    "    #check training score \n",
    "train_score=L2.score(X_train,Y_train)\n",
    "    #check testing score \n",
    "test_score=L2.score(X_test,Y_test)\n",
    "print(\"testing score : \" ,L2.score(X_test,Y_test))\n",
    "print(\"training score : \" ,L2.score(X_train,Y_train))\n",
    "    "
   ]
  },
  {
   "cell_type": "code",
   "execution_count": 75,
   "id": "8576a08b",
   "metadata": {},
   "outputs": [
    {
     "data": {
      "text/html": [
       "<div>\n",
       "<style scoped>\n",
       "    .dataframe tbody tr th:only-of-type {\n",
       "        vertical-align: middle;\n",
       "    }\n",
       "\n",
       "    .dataframe tbody tr th {\n",
       "        vertical-align: top;\n",
       "    }\n",
       "\n",
       "    .dataframe thead th {\n",
       "        text-align: right;\n",
       "    }\n",
       "</style>\n",
       "<table border=\"1\" class=\"dataframe\">\n",
       "  <thead>\n",
       "    <tr style=\"text-align: right;\">\n",
       "      <th></th>\n",
       "      <th>Input Columns</th>\n",
       "      <th>Slope before use Lasso</th>\n",
       "      <th>Slope After use Lasso</th>\n",
       "    </tr>\n",
       "  </thead>\n",
       "  <tbody>\n",
       "    <tr>\n",
       "      <th>0</th>\n",
       "      <td>symboling</td>\n",
       "      <td>57.818957</td>\n",
       "      <td>-104.294855</td>\n",
       "    </tr>\n",
       "    <tr>\n",
       "      <th>1</th>\n",
       "      <td>normalized-losses</td>\n",
       "      <td>44.478852</td>\n",
       "      <td>31.997522</td>\n",
       "    </tr>\n",
       "    <tr>\n",
       "      <th>2</th>\n",
       "      <td>make</td>\n",
       "      <td>-1253.878580</td>\n",
       "      <td>-1160.943208</td>\n",
       "    </tr>\n",
       "    <tr>\n",
       "      <th>3</th>\n",
       "      <td>fuel-type</td>\n",
       "      <td>-178.999294</td>\n",
       "      <td>-447.010810</td>\n",
       "    </tr>\n",
       "    <tr>\n",
       "      <th>4</th>\n",
       "      <td>body-style</td>\n",
       "      <td>-149.855639</td>\n",
       "      <td>-277.197195</td>\n",
       "    </tr>\n",
       "    <tr>\n",
       "      <th>5</th>\n",
       "      <td>drive-wheels</td>\n",
       "      <td>1058.522491</td>\n",
       "      <td>1023.471691</td>\n",
       "    </tr>\n",
       "    <tr>\n",
       "      <th>6</th>\n",
       "      <td>engine-location</td>\n",
       "      <td>2352.264503</td>\n",
       "      <td>1980.407271</td>\n",
       "    </tr>\n",
       "    <tr>\n",
       "      <th>7</th>\n",
       "      <td>width</td>\n",
       "      <td>1700.081393</td>\n",
       "      <td>1545.694552</td>\n",
       "    </tr>\n",
       "    <tr>\n",
       "      <th>8</th>\n",
       "      <td>height</td>\n",
       "      <td>918.279407</td>\n",
       "      <td>913.493639</td>\n",
       "    </tr>\n",
       "    <tr>\n",
       "      <th>9</th>\n",
       "      <td>engine-type</td>\n",
       "      <td>309.652763</td>\n",
       "      <td>395.912763</td>\n",
       "    </tr>\n",
       "    <tr>\n",
       "      <th>10</th>\n",
       "      <td>engine-size</td>\n",
       "      <td>4046.255188</td>\n",
       "      <td>3304.105210</td>\n",
       "    </tr>\n",
       "    <tr>\n",
       "      <th>11</th>\n",
       "      <td>horsepower</td>\n",
       "      <td>-450.438820</td>\n",
       "      <td>212.501927</td>\n",
       "    </tr>\n",
       "    <tr>\n",
       "      <th>12</th>\n",
       "      <td>city-mpg</td>\n",
       "      <td>1968.724789</td>\n",
       "      <td>149.183460</td>\n",
       "    </tr>\n",
       "    <tr>\n",
       "      <th>13</th>\n",
       "      <td>highway-mpg</td>\n",
       "      <td>-2781.473799</td>\n",
       "      <td>-1141.976733</td>\n",
       "    </tr>\n",
       "  </tbody>\n",
       "</table>\n",
       "</div>"
      ],
      "text/plain": [
       "        Input Columns  Slope before use Lasso  Slope After use Lasso\n",
       "0           symboling               57.818957            -104.294855\n",
       "1   normalized-losses               44.478852              31.997522\n",
       "2                make            -1253.878580           -1160.943208\n",
       "3           fuel-type             -178.999294            -447.010810\n",
       "4          body-style             -149.855639            -277.197195\n",
       "5        drive-wheels             1058.522491            1023.471691\n",
       "6     engine-location             2352.264503            1980.407271\n",
       "7               width             1700.081393            1545.694552\n",
       "8              height              918.279407             913.493639\n",
       "9         engine-type              309.652763             395.912763\n",
       "10        engine-size             4046.255188            3304.105210\n",
       "11         horsepower             -450.438820             212.501927\n",
       "12           city-mpg             1968.724789             149.183460\n",
       "13        highway-mpg            -2781.473799           -1141.976733"
      ]
     },
     "execution_count": 75,
     "metadata": {},
     "output_type": "execute_result"
    }
   ],
   "source": [
    "dict={'Input Columns':X.columns,'Slope before use Ridge':lr.coef_,'Slope After use Ridge': L2.coef_}\n",
    "#convert dictionary into dataframe\n",
    "df1=pd.DataFrame(dict)\n",
    "df1"
   ]
  },
  {
   "cell_type": "code",
   "execution_count": 76,
   "id": "6f717003",
   "metadata": {},
   "outputs": [],
   "source": [
    "# Before apply Regularisation : model Train with Linear Regression\n",
    "#Testing score=79% and model is overfit\n",
    "#Apply Regularisation\n",
    "#Lasso : testing score =81% and Lambda =200 and model is not overfit\n",
    "#Ridge : Testing score =81% and Lambda =12 and model is not oveerfit\n"
   ]
  },
  {
   "cell_type": "code",
   "execution_count": 77,
   "id": "a96dd7de",
   "metadata": {},
   "outputs": [],
   "source": [
    "#Cross validation\n",
    "#Why Apply cross validation\n",
    "#select Either Lasso is best or Ridge is best for given dataset\n",
    "#because testing score of Lasso and Ridge both are same(81%)\n"
   ]
  },
  {
   "cell_type": "code",
   "execution_count": 78,
   "id": "72435f8d",
   "metadata": {},
   "outputs": [],
   "source": [
    "#use inbuilt class cross_val_score\n",
    "from sklearn.model_selection import cross_val_score\n"
   ]
  },
  {
   "cell_type": "code",
   "execution_count": 79,
   "id": "1c03ce0e",
   "metadata": {},
   "outputs": [],
   "source": [
    "#use crosss_validation for Lasso Regularisation\n",
    "#create object of Lasso Regularisation (L!) and pass the value of Lasso =200\n",
    "L1=Lasso(200)"
   ]
  },
  {
   "cell_type": "code",
   "execution_count": 80,
   "id": "e67c031b",
   "metadata": {},
   "outputs": [],
   "source": [
    "#create onject of cross_val_score for Lasso and passing the following parameter as a input\n",
    "#First parameter :object of Lasso\n",
    "#Second parameter : input :X\n",
    "#Third parameter : output : Y\n",
    "#Fourth parameter :NO.of partition : cv=4\n",
    "#And L!_cross uer deined object of cross_val_score class\n",
    "L1_cross=cross_val_score(L1,X,Y,cv=4)"
   ]
  },
  {
   "cell_type": "code",
   "execution_count": 81,
   "id": "6d781e0c",
   "metadata": {},
   "outputs": [
    {
     "data": {
      "text/plain": [
       "array([0.76560888, 0.81872311, 0.43344695, 0.44838271])"
      ]
     },
     "execution_count": 81,
     "metadata": {},
     "output_type": "execute_result"
    }
   ],
   "source": [
    "L1_cross #show score of each partition"
   ]
  },
  {
   "cell_type": "code",
   "execution_count": 82,
   "id": "55b38426",
   "metadata": {},
   "outputs": [
    {
     "data": {
      "text/plain": [
       "0.6165404137969943"
      ]
     },
     "execution_count": 82,
     "metadata": {},
     "output_type": "execute_result"
    }
   ],
   "source": [
    "#fid the mean /average of score of each part\n",
    "#use inbuilt method of numpy : mean()\n",
    "np.mean(L1_cross)"
   ]
  },
  {
   "cell_type": "code",
   "execution_count": 83,
   "id": "f6b5ec43",
   "metadata": {},
   "outputs": [],
   "source": [
    "#Now  apply cross validation for Ridge Regularisation (L2)\n",
    "#First createthe object of Ridge Regularisation and passing the value\n",
    "#of lambda =12\n",
    "L2=Ridge(12)"
   ]
  },
  {
   "cell_type": "code",
   "execution_count": 84,
   "id": "94c57c32",
   "metadata": {},
   "outputs": [],
   "source": [
    "#create onject of cross_val_score for Lasso and passing the following parameter as a input\n",
    "#First parameter :object of Lasso\n",
    "#Second parameter : input :X\n",
    "#Third parameter : output : Y\n",
    "#Fourth parameter :NO.of partition : cv=4\n",
    "#And L!_cross uer deined object of cross_val_score class\n",
    "L2_cross=cross_val_score(L2,X,Y,cv=4)"
   ]
  },
  {
   "cell_type": "code",
   "execution_count": 85,
   "id": "8d718fb5",
   "metadata": {},
   "outputs": [
    {
     "data": {
      "text/plain": [
       "array([0.7425055 , 0.85923003, 0.41004375, 0.45232333])"
      ]
     },
     "execution_count": 85,
     "metadata": {},
     "output_type": "execute_result"
    }
   ],
   "source": [
    "L2_cross"
   ]
  },
  {
   "cell_type": "code",
   "execution_count": 86,
   "id": "52ff2e15",
   "metadata": {},
   "outputs": [
    {
     "data": {
      "text/plain": [
       "0.6160256545421421"
      ]
     },
     "execution_count": 86,
     "metadata": {},
     "output_type": "execute_result"
    }
   ],
   "source": [
    "np.mean(L2_cross)"
   ]
  },
  {
   "cell_type": "code",
   "execution_count": 87,
   "id": "2e16eaa6",
   "metadata": {},
   "outputs": [],
   "source": [
    "#mean of Lasso is greater than mean of Ridge in this dataset\n",
    "#mean Lasso is best as compare to ridge for this dataset\n",
    "#Finnaly score =81%"
   ]
  },
  {
   "cell_type": "code",
   "execution_count": null,
   "id": "e4de4aeb",
   "metadata": {},
   "outputs": [],
   "source": []
  }
 ],
 "metadata": {
  "kernelspec": {
   "display_name": "Python 3 (ipykernel)",
   "language": "python",
   "name": "python3"
  },
  "language_info": {
   "codemirror_mode": {
    "name": "ipython",
    "version": 3
   },
   "file_extension": ".py",
   "mimetype": "text/x-python",
   "name": "python",
   "nbconvert_exporter": "python",
   "pygments_lexer": "ipython3",
   "version": "3.11.5"
  }
 },
 "nbformat": 4,
 "nbformat_minor": 5
}
